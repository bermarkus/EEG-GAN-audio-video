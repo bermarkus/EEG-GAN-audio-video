{
  "nbformat": 4,
  "nbformat_minor": 0,
  "metadata": {
    "colab": {
      "name": "512 tpu Stylegan2 Custom Training.ipynb",
      "provenance": [],
      "collapsed_sections": [],
      "machine_shape": "hm",
      "include_colab_link": true
    },
    "kernelspec": {
      "name": "python3",
      "display_name": "Python 3"
    },
    "accelerator": "TPU"
  },
  "cells": [
    {
      "cell_type": "markdown",
      "metadata": {
        "id": "view-in-github",
        "colab_type": "text"
      },
      "source": [
        "<a href=\"https://colab.research.google.com/github/neuroidss/EEG-GAN-audio-video/blob/main/512_tpu_Stylegan2_Custom_Training.ipynb\" target=\"_parent\"><img src=\"https://colab.research.google.com/assets/colab-badge.svg\" alt=\"Open In Colab\"/></a>"
      ]
    },
    {
      "cell_type": "markdown",
      "metadata": {
        "id": "cPI5E5y0pujD"
      },
      "source": [
        "# Custom Training StyleGan2-ADA"
      ]
    },
    {
      "cell_type": "markdown",
      "metadata": {
        "id": "SI_i1MwgpzOD"
      },
      "source": [
        "StyleGAN2-ADA only work with Tensorflow 1. Run the next cell before anything else to make sure we’re using TF1 and not TF2."
      ]
    },
    {
      "cell_type": "code",
      "metadata": {
        "id": "iKYAU7Wub3WW",
        "colab": {
          "base_uri": "https://localhost:8080/"
        },
        "outputId": "261b8068-7da7-4c48-aed6-ac7b9f9a30ec"
      },
      "source": [
        "%tensorflow_version 1.x"
      ],
      "execution_count": null,
      "outputs": [
        {
          "output_type": "stream",
          "name": "stdout",
          "text": [
            "TensorFlow 1.x selected.\n"
          ]
        }
      ]
    },
    {
      "cell_type": "code",
      "metadata": {
        "id": "51ei6d5kxVDm",
        "colab": {
          "base_uri": "https://localhost:8080/"
        },
        "outputId": "77897a5b-60c2-4fe6-a81c-6d2bb5cf912c"
      },
      "source": [
        "#!nvidia-smi"
      ],
      "execution_count": null,
      "outputs": [
        {
          "output_type": "stream",
          "name": "stdout",
          "text": [
            "NVIDIA-SMI has failed because it couldn't communicate with the NVIDIA driver. Make sure that the latest NVIDIA driver is installed and running.\n",
            "\n"
          ]
        }
      ]
    },
    {
      "cell_type": "markdown",
      "metadata": {
        "id": "5YcUMPQp6ipP"
      },
      "source": [
        "## Install Repo to Google Drive\n",
        "\n",
        "Colab is a little funky with training. I’ve found the best way to do this is to install the repo directly into your Google Drive folder.\n",
        "\n",
        "First, mount your Drive to the Colab notebook: "
      ]
    },
    {
      "cell_type": "code",
      "metadata": {
        "id": "pxxYlEKI9Gis",
        "colab": {
          "base_uri": "https://localhost:8080/"
        },
        "outputId": "41de178d-6141-487f-e67e-3c2869099a74"
      },
      "source": [
        "from google.colab import drive\n",
        "drive.mount('/content/drive')"
      ],
      "execution_count": null,
      "outputs": [
        {
          "output_type": "stream",
          "name": "stdout",
          "text": [
            "Mounted at /content/drive\n"
          ]
        }
      ]
    },
    {
      "cell_type": "code",
      "metadata": {
        "id": "-IDcqJ2CzHXm"
      },
      "source": [
        "!curl https://sdk.cloud.google.com | bash"
      ],
      "execution_count": null,
      "outputs": []
    },
    {
      "cell_type": "markdown",
      "metadata": {
        "id": "epV6TDzAjox1"
      },
      "source": [
        "Next, run this cell. If you’re already installed the repo, it will skip the installation process and change into the repo’s directory. If you haven’t installed it, it will install all the files necessary."
      ]
    },
    {
      "cell_type": "code",
      "metadata": {
        "id": "9AdOYnDszUgV"
      },
      "source": [
        "!gcloud init"
      ],
      "execution_count": null,
      "outputs": []
    },
    {
      "cell_type": "code",
      "metadata": {
        "id": "8HX77jscX2zV",
        "colab": {
          "base_uri": "https://localhost:8080/"
        },
        "outputId": "89daf471-ba89-45e6-9bed-5d43462f5c1f"
      },
      "source": [
        "import os\n",
        "if os.path.isdir(\"/content/drive/MyDrive/colab-sg2\"):\n",
        "    %cd \"/content/drive/MyDrive/colab-sg2/stylegan2\"\n",
        "else:\n",
        "    #install script\n",
        "    %cd \"/content/drive/MyDrive/\"\n",
        "    !mkdir colab-sg2\n",
        "    %cd colab-sg2\n",
        "    !git clone --branch tpu https://github.com/shawwn/stylegan2.git\n",
        "#    !git clone https://github.com/dvschultz/stylegan2-ada\n",
        "    %cd stylegan2\n",
        "    !mkdir downloads\n",
        "    !mkdir datasets"
      ],
      "execution_count": null,
      "outputs": [
        {
          "output_type": "stream",
          "name": "stdout",
          "text": [
            "/content/drive/MyDrive/colab-sg2/stylegan2\n"
          ]
        }
      ]
    },
    {
      "cell_type": "code",
      "metadata": {
        "id": "G7oj_kBaemol"
      },
      "source": [
        "%cd \"/content/drive/MyDrive/colab-sg2/stylegan2\"\n",
        "!git config --global user.name \"test\"\n",
        "!git config --global user.email \"test@test.com\"\n",
        "#!git fetch origin\n",
        "#!git checkout origin/main -- train.py"
      ],
      "execution_count": null,
      "outputs": []
    },
    {
      "cell_type": "markdown",
      "metadata": {
        "id": "HeS9tDvt61VG"
      },
      "source": [
        "## Convert dataset to .tfrecords"
      ]
    },
    {
      "cell_type": "markdown",
      "metadata": {
        "id": "_Q58MJbckLUc"
      },
      "source": [
        "**Note: You only need to do this once per dataset. If you have already run this and are returning to conntinue training, skip these cells.**\n",
        "\n",
        "Next we need to convert our image dataset to a format that StyleGAN2-ADA can read from. There are two options here. You can upload your dataset directly to Colab (as a zipped file), or you can upload it to Drive directly and read it from there."
      ]
    },
    {
      "cell_type": "code",
      "metadata": {
        "id": "8JUP51nJdEjz"
      },
      "source": [
        "#if you manually uploaded your dataset to Colab, unzip it\n",
        "zip_path = \"/content/drive/MyDrive/sq-512.zip\"\n",
        "\n",
        "!unzip {zip_path} -d /content/"
      ],
      "execution_count": null,
      "outputs": []
    },
    {
      "cell_type": "markdown",
      "metadata": {
        "id": "D0QH0nzjlbEE"
      },
      "source": [
        "Now that your image dataset is uploaded, we need to convert it to the `.tfrecords` format.\n",
        "\n",
        "Depending on the resolution of your images and how many you have, this can take a while."
      ]
    },
    {
      "cell_type": "code",
      "metadata": {
        "id": "szPbAXEs4QQu",
        "colab": {
          "base_uri": "https://localhost:8080/"
        },
        "outputId": "1155c72b-02dd-4526-f1b2-9293d7f053f3"
      },
      "source": [
        "!gcloud auth login"
      ],
      "execution_count": null,
      "outputs": [
        {
          "output_type": "stream",
          "name": "stdout",
          "text": [
            "Go to the following link in your browser:\n",
            "\n",
            "    https://accounts.google.com/o/oauth2/auth?response_type=code&client_id=32555940559.apps.googleusercontent.com&redirect_uri=urn%3Aietf%3Awg%3Aoauth%3A2.0%3Aoob&scope=openid+https%3A%2F%2Fwww.googleapis.com%2Fauth%2Fuserinfo.email+https%3A%2F%2Fwww.googleapis.com%2Fauth%2Fcloud-platform+https%3A%2F%2Fwww.googleapis.com%2Fauth%2Fappengine.admin+https%3A%2F%2Fwww.googleapis.com%2Fauth%2Fcompute+https%3A%2F%2Fwww.googleapis.com%2Fauth%2Faccounts.reauth&state=PvHfzJhWx69E8YJqua6gRb33ndIFH4&prompt=consent&access_type=offline&code_challenge=HNwHHMYgI0qAnqirNGQXAafsmZkvGwsjEjSF2FK2Z4o&code_challenge_method=S256\n",
            "\n",
            "Enter verification code: 4/1AX4XfWgeXV9BkYidJ4iSMvI5yTJrEW2bw4Q2NlRhJFwXHmfv935Efy8vdKE\n",
            "\n",
            "You are now logged in as [dmitry.sukhoruchkin@neuroidss.ru].\n",
            "Your current project is [None].  You can change this setting by running:\n",
            "  $ gcloud config set project PROJECT_ID\n"
          ]
        }
      ]
    },
    {
      "cell_type": "code",
      "metadata": {
        "id": "cX26dVUt4nEN",
        "colab": {
          "base_uri": "https://localhost:8080/"
        },
        "outputId": "68c85d78-10dc-45ca-e1b5-01d55b48f2f6"
      },
      "source": [
        "project_id = 'encoded-phalanx-326615'\n",
        "!gcloud config set project {project_id}"
      ],
      "execution_count": null,
      "outputs": [
        {
          "output_type": "stream",
          "name": "stdout",
          "text": [
            "Updated property [core/project].\n"
          ]
        }
      ]
    },
    {
      "cell_type": "code",
      "metadata": {
        "id": "T-BZHhBe7AvO"
      },
      "source": [
        "#update this to the path to your image folder\n",
        "dataset_path = \"/content/sq-512\"\n",
        "#give your dataset a name\n",
        "dataset_name = \"sq-512\"\n",
        "\n",
        "#you don't need to edit anything here\n",
        "!python dataset_tool.py create_from_images ./datasets/{dataset_name} {dataset_path}\n",
        "#!python dataset_tool.py create_from_images gs://train_with_tpu/datasets/{dataset_name} {dataset_path}"
      ],
      "execution_count": null,
      "outputs": []
    },
    {
      "cell_type": "markdown",
      "metadata": {
        "id": "8DvTupHzP2s_"
      },
      "source": [
        "## Train a custom model\n",
        "\n",
        "We’re ready to start training! There are numerous arguments to training, what’s listed below are the most popular options. To see all the options, run the following cell."
      ]
    },
    {
      "cell_type": "code",
      "metadata": {
        "id": "mKYa6bo9nVhT",
        "colab": {
          "base_uri": "https://localhost:8080/"
        },
        "outputId": "facf5268-5073-40cf-9de2-20d55b7afd9e"
      },
      "source": [
        "  import os\n",
        "  import tensorflow.compat.v1 as tf\n",
        "  tf.disable_eager_execution()\n",
        "  import pprint\n",
        "  assert 'COLAB_TPU_ADDR' in os.environ, 'Did you forget to switch to TPU?'\n",
        "  tpu_address = 'grpc://' + os.environ['COLAB_TPU_ADDR']\n",
        "\n",
        "  with tf.Session(tpu_address) as sess:\n",
        "    devices = sess.list_devices()\n",
        "  pprint.pprint(devices)\n",
        "  device_is_tpu = [True if 'TPU' in str(x) else False for x in devices]\n",
        "  assert True in device_is_tpu, 'Did you forget to switch to TPU?'\n"
      ],
      "execution_count": null,
      "outputs": [
        {
          "output_type": "stream",
          "name": "stdout",
          "text": [
            "[_DeviceAttributes(/job:tpu_worker/replica:0/task:0/device:CPU:0, CPU, -1, 12617358712557040437),\n",
            " _DeviceAttributes(/job:tpu_worker/replica:0/task:0/device:XLA_CPU:0, XLA_CPU, 17179869184, 17279839774406701468),\n",
            " _DeviceAttributes(/job:tpu_worker/replica:0/task:0/device:TPU:0, TPU, 17179869184, 14322696781348295986),\n",
            " _DeviceAttributes(/job:tpu_worker/replica:0/task:0/device:TPU:1, TPU, 17179869184, 8172743378948765118),\n",
            " _DeviceAttributes(/job:tpu_worker/replica:0/task:0/device:TPU:2, TPU, 17179869184, 17687202632222170366),\n",
            " _DeviceAttributes(/job:tpu_worker/replica:0/task:0/device:TPU:3, TPU, 17179869184, 3145886685791245835),\n",
            " _DeviceAttributes(/job:tpu_worker/replica:0/task:0/device:TPU:4, TPU, 17179869184, 17834120664734970590),\n",
            " _DeviceAttributes(/job:tpu_worker/replica:0/task:0/device:TPU:5, TPU, 17179869184, 5488739679684604622),\n",
            " _DeviceAttributes(/job:tpu_worker/replica:0/task:0/device:TPU:6, TPU, 17179869184, 1589696840748255836),\n",
            " _DeviceAttributes(/job:tpu_worker/replica:0/task:0/device:TPU:7, TPU, 17179869184, 4842589102568401236),\n",
            " _DeviceAttributes(/job:tpu_worker/replica:0/task:0/device:TPU_SYSTEM:0, TPU_SYSTEM, 8589934592, 16720028962809452840)]\n"
          ]
        }
      ]
    },
    {
      "cell_type": "code",
      "metadata": {
        "id": "bdHhaWHNozuO",
        "colab": {
          "base_uri": "https://localhost:8080/"
        },
        "outputId": "8a3a919c-3633-4175-bd50-817b2a767d96"
      },
      "source": [
        "print(tpu_address)"
      ],
      "execution_count": null,
      "outputs": [
        {
          "output_type": "stream",
          "name": "stdout",
          "text": [
            "grpc://10.25.9.194:8470\n"
          ]
        }
      ]
    },
    {
      "cell_type": "code",
      "metadata": {
        "id": "5klve3cV2Sls",
        "colab": {
          "base_uri": "https://localhost:8080/"
        },
        "outputId": "947ed5e0-6f21-44d0-a8d9-9028194d87cd"
      },
      "source": [
        "project_id = 'encoded-phalanx-326615'\n",
        "!gcloud config set project {project_id}"
      ],
      "execution_count": null,
      "outputs": [
        {
          "output_type": "stream",
          "name": "stdout",
          "text": [
            "Updated property [core/project].\n"
          ]
        }
      ]
    },
    {
      "cell_type": "code",
      "metadata": {
        "id": "O-07patX0dvh"
      },
      "source": [
        "!gsutil cp -r /content/drive/MyDrive/colab-sg2/stylegan2/datasets/* gs://train_with_tpu/datasets/\n"
      ],
      "execution_count": null,
      "outputs": []
    },
    {
      "cell_type": "code",
      "metadata": {
        "id": "1O-W_vFV71Ak"
      },
      "source": [
        "GCP_PROJECT_ID = 'encoded-phalanx-326615'\n",
        "PROJECT_NUMBER = '0'\n"
      ],
      "execution_count": null,
      "outputs": []
    },
    {
      "cell_type": "code",
      "metadata": {
        "id": "uglki5VV8WUb",
        "colab": {
          "base_uri": "https://localhost:8080/"
        },
        "outputId": "bd2e0941-631f-4ef1-ca7f-5c793c530539"
      },
      "source": [
        "!gcloud services --project $GCP_PROJECT_ID enable ml.googleapis.com cloudbuild.googleapis.com\n"
      ],
      "execution_count": null,
      "outputs": [
        {
          "output_type": "stream",
          "name": "stdout",
          "text": [
            "Operation \"operations/acf.p2-174339478235-5b01bb64-5c8f-4b35-861b-4482a490306f\" finished successfully.\n"
          ]
        }
      ]
    },
    {
      "cell_type": "code",
      "metadata": {
        "id": "ozD5WxTy62n-",
        "colab": {
          "base_uri": "https://localhost:8080/"
        },
        "outputId": "e19b4d40-9d93-4c26-8df9-53477e3d7da0"
      },
      "source": [
        "from google.colab import auth\n",
        "auth.authenticate_user()"
      ],
      "execution_count": null,
      "outputs": [
        {
          "output_type": "stream",
          "name": "stdout",
          "text": [
            "WARNING:tensorflow:\n",
            "The TensorFlow contrib module will not be included in TensorFlow 2.0.\n",
            "For more information, please see:\n",
            "  * https://github.com/tensorflow/community/blob/master/rfcs/20180907-contrib-sunset.md\n",
            "  * https://github.com/tensorflow/addons\n",
            "  * https://github.com/tensorflow/io (for I/O related ops)\n",
            "If you depend on functionality not listed there, please file an issue.\n",
            "\n"
          ]
        }
      ]
    },
    {
      "cell_type": "code",
      "metadata": {
        "id": "yiIBpCuUmRh2",
        "colab": {
          "base_uri": "https://localhost:8080/"
        },
        "outputId": "61f12cf4-8d02-4523-efa8-42338a986269"
      },
      "source": [
        "!export TPU_NAME={tpu_address}\n",
        "#!export RESUME_PKL=\"/content/drive/MyDrive/sg2-ext_aydao-anime-danbooru2019s-512-5268480.pkl\"\n",
        "#!export RESUME_PKL=./results/00019-stylegan2-sq-256-1gpu-config-a/network-snapshot-000100.pkl\n",
        "#!export RESUME_KIMG=100.4\n",
        "#!export RESUME_TIME=43\n",
        "#!export RESUME_TIME=`math 10*3600 + 13*60 + 49` # 10h 13m 49s\n",
        "#RESUME_TIME=0*3600 + 44*60 + 31\n",
        "#!export RESUME_TIME={RESUME_TIME} # 10h 13m 49s\n",
        "\n",
        "#    resume_pkl=\"./results/00019-stylegan2-sq-256-1gpu-config-a/network-snapshot-000100.pkl\"\n",
        "#    resume_kimg=100.4\n",
        "#    resume_time=0*3600 + 44*60 + 31\n",
        "#    resume_pkl=\"/content/drive/MyDrive/stylegan2-cat-config-a.pkl\"\n",
        "#    resume_kimg=0\n",
        "#    resume_time=0\n",
        "\n",
        "#config=\"config-f\" # StyleGAN 2\n",
        "config=\"config-a\" # StyleGAN 1\n",
        "\n",
        "data_dir=\"gs://train_with_tpu/datasets\"\n",
        "dataset=\"sq-512\"\n",
        "mirror=\"False\"\n",
        "metrics=\"none\"\n",
        "#!export NO_GCE_CHECK=true\n",
        "total_kimg=25000\n",
        "resume=\"./results/00039-stylegan2-sq-512-1gpu-config-a\"\n",
        "\n",
        "!python run_training.py --resume \"{resume}\" --total-kimg \"{total_kimg}\" --data-dir \"{data_dir}\" --config=\"{config}\" --dataset=\"{dataset}\" --mirror-augment=\"{mirror}\" --metrics=\"{metrics}\"\n"
      ],
      "execution_count": null,
      "outputs": [
        {
          "metadata": {
            "tags": null
          },
          "name": "stdout",
          "output_type": "stream",
          "text": [
            "Local submit - run_dir: results/00040-stylegan2-sq-512-1gpu-config-a\n",
            "dnnlib: Running training.training_loop.training_loop() on localhost...\n",
            "WARNING:tensorflow:From /content/drive/MyDrive/colab-sg2/stylegan2/tflex.py:74: The name tf.Session is deprecated. Please use tf.compat.v1.Session instead.\n",
            "\n",
            "WARNING:tensorflow:From /content/drive/MyDrive/colab-sg2/stylegan2/tflex.py:306: The name tf.train.SaverDef is deprecated. Please use tf.compat.v1.train.SaverDef instead.\n",
            "\n",
            "attach_debugger <function attach_debugger at 0x7efe8d568dd0>\n",
            "print_status <function print_status at 0x7efe8d568e60>\n",
            "freeze_forever <function freeze_forever at 0x7efe8d569050>\n",
            "quit <function quit at 0x7efe8d5690e0>\n",
            "save_and_quit <function save_and_quit at 0x7efe8d569200>\n",
            "throw_exception <function throw_exception at 0x7efe8d569290>\n",
            " Resuming from \"./results/00039-stylegan2-sq-512-1gpu-config-a/network-snapshot-000914.pkl\", kimg 914\n",
            "Using TPU grpc://10.41.146.226:8470\n",
            "Streaming data using training.dataset.TFRecordDataset...\n",
            "tcmalloc: large alloc 4294967296 bytes == 0x55dd91684000 @  0x7eff69032001 0x7eff65b1654f 0x7eff65b66b58 0x7eff65b6ab17 0x7eff65c09203 0x55dd8aebb544 0x55dd8aebb240 0x55dd8af2f627 0x55dd8af29ced 0x55dd8aebd48c 0x55dd8aefe159 0x55dd8aefb0a4 0x55dd8aebd698 0x55dd8af2bfe4 0x55dd8af299ee 0x55dd8adfbe2b 0x55dd8af2bfe4 0x55dd8af29ced 0x55dd8adfbe2b 0x55dd8af2bfe4 0x55dd8aebcafa 0x55dd8af2a915 0x55dd8aebcafa 0x55dd8af2ac0d 0x55dd8af299ee 0x55dd8adfbe2b 0x55dd8af2bfe4 0x55dd8af299ee 0x55dd8adfbe2b 0x55dd8af2bfe4 0x55dd8aebcafa\n",
            "tcmalloc: large alloc 4294967296 bytes == 0x55de91684000 @  0x7eff690301e7 0x7eff65b1646e 0x7eff65b66c7b 0x7eff65b6735f 0x7eff65c09103 0x55dd8aebb544 0x55dd8aebb240 0x55dd8af2f627 0x55dd8af299ee 0x55dd8aebcbda 0x55dd8af2b737 0x55dd8af299ee 0x55dd8aebcbda 0x55dd8af2b737 0x55dd8af299ee 0x55dd8aebcbda 0x55dd8af2b737 0x55dd8aebcafa 0x55dd8af2a915 0x55dd8af299ee 0x55dd8aebcbda 0x55dd8af2ed00 0x55dd8af299ee 0x55dd8aebcbda 0x55dd8af2b737 0x55dd8af29ced 0x55dd8aebd48c 0x55dd8aefe159 0x55dd8aefb0a4 0x55dd8aebd698 0x55dd8af2bfe4\n",
            "tcmalloc: large alloc 4294967296 bytes == 0x55df91f72000 @  0x7eff690301e7 0x7eff65b1646e 0x7eff65b66c7b 0x7eff65b6735f 0x7efddf0df235 0x7efddea62792 0x7efddea62d42 0x7efddea1baee 0x55dd8aebb437 0x55dd8aebb240 0x55dd8af2f0f3 0x55dd8aebcafa 0x55dd8af2ac0d 0x55dd8af29ced 0x55dd8adfbeb0 0x55dd8af2bfe4 0x55dd8af299ee 0x55dd8aebcbda 0x55dd8af2ac0d 0x55dd8af29ced 0x55dd8aebcbda 0x55dd8af2ac0d 0x55dd8aebcafa 0x55dd8af2ac0d 0x55dd8af299ee 0x55dd8aebd271 0x55dd8aebd698 0x55dd8af2bfe4 0x55dd8af29ced 0x55dd8aebd271 0x55dd8aebd698\n",
            "Dataset shape = [3, 512, 512]\n",
            "Dynamic range = [0, 255]\n",
            "Label size    = 0\n",
            "Constructing networks...\n",
            "Loading networks from \"./results/00039-stylegan2-sq-512-1gpu-config-a/network-snapshot-000914.pkl\"...\n",
            "\n",
            "G                             Params    OutputShape         WeightShape     \n",
            "---                           ---       ---                 ---             \n",
            "latents_in                    -         (?, 512)            -               \n",
            "labels_in                     -         (?, 0)              -               \n",
            "lod                           -         ()                  -               \n",
            "dlatent_avg                   -         (512,)              -               \n",
            "G_mapping/latents_in          -         (?, 512)            -               \n",
            "G_mapping/labels_in           -         (?, 0)              -               \n",
            "G_mapping/PixelNorm           -         (?, 512)            -               \n",
            "G_mapping/Dense0              262656    (?, 512)            (512, 512)      \n",
            "G_mapping/Dense1              262656    (?, 512)            (512, 512)      \n",
            "G_mapping/Dense2              262656    (?, 512)            (512, 512)      \n",
            "G_mapping/Dense3              262656    (?, 512)            (512, 512)      \n",
            "G_mapping/Dense4              262656    (?, 512)            (512, 512)      \n",
            "G_mapping/Dense5              262656    (?, 512)            (512, 512)      \n",
            "G_mapping/Dense6              262656    (?, 512)            (512, 512)      \n",
            "G_mapping/Dense7              262656    (?, 512)            (512, 512)      \n",
            "G_mapping/Broadcast           -         (?, 16, 512)        -               \n",
            "G_mapping/dlatents_out        -         (?, 16, 512)        -               \n",
            "Truncation                    -         (?, 16, 512)        -               \n",
            "G_synthesis/dlatents_in       -         (?, 16, 512)        -               \n",
            "G_synthesis/4x4/Const         534528    (?, 512, 4, 4)      (512,)          \n",
            "G_synthesis/4x4/Conv          2885632   (?, 512, 4, 4)      (3, 3, 512, 512)\n",
            "G_synthesis/ToRGB_lod7        1539      (?, 3, 4, 4)        (1, 1, 512, 3)  \n",
            "G_synthesis/8x8/Conv0_up      2885632   (?, 512, 8, 8)      (3, 3, 512, 512)\n",
            "G_synthesis/8x8/Conv1         2885632   (?, 512, 8, 8)      (3, 3, 512, 512)\n",
            "G_synthesis/ToRGB_lod6        1539      (?, 3, 8, 8)        (1, 1, 512, 3)  \n",
            "G_synthesis/Upscale2D         -         (?, 3, 8, 8)        -               \n",
            "G_synthesis/Grow_lod6         -         (?, 3, 8, 8)        -               \n",
            "G_synthesis/16x16/Conv0_up    2885632   (?, 512, 16, 16)    (3, 3, 512, 512)\n",
            "G_synthesis/16x16/Conv1       2885632   (?, 512, 16, 16)    (3, 3, 512, 512)\n",
            "G_synthesis/ToRGB_lod5        1539      (?, 3, 16, 16)      (1, 1, 512, 3)  \n",
            "G_synthesis/Upscale2D_1       -         (?, 3, 16, 16)      -               \n",
            "G_synthesis/Grow_lod5         -         (?, 3, 16, 16)      -               \n",
            "G_synthesis/32x32/Conv0_up    2885632   (?, 512, 32, 32)    (3, 3, 512, 512)\n",
            "G_synthesis/32x32/Conv1       2885632   (?, 512, 32, 32)    (3, 3, 512, 512)\n",
            "G_synthesis/ToRGB_lod4        1539      (?, 3, 32, 32)      (1, 1, 512, 3)  \n",
            "G_synthesis/Upscale2D_2       -         (?, 3, 32, 32)      -               \n",
            "G_synthesis/Grow_lod4         -         (?, 3, 32, 32)      -               \n",
            "G_synthesis/64x64/Conv0_up    1442816   (?, 256, 64, 64)    (3, 3, 512, 256)\n",
            "G_synthesis/64x64/Conv1       852992    (?, 256, 64, 64)    (3, 3, 256, 256)\n",
            "G_synthesis/ToRGB_lod3        771       (?, 3, 64, 64)      (1, 1, 256, 3)  \n",
            "G_synthesis/Upscale2D_3       -         (?, 3, 64, 64)      -               \n",
            "G_synthesis/Grow_lod3         -         (?, 3, 64, 64)      -               \n",
            "G_synthesis/128x128/Conv0_up  426496    (?, 128, 128, 128)  (3, 3, 256, 128)\n",
            "G_synthesis/128x128/Conv1     279040    (?, 128, 128, 128)  (3, 3, 128, 128)\n",
            "G_synthesis/ToRGB_lod2        387       (?, 3, 128, 128)    (1, 1, 128, 3)  \n",
            "G_synthesis/Upscale2D_4       -         (?, 3, 128, 128)    -               \n",
            "G_synthesis/Grow_lod2         -         (?, 3, 128, 128)    -               \n",
            "G_synthesis/256x256/Conv0_up  139520    (?, 64, 256, 256)   (3, 3, 128, 64) \n",
            "G_synthesis/256x256/Conv1     102656    (?, 64, 256, 256)   (3, 3, 64, 64)  \n",
            "G_synthesis/ToRGB_lod1        195       (?, 3, 256, 256)    (1, 1, 64, 3)   \n",
            "G_synthesis/Upscale2D_5       -         (?, 3, 256, 256)    -               \n",
            "G_synthesis/Grow_lod1         -         (?, 3, 256, 256)    -               \n",
            "G_synthesis/512x512/Conv0_up  51328     (?, 32, 512, 512)   (3, 3, 64, 32)  \n",
            "G_synthesis/512x512/Conv1     42112     (?, 32, 512, 512)   (3, 3, 32, 32)  \n",
            "G_synthesis/ToRGB_lod0        99        (?, 3, 512, 512)    (1, 1, 32, 3)   \n",
            "G_synthesis/Upscale2D_6       -         (?, 3, 512, 512)    -               \n",
            "G_synthesis/Grow_lod0         -         (?, 3, 512, 512)    -               \n",
            "G_synthesis/images_out        -         (?, 3, 512, 512)    -               \n",
            "G_synthesis/lod               -         ()                  -               \n",
            "G_synthesis/noise0            -         (1, 1, 4, 4)        -               \n",
            "G_synthesis/noise1            -         (1, 1, 4, 4)        -               \n",
            "G_synthesis/noise2            -         (1, 1, 8, 8)        -               \n",
            "G_synthesis/noise3            -         (1, 1, 8, 8)        -               \n",
            "G_synthesis/noise4            -         (1, 1, 16, 16)      -               \n",
            "G_synthesis/noise5            -         (1, 1, 16, 16)      -               \n",
            "G_synthesis/noise6            -         (1, 1, 32, 32)      -               \n",
            "G_synthesis/noise7            -         (1, 1, 32, 32)      -               \n",
            "G_synthesis/noise8            -         (1, 1, 64, 64)      -               \n",
            "G_synthesis/noise9            -         (1, 1, 64, 64)      -               \n",
            "G_synthesis/noise10           -         (1, 1, 128, 128)    -               \n",
            "G_synthesis/noise11           -         (1, 1, 128, 128)    -               \n",
            "G_synthesis/noise12           -         (1, 1, 256, 256)    -               \n",
            "G_synthesis/noise13           -         (1, 1, 256, 256)    -               \n",
            "G_synthesis/noise14           -         (1, 1, 512, 512)    -               \n",
            "G_synthesis/noise15           -         (1, 1, 512, 512)    -               \n",
            "images_out                    -         (?, 3, 512, 512)    -               \n",
            "---                           ---       ---                 ---             \n",
            "Total                         26179768                                      \n",
            "\n",
            "\n",
            "D                    Params    OutputShape         WeightShape     \n",
            "---                  ---       ---                 ---             \n",
            "images_in            -         (?, 3, 512, 512)    -               \n",
            "labels_in            -         (?, 0)              -               \n",
            "lod                  -         ()                  -               \n",
            "FromRGB_lod0         128       (?, 32, 512, 512)   (1, 1, 3, 32)   \n",
            "512x512/Conv0        9248      (?, 32, 512, 512)   (3, 3, 32, 32)  \n",
            "512x512/Conv1_down   18496     (?, 64, 256, 256)   (3, 3, 32, 64)  \n",
            "Downscale2D          -         (?, 3, 256, 256)    -               \n",
            "FromRGB_lod1         256       (?, 64, 256, 256)   (1, 1, 3, 64)   \n",
            "Grow_lod0            -         (?, 64, 256, 256)   -               \n",
            "256x256/Conv0        36928     (?, 64, 256, 256)   (3, 3, 64, 64)  \n",
            "256x256/Conv1_down   73856     (?, 128, 128, 128)  (3, 3, 64, 128) \n",
            "Downscale2D_1        -         (?, 3, 128, 128)    -               \n",
            "FromRGB_lod2         512       (?, 128, 128, 128)  (1, 1, 3, 128)  \n",
            "Grow_lod1            -         (?, 128, 128, 128)  -               \n",
            "128x128/Conv0        147584    (?, 128, 128, 128)  (3, 3, 128, 128)\n",
            "128x128/Conv1_down   295168    (?, 256, 64, 64)    (3, 3, 128, 256)\n",
            "Downscale2D_2        -         (?, 3, 64, 64)      -               \n",
            "FromRGB_lod3         1024      (?, 256, 64, 64)    (1, 1, 3, 256)  \n",
            "Grow_lod2            -         (?, 256, 64, 64)    -               \n",
            "64x64/Conv0          590080    (?, 256, 64, 64)    (3, 3, 256, 256)\n",
            "64x64/Conv1_down     1180160   (?, 512, 32, 32)    (3, 3, 256, 512)\n",
            "Downscale2D_3        -         (?, 3, 32, 32)      -               \n",
            "FromRGB_lod4         2048      (?, 512, 32, 32)    (1, 1, 3, 512)  \n",
            "Grow_lod3            -         (?, 512, 32, 32)    -               \n",
            "32x32/Conv0          2359808   (?, 512, 32, 32)    (3, 3, 512, 512)\n",
            "32x32/Conv1_down     2359808   (?, 512, 16, 16)    (3, 3, 512, 512)\n",
            "Downscale2D_4        -         (?, 3, 16, 16)      -               \n",
            "FromRGB_lod5         2048      (?, 512, 16, 16)    (1, 1, 3, 512)  \n",
            "Grow_lod4            -         (?, 512, 16, 16)    -               \n",
            "16x16/Conv0          2359808   (?, 512, 16, 16)    (3, 3, 512, 512)\n",
            "16x16/Conv1_down     2359808   (?, 512, 8, 8)      (3, 3, 512, 512)\n",
            "Downscale2D_5        -         (?, 3, 8, 8)        -               \n",
            "FromRGB_lod6         2048      (?, 512, 8, 8)      (1, 1, 3, 512)  \n",
            "Grow_lod5            -         (?, 512, 8, 8)      -               \n",
            "8x8/Conv0            2359808   (?, 512, 8, 8)      (3, 3, 512, 512)\n",
            "8x8/Conv1_down       2359808   (?, 512, 4, 4)      (3, 3, 512, 512)\n",
            "Downscale2D_6        -         (?, 3, 4, 4)        -               \n",
            "FromRGB_lod7         2048      (?, 512, 4, 4)      (1, 1, 3, 512)  \n",
            "Grow_lod6            -         (?, 512, 4, 4)      -               \n",
            "4x4/MinibatchStddev  -         (?, 513, 4, 4)      -               \n",
            "4x4/Conv             2364416   (?, 512, 4, 4)      (3, 3, 513, 512)\n",
            "4x4/Dense0           4194816   (?, 512)            (8192, 512)     \n",
            "4x4/Dense1           513       (?, 1)              (512, 1)        \n",
            "scores_out           -         (?, 1)              -               \n",
            "---                  ---       ---                 ---             \n",
            "Total                23080225                                      \n",
            "\n",
            "training_loop_command_image_grid <function training_loop.<locals>.image_grid at 0x7efdbd12c9e0>\n",
            "training_loop_command_resave_image_grid <function training_loop.<locals>.resave_image_grid at 0x7efdbd12cb00>\n",
            "Building TensorFlow graph...\n",
            "Initializing logs...\n",
            "Training for 25000 kimg...\n",
            "\n",
            "training_loop_command_report_progress <function training_loop.<locals>.report_progress at 0x7efda3694710>\n",
            "save <function training_loop.<locals>.save at 0x7efda3694830>\n",
            "tick 0     kimg 914.5    lod 5.48  minibatch 128  time 1m 04s       sec/tick 63.9    sec/kimg 124.83  maintenance 0.0    gpumem 0.0\n",
            "training_loop_command_report_progress <function training_loop.<locals>.report_progress at 0x7efda2f689e0>\n",
            "save <function training_loop.<locals>.save at 0x7efda2f68a70>\n",
            "tick 1     kimg 938.6    lod 5.44  minibatch 128  time 36m 31s      sec/tick 2047.4  sec/kimg 85.08   maintenance 79.4   gpumem 0.0\n",
            "training_loop_command_report_progress <function training_loop.<locals>.report_progress at 0x7efda30014d0>\n",
            "save <function training_loop.<locals>.save at 0x7efda2f68b00>\n",
            "tick 2     kimg 962.6    lod 5.40  minibatch 128  time 1h 10m 26s   sec/tick 2030.8  sec/kimg 84.39   maintenance 4.4    gpumem 0.0\n"
          ]
        }
      ]
    },
    {
      "cell_type": "markdown",
      "metadata": {
        "id": "lohotw1FqC54"
      },
      "source": [
        "### While it’s training...\n",
        "**Once the above cell is running you should be training!**\n",
        "\n",
        "Don’t close this tab! Colab needs to be open and running in order to continue training. Every ~15min or so a new line should get added to your output, indicated its still training. Depending on you `snapshot_count` setting you should see the results folder in your Google drive folder fill with both samples (`fakesXXXXXx.jpg`) and model weights (`network-snapshot-XXXXXX.pkl`). The samples are worth looking at while it trains but don’t get too worried about each individual sample.\n",
        "\n",
        "If you chose a metric, you will also see scores for each snapshot. Don’t obsess over these! they are a guide, it can go up or down slightly for each snapshot. What you want to see is a gradual lowering of the score over time.\n",
        "\n",
        "Once Colab shuts off, you can Reconnect the notebook and re-run every cell from top to bottom. Make sure you update the `resume_from` path to continue training from the latest model."
      ]
    },
    {
      "cell_type": "code",
      "metadata": {
        "id": "UZR4ireZE6JF"
      },
      "source": [
        ""
      ],
      "execution_count": null,
      "outputs": []
    }
  ]
}