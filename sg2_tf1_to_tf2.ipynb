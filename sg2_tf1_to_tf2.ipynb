{
  "nbformat": 4,
  "nbformat_minor": 0,
  "metadata": {
    "colab": {
      "name": "sg2_tf1_to_tf2.ipynb",
      "provenance": [],
      "collapsed_sections": [],
      "include_colab_link": true
    },
    "kernelspec": {
      "name": "python3",
      "display_name": "Python 3"
    },
    "language_info": {
      "name": "python"
    },
    "accelerator": "GPU"
  },
  "cells": [
    {
      "cell_type": "markdown",
      "metadata": {
        "id": "view-in-github",
        "colab_type": "text"
      },
      "source": [
        "<a href=\"https://colab.research.google.com/github/neuroidss/EEG-GAN-audio-video/blob/main/sg2_tf1_to_tf2.ipynb\" target=\"_parent\"><img src=\"https://colab.research.google.com/assets/colab-badge.svg\" alt=\"Open In Colab\"/></a>"
      ]
    },
    {
      "cell_type": "code",
      "metadata": {
        "colab": {
          "base_uri": "https://localhost:8080/"
        },
        "id": "PQH1QIw6BCJT",
        "outputId": "f3358df2-f1f7-424d-c074-1c0ea9009467"
      },
      "source": [
        "%tensorflow_version 1.x\n",
        "#%tensorflow_version 2.x\n",
        "import tensorflow as tf\n",
        "print('Tensorflow version: {}'.format(tf.__version__) )"
      ],
      "execution_count": null,
      "outputs": [
        {
          "output_type": "stream",
          "text": [
            "TensorFlow 1.x selected.\n",
            "Tensorflow version: 1.15.2\n"
          ],
          "name": "stdout"
        }
      ]
    },
    {
      "cell_type": "code",
      "metadata": {
        "colab": {
          "base_uri": "https://localhost:8080/"
        },
        "id": "Fy4PsGPwAacW",
        "outputId": "d1fe7d3f-ef8c-4e33-cb10-0c5813ced7c4"
      },
      "source": [
        "%cd /content\n",
        "!git clone https://github.com/NVlabs/stylegan2.git\n",
        "%cd /content/stylegan2\n",
        "#!git clone https://github.com/moono/stylegan2-tf-2.x.git\n",
        "#%cd /content/stylegan2-tf-2.x"
      ],
      "execution_count": null,
      "outputs": [
        {
          "output_type": "stream",
          "text": [
            "/content\n",
            "Cloning into 'stylegan2'...\n",
            "remote: Enumerating objects: 131, done.\u001b[K\n",
            "remote: Counting objects: 100% (4/4), done.\u001b[K\n",
            "remote: Compressing objects: 100% (4/4), done.\u001b[K\n",
            "remote: Total 131 (delta 0), reused 1 (delta 0), pack-reused 127\u001b[K\n",
            "Receiving objects: 100% (131/131), 593.76 KiB | 1.97 MiB/s, done.\n",
            "Resolving deltas: 100% (58/58), done.\n",
            "/content/stylegan2\n"
          ],
          "name": "stdout"
        }
      ]
    },
    {
      "cell_type": "code",
      "metadata": {
        "id": "_h-WEGHcF_YN"
      },
      "source": [
        "!pip install googledrivedownloader\n",
        "from google_drive_downloader import GoogleDriveDownloader as gdd\n",
        "\n",
        "files_path = [['1YckI8gwqPbZBI8X4eaQAJCgWx-CqCTdi', '/content/model/sg2_anime_network-snapshot-018528.pkl']]\n",
        "\n",
        "network_pkl=files_path[0][1]\n",
        "\n",
        "for i in range(len(files_path)):\n",
        "  gdd.download_file_from_google_drive(file_id=files_path[i][0], dest_path=files_path[i][1])\n",
        "\n",
        "\n",
        "if True:\n",
        "  import tensorflow as tf\n",
        "  import pretrained_networks\n",
        "  import pprint\n",
        "\n",
        "  #!wget --directory-prefix=./official_pretrained https://nvlabs-fi-cdn.nvidia.com/stylegan2/networks/stylegan2-ffhq-config-f.pkl\n",
        "  #network_pkl = './official_pretrained/stylegan2-ffhq-config-f.pkl'\n",
        "  print('Loading networks from \"%s\"...' % network_pkl)\n",
        "  _G, _D, Gs = pretrained_networks.load_networks(network_pkl)\n",
        "  print()\n",
        "\n",
        "  # Print network details.\n",
        "  print('===_G===')\n",
        "  _G.print_layers()\n",
        "  print('===Gs===')\n",
        "  Gs.print_layers()\n",
        "\n",
        "  t_var = tf.trainable_variables()\n",
        "  pprint.pprint(t_var)\n",
        "\n",
        "  saver = tf.train.Saver()\n",
        "\n",
        "  save_path = saver.save(tf.get_default_session(), \"/content/official-pretrained/model.ckpt\")"
      ],
      "execution_count": null,
      "outputs": []
    },
    {
      "cell_type": "code",
      "metadata": {
        "id": "JsNMekrk0s23"
      },
      "source": [
        "from google.colab import files\n",
        "files.download('/content/stylegan2-tf-2.x/official-pretrained/model.ckpt.data-00000-of-00001')\n",
        "files.download('/content/stylegan2-tf-2.x/official-pretrained/model.ckpt.index')\n",
        "files.download('/content/stylegan2-tf-2.x/official-pretrained/model.ckpt.meta')\n",
        "files.download('/content/stylegan2-tf-2.x/official-pretrained/checkpoint')\n",
        "    "
      ],
      "execution_count": null,
      "outputs": []
    },
    {
      "cell_type": "code",
      "metadata": {
        "id": "OxOvBADgGlvD"
      },
      "source": [
        "from google.colab import drive\n",
        "drive.mount('/content/gdrive')\n",
        "\n",
        "!cp -r -v \"/content/stylegan2-tf-2.x/official-pretrained\" \"/content/gdrive/MyDrive/EEG-GAN-audio-video/stylegan2-tf-2.x/official-pretrained\""
      ],
      "execution_count": null,
      "outputs": []
    },
    {
      "cell_type": "markdown",
      "metadata": {
        "id": "tFxhW2B_SXGD"
      },
      "source": [
        "restart "
      ]
    },
    {
      "cell_type": "code",
      "metadata": {
        "colab": {
          "base_uri": "https://localhost:8080/"
        },
        "id": "JbQHZmxuHSpW",
        "outputId": "acc4dd45-ffec-4832-cbac-25e278c2b3de"
      },
      "source": [
        "%tensorflow_version 2.x\n",
        "import tensorflow as tf\n",
        "print('Tensorflow version: {}'.format(tf.__version__) )"
      ],
      "execution_count": null,
      "outputs": [
        {
          "output_type": "stream",
          "text": [
            "Tensorflow version: 2.6.0\n"
          ],
          "name": "stdout"
        }
      ]
    },
    {
      "cell_type": "code",
      "metadata": {
        "colab": {
          "base_uri": "https://localhost:8080/"
        },
        "id": "8AIhZYF6HU1o",
        "outputId": "7ab7fa11-0e9b-474c-ca43-e65e235d4ecb"
      },
      "source": [
        "%cd /content\n",
        "!git clone https://github.com/moono/stylegan2-tf-2.x.git\n",
        "%cd /content/stylegan2-tf-2.x"
      ],
      "execution_count": null,
      "outputs": [
        {
          "output_type": "stream",
          "text": [
            "/content\n",
            "fatal: destination path 'stylegan2-tf-2.x' already exists and is not an empty directory.\n",
            "/content/stylegan2-tf-2.x\n"
          ],
          "name": "stdout"
        }
      ]
    },
    {
      "cell_type": "code",
      "metadata": {
        "id": "MaBKc4cdpw2e"
      },
      "source": [
        "%cp /content/official-pretrained/* /content/stylegan2-tf-2.x/official-pretrained/"
      ],
      "execution_count": null,
      "outputs": []
    },
    {
      "cell_type": "code",
      "metadata": {
        "id": "VpRGmaBrG-FE"
      },
      "source": [
        "import os\n",
        "import numpy as np\n",
        "import tensorflow as tf\n",
        "\n",
        "from PIL import Image\n",
        "from stylegan2.utils import postprocess_images\n",
        "from load_models import load_generator\n",
        "from copy_official_weights import convert_official_weights_together\n",
        "\n",
        "\n",
        "def test_generator(ckpt_dir, use_custom_cuda, out_fn):\n",
        "    g_clone = load_generator(g_params=None, is_g_clone=True, ckpt_dir=ckpt_dir, custom_cuda=use_custom_cuda)\n",
        "\n",
        "    # test\n",
        "    seed = 6600\n",
        "    rnd = np.random.RandomState(seed)\n",
        "    latents = rnd.randn(1, g_clone.z_dim)\n",
        "    labels = rnd.randn(1, g_clone.labels_dim)\n",
        "    latents = latents.astype(np.float32)\n",
        "    labels = labels.astype(np.float32)\n",
        "    image_out = g_clone([latents, labels], training=False, truncation_psi=0.5)\n",
        "    image_out = postprocess_images(image_out)\n",
        "    image_out = image_out.numpy()\n",
        "\n",
        "    out_fn = f'seed{seed}-{out_fn}'\n",
        "    Image.fromarray(image_out[0], 'RGB').save(out_fn)\n",
        "    return\n",
        "\n",
        "\n",
        "def main():\n",
        "    from tf_utils import allow_memory_growth\n",
        "\n",
        "    allow_memory_growth()\n",
        "\n",
        "    # common variables\n",
        "    ckpt_dir_base = './official-converted'\n",
        "\n",
        "    use_custom_cuda=True\n",
        "    # saving phase\n",
        "    for use_custom_cuda in [True, False]:\n",
        "        ckpt_dir = os.path.join(ckpt_dir_base, 'cuda') if use_custom_cuda else os.path.join(ckpt_dir_base, 'ref')\n",
        "        convert_official_weights_together(ckpt_dir, use_custom_cuda)\n",
        "\n",
        "    # inference phase\n",
        "    ckpt_dir_cuda = os.path.join(ckpt_dir_base, 'cuda')\n",
        "    ckpt_dir_ref = os.path.join(ckpt_dir_base, 'ref')\n",
        "\n",
        "    # 1. inference cuda saved weight from cuda model\n",
        "    test_generator(ckpt_dir_cuda, use_custom_cuda=True, out_fn='from-cuda-to-cuda.png')\n",
        "\n",
        "    # 2. inference cuda saved weight from ref model\n",
        "    test_generator(ckpt_dir_cuda, use_custom_cuda=False, out_fn='from-cuda-to-ref.png')\n",
        "\n",
        "    # 3. inference ref saved weight from ref model\n",
        "    test_generator(ckpt_dir_ref, use_custom_cuda=False, out_fn='from-ref-to-ref.png')\n",
        "\n",
        "    # 4. inference ref saved weight from cuda model\n",
        "    test_generator(ckpt_dir_ref, use_custom_cuda=True, out_fn='from-ref-to-cuda.png')\n",
        "    return\n",
        "\n",
        "\n",
        "\n",
        "main()"
      ],
      "execution_count": null,
      "outputs": []
    },
    {
      "cell_type": "code",
      "metadata": {
        "id": "1F-ipbwuEkWE"
      },
      "source": [
        "from google.colab import files\n",
        "files.download('/content/stylegan2-tf-2.x/official-converted/cuda/ckpt-0.data-00000-of-00001')\n",
        "files.download('/content/stylegan2-tf-2.x/official-converted/cuda/ckpt-0.index')\n",
        "files.download('/content/stylegan2-tf-2.x/official-converted/cuda/checkpoint')\n"
      ],
      "execution_count": null,
      "outputs": []
    },
    {
      "cell_type": "code",
      "metadata": {
        "id": "xa9TfUMDGWIl"
      },
      "source": [
        "from google.colab import drive\n",
        "drive.mount('/content/gdrive')\n",
        "\n",
        "!cp -r -v \"/content/stylegan2-tf-2.x/official-converted/cuda\" \"/content/gdrive/MyDrive/EEG-GAN-audio-video/stylegan2-tf-2.x/official-converted/cuda\""
      ],
      "execution_count": null,
      "outputs": []
    },
    {
      "cell_type": "code",
      "metadata": {
        "id": "dQbyDeV3Pt9C"
      },
      "source": [
        "  files_path = [['1Ybv8_nyDxKu-bh9ukX1Ukq-oVMSLwBma', '/content/official-pretrained/model.ckpt.data-00000-of-00001'],\n",
        "              ['1nPOngJpg3hsDLtCSnHrfqG97vIzlJSG8', '/content/official-pretrained/model.ckpt.index'],  \n",
        "              ['1Z5-UE1MFREuXzDllcIZwf22klcCBMgp3', '/content/official-pretrained/model.ckpt.meta'],  \n",
        "              ['1q0E5i5nusP2IEH0XiEPKHwDS2foIUmmT', '/content/official-pretrained/checkpoint'],  \n",
        "              ['1ngHd-Jej0rxNuL6aWglvP59X4KtxHbAp', '/content/stylegan2-tf-2.x_512/load_models.py'],  \n",
        "              ['1cMzUpTL2keSVlFtG-QnIwvuKS7n7kIee', '/content/stylegan2-tf-2.x_512/inference_from_official_weights.py'],  \n",
        "              ['1kjBV8DAx7m4iXK4EfL1ZTTgWGpgazGQA', '/content/stylegan2-tf-2.x_512/copy_official_weights.py'],  \n",
        "              ['1SMHIeV8RTOP1-UWSW3yx8VU8lWcgPWUi', '/content/stylegan2-tf-2.x_512/inference.py']]\n",
        "\n",
        "if generate_stylegan2_tf1:\n",
        "  network_pkl=files_path[0][1]\n",
        "\n",
        "for i in range(len(files_path)):\n",
        "  gdd.download_file_from_google_drive(file_id=files_path[i][0], dest_path=files_path[i][1])\n",
        "\n",
        "if generate_stylegan2_tf2:\n",
        "  %cp /content/official-pretrained/* /content/stylegan2-tf-2.x/official-pretrained/\n",
        "  %cp /content/stylegan2-tf-2.x_512/* /content/stylegan2-tf-2.x/\n"
      ],
      "execution_count": null,
      "outputs": []
    }
  ]
}