{
  "nbformat": 4,
  "nbformat_minor": 0,
  "metadata": {
    "colab": {
      "name": " 512 aydao gpu shawwn Stylegan2 Custom Training.ipynb",
      "provenance": [],
      "collapsed_sections": [],
      "machine_shape": "hm",
      "include_colab_link": true
    },
    "kernelspec": {
      "name": "python3",
      "display_name": "Python 3"
    }
  },
  "cells": [
    {
      "cell_type": "markdown",
      "metadata": {
        "id": "view-in-github",
        "colab_type": "text"
      },
      "source": [
        "<a href=\"https://colab.research.google.com/github/neuroidss/EEG-GAN-audio-video/blob/main/512_aydao_gpu_shawwn_Stylegan2_Custom_Training.ipynb\" target=\"_parent\"><img src=\"https://colab.research.google.com/assets/colab-badge.svg\" alt=\"Open In Colab\"/></a>"
      ]
    },
    {
      "cell_type": "markdown",
      "metadata": {
        "id": "cPI5E5y0pujD"
      },
      "source": [
        "# Custom Training StyleGan2-ADA"
      ]
    },
    {
      "cell_type": "markdown",
      "metadata": {
        "id": "SI_i1MwgpzOD"
      },
      "source": [
        "StyleGAN2-ADA only work with Tensorflow 1. Run the next cell before anything else to make sure we’re using TF1 and not TF2."
      ]
    },
    {
      "cell_type": "code",
      "metadata": {
        "id": "iKYAU7Wub3WW",
        "colab": {
          "base_uri": "https://localhost:8080/"
        },
        "outputId": "9148444c-b930-4040-c7b7-ceb60e2a7b62"
      },
      "source": [
        "%tensorflow_version 1.x"
      ],
      "execution_count": 1,
      "outputs": [
        {
          "output_type": "stream",
          "name": "stdout",
          "text": [
            "TensorFlow 1.x selected.\n"
          ]
        }
      ]
    },
    {
      "cell_type": "code",
      "metadata": {
        "id": "51ei6d5kxVDm",
        "colab": {
          "base_uri": "https://localhost:8080/"
        },
        "outputId": "77897a5b-60c2-4fe6-a81c-6d2bb5cf912c"
      },
      "source": [
        "#!nvidia-smi"
      ],
      "execution_count": null,
      "outputs": [
        {
          "output_type": "stream",
          "name": "stdout",
          "text": [
            "NVIDIA-SMI has failed because it couldn't communicate with the NVIDIA driver. Make sure that the latest NVIDIA driver is installed and running.\n",
            "\n"
          ]
        }
      ]
    },
    {
      "cell_type": "markdown",
      "metadata": {
        "id": "5YcUMPQp6ipP"
      },
      "source": [
        "## Install Repo to Google Drive\n",
        "\n",
        "Colab is a little funky with training. I’ve found the best way to do this is to install the repo directly into your Google Drive folder.\n",
        "\n",
        "First, mount your Drive to the Colab notebook: "
      ]
    },
    {
      "cell_type": "code",
      "metadata": {
        "id": "pxxYlEKI9Gis",
        "colab": {
          "base_uri": "https://localhost:8080/"
        },
        "outputId": "634ddb86-f381-4a67-a015-85d727fc4f48"
      },
      "source": [
        "from google.colab import drive\n",
        "drive.mount('/content/drive')"
      ],
      "execution_count": 2,
      "outputs": [
        {
          "output_type": "stream",
          "name": "stdout",
          "text": [
            "Mounted at /content/drive\n"
          ]
        }
      ]
    },
    {
      "cell_type": "code",
      "metadata": {
        "id": "-IDcqJ2CzHXm"
      },
      "source": [
        "#!curl https://sdk.cloud.google.com | bash"
      ],
      "execution_count": null,
      "outputs": []
    },
    {
      "cell_type": "markdown",
      "metadata": {
        "id": "epV6TDzAjox1"
      },
      "source": [
        "Next, run this cell. If you’re already installed the repo, it will skip the installation process and change into the repo’s directory. If you haven’t installed it, it will install all the files necessary."
      ]
    },
    {
      "cell_type": "code",
      "metadata": {
        "id": "9AdOYnDszUgV"
      },
      "source": [
        "#!gcloud init"
      ],
      "execution_count": null,
      "outputs": []
    },
    {
      "cell_type": "code",
      "metadata": {
        "id": "8HX77jscX2zV",
        "colab": {
          "base_uri": "https://localhost:8080/"
        },
        "outputId": "f9bcafc8-5fef-4f5a-bf55-3e7eb3403832"
      },
      "source": [
        "import os\n",
        "if os.path.isdir(\"/content/drive/MyDrive/colab-sg2-aydao-gpu\"):\n",
        "    %cd \"/content/drive/MyDrive/colab-sg2-aydao-gpu/stylegan2\"\n",
        "else:\n",
        "    #install script\n",
        "    %cd \"/content/drive/MyDrive/\"\n",
        "    !mkdir colab-sg2-aydao-gpu\n",
        "    %cd colab-sg2-aydao-gpu\n",
        "    !git clone https://github.com/shawwn/stylegan2.git\n",
        "#    !git clone https://github.com/dvschultz/stylegan2-ada\n",
        "    %cd stylegan2\n",
        "    !mkdir downloads\n",
        "    !mkdir datasets"
      ],
      "execution_count": 3,
      "outputs": [
        {
          "output_type": "stream",
          "name": "stdout",
          "text": [
            "/content/drive/MyDrive/colab-sg2-aydao-gpu/stylegan2\n"
          ]
        }
      ]
    },
    {
      "cell_type": "code",
      "metadata": {
        "id": "G7oj_kBaemol",
        "colab": {
          "base_uri": "https://localhost:8080/"
        },
        "outputId": "8e660cbd-918e-494c-b9f6-540d7e938a7d"
      },
      "source": [
        "%cd \"/content/drive/MyDrive/colab-sg2-aydao-gpu/stylegan2\"\n",
        "!git config --global user.name \"test\"\n",
        "!git config --global user.email \"test@test.com\"\n",
        "#!git fetch origin\n",
        "#!git checkout origin/main -- train.py"
      ],
      "execution_count": null,
      "outputs": [
        {
          "output_type": "stream",
          "name": "stdout",
          "text": [
            "/content/drive/MyDrive/colab-sg2-aydao-gpu/stylegan2\n"
          ]
        }
      ]
    },
    {
      "cell_type": "markdown",
      "metadata": {
        "id": "HeS9tDvt61VG"
      },
      "source": [
        "## Convert dataset to .tfrecords"
      ]
    },
    {
      "cell_type": "markdown",
      "metadata": {
        "id": "_Q58MJbckLUc"
      },
      "source": [
        "**Note: You only need to do this once per dataset. If you have already run this and are returning to conntinue training, skip these cells.**\n",
        "\n",
        "Next we need to convert our image dataset to a format that StyleGAN2-ADA can read from. There are two options here. You can upload your dataset directly to Colab (as a zipped file), or you can upload it to Drive directly and read it from there."
      ]
    },
    {
      "cell_type": "markdown",
      "metadata": {
        "id": "D0QH0nzjlbEE"
      },
      "source": [
        "Now that your image dataset is uploaded, we need to convert it to the `.tfrecords` format.\n",
        "\n",
        "Depending on the resolution of your images and how many you have, this can take a while."
      ]
    },
    {
      "cell_type": "code",
      "metadata": {
        "id": "szPbAXEs4QQu",
        "colab": {
          "base_uri": "https://localhost:8080/"
        },
        "outputId": "3a29912c-7718-40da-d418-19c0a6e09695"
      },
      "source": [
        "!gcloud auth login"
      ],
      "execution_count": 4,
      "outputs": [
        {
          "output_type": "stream",
          "name": "stdout",
          "text": [
            "Go to the following link in your browser:\n",
            "\n",
            "    https://accounts.google.com/o/oauth2/auth?response_type=code&client_id=32555940559.apps.googleusercontent.com&redirect_uri=urn%3Aietf%3Awg%3Aoauth%3A2.0%3Aoob&scope=openid+https%3A%2F%2Fwww.googleapis.com%2Fauth%2Fuserinfo.email+https%3A%2F%2Fwww.googleapis.com%2Fauth%2Fcloud-platform+https%3A%2F%2Fwww.googleapis.com%2Fauth%2Fappengine.admin+https%3A%2F%2Fwww.googleapis.com%2Fauth%2Fcompute+https%3A%2F%2Fwww.googleapis.com%2Fauth%2Faccounts.reauth&state=MGrUCmriIxBJxIQm4nI79kwjYwC03Y&prompt=consent&access_type=offline&code_challenge=dNLpyZcFiiFXaZxpKoDXrY-PnxSZSkTgap6rs7JpZWw&code_challenge_method=S256\n",
            "\n",
            "Enter verification code: 4/1AX4XfWigMhSmjh2mZ3ZdLPfoKtLTTwidVvujt3nSOjFOZiZC-VrK6-stUBM\n",
            "\n",
            "You are now logged in as [train.colab.tpu@neuroidss.com].\n",
            "Your current project is [None].  You can change this setting by running:\n",
            "  $ gcloud config set project PROJECT_ID\n",
            "\n",
            "\n",
            "To take a quick anonymous survey, run:\n",
            "  $ gcloud survey\n",
            "\n"
          ]
        }
      ]
    },
    {
      "cell_type": "code",
      "metadata": {
        "id": "cX26dVUt4nEN",
        "colab": {
          "base_uri": "https://localhost:8080/"
        },
        "outputId": "4e6e9935-838f-4030-9eb1-ee6c2d1b2c94"
      },
      "source": [
        "#project_id = 'encoded-phalanx-326615'\n",
        "project_id = 'local-abbey-335821'\n",
        "!gcloud config set project {project_id}"
      ],
      "execution_count": 5,
      "outputs": [
        {
          "output_type": "stream",
          "name": "stdout",
          "text": [
            "Updated property [core/project].\n"
          ]
        }
      ]
    },
    {
      "cell_type": "code",
      "metadata": {
        "id": "8JUP51nJdEjz",
        "colab": {
          "base_uri": "https://localhost:8080/"
        },
        "outputId": "dc9a3439-7fec-465a-ad92-b24f5b1e34b2"
      },
      "source": [
        "#if you manually uploaded your dataset to Colab, unzip it\n",
        "zip_path = \"/content/drive/MyDrive/sq-512.zip\"\n",
        "\n",
        "!unzip {zip_path} -d /content/"
      ],
      "execution_count": 6,
      "outputs": [
        {
          "output_type": "stream",
          "name": "stdout",
          "text": [
            "Archive:  /content/drive/MyDrive/sq-512.zip\n",
            "   creating: /content/sq-512/\n",
            "  inflating: /content/sq-512/3870008_1.jpg  \n",
            "  inflating: /content/sq-512/2235011.jpg  \n",
            "  inflating: /content/sq-512/3912003.jpg  \n",
            "  inflating: /content/sq-512/1064013.jpg  \n",
            "  inflating: /content/sq-512/3093010.jpg  \n",
            "  inflating: /content/sq-512/307004.jpg  \n",
            "  inflating: /content/sq-512/633007.jpg  \n",
            "  inflating: /content/sq-512/2503003.jpg  \n",
            "  inflating: /content/sq-512/1700004.jpg  \n",
            "  inflating: /content/sq-512/2699009.jpg  \n",
            "  inflating: /content/sq-512/2122011.jpg  \n",
            "  inflating: /content/sq-512/1740001.jpg  \n",
            "  inflating: /content/sq-512/3877012.jpg  \n",
            "  inflating: /content/sq-512/1508007.jpg  \n",
            "  inflating: /content/sq-512/288011.jpg  \n",
            "  inflating: /content/sq-512/1044008_0.jpg  \n",
            "  inflating: /content/sq-512/2944008.jpg  \n",
            "  inflating: /content/sq-512/187006.jpg  \n",
            "  inflating: /content/sq-512/1444013.jpg  \n",
            "  inflating: /content/sq-512/1419000.jpg  \n",
            "  inflating: /content/sq-512/343005.jpg  \n",
            "  inflating: /content/sq-512/2884009.jpg  \n",
            "  inflating: /content/sq-512/2496011.jpg  \n",
            "  inflating: /content/sq-512/440002.jpg  \n",
            "  inflating: /content/sq-512/1736009.jpg  \n",
            "  inflating: /content/sq-512/475007.jpg  \n",
            "  inflating: /content/sq-512/4120007.jpg  \n",
            "  inflating: /content/sq-512/1882013.jpg  \n",
            "  inflating: /content/sq-512/1943011.jpg  \n",
            "  inflating: /content/sq-512/3836001.jpg  \n",
            "  inflating: /content/sq-512/2097004.jpg  \n",
            "  inflating: /content/sq-512/2783007.jpg  \n",
            "  inflating: /content/sq-512/2639005.jpg  \n",
            "  inflating: /content/sq-512/855006.jpg  \n",
            "  inflating: /content/sq-512/2892008.jpg  \n",
            "  inflating: /content/sq-512/2026001.jpg  \n",
            "  inflating: /content/sq-512/1671007.jpg  \n",
            "  inflating: /content/sq-512/2595002.jpg  \n",
            "  inflating: /content/sq-512/2343010.jpg  \n",
            "  inflating: /content/sq-512/1628003.jpg  \n",
            "  inflating: /content/sq-512/3841006.jpg  \n",
            "  inflating: /content/sq-512/2099010.jpg  \n",
            "  inflating: /content/sq-512/3036012.jpg  \n",
            "  inflating: /content/sq-512/3868006.jpg  \n",
            "  inflating: /content/sq-512/2941008.jpg  \n",
            "  inflating: /content/sq-512/842010.jpg  \n",
            "  inflating: /content/sq-512/776003.jpg  \n",
            "  inflating: /content/sq-512/3202011.jpg  \n",
            "  inflating: /content/sq-512/104012.jpg  \n",
            "  inflating: /content/sq-512/2115005.jpg  \n",
            "  inflating: /content/sq-512/610013.jpg  \n",
            "  inflating: /content/sq-512/3645012.jpg  \n",
            "  inflating: /content/sq-512/315008.jpg  \n",
            "  inflating: /content/sq-512/3825003.jpg  \n",
            "  inflating: /content/sq-512/3634004.jpg  \n",
            "  inflating: /content/sq-512/3772001.jpg  \n",
            "  inflating: /content/sq-512/417006.jpg  \n",
            "  inflating: /content/sq-512/3686006.jpg  \n",
            "  inflating: /content/sq-512/2194008.jpg  \n",
            "  inflating: /content/sq-512/4221004.jpg  \n",
            "  inflating: /content/sq-512/2030004.jpg  \n",
            "  inflating: /content/sq-512/3848000.jpg  \n",
            "  inflating: /content/sq-512/3040004.jpg  \n",
            "  inflating: /content/sq-512/4064012.jpg  \n",
            "  inflating: /content/sq-512/3942009.jpg  \n",
            "  inflating: /content/sq-512/1463001.jpg  \n",
            "  inflating: /content/sq-512/1360008.jpg  \n",
            "  inflating: /content/sq-512/3648010.jpg  \n",
            "  inflating: /content/sq-512/1905006.jpg  \n",
            "  inflating: /content/sq-512/2821012.jpg  \n",
            "  inflating: /content/sq-512/2114004.jpg  \n",
            "  inflating: /content/sq-512/3052006.jpg  \n",
            "  inflating: /content/sq-512/3107010.jpg  \n",
            "  inflating: /content/sq-512/684001.jpg  \n",
            "  inflating: /content/sq-512/691003.jpg  \n",
            "  inflating: /content/sq-512/3787004.jpg  \n",
            "  inflating: /content/sq-512/1678004.jpg  \n",
            "  inflating: /content/sq-512/58013.jpg  \n",
            "  inflating: /content/sq-512/3246006.jpg  \n",
            "  inflating: /content/sq-512/2198010.jpg  \n",
            "  inflating: /content/sq-512/703002.jpg  \n",
            "  inflating: /content/sq-512/1827003.jpg  \n",
            "  inflating: /content/sq-512/3388000.jpg  \n",
            "  inflating: /content/sq-512/1587012.jpg  \n",
            "  inflating: /content/sq-512/29002.jpg  \n",
            "  inflating: /content/sq-512/62009.jpg  \n",
            "  inflating: /content/sq-512/2093006.jpg  \n",
            "  inflating: /content/sq-512/4240006.jpg  \n",
            "  inflating: /content/sq-512/1188007.jpg  \n",
            "  inflating: /content/sq-512/1034010.jpg  \n",
            "  inflating: /content/sq-512/2737003.jpg  \n",
            "  inflating: /content/sq-512/1620006_0.jpg  \n",
            "  inflating: /content/sq-512/3955001.jpg  \n",
            "  inflating: /content/sq-512/724006.jpg  \n",
            "  inflating: /content/sq-512/1254006_2.jpg  \n",
            "  inflating: /content/sq-512/2653007.jpg  \n",
            "  inflating: /content/sq-512/3104001.jpg  \n",
            "  inflating: /content/sq-512/3481003.jpg  \n",
            "  inflating: /content/sq-512/3157013.jpg  \n",
            "  inflating: /content/sq-512/1262004.jpg  \n",
            "  inflating: /content/sq-512/1639013.jpg  \n",
            "  inflating: /content/sq-512/617013.jpg  \n",
            "  inflating: /content/sq-512/1893010.jpg  \n",
            "  inflating: /content/sq-512/296013.jpg  \n",
            "  inflating: /content/sq-512/1975011_3.jpg  \n",
            "  inflating: /content/sq-512/3900012.jpg  \n",
            "  inflating: /content/sq-512/3914009.jpg  \n",
            "  inflating: /content/sq-512/704001.jpg  \n",
            "  inflating: /content/sq-512/3881006.jpg  \n",
            "  inflating: /content/sq-512/3987013.jpg  \n",
            "  inflating: /content/sq-512/1540011.jpg  \n",
            "  inflating: /content/sq-512/101006.jpg  \n",
            "  inflating: /content/sq-512/1146002.jpg  \n",
            "  inflating: /content/sq-512/1160000.jpg  \n",
            "  inflating: /content/sq-512/4235013.jpg  \n",
            "  inflating: /content/sq-512/4178012.jpg  \n",
            "  inflating: /content/sq-512/2086004.jpg  \n",
            "  inflating: /content/sq-512/2928009.jpg  \n",
            "  inflating: /content/sq-512/2069000.jpg  \n",
            "  inflating: /content/sq-512/2338000.jpg  \n",
            "  inflating: /content/sq-512/3838010_1.jpg  \n",
            "  inflating: /content/sq-512/3341007.jpg  \n",
            "  inflating: /content/sq-512/3578000.jpg  \n",
            "  inflating: /content/sq-512/3050007.jpg  \n",
            "  inflating: /content/sq-512/19003.jpg  \n",
            "  inflating: /content/sq-512/2726004.jpg  \n",
            "  inflating: /content/sq-512/1570007.jpg  \n",
            "  inflating: /content/sq-512/434009.jpg  \n",
            "  inflating: /content/sq-512/1511006.jpg  \n",
            "  inflating: /content/sq-512/2332011.jpg  \n",
            "  inflating: /content/sq-512/1584012.jpg  \n",
            "  inflating: /content/sq-512/3870008_3.jpg  \n",
            "  inflating: /content/sq-512/1497002.jpg  \n",
            "  inflating: /content/sq-512/1378010.jpg  \n",
            "  inflating: /content/sq-512/62004.jpg  \n",
            "  inflating: /content/sq-512/1388002.jpg  \n",
            "  inflating: /content/sq-512/1385002.jpg  \n",
            "  inflating: /content/sq-512/42011_0.jpg  \n",
            "  inflating: /content/sq-512/1246008.jpg  \n",
            "  inflating: /content/sq-512/215011.jpg  \n",
            "  inflating: /content/sq-512/295007.jpg  \n",
            "  inflating: /content/sq-512/3093009.jpg  \n",
            "  inflating: /content/sq-512/1146009.jpg  \n",
            "  inflating: /content/sq-512/2984005.jpg  \n",
            "  inflating: /content/sq-512/2124009.jpg  \n",
            "  inflating: /content/sq-512/2196000.jpg  \n",
            "  inflating: /content/sq-512/3539000.jpg  \n",
            "  inflating: /content/sq-512/3980005.jpg  \n",
            "  inflating: /content/sq-512/3832007.jpg  \n",
            "  inflating: /content/sq-512/2928008.jpg  \n",
            "  inflating: /content/sq-512/1276005.jpg  \n",
            "  inflating: /content/sq-512/3470004.jpg  \n",
            "  inflating: /content/sq-512/4115001.jpg  \n",
            "  inflating: /content/sq-512/785012.jpg  \n",
            "  inflating: /content/sq-512/3715005.jpg  \n",
            "  inflating: /content/sq-512/1700002.jpg  \n",
            "  inflating: /content/sq-512/494010.jpg  \n",
            "  inflating: /content/sq-512/2515004.jpg  \n",
            "  inflating: /content/sq-512/113002.jpg  \n",
            "  inflating: /content/sq-512/1276011.jpg  \n",
            "  inflating: /content/sq-512/2638001.jpg  \n",
            "  inflating: /content/sq-512/3210002.jpg  \n",
            "  inflating: /content/sq-512/3856008.jpg  \n",
            "  inflating: /content/sq-512/3058007.jpg  \n",
            "  inflating: /content/sq-512/3971012_0.jpg  \n",
            "  inflating: /content/sq-512/1991009_1.jpg  \n",
            "  inflating: /content/sq-512/303007.jpg  \n",
            "  inflating: /content/sq-512/446007.jpg  \n",
            "  inflating: /content/sq-512/1522007_0.jpg  \n",
            "  inflating: /content/sq-512/704005.jpg  \n",
            "  inflating: /content/sq-512/2643013.jpg  \n",
            "  inflating: /content/sq-512/1351013.jpg  \n",
            "  inflating: /content/sq-512/2417012_0.jpg  \n",
            "  inflating: /content/sq-512/508011.jpg  \n",
            "  inflating: /content/sq-512/1518011.jpg  \n",
            "  inflating: /content/sq-512/350013_1.jpg  \n",
            "  inflating: /content/sq-512/1518003.jpg  \n",
            "  inflating: /content/sq-512/2153007.jpg  \n",
            "  inflating: /content/sq-512/2248013_2.jpg  \n",
            "  inflating: /content/sq-512/255011.jpg  \n",
            "  inflating: /content/sq-512/1639012.jpg  \n",
            "  inflating: /content/sq-512/540012.jpg  \n",
            "  inflating: /content/sq-512/1912004.jpg  \n",
            "  inflating: /content/sq-512/230004.jpg  \n",
            "  inflating: /content/sq-512/871013.jpg  \n",
            "  inflating: /content/sq-512/291000.jpg  \n",
            "  inflating: /content/sq-512/3407009.jpg  \n",
            "  inflating: /content/sq-512/3181012.jpg  \n",
            "  inflating: /content/sq-512/1444011.jpg  \n",
            "  inflating: /content/sq-512/928009.jpg  \n",
            "  inflating: /content/sq-512/341007.jpg  \n",
            "  inflating: /content/sq-512/2884008.jpg  \n",
            "  inflating: /content/sq-512/1393006.jpg  \n",
            "  inflating: /content/sq-512/317011.jpg  \n",
            "  inflating: /content/sq-512/3550008.jpg  \n",
            "  inflating: /content/sq-512/346007.jpg  \n",
            "  inflating: /content/sq-512/333008.jpg  \n",
            "  inflating: /content/sq-512/447011.jpg  \n",
            "  inflating: /content/sq-512/1470011.jpg  \n",
            "  inflating: /content/sq-512/1518008.jpg  \n",
            "  inflating: /content/sq-512/732007.jpg  \n",
            "  inflating: /content/sq-512/188013.jpg  \n",
            "  inflating: /content/sq-512/2977010.jpg  \n",
            "  inflating: /content/sq-512/3731012.jpg  \n",
            "  inflating: /content/sq-512/3651004.jpg  \n",
            "  inflating: /content/sq-512/2973005.jpg  \n",
            "  inflating: /content/sq-512/1990012.jpg  \n",
            "  inflating: /content/sq-512/1336000.jpg  \n",
            "  inflating: /content/sq-512/2128009.jpg  \n",
            "  inflating: /content/sq-512/2734007.jpg  \n",
            "  inflating: /content/sq-512/386006_2.jpg  \n",
            "  inflating: /content/sq-512/1561001.jpg  \n",
            "  inflating: /content/sq-512/3591006.jpg  \n",
            "  inflating: /content/sq-512/908007_1.jpg  \n",
            "  inflating: /content/sq-512/3658011.jpg  \n",
            "  inflating: /content/sq-512/3574011.jpg  \n",
            "  inflating: /content/sq-512/3870008_0.jpg  \n",
            "  inflating: /content/sq-512/2327010.jpg  \n",
            "  inflating: /content/sq-512/1369006.jpg  \n",
            "  inflating: /content/sq-512/1156010.jpg  \n",
            "  inflating: /content/sq-512/1130003.jpg  \n",
            "  inflating: /content/sq-512/1090004.jpg  \n",
            "  inflating: /content/sq-512/34004.jpg  \n",
            "  inflating: /content/sq-512/1246007.jpg  \n",
            "  inflating: /content/sq-512/1559005.jpg  \n",
            "  inflating: /content/sq-512/101007.jpg  \n",
            "  inflating: /content/sq-512/346009.jpg  \n",
            "  inflating: /content/sq-512/702008.jpg  \n",
            "  inflating: /content/sq-512/3268008.jpg  \n",
            "  inflating: /content/sq-512/1976012.jpg  \n",
            "  inflating: /content/sq-512/1982008_0.jpg  \n",
            "  inflating: /content/sq-512/1928011_0.jpg  \n",
            "  inflating: /content/sq-512/1394013.jpg  \n",
            "  inflating: /content/sq-512/3632001.jpg  \n",
            "  inflating: /content/sq-512/2936007.jpg  \n",
            "  inflating: /content/sq-512/2861002.jpg  \n",
            "  inflating: /content/sq-512/1035011.jpg  \n",
            "  inflating: /content/sq-512/1085001.jpg  \n",
            "  inflating: /content/sq-512/394006_0.jpg  \n",
            "  inflating: /content/sq-512/1832000.jpg  \n",
            "  inflating: /content/sq-512/601010.jpg  \n",
            "  inflating: /content/sq-512/937001.jpg  \n",
            "  inflating: /content/sq-512/179011.jpg  \n",
            "  inflating: /content/sq-512/2591000.jpg  \n",
            "  inflating: /content/sq-512/313000.jpg  \n",
            "  inflating: /content/sq-512/3187008.jpg  \n",
            "  inflating: /content/sq-512/658009.jpg  \n",
            "  inflating: /content/sq-512/1651005.jpg  \n",
            "  inflating: /content/sq-512/1259002.jpg  \n",
            "  inflating: /content/sq-512/893002.jpg  \n",
            "  inflating: /content/sq-512/3836003.jpg  \n",
            "  inflating: /content/sq-512/381010.jpg  \n",
            "  inflating: /content/sq-512/3691013.jpg  \n",
            "  inflating: /content/sq-512/3628010.jpg  \n",
            "  inflating: /content/sq-512/2874005.jpg  \n",
            "  inflating: /content/sq-512/2955002.jpg  \n",
            "  inflating: /content/sq-512/322002.jpg  \n",
            "  inflating: /content/sq-512/975009.jpg  \n",
            "  inflating: /content/sq-512/1849002.jpg  \n",
            "  inflating: /content/sq-512/2055007.jpg  \n",
            "  inflating: /content/sq-512/916002.jpg  \n",
            "  inflating: /content/sq-512/2906003.jpg  \n",
            "  inflating: /content/sq-512/1518013.jpg  \n",
            "  inflating: /content/sq-512/1678013.jpg  \n",
            "  inflating: /content/sq-512/1559007.jpg  \n",
            "  inflating: /content/sq-512/421002.jpg  \n",
            "  inflating: /content/sq-512/986011.jpg  \n",
            "  inflating: /content/sq-512/2107009.jpg  \n",
            "  inflating: /content/sq-512/913010.jpg  \n",
            "  inflating: /content/sq-512/22006.jpg  \n",
            "  inflating: /content/sq-512/3424011.jpg  \n",
            "  inflating: /content/sq-512/4010008.jpg  \n",
            "  inflating: /content/sq-512/3212009_1.jpg  \n",
            "  inflating: /content/sq-512/2127013.jpg  \n",
            "  inflating: /content/sq-512/1042003.jpg  \n",
            "  inflating: /content/sq-512/170005.jpg  \n",
            "  inflating: /content/sq-512/1901003.jpg  \n",
            "  inflating: /content/sq-512/4101006.jpg  \n",
            "  inflating: /content/sq-512/1975011_2.jpg  \n",
            "  inflating: /content/sq-512/1157012_1.jpg  \n",
            "  inflating: /content/sq-512/4232011.jpg  \n",
            "  inflating: /content/sq-512/1484005.jpg  \n",
            "  inflating: /content/sq-512/1385009.jpg  \n",
            "  inflating: /content/sq-512/1710010_0.jpg  \n",
            "  inflating: /content/sq-512/3544011_0.jpg  \n",
            "  inflating: /content/sq-512/647001.jpg  \n",
            "  inflating: /content/sq-512/82009.jpg  \n",
            "  inflating: /content/sq-512/1145008.jpg  \n",
            "  inflating: /content/sq-512/313011.jpg  \n",
            "  inflating: /content/sq-512/299007.jpg  \n",
            "  inflating: /content/sq-512/879005.jpg  \n",
            "  inflating: /content/sq-512/155000.jpg  \n",
            "  inflating: /content/sq-512/1077011.jpg  \n",
            "  inflating: /content/sq-512/1270007_0.jpg  \n",
            "  inflating: /content/sq-512/616010.jpg  \n",
            "  inflating: /content/sq-512/1378012.jpg  \n",
            "  inflating: /content/sq-512/1355011.jpg  \n",
            "  inflating: /content/sq-512/1543001.jpg  \n",
            "  inflating: /content/sq-512/809006_2.jpg  \n",
            "  inflating: /content/sq-512/504004.jpg  \n",
            "  inflating: /content/sq-512/3797007.jpg  \n",
            "  inflating: /content/sq-512/4072013.jpg  \n",
            "  inflating: /content/sq-512/1930012.jpg  \n",
            "  inflating: /content/sq-512/945008.jpg  \n",
            "  inflating: /content/sq-512/994012.jpg  \n",
            "  inflating: /content/sq-512/3609004.jpg  \n",
            "  inflating: /content/sq-512/1522005.jpg  \n",
            "  inflating: /content/sq-512/1011001.jpg  \n",
            "  inflating: /content/sq-512/4044000.jpg  \n",
            "  inflating: /content/sq-512/454012.jpg  \n",
            "  inflating: /content/sq-512/3159012.jpg  \n",
            "  inflating: /content/sq-512/686008.jpg  \n",
            "  inflating: /content/sq-512/1253007.jpg  \n",
            "  inflating: /content/sq-512/3166012.jpg  \n",
            "  inflating: /content/sq-512/1273009.jpg  \n",
            "  inflating: /content/sq-512/329002.jpg  \n",
            "  inflating: /content/sq-512/897013.jpg  \n",
            "  inflating: /content/sq-512/1497000.jpg  \n",
            "  inflating: /content/sq-512/83012.jpg  \n",
            "  inflating: /content/sq-512/110006.jpg  \n",
            "  inflating: /content/sq-512/2016003.jpg  \n",
            "  inflating: /content/sq-512/2844005.jpg  \n",
            "  inflating: /content/sq-512/3501004.jpg  \n",
            "  inflating: /content/sq-512/2106002.jpg  \n",
            "  inflating: /content/sq-512/3914000.jpg  \n",
            "  inflating: /content/sq-512/1951013.jpg  \n",
            "  inflating: /content/sq-512/2778012.jpg  \n",
            "  inflating: /content/sq-512/3115009.jpg  \n",
            "  inflating: /content/sq-512/1586004.jpg  \n",
            "  inflating: /content/sq-512/1441008.jpg  \n",
            "  inflating: /content/sq-512/3338003.jpg  \n",
            "  inflating: /content/sq-512/3095009.jpg  \n",
            "  inflating: /content/sq-512/1270004.jpg  \n",
            "  inflating: /content/sq-512/3136010.jpg  \n",
            "  inflating: /content/sq-512/686013.jpg  \n",
            "  inflating: /content/sq-512/196007.jpg  \n",
            "  inflating: /content/sq-512/3887012.jpg  \n",
            "  inflating: /content/sq-512/1517005.jpg  \n",
            "  inflating: /content/sq-512/343006.jpg  \n",
            "  inflating: /content/sq-512/3883000.jpg  \n",
            "  inflating: /content/sq-512/1928006.jpg  \n",
            "  inflating: /content/sq-512/3817013.jpg  \n",
            "  inflating: /content/sq-512/2893001.jpg  \n",
            "  inflating: /content/sq-512/2866008.jpg  \n",
            "  inflating: /content/sq-512/1419010.jpg  \n",
            "  inflating: /content/sq-512/82007.jpg  \n",
            "  inflating: /content/sq-512/3728008.jpg  \n",
            "  inflating: /content/sq-512/3999002.jpg  \n",
            "  inflating: /content/sq-512/2973002.jpg  \n",
            "  inflating: /content/sq-512/1678010.jpg  \n",
            "  inflating: /content/sq-512/756012.jpg  \n",
            "  inflating: /content/sq-512/1355003.jpg  \n",
            "  inflating: /content/sq-512/406006_2.jpg  \n",
            "  inflating: /content/sq-512/4252009.jpg  \n",
            "  inflating: /content/sq-512/2893004.jpg  \n",
            "  inflating: /content/sq-512/639008.jpg  \n",
            "  inflating: /content/sq-512/196006.jpg  \n",
            "  inflating: /content/sq-512/1518007.jpg  \n",
            "  inflating: /content/sq-512/215002.jpg  \n",
            "  inflating: /content/sq-512/794012.jpg  \n",
            "  inflating: /content/sq-512/2419001.jpg  \n",
            "  inflating: /content/sq-512/2095007.jpg  \n",
            "  inflating: /content/sq-512/3636008.jpg  \n",
            "  inflating: /content/sq-512/343003.jpg  \n",
            "  inflating: /content/sq-512/3651006.jpg  \n",
            "  inflating: /content/sq-512/3636009.jpg  \n",
            "  inflating: /content/sq-512/3099005.jpg  \n",
            "  inflating: /content/sq-512/651002.jpg  \n",
            "  inflating: /content/sq-512/90001.jpg  \n",
            "  inflating: /content/sq-512/188009.jpg  \n",
            "  inflating: /content/sq-512/759005.jpg  \n",
            "  inflating: /content/sq-512/4005004.jpg  \n",
            "  inflating: /content/sq-512/1463004.jpg  \n",
            "  inflating: /content/sq-512/3548000.jpg  \n",
            "  inflating: /content/sq-512/2958009.jpg  \n",
            "  inflating: /content/sq-512/3716007.jpg  \n",
            "  inflating: /content/sq-512/3870008_2.jpg  \n",
            "  inflating: /content/sq-512/1645000.jpg  \n",
            "  inflating: /content/sq-512/3754013.jpg  \n",
            "  inflating: /content/sq-512/1034013.jpg  \n",
            "  inflating: /content/sq-512/1191012.jpg  \n",
            "  inflating: /content/sq-512/3688004.jpg  \n",
            "  inflating: /content/sq-512/2236013.jpg  \n",
            "  inflating: /content/sq-512/3985006.jpg  \n",
            "  inflating: /content/sq-512/642013.jpg  \n",
            "  inflating: /content/sq-512/1568008.jpg  \n",
            "  inflating: /content/sq-512/1355008.jpg  \n",
            "  inflating: /content/sq-512/2123013.jpg  \n",
            "  inflating: /content/sq-512/2741000.jpg  \n",
            "  inflating: /content/sq-512/1476000.jpg  \n",
            "  inflating: /content/sq-512/2523001.jpg  \n",
            "  inflating: /content/sq-512/2301012.jpg  \n",
            "  inflating: /content/sq-512/3459008_1.jpg  \n",
            "  inflating: /content/sq-512/2894013.jpg  \n",
            "  inflating: /content/sq-512/1822006.jpg  \n",
            "  inflating: /content/sq-512/891003.jpg  \n",
            "  inflating: /content/sq-512/162009.jpg  \n",
            "  inflating: /content/sq-512/1327000.jpg  \n",
            "  inflating: /content/sq-512/3156002.jpg  \n",
            "  inflating: /content/sq-512/3694009.jpg  \n",
            "  inflating: /content/sq-512/86003.jpg  \n",
            "  inflating: /content/sq-512/3115005.jpg  \n",
            "  inflating: /content/sq-512/406001.jpg  \n",
            "  inflating: /content/sq-512/4101004.jpg  \n",
            "  inflating: /content/sq-512/1278000.jpg  \n",
            "  inflating: /content/sq-512/1109009.jpg  \n",
            "  inflating: /content/sq-512/2938002.jpg  \n",
            "  inflating: /content/sq-512/2911001.jpg  \n",
            "  inflating: /content/sq-512/228006.jpg  \n",
            "  inflating: /content/sq-512/2196007.jpg  \n",
            "  inflating: /content/sq-512/4203005.jpg  \n",
            "  inflating: /content/sq-512/3752011.jpg  \n",
            "  inflating: /content/sq-512/3104003.jpg  \n",
            "  inflating: /content/sq-512/4198000.jpg  \n",
            "  inflating: /content/sq-512/788009.jpg  \n",
            "  inflating: /content/sq-512/2419003.jpg  \n",
            "  inflating: /content/sq-512/3878003.jpg  \n",
            "  inflating: /content/sq-512/944007.jpg  \n",
            "  inflating: /content/sq-512/367009.jpg  \n",
            "  inflating: /content/sq-512/1902009_1.jpg  \n",
            "  inflating: /content/sq-512/3631003.jpg  \n",
            "  inflating: /content/sq-512/2626000.jpg  \n",
            "  inflating: /content/sq-512/4203011.jpg  \n",
            "  inflating: /content/sq-512/1606010.jpg  \n",
            "  inflating: /content/sq-512/2874012.jpg  \n",
            "  inflating: /content/sq-512/1402013.jpg  \n",
            "  inflating: /content/sq-512/3830001.jpg  \n",
            "  inflating: /content/sq-512/2371005.jpg  \n",
            "  inflating: /content/sq-512/3316004.jpg  \n",
            "  inflating: /content/sq-512/4206004.jpg  \n",
            "  inflating: /content/sq-512/3036010.jpg  \n",
            "  inflating: /content/sq-512/59009.jpg  \n",
            "  inflating: /content/sq-512/3877002.jpg  \n",
            "  inflating: /content/sq-512/1518012.jpg  \n",
            "  inflating: /content/sq-512/668005.jpg  \n",
            "  inflating: /content/sq-512/3826008.jpg  \n",
            "  inflating: /content/sq-512/292007.jpg  \n",
            "  inflating: /content/sq-512/1470003.jpg  \n",
            "  inflating: /content/sq-512/1928001.jpg  \n",
            "  inflating: /content/sq-512/1953006.jpg  \n",
            "  inflating: /content/sq-512/1146007.jpg  \n",
            "  inflating: /content/sq-512/3008005.jpg  \n",
            "  inflating: /content/sq-512/1011006.jpg  \n",
            "  inflating: /content/sq-512/1960003.jpg  \n",
            "  inflating: /content/sq-512/1246001.jpg  \n",
            "  inflating: /content/sq-512/726001.jpg  \n",
            "  inflating: /content/sq-512/3728010.jpg  \n",
            "  inflating: /content/sq-512/3921008.jpg  \n",
            "  inflating: /content/sq-512/2005.jpg  \n",
            "  inflating: /content/sq-512/1559008.jpg  \n",
            "  inflating: /content/sq-512/626010.jpg  \n",
            "  inflating: /content/sq-512/1024009.jpg  \n",
            "  inflating: /content/sq-512/3076011.jpg  \n",
            "  inflating: /content/sq-512/3544011_1.jpg  \n",
            "  inflating: /content/sq-512/3953006.jpg  \n",
            "  inflating: /content/sq-512/503003.jpg  \n",
            "  inflating: /content/sq-512/3108003.jpg  \n",
            "  inflating: /content/sq-512/531006.jpg  \n",
            "  inflating: /content/sq-512/360000.jpg  \n",
            "  inflating: /content/sq-512/1094010.jpg  \n",
            "  inflating: /content/sq-512/3645009.jpg  \n",
            "  inflating: /content/sq-512/2391009.jpg  \n",
            "  inflating: /content/sq-512/1943012.jpg  \n",
            "  inflating: /content/sq-512/313001.jpg  \n",
            "  inflating: /content/sq-512/2113001.jpg  \n",
            "  inflating: /content/sq-512/1509002.jpg  \n",
            "  inflating: /content/sq-512/724003.jpg  \n",
            "  inflating: /content/sq-512/3776009.jpg  \n",
            "  inflating: /content/sq-512/2741007.jpg  \n",
            "  inflating: /content/sq-512/913006_1.jpg  \n",
            "  inflating: /content/sq-512/2783002.jpg  \n",
            "  inflating: /content/sq-512/1814008.jpg  \n",
            "  inflating: /content/sq-512/67008.jpg  \n",
            "  inflating: /content/sq-512/1124011.jpg  \n",
            "  inflating: /content/sq-512/1054003.jpg  \n",
            "  inflating: /content/sq-512/1946006.jpg  \n",
            "  inflating: /content/sq-512/394006_1.jpg  \n",
            "  inflating: /content/sq-512/1501001.jpg  \n",
            "  inflating: /content/sq-512/406003.jpg  \n",
            "  inflating: /content/sq-512/1010008_2.jpg  \n",
            "  inflating: /content/sq-512/1146006.jpg  \n",
            "  inflating: /content/sq-512/200001.jpg  \n",
            "  inflating: /content/sq-512/29007.jpg  \n",
            "  inflating: /content/sq-512/320005.jpg  \n",
            "  inflating: /content/sq-512/1066012.jpg  \n",
            "  inflating: /content/sq-512/1360011.jpg  \n",
            "  inflating: /content/sq-512/2567010.jpg  \n",
            "  inflating: /content/sq-512/1902009_0.jpg  \n",
            "  inflating: /content/sq-512/108007.jpg  \n",
            "  inflating: /content/sq-512/354005.jpg  \n",
            "  inflating: /content/sq-512/1276013.jpg  \n",
            "  inflating: /content/sq-512/2057005.jpg  \n",
            "  inflating: /content/sq-512/686005.jpg  \n",
            "  inflating: /content/sq-512/406006_1.jpg  \n",
            "  inflating: /content/sq-512/686004.jpg  \n",
            "  inflating: /content/sq-512/361003.jpg  \n",
            "  inflating: /content/sq-512/62007.jpg  \n",
            "  inflating: /content/sq-512/151008.jpg  \n",
            "  inflating: /content/sq-512/169012.jpg  \n",
            "  inflating: /content/sq-512/1635007.jpg  \n",
            "  inflating: /content/sq-512/1508006.jpg  \n",
            "  inflating: /content/sq-512/2613007.jpg  \n",
            "  inflating: /content/sq-512/690010.jpg  \n",
            "  inflating: /content/sq-512/1501009.jpg  \n",
            "  inflating: /content/sq-512/3036003.jpg  \n",
            "  inflating: /content/sq-512/1938011.jpg  \n",
            "  inflating: /content/sq-512/4047000.jpg  \n",
            "  inflating: /content/sq-512/1608008_1.jpg  \n",
            "  inflating: /content/sq-512/3095002.jpg  \n",
            "  inflating: /content/sq-512/830000.jpg  \n",
            "  inflating: /content/sq-512/3944012.jpg  \n",
            "  inflating: /content/sq-512/1058000.jpg  \n",
            "  inflating: /content/sq-512/2734004.jpg  \n",
            "  inflating: /content/sq-512/412001.jpg  \n",
            "  inflating: /content/sq-512/3441003.jpg  \n",
            "  inflating: /content/sq-512/289008.jpg  \n",
            "  inflating: /content/sq-512/381007.jpg  \n",
            "  inflating: /content/sq-512/8011.jpg  \n",
            "  inflating: /content/sq-512/3822005.jpg  \n",
            "  inflating: /content/sq-512/255007.jpg  \n",
            "  inflating: /content/sq-512/398012_3.jpg  \n",
            "  inflating: /content/sq-512/1501013.jpg  \n",
            "  inflating: /content/sq-512/2033012.jpg  \n",
            "  inflating: /content/sq-512/3985001.jpg  \n",
            "  inflating: /content/sq-512/3760005.jpg  \n",
            "  inflating: /content/sq-512/3787009.jpg  \n",
            "  inflating: /content/sq-512/65009.jpg  \n",
            "  inflating: /content/sq-512/2741006.jpg  \n",
            "  inflating: /content/sq-512/497003.jpg  \n",
            "  inflating: /content/sq-512/2885011.jpg  \n",
            "  inflating: /content/sq-512/385000.jpg  \n",
            "  inflating: /content/sq-512/467013.jpg  \n",
            "  inflating: /content/sq-512/1718004.jpg  \n",
            "  inflating: /content/sq-512/446011.jpg  \n",
            "  inflating: /content/sq-512/3036002.jpg  \n",
            "  inflating: /content/sq-512/561012_1.jpg  \n",
            "  inflating: /content/sq-512/1518000.jpg  \n",
            "  inflating: /content/sq-512/4174008.jpg  \n",
            "  inflating: /content/sq-512/1058004.jpg  \n",
            "  inflating: /content/sq-512/3686013.jpg  \n",
            "  inflating: /content/sq-512/1443009.jpg  \n",
            "  inflating: /content/sq-512/4204007_0.jpg  \n",
            "  inflating: /content/sq-512/1537002.jpg  \n",
            "  inflating: /content/sq-512/4157012.jpg  \n",
            "  inflating: /content/sq-512/1355000.jpg  \n",
            "  inflating: /content/sq-512/3756002.jpg  \n",
            "  inflating: /content/sq-512/90000.jpg  \n",
            "  inflating: /content/sq-512/4209003.jpg  \n",
            "  inflating: /content/sq-512/3915012.jpg  \n",
            "  inflating: /content/sq-512/3915011.jpg  \n",
            "  inflating: /content/sq-512/252000.jpg  \n",
            "  inflating: /content/sq-512/61004.jpg  \n",
            "  inflating: /content/sq-512/1011012.jpg  \n",
            "  inflating: /content/sq-512/1590010.jpg  \n",
            "  inflating: /content/sq-512/2127011_0.jpg  \n",
            "  inflating: /content/sq-512/512013.jpg  \n",
            "  inflating: /content/sq-512/651003.jpg  \n",
            "  inflating: /content/sq-512/669013.jpg  \n",
            "  inflating: /content/sq-512/1537007.jpg  \n",
            "  inflating: /content/sq-512/633001.jpg  \n",
            "  inflating: /content/sq-512/2524001.jpg  \n",
            "  inflating: /content/sq-512/487005.jpg  \n",
            "  inflating: /content/sq-512/3060003.jpg  \n",
            "  inflating: /content/sq-512/874000.jpg  \n",
            "  inflating: /content/sq-512/2191005.jpg  \n",
            "  inflating: /content/sq-512/2033008.jpg  \n",
            "  inflating: /content/sq-512/2258011.jpg  \n",
            "  inflating: /content/sq-512/741013.jpg  \n",
            "  inflating: /content/sq-512/3579011.jpg  \n",
            "  inflating: /content/sq-512/625011.jpg  \n",
            "  inflating: /content/sq-512/4156005.jpg  \n",
            "  inflating: /content/sq-512/62008.jpg  \n",
            "  inflating: /content/sq-512/2729000.jpg  \n",
            "  inflating: /content/sq-512/1215009.jpg  \n",
            "  inflating: /content/sq-512/2925008.jpg  \n",
            "  inflating: /content/sq-512/175009.jpg  \n",
            "  inflating: /content/sq-512/2050006.jpg  \n",
            "  inflating: /content/sq-512/3227000.jpg  \n",
            "  inflating: /content/sq-512/1461003.jpg  \n",
            "  inflating: /content/sq-512/889005.jpg  \n",
            "  inflating: /content/sq-512/173001.jpg  \n",
            "  inflating: /content/sq-512/3157002.jpg  \n",
            "  inflating: /content/sq-512/3800003.jpg  \n",
            "  inflating: /content/sq-512/59011.jpg  \n",
            "  inflating: /content/sq-512/1849011.jpg  \n",
            "  inflating: /content/sq-512/1975011_1.jpg  \n",
            "  inflating: /content/sq-512/1264012.jpg  \n",
            "  inflating: /content/sq-512/1877012.jpg  \n",
            "  inflating: /content/sq-512/2029005.jpg  \n",
            "  inflating: /content/sq-512/1385011.jpg  \n",
            "  inflating: /content/sq-512/151010.jpg  \n",
            "  inflating: /content/sq-512/1652005.jpg  \n",
            "  inflating: /content/sq-512/2067007.jpg  \n",
            "  inflating: /content/sq-512/913006_2.jpg  \n",
            "  inflating: /content/sq-512/845002.jpg  \n",
            "  inflating: /content/sq-512/1666011.jpg  \n",
            "  inflating: /content/sq-512/381006.jpg  \n",
            "  inflating: /content/sq-512/752006.jpg  \n",
            "  inflating: /content/sq-512/1410003.jpg  \n",
            "  inflating: /content/sq-512/3465013.jpg  \n",
            "  inflating: /content/sq-512/2338013.jpg  \n",
            "  inflating: /content/sq-512/163010.jpg  \n",
            "  inflating: /content/sq-512/2338009.jpg  \n",
            "  inflating: /content/sq-512/1355002.jpg  \n",
            "  inflating: /content/sq-512/1622005.jpg  \n",
            "  inflating: /content/sq-512/3912002.jpg  \n",
            "  inflating: /content/sq-512/1388001.jpg  \n",
            "  inflating: /content/sq-512/3380010.jpg  \n",
            "  inflating: /content/sq-512/865010_1.jpg  \n",
            "  inflating: /content/sq-512/1928004.jpg  \n",
            "  inflating: /content/sq-512/386006_1.jpg  \n",
            "  inflating: /content/sq-512/331006.jpg  \n",
            "  inflating: /content/sq-512/1727003.jpg  \n",
            "  inflating: /content/sq-512/1259003.jpg  \n",
            "  inflating: /content/sq-512/2715011.jpg  \n",
            "  inflating: /content/sq-512/3378011.jpg  \n",
            "  inflating: /content/sq-512/1501006.jpg  \n",
            "  inflating: /content/sq-512/771008.jpg  \n",
            "  inflating: /content/sq-512/2226005.jpg  \n",
            "  inflating: /content/sq-512/188001.jpg  \n",
            "  inflating: /content/sq-512/1518006.jpg  \n",
            "  inflating: /content/sq-512/1518009.jpg  \n",
            "  inflating: /content/sq-512/1991009_0.jpg  \n",
            "  inflating: /content/sq-512/2911002.jpg  \n",
            "  inflating: /content/sq-512/1011013.jpg  \n",
            "  inflating: /content/sq-512/2067009.jpg  \n",
            "  inflating: /content/sq-512/1928009.jpg  \n",
            "  inflating: /content/sq-512/2248013_1.jpg  \n",
            "  inflating: /content/sq-512/1620006_1.jpg  \n",
            "  inflating: /content/sq-512/2677013.jpg  \n",
            "  inflating: /content/sq-512/2196005.jpg  \n",
            "  inflating: /content/sq-512/2383013.jpg  \n",
            "  inflating: /content/sq-512/1342008_4.jpg  \n",
            "  inflating: /content/sq-512/3104002.jpg  \n",
            "  inflating: /content/sq-512/746009.jpg  \n",
            "  inflating: /content/sq-512/1982008_1.jpg  \n",
            "  inflating: /content/sq-512/3145000.jpg  \n",
            "  inflating: /content/sq-512/3245008.jpg  \n",
            "  inflating: /content/sq-512/230007.jpg  \n",
            "  inflating: /content/sq-512/3574012.jpg  \n",
            "  inflating: /content/sq-512/1761001.jpg  \n",
            "  inflating: /content/sq-512/1975011_0.jpg  \n",
            "  inflating: /content/sq-512/1296011.jpg  \n",
            "  inflating: /content/sq-512/4082002.jpg  \n",
            "  inflating: /content/sq-512/3755000.jpg  \n",
            "  inflating: /content/sq-512/2799003.jpg  \n",
            "  inflating: /content/sq-512/1822007.jpg  \n",
            "  inflating: /content/sq-512/1154006.jpg  \n",
            "  inflating: /content/sq-512/296012.jpg  \n",
            "  inflating: /content/sq-512/3112012.jpg  \n",
            "  inflating: /content/sq-512/2742002.jpg  \n",
            "  inflating: /content/sq-512/104003.jpg  \n",
            "  inflating: /content/sq-512/2569005.jpg  \n",
            "  inflating: /content/sq-512/169010.jpg  \n",
            "  inflating: /content/sq-512/3173012.jpg  \n",
            "  inflating: /content/sq-512/3744013.jpg  \n",
            "  inflating: /content/sq-512/2747013.jpg  \n",
            "  inflating: /content/sq-512/1678008.jpg  \n",
            "  inflating: /content/sq-512/2164010.jpg  \n",
            "  inflating: /content/sq-512/2292008.jpg  \n",
            "  inflating: /content/sq-512/1052000.jpg  \n",
            "  inflating: /content/sq-512/1449003.jpg  \n",
            "  inflating: /content/sq-512/3504000.jpg  \n",
            "  inflating: /content/sq-512/203009.jpg  \n",
            "  inflating: /content/sq-512/3358004.jpg  \n",
            "  inflating: /content/sq-512/541007.jpg  \n",
            "  inflating: /content/sq-512/367006.jpg  \n",
            "  inflating: /content/sq-512/2923005.jpg  \n",
            "  inflating: /content/sq-512/34002.jpg  \n",
            "  inflating: /content/sq-512/2824006.jpg  \n"
          ]
        }
      ]
    },
    {
      "cell_type": "code",
      "metadata": {
        "id": "T-BZHhBe7AvO",
        "colab": {
          "base_uri": "https://localhost:8080/"
        },
        "outputId": "a51846c2-f175-454c-e31d-886e0e21b01c"
      },
      "source": [
        "#update this to the path to your image folder\n",
        "dataset_path = \"/content/sq-512\"\n",
        "#give your dataset a name\n",
        "dataset_name = \"sq-512\"\n",
        "\n",
        "#you don't need to edit anything here\n",
        "!python dataset_tool.py create_from_images ./datasets/{dataset_name} {dataset_path}\n",
        "#!python dataset_tool.py create_from_images gs://train_with_tpu/datasets/{dataset_name} {dataset_path}"
      ],
      "execution_count": 7,
      "outputs": [
        {
          "output_type": "stream",
          "name": "stdout",
          "text": [
            "Loading images from \"/content/sq-512\"\n",
            "Creating dataset \"./datasets/sq-512\"\n",
            "0 / 670\rdataset_tool.py:86: DeprecationWarning: tostring() is deprecated. Use tobytes() instead.\n",
            "  'data': tf.train.Feature(bytes_list=tf.train.BytesList(value=[quant.tostring()]))}))\n",
            "Added 670 images.\n"
          ]
        }
      ]
    },
    {
      "cell_type": "markdown",
      "metadata": {
        "id": "8DvTupHzP2s_"
      },
      "source": [
        "## Train a custom model\n",
        "\n",
        "We’re ready to start training! There are numerous arguments to training, what’s listed below are the most popular options. To see all the options, run the following cell."
      ]
    },
    {
      "cell_type": "code",
      "metadata": {
        "id": "mKYa6bo9nVhT"
      },
      "source": [
        "  import os\n",
        "  import tensorflow.compat.v1 as tf\n",
        "  tf.disable_eager_execution()\n",
        "  import pprint\n",
        "  assert 'COLAB_TPU_ADDR' in os.environ, 'Did you forget to switch to TPU?'\n",
        "  tpu_address = 'grpc://' + os.environ['COLAB_TPU_ADDR']\n",
        "\n",
        "  with tf.Session(tpu_address) as sess:\n",
        "    devices = sess.list_devices()\n",
        "  pprint.pprint(devices)\n",
        "  device_is_tpu = [True if 'TPU' in str(x) else False for x in devices]\n",
        "  assert True in device_is_tpu, 'Did you forget to switch to TPU?'\n"
      ],
      "execution_count": null,
      "outputs": []
    },
    {
      "cell_type": "code",
      "metadata": {
        "id": "bdHhaWHNozuO",
        "colab": {
          "base_uri": "https://localhost:8080/"
        },
        "outputId": "21f72d22-19bc-48ce-949a-a327e80a16d3"
      },
      "source": [
        "print(tpu_address)"
      ],
      "execution_count": null,
      "outputs": [
        {
          "output_type": "stream",
          "name": "stdout",
          "text": [
            "grpc://10.5.216.90:8470\n"
          ]
        }
      ]
    },
    {
      "cell_type": "code",
      "metadata": {
        "id": "5klve3cV2Sls",
        "colab": {
          "base_uri": "https://localhost:8080/"
        },
        "outputId": "947ed5e0-6f21-44d0-a8d9-9028194d87cd"
      },
      "source": [
        "project_id = 'encoded-phalanx-326615'\n",
        "!gcloud config set project {project_id}"
      ],
      "execution_count": null,
      "outputs": [
        {
          "output_type": "stream",
          "name": "stdout",
          "text": [
            "Updated property [core/project].\n"
          ]
        }
      ]
    },
    {
      "cell_type": "code",
      "source": [
        "!gsutil cp -r ./datasets/* gs://train_with_tpu2/datasets/\n"
      ],
      "metadata": {
        "colab": {
          "base_uri": "https://localhost:8080/"
        },
        "id": "rh7yjDEfBfDb",
        "outputId": "5602210b-6755-4d6f-dcff-daf162146287"
      },
      "execution_count": 8,
      "outputs": [
        {
          "output_type": "stream",
          "name": "stdout",
          "text": [
            "Copying file://./datasets/sq-512/sq-512-r02.tfrecords [Content-Type=application/octet-stream]...\n",
            "Copying file://./datasets/sq-512/sq-512-r04.tfrecords [Content-Type=application/octet-stream]...\n",
            "Copying file://./datasets/sq-512/sq-512-r05.tfrecords [Content-Type=application/octet-stream]...\n",
            "Copying file://./datasets/sq-512/sq-512-r03.tfrecords [Content-Type=application/octet-stream]...\n",
            "- [4 files][  2.7 MiB/  2.7 MiB]                                                \n",
            "==> NOTE: You are performing a sequence of gsutil operations that may\n",
            "run significantly faster if you instead use gsutil -m cp ... Please\n",
            "see the -m section under \"gsutil help options\" for further information\n",
            "about when gsutil -m can be advantageous.\n",
            "\n",
            "Copying file://./datasets/sq-512/sq-512-r06.tfrecords [Content-Type=application/octet-stream]...\n",
            "Copying file://./datasets/sq-512/sq-512-r07.tfrecords [Content-Type=application/octet-stream]...\n",
            "Copying file://./datasets/sq-512/sq-512-r09.tfrecords [Content-Type=application/octet-stream]...\n",
            "==> NOTE: You are uploading one or more large file(s), which would run\n",
            "significantly faster if you enable parallel composite uploads. This\n",
            "feature can be enabled by editing the\n",
            "\"parallel_composite_upload_threshold\" value in your .boto\n",
            "configuration file. However, note that if you do this large files will\n",
            "be uploaded as `composite objects\n",
            "<https://cloud.google.com/storage/docs/composite-objects>`_,which\n",
            "means that any user who downloads such objects will need to have a\n",
            "compiled crcmod installed (see \"gsutil help crcmod\"). This is because\n",
            "without a compiled crcmod, computing checksums on composite objects is\n",
            "so slow that gsutil disables downloads of composite objects.\n",
            "\n",
            "Copying file://./datasets/sq-512/sq-512-r08.tfrecords [Content-Type=application/octet-stream]...\n",
            "\\\n",
            "Operation completed over 8 objects/670.3 MiB.                                    \n"
          ]
        }
      ]
    },
    {
      "cell_type": "code",
      "metadata": {
        "id": "O-07patX0dvh"
      },
      "source": [
        "!gsutil cp -r /content/drive/MyDrive/colab-sg2/stylegan2/datasets/* gs://train_with_tpu/datasets/\n"
      ],
      "execution_count": null,
      "outputs": []
    },
    {
      "cell_type": "code",
      "metadata": {
        "id": "1O-W_vFV71Ak"
      },
      "source": [
        "GCP_PROJECT_ID = 'encoded-phalanx-326615'\n",
        "PROJECT_NUMBER = '0'\n"
      ],
      "execution_count": null,
      "outputs": []
    },
    {
      "cell_type": "code",
      "metadata": {
        "id": "uglki5VV8WUb",
        "colab": {
          "base_uri": "https://localhost:8080/"
        },
        "outputId": "37b0d7aa-4f8e-46b1-ea2a-4ccae913af02"
      },
      "source": [
        "!gcloud services --project $GCP_PROJECT_ID enable ml.googleapis.com cloudbuild.googleapis.com\n"
      ],
      "execution_count": null,
      "outputs": [
        {
          "output_type": "stream",
          "name": "stdout",
          "text": [
            "Operation \"operations/acf.p2-174339478235-bf3cf8dc-daf5-4715-bb29-97389dd24333\" finished successfully.\n"
          ]
        }
      ]
    },
    {
      "cell_type": "code",
      "metadata": {
        "id": "ozD5WxTy62n-"
      },
      "source": [
        "from google.colab import auth\n",
        "auth.authenticate_user()"
      ],
      "execution_count": null,
      "outputs": []
    },
    {
      "cell_type": "code",
      "metadata": {
        "id": "yiIBpCuUmRh2"
      },
      "source": [
        "#!export TPU_NAME={tpu_address}\n",
        "#!export TPU_NAME=\"\"\n",
        "#!export RESUME_PKL=\"/content/drive/MyDrive/sg2-ext_aydao-anime-danbooru2019s-512-5268480.pkl\"\n",
        "#!export RESUME_PKL=./results/00019-stylegan2-sq-256-1gpu-config-a/network-snapshot-000100.pkl\n",
        "#!export RESUME_KIMG=100.4\n",
        "#!export RESUME_TIME=43\n",
        "#!export RESUME_TIME=`math 10*3600 + 13*60 + 49` # 10h 13m 49s\n",
        "#RESUME_TIME=0*3600 + 44*60 + 31\n",
        "#!export RESUME_TIME={RESUME_TIME} # 10h 13m 49s\n",
        "\n",
        "#    resume_pkl=\"./results/00019-stylegan2-sq-256-1gpu-config-a/network-snapshot-000100.pkl\"\n",
        "#    resume_kimg=100.4\n",
        "#    resume_time=0*3600 + 44*60 + 31\n",
        "#    resume_pkl=\"/content/drive/MyDrive/stylegan2-cat-config-a.pkl\"\n",
        "#    resume_kimg=0\n",
        "#    resume_time=0\n",
        "\n",
        "#config=\"config-f\" # StyleGAN 2\n",
        "config=\"config-a\" # StyleGAN 1\n",
        "\n",
        "#data_dir=\"gs://train_with_tpu/datasets\"\n",
        "data_dir=\"./datasets\"\n",
        "dataset=\"sq-512\"\n",
        "mirror=\"False\"\n",
        "metrics=\"none\"\n",
        "#!export NO_GCE_CHECK=true\n",
        "#total_kimg=5268480+1000 #25000\n",
        "total_kimg=25000\n",
        "#resume=\"./results/00042-stylegan2-sq-512-1gpu-config-a\"\n",
        "#resume=\"gs://train_with_tpu/models/2020-11-27-aydao-stylegan2ext-danbooru2019s-512px-5268480.pkl\"\n",
        "#resume=\"/content/drive/MyDrive/2020-11-27-aydao-stylegan2ext-danbooru2019s-512px-5268480.pkl\"\n",
        "\n",
        "#!python run_training.py --resume \"{resume}\" --total-kimg \"{total_kimg}\" --data-dir \"{data_dir}\" --config=\"{config}\" --dataset=\"{dataset}\" --mirror-augment=\"{mirror}\" --metrics=\"{metrics}\"\n",
        "!python run_training.py --total-kimg \"{total_kimg}\" --data-dir \"{data_dir}\" --config=\"{config}\" --dataset=\"{dataset}\" --mirror-augment=\"{mirror}\" --metrics=\"{metrics}\"\n"
      ],
      "execution_count": null,
      "outputs": []
    },
    {
      "cell_type": "code",
      "metadata": {
        "id": "uRG_8khicmtl"
      },
      "source": [
        "!python convert_ckpt_to_pkl.py --tpu_address={tpu_address} --output_pkl_dir gs://train_with_tpu/networks_aydao/ --ckpt_model_dir gs://train_with_tpu/networks_aydao/sq-512 --reference_pkl gs://train_with_tpu/models/2020-11-27-aydao-stylegan2ext-danbooru2019s-512px-5268480.pkl"
      ],
      "execution_count": null,
      "outputs": []
    },
    {
      "cell_type": "code",
      "metadata": {
        "id": "1ZMGUIyQcnp0"
      },
      "source": [
        "!gsutil cp -r gs://train_with_tpu/networks_aydao/model.ckpt-9728.pkl /content/drive/MyDrive/networks_aydao/model.ckpt-latest.pkl"
      ],
      "execution_count": null,
      "outputs": []
    },
    {
      "cell_type": "code",
      "metadata": {
        "colab": {
          "base_uri": "https://localhost:8080/"
        },
        "id": "sEp1q92TcyUc",
        "outputId": "4c18f597-7bea-47e1-c518-b098a8d7e954"
      },
      "source": [
        "!python convert_ckpt_to_pkl.py --output_pkl_dir gs://train_with_tpu/networks_aydao/ --ckpt_model_dir gs://train_with_tpu/networks_aydao/sq-512 --reference_pkl gs://train_with_tpu/models/2020-11-27-aydao-stylegan2ext-danbooru2019s-512px-5268480.pkl"
      ],
      "execution_count": null,
      "outputs": [
        {
          "output_type": "stream",
          "name": "stdout",
          "text": [
            "python3: can't open file 'convert_ckpt_to_pkl.py': [Errno 2] No such file or directory\n"
          ]
        }
      ]
    },
    {
      "cell_type": "code",
      "metadata": {
        "id": "ZhXrkgdGc0Gz"
      },
      "source": [
        "!gsutil cp -r gs://train_with_tpu/networks_aydao/model.ckpt-9728.pkl /content/drive/MyDrive/networks_aydao/model.ckpt-latest.pkl"
      ],
      "execution_count": null,
      "outputs": []
    },
    {
      "cell_type": "code",
      "metadata": {
        "colab": {
          "base_uri": "https://localhost:8080/"
        },
        "id": "TUc9DML3b51y",
        "outputId": "005f886d-1f53-41cb-a9b6-3afc503046b4"
      },
      "source": [
        "!python convert_ckpt_to_pkl.py --output_pkl_dir gs://train_with_tpu/networks_aydao/ --ckpt_model_dir gs://train_with_tpu/networks_aydao/sq-512 --reference_pkl gs://train_with_tpu/models/2020-11-27-aydao-stylegan2ext-danbooru2019s-512px-5268480.pkl"
      ],
      "execution_count": null,
      "outputs": [
        {
          "output_type": "stream",
          "name": "stdout",
          "text": [
            "python3: can't open file 'convert_ckpt_to_pkl.py': [Errno 2] No such file or directory\n"
          ]
        }
      ]
    },
    {
      "cell_type": "markdown",
      "metadata": {
        "id": "lohotw1FqC54"
      },
      "source": [
        "### While it’s training...\n",
        "**Once the above cell is running you should be training!**\n",
        "\n",
        "Don’t close this tab! Colab needs to be open and running in order to continue training. Every ~15min or so a new line should get added to your output, indicated its still training. Depending on you `snapshot_count` setting you should see the results folder in your Google drive folder fill with both samples (`fakesXXXXXx.jpg`) and model weights (`network-snapshot-XXXXXX.pkl`). The samples are worth looking at while it trains but don’t get too worried about each individual sample.\n",
        "\n",
        "If you chose a metric, you will also see scores for each snapshot. Don’t obsess over these! they are a guide, it can go up or down slightly for each snapshot. What you want to see is a gradual lowering of the score over time.\n",
        "\n",
        "Once Colab shuts off, you can Reconnect the notebook and re-run every cell from top to bottom. Make sure you update the `resume_from` path to continue training from the latest model."
      ]
    },
    {
      "cell_type": "code",
      "metadata": {
        "id": "UZR4ireZE6JF"
      },
      "source": [
        ""
      ],
      "execution_count": null,
      "outputs": []
    }
  ]
}