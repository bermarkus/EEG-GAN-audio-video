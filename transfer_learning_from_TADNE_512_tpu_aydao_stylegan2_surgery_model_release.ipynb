{
  "nbformat": 4,
  "nbformat_minor": 0,
  "metadata": {
    "colab": {
      "name": "transfer_learning_from_TADNE_512_tpu_aydao_stylegan2_surgery_model_release.ipynb",
      "provenance": [],
      "collapsed_sections": [],
      "machine_shape": "hm",
      "include_colab_link": true
    },
    "kernelspec": {
      "name": "python3",
      "display_name": "Python 3"
    },
    "accelerator": "TPU"
  },
  "cells": [
    {
      "cell_type": "markdown",
      "metadata": {
        "id": "view-in-github",
        "colab_type": "text"
      },
      "source": [
        "<a href=\"https://colab.research.google.com/github/neuroidss/EEG-GAN-audio-video/blob/main/transfer_learning_from_TADNE_512_tpu_aydao_stylegan2_surgery_model_release.ipynb\" target=\"_parent\"><img src=\"https://colab.research.google.com/assets/colab-badge.svg\" alt=\"Open In Colab\"/></a>"
      ]
    },
    {
      "cell_type": "markdown",
      "metadata": {
        "id": "XnlXnpVwohIr"
      },
      "source": [
        "# cloud init"
      ]
    },
    {
      "cell_type": "code",
      "metadata": {
        "id": "iKYAU7Wub3WW",
        "colab": {
          "base_uri": "https://localhost:8080/"
        },
        "outputId": "648eb2e8-f46b-434a-9db1-f3e2d6869318"
      },
      "source": [
        "%tensorflow_version 1.x"
      ],
      "execution_count": null,
      "outputs": [
        {
          "output_type": "stream",
          "name": "stdout",
          "text": [
            "TensorFlow 1.x selected.\n"
          ]
        }
      ]
    },
    {
      "cell_type": "code",
      "metadata": {
        "id": "pxxYlEKI9Gis",
        "colab": {
          "base_uri": "https://localhost:8080/"
        },
        "outputId": "561353f9-99ed-473f-c152-8403cbe474a4"
      },
      "source": [
        "from google.colab import drive\n",
        "drive.mount('/content/drive')"
      ],
      "execution_count": null,
      "outputs": [
        {
          "output_type": "stream",
          "name": "stdout",
          "text": [
            "Drive already mounted at /content/drive; to attempt to forcibly remount, call drive.mount(\"/content/drive\", force_remount=True).\n"
          ]
        }
      ]
    },
    {
      "cell_type": "code",
      "metadata": {
        "id": "8HX77jscX2zV",
        "colab": {
          "base_uri": "https://localhost:8080/"
        },
        "outputId": "34fdafe8-22f7-40bb-c25a-5e2839946652"
      },
      "source": [
        "import os\n",
        "if os.path.isdir(\"/content/drive/MyDrive/colab-sg2-aydao\"):\n",
        "    %cd \"/content/drive/MyDrive/colab-sg2-aydao/stylegan2-surgery\"\n",
        "else:\n",
        "    #install script\n",
        "    %cd \"/content/drive/MyDrive/\"\n",
        "    !mkdir colab-sg2-aydao\n",
        "    %cd colab-sg2-aydao\n",
        "    !git clone --branch model-release https://github.com/aydao/stylegan2-surgery.git\n",
        "#    !git clone --branch tpu https://github.com/shawwn/stylegan2.git\n",
        "#    !git clone https://github.com/dvschultz/stylegan2-ada\n",
        "    %cd stylegan2-surgery\n",
        "    !mkdir downloads\n",
        "    !mkdir datasets"
      ],
      "execution_count": null,
      "outputs": [
        {
          "output_type": "stream",
          "name": "stdout",
          "text": [
            "/content/drive/MyDrive/colab-sg2-aydao/stylegan2-surgery\n"
          ]
        }
      ]
    },
    {
      "cell_type": "code",
      "metadata": {
        "id": "szPbAXEs4QQu",
        "colab": {
          "base_uri": "https://localhost:8080/"
        },
        "outputId": "97db0a39-7390-4452-96f6-f08e66e58caa"
      },
      "source": [
        "!gcloud auth login"
      ],
      "execution_count": null,
      "outputs": [
        {
          "output_type": "stream",
          "name": "stdout",
          "text": [
            "Go to the following link in your browser:\n",
            "\n",
            "    https://accounts.google.com/o/oauth2/auth?response_type=code&client_id=32555940559.apps.googleusercontent.com&redirect_uri=urn%3Aietf%3Awg%3Aoauth%3A2.0%3Aoob&scope=openid+https%3A%2F%2Fwww.googleapis.com%2Fauth%2Fuserinfo.email+https%3A%2F%2Fwww.googleapis.com%2Fauth%2Fcloud-platform+https%3A%2F%2Fwww.googleapis.com%2Fauth%2Fappengine.admin+https%3A%2F%2Fwww.googleapis.com%2Fauth%2Fcompute+https%3A%2F%2Fwww.googleapis.com%2Fauth%2Faccounts.reauth&state=ht2h9v0Fis6Oz1Hy6lhC4DJHfQMLm8&prompt=consent&access_type=offline&code_challenge=v6oO1Z-cmtCk58cevlkHGHzFbyu7eX1PLUZKJhkvFIU&code_challenge_method=S256\n",
            "\n",
            "Enter verification code: 4/1AX4XfWgVurfTL0uFCYALI66ShvkNSqG01XtonHaKGQo6Zo00CaBZuYVk5Ts\n",
            "\n",
            "You are now logged in as [dmitry.sukhoruchkin@neuroidss.ru].\n",
            "Your current project is [encoded-phalanx-326615].  You can change this setting by running:\n",
            "  $ gcloud config set project PROJECT_ID\n"
          ]
        }
      ]
    },
    {
      "cell_type": "code",
      "metadata": {
        "id": "cX26dVUt4nEN",
        "colab": {
          "base_uri": "https://localhost:8080/"
        },
        "outputId": "2ec60443-5a78-4e65-9f06-0a0f7ffa9985"
      },
      "source": [
        "project_id = 'encoded-phalanx-326615'\n",
        "!gcloud config set project {project_id}"
      ],
      "execution_count": null,
      "outputs": [
        {
          "output_type": "stream",
          "name": "stdout",
          "text": [
            "Updated property [core/project].\n"
          ]
        }
      ]
    },
    {
      "cell_type": "code",
      "metadata": {
        "id": "mKYa6bo9nVhT",
        "colab": {
          "base_uri": "https://localhost:8080/"
        },
        "outputId": "21c29e47-0e22-4a27-de6a-3f5e6eae68a9"
      },
      "source": [
        "  import os\n",
        "  import tensorflow.compat.v1 as tf\n",
        "  tf.disable_eager_execution()\n",
        "  import pprint\n",
        "  assert 'COLAB_TPU_ADDR' in os.environ, 'Did you forget to switch to TPU?'\n",
        "  tpu_address = 'grpc://' + os.environ['COLAB_TPU_ADDR']\n",
        "\n",
        "  with tf.Session(tpu_address) as sess:\n",
        "    devices = sess.list_devices()\n",
        "  pprint.pprint(devices)\n",
        "  device_is_tpu = [True if 'TPU' in str(x) else False for x in devices]\n",
        "  assert True in device_is_tpu, 'Did you forget to switch to TPU?'\n"
      ],
      "execution_count": null,
      "outputs": [
        {
          "output_type": "stream",
          "name": "stdout",
          "text": [
            "[_DeviceAttributes(/job:tpu_worker/replica:0/task:0/device:CPU:0, CPU, -1, 406546667106789048),\n",
            " _DeviceAttributes(/job:tpu_worker/replica:0/task:0/device:XLA_CPU:0, XLA_CPU, 17179869184, 2877460493998170646),\n",
            " _DeviceAttributes(/job:tpu_worker/replica:0/task:0/device:TPU:0, TPU, 17179869184, 3528527877916949079),\n",
            " _DeviceAttributes(/job:tpu_worker/replica:0/task:0/device:TPU:1, TPU, 17179869184, 13948267232396557641),\n",
            " _DeviceAttributes(/job:tpu_worker/replica:0/task:0/device:TPU:2, TPU, 17179869184, 4939436116134037769),\n",
            " _DeviceAttributes(/job:tpu_worker/replica:0/task:0/device:TPU:3, TPU, 17179869184, 3917744696469444506),\n",
            " _DeviceAttributes(/job:tpu_worker/replica:0/task:0/device:TPU:4, TPU, 17179869184, 13971207945454685132),\n",
            " _DeviceAttributes(/job:tpu_worker/replica:0/task:0/device:TPU:5, TPU, 17179869184, 5205007501237653711),\n",
            " _DeviceAttributes(/job:tpu_worker/replica:0/task:0/device:TPU:6, TPU, 17179869184, 1908896186269554036),\n",
            " _DeviceAttributes(/job:tpu_worker/replica:0/task:0/device:TPU:7, TPU, 17179869184, 11335889624660088591),\n",
            " _DeviceAttributes(/job:tpu_worker/replica:0/task:0/device:TPU_SYSTEM:0, TPU_SYSTEM, 8589934592, 2214800022789463443)]\n"
          ]
        }
      ]
    },
    {
      "cell_type": "code",
      "metadata": {
        "id": "bdHhaWHNozuO"
      },
      "source": [
        "#print(tpu_address)"
      ],
      "execution_count": null,
      "outputs": []
    },
    {
      "cell_type": "code",
      "metadata": {
        "id": "1O-W_vFV71Ak"
      },
      "source": [
        "GCP_PROJECT_ID = 'encoded-phalanx-326615'\n",
        "PROJECT_NUMBER = '0'\n"
      ],
      "execution_count": null,
      "outputs": []
    },
    {
      "cell_type": "code",
      "metadata": {
        "id": "uglki5VV8WUb",
        "colab": {
          "base_uri": "https://localhost:8080/"
        },
        "outputId": "b1f7af26-4518-414b-d624-55acda3e7994"
      },
      "source": [
        "!gcloud services --project $GCP_PROJECT_ID enable ml.googleapis.com cloudbuild.googleapis.com\n"
      ],
      "execution_count": null,
      "outputs": [
        {
          "output_type": "stream",
          "name": "stdout",
          "text": [
            "Operation \"operations/acf.p2-174339478235-2100883d-788d-41cb-8084-0dbf188e70b1\" finished successfully.\n"
          ]
        }
      ]
    },
    {
      "cell_type": "code",
      "metadata": {
        "id": "ozD5WxTy62n-"
      },
      "source": [
        "from google.colab import auth\n",
        "auth.authenticate_user()"
      ],
      "execution_count": null,
      "outputs": []
    },
    {
      "cell_type": "markdown",
      "metadata": {
        "id": "GVW-sBkIoqZc"
      },
      "source": [
        "# dataset preparation"
      ]
    },
    {
      "cell_type": "code",
      "metadata": {
        "id": "8JUP51nJdEjz"
      },
      "source": [
        "#if you manually uploaded your dataset to Colab, unzip it\n",
        "zip_path = \"/content/drive/MyDrive/sq-512.zip\"\n",
        "\n",
        "!unzip {zip_path} -d /content/"
      ],
      "execution_count": null,
      "outputs": []
    },
    {
      "cell_type": "code",
      "metadata": {
        "id": "T-BZHhBe7AvO"
      },
      "source": [
        "#update this to the path to your image folder\n",
        "dataset_path = \"/content/sq-512\"\n",
        "#give your dataset a name\n",
        "dataset_name = \"sq-512\"\n",
        "\n",
        "#you don't need to edit anything here\n",
        "#!python dataset_tool.py create_from_images ./datasets/{dataset_name} {dataset_path}\n",
        "#!python dataset_tool.py create_from_images gs://train_with_tpu/datasets/{dataset_name} {dataset_path}\n",
        "!python dataset_tool.py create_aydao gs://train_with_tpu/datasets_aydao {dataset_path} {dataset_name} 512 512\n"
      ],
      "execution_count": null,
      "outputs": []
    },
    {
      "cell_type": "code",
      "metadata": {
        "id": "O-07patX0dvh"
      },
      "source": [
        "#!gsutil cp -r /content/drive/MyDrive/colab-sg2-aydao/stylegan2-surgery/datasets/* gs://train_with_tpu/datasets/\n"
      ],
      "execution_count": null,
      "outputs": []
    },
    {
      "cell_type": "code",
      "metadata": {
        "colab": {
          "base_uri": "https://localhost:8080/"
        },
        "id": "aYTYh3I-ymdU",
        "outputId": "aa0e889a-5046-41bf-a500-9a146ccbef1e"
      },
      "source": [
        "!gsutil cp -r /content/drive/MyDrive/colab-sg2-aydao-gpu/stylegan2/datasets/* gs://train_with_tpu/datasets/\n"
      ],
      "execution_count": null,
      "outputs": [
        {
          "output_type": "stream",
          "name": "stdout",
          "text": [
            "Copying file:///content/drive/MyDrive/colab-sg2-aydao-gpu/stylegan2/datasets/sq-512/sq-512-r08.tfrecords [Content-Type=application/octet-stream]...\n",
            "/ [0 files][    0.0 B/375.3 MiB]                                                \r==> NOTE: You are uploading one or more large file(s), which would run\n",
            "significantly faster if you enable parallel composite uploads. This\n",
            "feature can be enabled by editing the\n",
            "\"parallel_composite_upload_threshold\" value in your .boto\n",
            "configuration file. However, note that if you do this large files will\n",
            "be uploaded as `composite objects\n",
            "<https://cloud.google.com/storage/docs/composite-objects>`_,which\n",
            "means that any user who downloads such objects will need to have a\n",
            "compiled crcmod installed (see \"gsutil help crcmod\"). This is because\n",
            "without a compiled crcmod, computing checksums on composite objects is\n",
            "so slow that gsutil disables downloads of composite objects.\n",
            "\n",
            "Copying file:///content/drive/MyDrive/colab-sg2-aydao-gpu/stylegan2/datasets/sq-512/sq-512-r07.tfrecords [Content-Type=application/octet-stream]...\n",
            "Copying file:///content/drive/MyDrive/colab-sg2-aydao-gpu/stylegan2/datasets/sq-512/sq-512-r02.tfrecords [Content-Type=application/octet-stream]...\n",
            "Copying file:///content/drive/MyDrive/colab-sg2-aydao-gpu/stylegan2/datasets/sq-512/sq-512-r03.tfrecords [Content-Type=application/octet-stream]...\n",
            "/\n",
            "==> NOTE: You are performing a sequence of gsutil operations that may\n",
            "run significantly faster if you instead use gsutil -m cp ... Please\n",
            "see the -m section under \"gsutil help options\" for further information\n",
            "about when gsutil -m can be advantageous.\n",
            "\n",
            "Copying file:///content/drive/MyDrive/colab-sg2-aydao-gpu/stylegan2/datasets/sq-512/sq-512-r04.tfrecords [Content-Type=application/octet-stream]...\n",
            "Copying file:///content/drive/MyDrive/colab-sg2-aydao-gpu/stylegan2/datasets/sq-512/sq-512-r06.tfrecords [Content-Type=application/octet-stream]...\n",
            "Copying file:///content/drive/MyDrive/colab-sg2-aydao-gpu/stylegan2/datasets/sq-512/sq-512-r05.tfrecords [Content-Type=application/octet-stream]...\n",
            "Copying file:///content/drive/MyDrive/colab-sg2-aydao-gpu/stylegan2/datasets/sq-512/sq-512-r09.tfrecords [Content-Type=application/octet-stream]...\n",
            "-\n",
            "Operation completed over 8 objects/2.0 GiB.                                      \n"
          ]
        }
      ]
    },
    {
      "cell_type": "markdown",
      "metadata": {
        "id": "JP00VloYrPKK"
      },
      "source": [
        "# initial network preparation"
      ]
    },
    {
      "cell_type": "code",
      "metadata": {
        "id": "NaXl2HsqrLtY"
      },
      "source": [
        "!gsutil cp -r /content/drive/MyDrive/2020-11-27-aydao-stylegan2ext-danbooru2019s-512px-5268480.pkl gs://train_with_tpu/models/"
      ],
      "execution_count": null,
      "outputs": []
    },
    {
      "cell_type": "code",
      "metadata": {
        "id": "nG7MmHIqaw9H"
      },
      "source": [
        "!python convert_pkl_to_ckpt.py --tpu_address={tpu_address} --ckpt_model_dir gs://train_with_tpu/networks_aydao_converted/sq-512 --input_pkl gs://train_with_tpu/models/2020-11-27-aydao-stylegan2ext-danbooru2019s-512px-5268480.pkl"
      ],
      "execution_count": null,
      "outputs": []
    },
    {
      "cell_type": "code",
      "metadata": {
        "id": "O40pfvSE50T6"
      },
      "source": [
        "#!python copy_weights_portable.py /content/drive/MyDrive/2020-11-27-aydao-stylegan2ext-danbooru2019s-512px-5268480.pkl ./model.ckpt-1024.pkl"
      ],
      "execution_count": null,
      "outputs": []
    },
    {
      "cell_type": "code",
      "metadata": {
        "id": "SsfGy42Lgw6E"
      },
      "source": [
        "#!python convert_pkl_to_ckpt.py --ckpt_model_dir /content/drive/MyDrive/models/sq-256 --input_pkl ./network-copyover.pkl\n",
        "#!python convert_pkl_to_ckpt.py --ckpt_model_dir /content/drive/MyDrive//models/sq-256 --input_pkl /content/drive/MyDrive/2020-11-27-aydao-stylegan2ext-danbooru2019s-256px-5268480.pkl\n"
      ],
      "execution_count": null,
      "outputs": []
    },
    {
      "cell_type": "code",
      "metadata": {
        "id": "ENRk2oGxjGzN"
      },
      "source": [
        "#!gsutil cp -r /content/drive/MyDrive/models/sq-256/* gs://train_with_tpu/networks_aydao/sq-256"
      ],
      "execution_count": null,
      "outputs": []
    },
    {
      "cell_type": "code",
      "metadata": {
        "id": "WPiCOwpnfZn4"
      },
      "source": [
        "#!python convert_pkl_to_ckpt.py --tpu_address {tpu_address} --ckpt_model_dir gs://train_with_tpu/models/sq-256 --input_pkl gs://train_with_tpu/models/2020-11-27-aydao-stylegan2ext-danbooru2019s-256px-5268480.pkl"
      ],
      "execution_count": null,
      "outputs": []
    },
    {
      "cell_type": "markdown",
      "metadata": {
        "id": "wff484pGo0vs"
      },
      "source": [
        "# training"
      ]
    },
    {
      "cell_type": "code",
      "metadata": {
        "id": "8aOSvbhspQNs"
      },
      "source": [
        "!chmod 777 -R ./tpu_config.sh\n",
        "!export TPU_HOST={tpu_address} # placeholder -- refer to shawwn's tpu code\n",
        "!export TPU_NAME={tpu_address} # placeholder -- refer to shawwn's tpu code\n",
        "#!export WARM_START_CHECKPOINT_PATH='gs://train_with_tpu/networks_aydao_converted/sq-512'\n",
        "\n",
        "!./tpu_config.sh"
      ],
      "execution_count": null,
      "outputs": []
    },
    {
      "cell_type": "markdown",
      "metadata": {
        "id": "7K1s4XlepHDg"
      },
      "source": [
        "# post-training"
      ]
    },
    {
      "cell_type": "code",
      "metadata": {
        "id": "bagTImqxTGtz"
      },
      "source": [
        "!python convert_ckpt_to_pkl.py --tpu_address={tpu_address} --output_pkl_dir gs://train_with_tpu/networks_aydao/ --ckpt_model_dir gs://train_with_tpu/networks_aydao/sq-512 --reference_pkl gs://train_with_tpu/models/2020-11-27-aydao-stylegan2ext-danbooru2019s-512px-5268480.pkl"
      ],
      "execution_count": null,
      "outputs": []
    },
    {
      "cell_type": "code",
      "metadata": {
        "id": "rgeFKXLtbfPY",
        "colab": {
          "base_uri": "https://localhost:8080/"
        },
        "outputId": "7f0708d9-e4ec-412f-f892-b39fd9874650"
      },
      "source": [
        "!gsutil cp -r gs://train_with_tpu/networks_aydao/model.ckpt-16384.pkl /content/drive/MyDrive/networks_aydao/model.ckpt-latest.pkl"
      ],
      "execution_count": null,
      "outputs": [
        {
          "output_type": "stream",
          "name": "stdout",
          "text": [
            "Copying gs://train_with_tpu/networks_aydao/model.ckpt-16384.pkl...\n",
            "/ [1 files][ 1007 MiB/ 1007 MiB]   84.6 MiB/s                                   \n",
            "Operation completed over 1 objects/1007.6 MiB.                                   \n"
          ]
        }
      ]
    },
    {
      "cell_type": "code",
      "metadata": {
        "id": "jLEjwp5WT2nB"
      },
      "source": [
        "#!gsutil cp -r gs://train_with_tpu/networks_aydao/model.ckpt-0* /content/drive/MyDrive/networks_aydao/"
      ],
      "execution_count": null,
      "outputs": []
    },
    {
      "cell_type": "code",
      "metadata": {
        "id": "_NYCoWQut-U0"
      },
      "source": [
        "#!gsutil cp -r gs://train_with_tpu/models/sq-256/model.ckpt-1024* /content/drive/MyDrive/networks_aydao/sq-256/"
      ],
      "execution_count": null,
      "outputs": []
    },
    {
      "cell_type": "code",
      "metadata": {
        "id": "Jo3eOXT1uePN"
      },
      "source": [
        "#!gsutil cp -r gs://train_with_tpu/networks_aydao/sq-256/* /content/drive/MyDrive/networks_aydao/sq-256/"
      ],
      "execution_count": null,
      "outputs": []
    },
    {
      "cell_type": "code",
      "metadata": {
        "id": "eFhnwoouvkQj"
      },
      "source": [
        "#!gsutil cp -r /content/drive/MyDrive/networks_aydao/sq-256/* gs://train_with_tpu/networks_aydao/sq-256/"
      ],
      "execution_count": null,
      "outputs": []
    },
    {
      "cell_type": "code",
      "metadata": {
        "id": "FWPrif9Duorq"
      },
      "source": [
        "#!export TPU_HOST=grpc://10.120.9.58:8470 # placeholder -- refer to shawwn's tpu code\n",
        "#!export TPU_NAME=grpc://10.120.9.58:8470 # placeholder -- refer to shawwn's tpu code\n",
        "\n",
        "#!python convert_ckpt_to_pkl.py --tpu_address={tpu_address} --output_pkl_dir gs://train_with_tpu/networks_aydao/ --ckpt_model_dir gs://train_with_tpu/networks_aydao/sq-256 --reference_pkl gs://train_with_tpu/models/2020-11-27-aydao-stylegan2ext-danbooru2019s-256px-5268480.pkl"
      ],
      "execution_count": null,
      "outputs": []
    },
    {
      "cell_type": "code",
      "metadata": {
        "id": "yu7RxZ97NUgk"
      },
      "source": [
        "#!python convert_ckpt_to_pkl.py --ckpt_model_dir /content/drive/MyDrive/networks_aydao/sq-256 --reference_pkl /content/drive/MyDrive/2020-11-27-aydao-stylegan2ext-danbooru2019s-256px-5268480.pkl"
      ],
      "execution_count": null,
      "outputs": []
    },
    {
      "cell_type": "code",
      "metadata": {
        "id": "zUyQtz9UhdPO"
      },
      "source": [
        "#!python convert_pkl_to_ckpt.py --tpu_address={tpu_address} --ckpt_model_dir gs://train_with_tpu/networks_aydao_converted/sq-256 --input_pkl gs://train_with_tpu/networks_aydao/model.ckpt-0.pkl"
      ],
      "execution_count": null,
      "outputs": []
    },
    {
      "cell_type": "code",
      "metadata": {
        "id": "0kb-EEMvoQf1"
      },
      "source": [
        "#!python convert_pkl_to_ckpt.py --tpu_address={tpu_address} --ckpt_model_dir gs://train_with_tpu/networks_aydao_converted/sq-256 --input_pkl gs://train_with_tpu/models/2020-11-27-aydao-stylegan2ext-danbooru2019s-256px-5268480.pkl --kimg 5268480"
      ],
      "execution_count": null,
      "outputs": []
    },
    {
      "cell_type": "code",
      "metadata": {
        "id": "AXK6xQ633mRx"
      },
      "source": [
        "#!python convert_pkl_to_ckpt.py --tpu_address={tpu_address} --ckpt_model_dir gs://train_with_tpu/networks_aydao_converted/sq-512 --input_pkl gs://train_with_tpu/models/2020-11-27-aydao-stylegan2ext-danbooru2019s-512px-5268480.pkl --kimg 5268480"
      ],
      "execution_count": null,
      "outputs": []
    },
    {
      "cell_type": "code",
      "metadata": {
        "id": "yiIBpCuUmRh2"
      },
      "source": [
        "configuration in tpu_config.sh\n",
        "#!/bin/bash\n",
        "set -e\n",
        "\n",
        "\n",
        "#\n",
        "#\n",
        "#   ~~ aydao tpu config ~~\n",
        "#   ~~~   aydao 2020   ~~~\n",
        "#\n",
        "#   Massive credit to shawwn, gwern, arfa, l4rz\n",
        "#   tensorfork more broadly, and the \"tpu podcast\" discord\n",
        "#\n",
        "#\n",
        "#\n",
        "# This is the mega-long run trained on danbooru2019-s (512px)\n",
        "#   basis was shawwn's stable tpu branch of the stylegan2 fork\n",
        "#   https://github.com/shawwn/stylegan2/tree/working\n",
        "#\n",
        "# MAJOR CHANGES TO ARCHITECTURE / TRAINING:\n",
        "#   set G loss to G_logistic_ns (that is, no pathreg)\n",
        "#   turn off stylemixing, in G_main \n",
        "#       style_mixing_prob       = None,\n",
        "#   increase BOTH latentsize and dlatent size to 1024 \n",
        "#   normalize_latents set to False\n",
        "#   only four mapping layers in G_mapping\n",
        "#   increase fmaps in G:\n",
        "#       fmap_base           = 32 << 10\n",
        "#       fmap_max            1024\n",
        "#   mbstd_group_size    set to 32\n",
        "#   mbstd_num_features  set to 4\n",
        "#   set gamma to 5.0 (used to be  --gamma=10.0, lowered at ~4 million)\n",
        "#   learning rate lowered late in training (see below)\n",
        "#   topk added at ~2.3 million\n",
        "#   switched from RANDOM_CROP to TOP_CROP at 4.5 million\n",
        "#   no noconst (just normal const ... lol I thought it was noconst, oh well)\n",
        "#   did not use mirror augmentation\n",
        "#   used figures, portraits, and hand data augmentation (PALM and the rest) \n",
        "#       https://www.gwern.net/Crops\n",
        "#   (data augs were added fairly early in training)\n",
        "#\n",
        "#\n",
        "\n",
        "export LD_LIBRARY_PATH=\"${LD_LIBRARY_PATH:-/tfk/lib}\"\n",
        "\n",
        "export NOISY=1\n",
        "export DEBUG=1\n",
        "\n",
        "config=\"config-f\" # StyleGAN 2\n",
        "\n",
        "export IMAGENET_UNCONDITIONAL=1\n",
        "export LABEL_SIZE=0\n",
        "export LABEL_BIAS=0\n",
        "export CROP_PADDING=0\n",
        "# export RANDOM_CROP=1 # Note: this was enabled for the first ~4.5 million \n",
        "export TOP_CROP=1 # Note: this was enabled starting at 4.5 million\n",
        "export G_LR=0.0004 # Note: started at export G_LR=0.002 for first ~3 million\n",
        "export D_LR=0.0003 # Note: started at export D_LR=0.002 for first ~3 million\n",
        "export G_LR_MULT=1.0\n",
        "export D_LR_MULT=1.0\n",
        "\n",
        "data_dir='gs://train_with_tpu/datasets' # placeholder -- refer to shawwn's tpu code\n",
        "#data_dir='gs://train_with_tpu/datasets_aydao' # placeholder -- refer to shawwn's tpu code\n",
        "#dataset=sq-256 # placeholder -- refer to shawwn's tpu code\n",
        "dataset=sq-512 # placeholder -- refer to shawwn's tpu code\n",
        "mirror=false # Note: this was false for the entire training\n",
        "metrics=none\n",
        "\n",
        "export TPU_SPLIT_COMPILE_AND_EXECUTE=1\n",
        "export TF_TPU_WATCHDOG_TIMEOUT=1800\n",
        "#export TPU_HOST=grpc://10.101.159.26:8470 # placeholder -- refer to shawwn's tpu code\n",
        "#export TPU_NAME=grpc://10.101.159.26:8470 # placeholder -- refer to shawwn's tpu code\n",
        "cores=8\n",
        "\n",
        "#export WARM_START_CHECKPOINT_PATH='gs://train_with_tpu/networks_aydao_converted/sq-256'\n",
        "export WARM_START_CHECKPOINT_PATH='gs://train_with_tpu/networks_aydao_converted/sq-512'\n",
        "\n",
        "#export IMAGENET_TFRECORD_DATASET='gs://train_with_tpu/datasets/sq-512'\n",
        "export MODEL_DIR='gs://train_with_tpu/networks_aydao/sq-512'\n",
        "#export MODEL_DIR='gs://train_with_tpu/networks_aydao/sq-256'\n",
        "export BATCH_PER=2\n",
        "#export BATCH_PER=4\n",
        "#export BATCH_PER=1\n",
        "export BATCH_SIZE=$(($BATCH_PER * $cores))\n",
        "#export RESOLUTION=256\n",
        "export RESOLUTION=512\n",
        "\n",
        "set -x\n",
        "python run_training.py --num-gpus=\"${cores}\" --data-dir \"${data_dir}\" --config=\"${config}\" --dataset=\"${dataset}\" --gamma=5.0 --mirror-augment=\"${mirror}\" --metrics=\"${metrics}\" \"$@\""
      ],
      "execution_count": null,
      "outputs": []
    }
  ]
}