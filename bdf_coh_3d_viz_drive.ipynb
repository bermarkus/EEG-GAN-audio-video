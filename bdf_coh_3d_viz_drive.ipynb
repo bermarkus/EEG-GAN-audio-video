{
  "nbformat": 4,
  "nbformat_minor": 0,
  "metadata": {
    "colab": {
      "name": "bdf_coh_3d_viz_drive.ipynb",
      "provenance": [],
      "collapsed_sections": [
        "uqrQxAS9a0AR"
      ],
      "authorship_tag": "ABX9TyNoN/7l75HbVprMoKdsdj5H",
      "include_colab_link": true
    },
    "kernelspec": {
      "name": "python3",
      "display_name": "Python 3"
    },
    "language_info": {
      "name": "python"
    }
  },
  "cells": [
    {
      "cell_type": "markdown",
      "metadata": {
        "id": "view-in-github",
        "colab_type": "text"
      },
      "source": [
        "<a href=\"https://colab.research.google.com/github/neuroidss/EEG-GAN-audio-video/blob/main/bdf_coh_3d_viz_drive.ipynb\" target=\"_parent\"><img src=\"https://colab.research.google.com/assets/colab-badge.svg\" alt=\"Open In Colab\"/></a>"
      ]
    },
    {
      "cell_type": "markdown",
      "source": [
        "# Init"
      ],
      "metadata": {
        "id": "uqrQxAS9a0AR"
      }
    },
    {
      "cell_type": "code",
      "source": [
        "  import os\n",
        "  if 'COLAB_GPU' in os.environ:\n",
        "    print(\"I'm running on Colab\")\n",
        "    from google.colab import drive\n",
        "    drive.mount('/content/drive', force_remount=True)\n",
        "  else:\n",
        "    !mkdir /content/drive\n",
        "    !mkdir /content/drive/MyDrive\n"
      ],
      "metadata": {
        "colab": {
          "base_uri": "https://localhost:8080/"
        },
        "id": "xrEwaCJWST5k",
        "outputId": "89259344-a0df-417d-96f8-6414230a7435"
      },
      "execution_count": 1,
      "outputs": [
        {
          "output_type": "stream",
          "name": "stdout",
          "text": [
            "I'm running on Colab\n",
            "Mounted at /content/drive\n"
          ]
        }
      ]
    },
    {
      "cell_type": "code",
      "source": [
        "import os\n",
        "drive_path = '/content/drive/MyDrive/'\n",
        "repo_container_dir = 'neuroidss'\n",
        "repo_name = 'EEG-GAN-audio-video'\n",
        "git_repo = 'https://github.com/'+repo_container_dir+'/'+repo_name+'.git'\n",
        "#git_repo = 'https://github.com/neuroidss/EEG-GAN-audio-video.git'\n",
        "branch_name = 'main'\n",
        "\n",
        "working_dir = os.path.join(drive_path, repo_container_dir, repo_name)#, branch_name)\n",
        "\n",
        "if os.path.isdir(working_dir):\n",
        "  %cd {working_dir}\n",
        "else:\n",
        "  container_path = os.path.join(drive_path, repo_container_dir)\n",
        "  if not os.path.isdir(container_path):\n",
        "    os.makedirs(container_path)\n",
        "  %cd {container_path}\n",
        "  !git clone --branch {branch_name} {git_repo}\n",
        "  %cd {repo_name}"
      ],
      "metadata": {
        "colab": {
          "base_uri": "https://localhost:8080/"
        },
        "id": "YWe3mMUOhqDb",
        "outputId": "3005c825-8271-438a-bd71-0fae9be56125"
      },
      "execution_count": 2,
      "outputs": [
        {
          "output_type": "stream",
          "name": "stdout",
          "text": [
            "/content/drive/MyDrive/neuroidss/EEG-GAN-audio-video\n"
          ]
        }
      ]
    },
    {
      "cell_type": "code",
      "source": [
        "!pip install mne==0.23.3\n",
        "!pip install pandas\n",
        "!pip install matplotlib"
      ],
      "metadata": {
        "colab": {
          "base_uri": "https://localhost:8080/"
        },
        "id": "HqFeh_EYhDdy",
        "outputId": "2a2cb15c-ba74-4265-d2fd-7e9787cafced"
      },
      "execution_count": 3,
      "outputs": [
        {
          "output_type": "stream",
          "name": "stdout",
          "text": [
            "Looking in indexes: https://pypi.org/simple, https://us-python.pkg.dev/colab-wheels/public/simple/\n",
            "Collecting mne==0.23.3\n",
            "  Downloading mne-0.23.3-py3-none-any.whl (6.9 MB)\n",
            "\u001b[K     |████████████████████████████████| 6.9 MB 17.0 MB/s \n",
            "\u001b[?25hRequirement already satisfied: scipy>=1.1.0 in /usr/local/lib/python3.7/dist-packages (from mne==0.23.3) (1.7.3)\n",
            "Requirement already satisfied: numpy>=1.15.4 in /usr/local/lib/python3.7/dist-packages (from mne==0.23.3) (1.21.6)\n",
            "Installing collected packages: mne\n",
            "Successfully installed mne-0.23.3\n",
            "Looking in indexes: https://pypi.org/simple, https://us-python.pkg.dev/colab-wheels/public/simple/\n",
            "Requirement already satisfied: pandas in /usr/local/lib/python3.7/dist-packages (1.3.5)\n",
            "Requirement already satisfied: numpy>=1.17.3 in /usr/local/lib/python3.7/dist-packages (from pandas) (1.21.6)\n",
            "Requirement already satisfied: pytz>=2017.3 in /usr/local/lib/python3.7/dist-packages (from pandas) (2022.1)\n",
            "Requirement already satisfied: python-dateutil>=2.7.3 in /usr/local/lib/python3.7/dist-packages (from pandas) (2.8.2)\n",
            "Requirement already satisfied: six>=1.5 in /usr/local/lib/python3.7/dist-packages (from python-dateutil>=2.7.3->pandas) (1.15.0)\n",
            "Looking in indexes: https://pypi.org/simple, https://us-python.pkg.dev/colab-wheels/public/simple/\n",
            "Requirement already satisfied: matplotlib in /usr/local/lib/python3.7/dist-packages (3.2.2)\n",
            "Requirement already satisfied: python-dateutil>=2.1 in /usr/local/lib/python3.7/dist-packages (from matplotlib) (2.8.2)\n",
            "Requirement already satisfied: pyparsing!=2.0.4,!=2.1.2,!=2.1.6,>=2.0.1 in /usr/local/lib/python3.7/dist-packages (from matplotlib) (3.0.9)\n",
            "Requirement already satisfied: kiwisolver>=1.0.1 in /usr/local/lib/python3.7/dist-packages (from matplotlib) (1.4.4)\n",
            "Requirement already satisfied: numpy>=1.11 in /usr/local/lib/python3.7/dist-packages (from matplotlib) (1.21.6)\n",
            "Requirement already satisfied: cycler>=0.10 in /usr/local/lib/python3.7/dist-packages (from matplotlib) (0.11.0)\n",
            "Requirement already satisfied: typing-extensions in /usr/local/lib/python3.7/dist-packages (from kiwisolver>=1.0.1->matplotlib) (4.1.1)\n",
            "Requirement already satisfied: six>=1.5 in /usr/local/lib/python3.7/dist-packages (from python-dateutil>=2.1->matplotlib) (1.15.0)\n"
          ]
        }
      ]
    },
    {
      "cell_type": "code",
      "source": [
        "def download_file_from_google_drive(file_id,dest_path):\n",
        "  import os.path\n",
        "  if not os.path.isfile(dest_path):  \n",
        "    !mkdir -p $(dirname {dest_path})\n",
        "    !wget --save-cookies cookies.txt 'https://docs.google.com/uc?export=download&id='{file_id} -O- | sed -rn 's/.*confirm=([0-9A-Za-z_]+).*/\\1/p' > confirm.txt\n",
        "    !wget --load-cookies cookies.txt -O {dest_path} 'https://docs.google.com/uc?export=download&id='{file_id}'&confirm='$(<confirm.txt)"
      ],
      "metadata": {
        "id": "EgVzSmVUhrzz"
      },
      "execution_count": 4,
      "outputs": []
    },
    {
      "cell_type": "code",
      "source": [
        "!mkdir /content/drive/MyDrive/{repo_container_dir}/{repo_name}/eeg\n",
        "!ln -s /content/drive/MyDrive/{repo_container_dir}/{repo_name}/eeg /content/eeg\n"
      ],
      "metadata": {
        "id": "5gYaa5pIhpwU",
        "colab": {
          "base_uri": "https://localhost:8080/"
        },
        "outputId": "61b90414-7b05-4799-9087-f864a8d7204d"
      },
      "execution_count": 5,
      "outputs": [
        {
          "output_type": "stream",
          "name": "stdout",
          "text": [
            "mkdir: cannot create directory ‘/content/drive/MyDrive/neuroidss/EEG-GAN-audio-video/eeg’: File exists\n"
          ]
        }
      ]
    },
    {
      "cell_type": "code",
      "source": [
        "  !pip install Pillow\n",
        "  import PIL.Image \n",
        "  !pip install tqdm\n",
        "  from tqdm import tqdm\n",
        "  !pip install imageio==2.4.1\n",
        "  !pip install imageio-ffmpeg==0.4.3 pyspng==0.1.0\n"
      ],
      "metadata": {
        "colab": {
          "base_uri": "https://localhost:8080/"
        },
        "id": "3is4BjHAi1MK",
        "outputId": "8a99f1bf-9973-4fdb-8a9e-8133e9e346ce"
      },
      "execution_count": 6,
      "outputs": [
        {
          "output_type": "stream",
          "name": "stdout",
          "text": [
            "Looking in indexes: https://pypi.org/simple, https://us-python.pkg.dev/colab-wheels/public/simple/\n",
            "Requirement already satisfied: Pillow in /usr/local/lib/python3.7/dist-packages (7.1.2)\n",
            "Looking in indexes: https://pypi.org/simple, https://us-python.pkg.dev/colab-wheels/public/simple/\n",
            "Requirement already satisfied: tqdm in /usr/local/lib/python3.7/dist-packages (4.64.0)\n",
            "Looking in indexes: https://pypi.org/simple, https://us-python.pkg.dev/colab-wheels/public/simple/\n",
            "Requirement already satisfied: imageio==2.4.1 in /usr/local/lib/python3.7/dist-packages (2.4.1)\n",
            "Requirement already satisfied: numpy in /usr/local/lib/python3.7/dist-packages (from imageio==2.4.1) (1.21.6)\n",
            "Requirement already satisfied: pillow in /usr/local/lib/python3.7/dist-packages (from imageio==2.4.1) (7.1.2)\n",
            "Looking in indexes: https://pypi.org/simple, https://us-python.pkg.dev/colab-wheels/public/simple/\n",
            "Collecting imageio-ffmpeg==0.4.3\n",
            "  Downloading imageio_ffmpeg-0.4.3-py3-none-manylinux2010_x86_64.whl (26.9 MB)\n",
            "\u001b[K     |████████████████████████████████| 26.9 MB 1.4 MB/s \n",
            "\u001b[?25hCollecting pyspng==0.1.0\n",
            "  Downloading pyspng-0.1.0-cp37-cp37m-manylinux2010_x86_64.whl (195 kB)\n",
            "\u001b[K     |████████████████████████████████| 195 kB 52.8 MB/s \n",
            "\u001b[?25hRequirement already satisfied: numpy in /usr/local/lib/python3.7/dist-packages (from pyspng==0.1.0) (1.21.6)\n",
            "Installing collected packages: pyspng, imageio-ffmpeg\n",
            "Successfully installed imageio-ffmpeg-0.4.3 pyspng-0.1.0\n"
          ]
        }
      ]
    },
    {
      "cell_type": "code",
      "source": [
        "  !pip install mne_connectivity"
      ],
      "metadata": {
        "colab": {
          "base_uri": "https://localhost:8080/"
        },
        "id": "bnou3xWFjPu5",
        "outputId": "261e66d3-6e63-41bd-abd2-fc5c82d4d91c"
      },
      "execution_count": 7,
      "outputs": [
        {
          "output_type": "stream",
          "name": "stdout",
          "text": [
            "Looking in indexes: https://pypi.org/simple, https://us-python.pkg.dev/colab-wheels/public/simple/\n",
            "Collecting mne_connectivity\n",
            "  Downloading mne_connectivity-0.3-py3-none-any.whl (69 kB)\n",
            "\u001b[K     |████████████████████████████████| 69 kB 4.9 MB/s \n",
            "\u001b[?25hRequirement already satisfied: tqdm in /usr/local/lib/python3.7/dist-packages (from mne_connectivity) (4.64.0)\n",
            "Requirement already satisfied: mne in /usr/local/lib/python3.7/dist-packages (from mne_connectivity) (0.23.3)\n",
            "Requirement already satisfied: netCDF4 in /usr/local/lib/python3.7/dist-packages (from mne_connectivity) (1.6.0)\n",
            "Requirement already satisfied: scipy in /usr/local/lib/python3.7/dist-packages (from mne_connectivity) (1.7.3)\n",
            "Requirement already satisfied: pandas in /usr/local/lib/python3.7/dist-packages (from mne_connectivity) (1.3.5)\n",
            "Requirement already satisfied: numpy in /usr/local/lib/python3.7/dist-packages (from mne_connectivity) (1.21.6)\n",
            "Requirement already satisfied: xarray in /usr/local/lib/python3.7/dist-packages (from mne_connectivity) (0.20.2)\n",
            "Requirement already satisfied: cftime in /usr/local/lib/python3.7/dist-packages (from netCDF4->mne_connectivity) (1.6.1)\n",
            "Requirement already satisfied: python-dateutil>=2.7.3 in /usr/local/lib/python3.7/dist-packages (from pandas->mne_connectivity) (2.8.2)\n",
            "Requirement already satisfied: pytz>=2017.3 in /usr/local/lib/python3.7/dist-packages (from pandas->mne_connectivity) (2022.1)\n",
            "Requirement already satisfied: six>=1.5 in /usr/local/lib/python3.7/dist-packages (from python-dateutil>=2.7.3->pandas->mne_connectivity) (1.15.0)\n",
            "Requirement already satisfied: typing-extensions>=3.7 in /usr/local/lib/python3.7/dist-packages (from xarray->mne_connectivity) (4.1.1)\n",
            "Requirement already satisfied: importlib-metadata in /usr/local/lib/python3.7/dist-packages (from xarray->mne_connectivity) (4.12.0)\n",
            "Requirement already satisfied: zipp>=0.5 in /usr/local/lib/python3.7/dist-packages (from importlib-metadata->xarray->mne_connectivity) (3.8.1)\n",
            "Installing collected packages: mne-connectivity\n",
            "Successfully installed mne-connectivity-0.3\n"
          ]
        }
      ]
    },
    {
      "cell_type": "code",
      "source": [
        "#%mkdir /content/out\n",
        "#%mkdir /content/out/parts_out\n",
        "#%mkdir /content/out/parts"
      ],
      "metadata": {
        "id": "QzcLauffjsA6"
      },
      "execution_count": 8,
      "outputs": []
    },
    {
      "cell_type": "code",
      "source": [
        "%cd /content"
      ],
      "metadata": {
        "colab": {
          "base_uri": "https://localhost:8080/"
        },
        "id": "ZF6o5NJHnjI6",
        "outputId": "d7182d45-2f77-4c4a-9025-ad98a3a77bee"
      },
      "execution_count": 9,
      "outputs": [
        {
          "output_type": "stream",
          "name": "stdout",
          "text": [
            "/content\n"
          ]
        }
      ]
    },
    {
      "cell_type": "code",
      "source": [
        "!ln -s /content/drive/MyDrive/{repo_container_dir}/{repo_name}/bdf_coh_3d_viz.sh /content/bdf_coh_3d_viz.sh\n",
        "!ln -s /content/drive/MyDrive/{repo_container_dir}/{repo_name}/bdf_coh_3d_viz.py /content/bdf_coh_3d_viz.py\n",
        "!chmod +x /content/drive/MyDrive/{repo_container_dir}/{repo_name}/bdf_coh_3d_viz.sh\n"
      ],
      "metadata": {
        "id": "_IkoC7IvotmB"
      },
      "execution_count": 10,
      "outputs": []
    },
    {
      "cell_type": "code",
      "source": [
        "!pip install absl-py"
      ],
      "metadata": {
        "colab": {
          "base_uri": "https://localhost:8080/"
        },
        "id": "tyPbHPF_E01E",
        "outputId": "41afc0c6-4bdd-4e92-ed32-8c883f3740b5"
      },
      "execution_count": 11,
      "outputs": [
        {
          "output_type": "stream",
          "name": "stdout",
          "text": [
            "Looking in indexes: https://pypi.org/simple, https://us-python.pkg.dev/colab-wheels/public/simple/\n",
            "Requirement already satisfied: absl-py in /usr/local/lib/python3.7/dist-packages (1.2.0)\n"
          ]
        }
      ]
    },
    {
      "cell_type": "code",
      "source": [
        "!pip install --upgrade gdown"
      ],
      "metadata": {
        "id": "jY1-Vek0b3lK",
        "colab": {
          "base_uri": "https://localhost:8080/"
        },
        "outputId": "105cc53d-eb54-4e99-babe-b44a922e1bcd"
      },
      "execution_count": 12,
      "outputs": [
        {
          "output_type": "stream",
          "name": "stdout",
          "text": [
            "Looking in indexes: https://pypi.org/simple, https://us-python.pkg.dev/colab-wheels/public/simple/\n",
            "Requirement already satisfied: gdown in /usr/local/lib/python3.7/dist-packages (4.4.0)\n",
            "Collecting gdown\n",
            "  Downloading gdown-4.5.1.tar.gz (14 kB)\n",
            "  Installing build dependencies ... \u001b[?25l\u001b[?25hdone\n",
            "  Getting requirements to build wheel ... \u001b[?25l\u001b[?25hdone\n",
            "    Preparing wheel metadata ... \u001b[?25l\u001b[?25hdone\n",
            "Requirement already satisfied: beautifulsoup4 in /usr/local/lib/python3.7/dist-packages (from gdown) (4.6.3)\n",
            "Requirement already satisfied: requests[socks] in /usr/local/lib/python3.7/dist-packages (from gdown) (2.23.0)\n",
            "Requirement already satisfied: tqdm in /usr/local/lib/python3.7/dist-packages (from gdown) (4.64.0)\n",
            "Requirement already satisfied: filelock in /usr/local/lib/python3.7/dist-packages (from gdown) (3.7.1)\n",
            "Requirement already satisfied: six in /usr/local/lib/python3.7/dist-packages (from gdown) (1.15.0)\n",
            "Requirement already satisfied: urllib3!=1.25.0,!=1.25.1,<1.26,>=1.21.1 in /usr/local/lib/python3.7/dist-packages (from requests[socks]->gdown) (1.24.3)\n",
            "Requirement already satisfied: chardet<4,>=3.0.2 in /usr/local/lib/python3.7/dist-packages (from requests[socks]->gdown) (3.0.4)\n",
            "Requirement already satisfied: idna<3,>=2.5 in /usr/local/lib/python3.7/dist-packages (from requests[socks]->gdown) (2.10)\n",
            "Requirement already satisfied: certifi>=2017.4.17 in /usr/local/lib/python3.7/dist-packages (from requests[socks]->gdown) (2022.6.15)\n",
            "Requirement already satisfied: PySocks!=1.5.7,>=1.5.6 in /usr/local/lib/python3.7/dist-packages (from requests[socks]->gdown) (1.7.1)\n",
            "Building wheels for collected packages: gdown\n",
            "  Building wheel for gdown (PEP 517) ... \u001b[?25l\u001b[?25hdone\n",
            "  Created wheel for gdown: filename=gdown-4.5.1-py3-none-any.whl size=14951 sha256=63b50f02f42b53a6fe4fac0a18068a1468b3657f942fc8236b23f893dd24e392\n",
            "  Stored in directory: /root/.cache/pip/wheels/3d/ec/b0/a96d1d126183f98570a785e6bf8789fca559853a9260e928e1\n",
            "Successfully built gdown\n",
            "Installing collected packages: gdown\n",
            "  Attempting uninstall: gdown\n",
            "    Found existing installation: gdown 4.4.0\n",
            "    Uninstalling gdown-4.4.0:\n",
            "      Successfully uninstalled gdown-4.4.0\n",
            "Successfully installed gdown-4.5.1\n"
          ]
        }
      ]
    },
    {
      "cell_type": "markdown",
      "source": [
        "# parameters"
      ],
      "metadata": {
        "id": "9nysyjODbDry"
      }
    },
    {
      "cell_type": "code",
      "source": [
        "\n",
        "#!pip install googledrivedownloader\n",
        "#from google_drive_downloader import GoogleDriveDownloader as gdd\n",
        "files_path=[]\n",
        "#if generate&gen_drums:\n",
        "#files_path = [['1Nfzi6yT83SBZxtgIYVtYp7C7g_Sq9OdS', '/content/eeg/record-[2019.11.13-22.23.59].csv'],\n",
        "#              ['1LtMfr9GduR3semMVgh_6JoUSKbCG8XbH', '/content/eeg/record-[2020.06.28-14.26.09].csv']]\n",
        "#for i in range(len(files_path)):\n",
        "##  gdd.download_file_from_google_drive(file_id=files_path[i][0], dest_path=files_path[i][1])\n",
        "#  download_file_from_google_drive(file_id=files_path[i][0], dest_path=files_path[i][1])\n",
        "\n",
        "#files_path = [['1nIiilGVq8XXU7bb1UC5GDtmGbovuil9C', '/content/eeg/5min_experienced_meditator_unfiltered_signals.bdf', '5min_experienced_meditator_unfiltered_signals']]\n",
        "\n",
        "#for i in range(len(files_path)):\n",
        "##  gdd.download_file_from_google_drive(file_id=files_path[i][0], dest_path=files_path[i][1])\n",
        "#  download_file_from_google_drive(file_id=files_path[i][0], dest_path=files_path[i][1])\n",
        "\n",
        "#files_path = [['1BphDQFJZ0aIMiZbkQ55_MzNxOrdq0Jcb', '/content/eeg/01-07-2022_15-34.bdf', '01-07-2022_15-34'],\n",
        "#              ['1HlDuAO8n_hmH1PWlT46T1Waqyy5yz1LV', '/content/eeg/01-07-2022_18-32.bdf', '01-07-2022_18-32'],\n",
        "#              ['1u_8ANTzYB9jP7wCnErivF1ClM1rXixSg', '/content/eeg/01-07-2022_16-52.bdf', '01-07-2022_16-52'],\n",
        "#              ['1_cgoBcHAf3VRIorYafC-vHLAGpv8Papz', '/content/eeg/01-07-2022_17-39.bdf', '01-07-2022_17-39'],\n",
        "#              ['1JMLtO_sQtZtdQHQ2RCZ0RbRj3cvk0G_2', '/content/eeg/01-07-2022_14-05.bdf', '01-07-2022_14-05'],\n",
        "#              ['1ag-1yK-HSxNRh_5wnP9h-kOkVyX3YqSs', '/content/eeg/01-07-2022_18-32_signals.csv']]\n",
        "\n",
        "#for i in range(len(files_path)):\n",
        "##  gdd.download_file_from_google_drive(file_id=files_path[i][0], dest_path=files_path[i][1])\n",
        "#  download_file_from_google_drive(file_id=files_path[i][0], dest_path=files_path[i][1])\n",
        "\n",
        "#files_path = [['16j4PwPoudiCVB_HF9m0fCYIt3uUZR3kA', '/content/eeg/20211130-162023-sync1.bdf', '20211130-162023-sync1', '20211130-162023-syncs'],\n",
        "#              ['16kSyskI7qOZRitvNIzd4iy6irqhgLwsI', '/content/eeg/20211130-162023-sync2.bdf', '20211130-162023-sync2', '20211130-162023-syncs'],\n",
        "#              ['16k88jpP7uZKKDT-WhZKcvGsnPclDA2TF', '/content/eeg/20211130-162023-sync3.bdf', '20211130-162023-sync3', '20211130-162023-syncs'],\n",
        "#              ['16licSohQPcbLnJmMD88In5PbiiLjOB_N', '/content/eeg/20211130-162023-sync4.bdf', '20211130-162023-sync4', '20211130-162023-syncs'],\n",
        "#              ['16nHtHn1BBkzb9oTl4EhJmPHPEB4Q8CVl', '/content/eeg/20211130-221138-sync1.bdf', '20211130-221138-sync1', '20211130-221138-syncs'],\n",
        "#              ['16m5Kp0WEdz3GixvQ7-jPVLdQUhXmIbA6', '/content/eeg/20211130-221138-sync2.bdf', '20211130-221138-sync2', '20211130-221138-syncs'],\n",
        "#              ['16mJVZV1XT-RULgcSKUSROOQnQr6CHYCK', '/content/eeg/20211130-221138-sync3.bdf', '20211130-221138-sync3', '20211130-221138-syncs'],\n",
        "#              ['16nh5R44VIRDFbYmFk7sDQeMXEAA1veY4', '/content/eeg/20211130-221138-sync4.bdf', '20211130-221138-sync4', '20211130-221138-syncs'],\n",
        "#              ['16oygYh5ZerFWmNHNMaFqZxUNbC0yj-oW', '/content/eeg/20211130-231131-sync1.bdf', '20211130-231131-sync1', '20211130-231131-syncs'],\n",
        "#              ['16q-Rl-L6NcTxdKco347Q63eK8Z3e5h-F', '/content/eeg/20211130-231131-sync2.bdf', '20211130-231131-sync2', '20211130-231131-syncs'],\n",
        "#              ['16o9MNod2FHz3tplGv14a8vxNR8EVGfxx', '/content/eeg/20211130-231131-sync3.bdf', '20211130-231131-sync3', '20211130-231131-syncs'],\n",
        "#              ['16oszc_L44xtZNOgBuEJtgSjwl1Pob825', '/content/eeg/20211130-231131-sync4.bdf', '20211130-231131-sync4', '20211130-231131-syncs']]\n",
        "\n",
        "\n",
        "files_path = [['16j4PwPoudiCVB_HF9m0fCYIt3uUZR3kA', '/content/eeg/20211130-162023-sync1.bdf', 'sync1_', '20211130-162023-syncs'],\n",
        "              ['16kSyskI7qOZRitvNIzd4iy6irqhgLwsI', '/content/eeg/20211130-162023-sync2.bdf', 'sync2_', '20211130-162023-syncs'],\n",
        "              ['16k88jpP7uZKKDT-WhZKcvGsnPclDA2TF', '/content/eeg/20211130-162023-sync3.bdf', 'sync3_', '20211130-162023-syncs'],\n",
        "              ['16licSohQPcbLnJmMD88In5PbiiLjOB_N', '/content/eeg/20211130-162023-sync4.bdf', 'sync4_', '20211130-162023-syncs']]\n",
        "#files_path = [['16nHtHn1BBkzb9oTl4EhJmPHPEB4Q8CVl', '/content/eeg/20211130-221138-sync1.bdf', 'sync1_', '20211130-221138-syncs'],\n",
        "#              ['16m5Kp0WEdz3GixvQ7-jPVLdQUhXmIbA6', '/content/eeg/20211130-221138-sync2.bdf', 'sync2_', '20211130-221138-syncs'],\n",
        "#              ['16mJVZV1XT-RULgcSKUSROOQnQr6CHYCK', '/content/eeg/20211130-221138-sync3.bdf', 'sync3_', '20211130-221138-syncs'],\n",
        "#              ['16nh5R44VIRDFbYmFk7sDQeMXEAA1veY4', '/content/eeg/20211130-221138-sync4.bdf', 'sync4_', '20211130-221138-syncs']]\n",
        "#files_path = [['16oygYh5ZerFWmNHNMaFqZxUNbC0yj-oW', '/content/eeg/20211130-231131-sync1.bdf', 'sync1_', '20211130-231131-syncs'],\n",
        "#              ['16q-Rl-L6NcTxdKco347Q63eK8Z3e5h-F', '/content/eeg/20211130-231131-sync2.bdf', 'sync2_', '20211130-231131-syncs'],\n",
        "#              ['16o9MNod2FHz3tplGv14a8vxNR8EVGfxx', '/content/eeg/20211130-231131-sync3.bdf', 'sync3_', '20211130-231131-syncs'],\n",
        "#              ['16oszc_L44xtZNOgBuEJtgSjwl1Pob825', '/content/eeg/20211130-231131-sync4.bdf', 'sync4_', '20211130-231131-syncs']]\n",
        "\n",
        "files_path = [['16j4PwPoudiCVB_HF9m0fCYIt3uUZR3kA', '/content/eeg/20211130-162023-sync1.bdf', '', '20211130-162023-sync1']]\n",
        "\n",
        "for i in range(len(files_path)):\n",
        "#  gdd.download_file_from_google_drive(file_id=files_path[i][0], dest_path=files_path[i][1])\n",
        "  download_file_from_google_drive(file_id=files_path[i][0], dest_path=files_path[i][1])\n",
        "\n",
        "\n",
        "files_path_flag=str(files_path)\n",
        "input=[]\n",
        "for file_path_index in range(len(files_path)):\n",
        "  input.append(files_path[file_path_index][1])\n",
        "input_flag=str(input).strip(\"[]\").replace(\" \", \"\")\n",
        "prefix=[]\n",
        "for file_path_index in range(len(files_path)):\n",
        "  prefix.append(files_path[file_path_index][2])\n",
        "prefix_flag=str(prefix).strip(\"[]\").replace(\" \", \"\")\n",
        "output_flag=str(files_path[0][3])\n"
      ],
      "metadata": {
        "id": "xIuwDgKThnZg"
      },
      "execution_count": 13,
      "outputs": []
    },
    {
      "cell_type": "code",
      "source": [
        "#bands = [[4.,7.]]\n",
        "bands = [[8.,12.]]\n",
        "#bands = [[13.,29.]]\n",
        "#bands = [[4.,7.],[8.,12.],[13.,29.]]\n",
        "bands_flag=str(bands).strip(\"[]\").replace(\" \", \"\")"
      ],
      "metadata": {
        "id": "gbAvc7wkgDaN"
      },
      "execution_count": 14,
      "outputs": []
    },
    {
      "cell_type": "code",
      "source": [
        "methods = ['coh']\n",
        "#methods = ['ciplv']\n",
        "#methods = ['wpli']\n",
        "#methods = ['coh', 'plv', 'ciplv', 'ppc', 'pli', 'wpli']\n",
        "methods_flag=str(methods).strip(\"[]\").replace(\" \", \"\")"
      ],
      "metadata": {
        "id": "wS8Oag2LMdBi"
      },
      "execution_count": 15,
      "outputs": []
    },
    {
      "cell_type": "code",
      "source": [
        "ch_names = ['Fz','Fp1','F7','F3','T3','C3','T5','P3','O1','Pz','O2','P4','T6','C4','T4','F4','F8','Fp2']\n",
        "ch_names_flag=str(ch_names).strip(\"[]\").replace(\" \", \"\")"
      ],
      "metadata": {
        "id": "u05cf9H3P5pq"
      },
      "execution_count": 16,
      "outputs": []
    },
    {
      "cell_type": "code",
      "source": [
        "#vmin=0\n",
        "vmin=0.7\n",
        "vmin_flag=str(vmin)\n"
      ],
      "metadata": {
        "id": "hEhCzWAHhxTz"
      },
      "execution_count": 17,
      "outputs": []
    },
    {
      "cell_type": "code",
      "source": [
        "duration=5*1/bands[0][0]\n",
        "duration_flag=str(duration)"
      ],
      "metadata": {
        "id": "SJeBGBzSiS8O"
      },
      "execution_count": 18,
      "outputs": []
    },
    {
      "cell_type": "code",
      "source": [
        "fps=10\n",
        "fps_flag=str(fps)"
      ],
      "metadata": {
        "id": "I_5gnzWDZd5-"
      },
      "execution_count": 19,
      "outputs": []
    },
    {
      "cell_type": "code",
      "source": [
        "overlap=duration-1/fps\n",
        "overlap_flag=str(overlap)"
      ],
      "metadata": {
        "id": "19rhNWmjiSd0"
      },
      "execution_count": 20,
      "outputs": []
    },
    {
      "cell_type": "code",
      "source": [
        "n_parts_one_time=3\n",
        "n_parts_one_time_flag=str(n_parts_one_time)"
      ],
      "metadata": {
        "id": "kGZrC_ylf7Q3"
      },
      "execution_count": 21,
      "outputs": []
    },
    {
      "cell_type": "code",
      "source": [
        "part_len=100\n",
        "part_len_flag=str(part_len)"
      ],
      "metadata": {
        "id": "2t-v_GUqf6hE"
      },
      "execution_count": 22,
      "outputs": []
    },
    {
      "cell_type": "markdown",
      "source": [
        "# run"
      ],
      "metadata": {
        "id": "AmaQaiNhbKQ3"
      }
    },
    {
      "cell_type": "code",
      "source": [
        "#%mkdir /content/drive/MyDrive/neuroidss\n",
        "#%mkdir /content/drive/MyDrive/neuroidss/EEG-GAN-audio-video\n",
        "%mkdir /content/drive/MyDrive/{repo_container_dir}/{repo_name}/out\n",
        "%mkdir /content/drive/MyDrive/{repo_container_dir}/{repo_name}/out/parts_out\n",
        "%mkdir /content/drive/MyDrive/{repo_container_dir}/{repo_name}/out/parts\n",
        "!ln -s /content/drive/MyDrive/{repo_container_dir}/{repo_name}/out /content/out"
      ],
      "metadata": {
        "id": "vlfHrwpcSqYU",
        "colab": {
          "base_uri": "https://localhost:8080/"
        },
        "outputId": "b0bd21f5-7a0c-4471-992d-6a459d7dd3f1"
      },
      "execution_count": 23,
      "outputs": [
        {
          "output_type": "stream",
          "name": "stdout",
          "text": [
            "mkdir: cannot create directory ‘/content/drive/MyDrive/neuroidss/EEG-GAN-audio-video/out’: File exists\n",
            "mkdir: cannot create directory ‘/content/drive/MyDrive/neuroidss/EEG-GAN-audio-video/out/parts_out’: File exists\n",
            "mkdir: cannot create directory ‘/content/drive/MyDrive/neuroidss/EEG-GAN-audio-video/out/parts’: File exists\n"
          ]
        }
      ]
    },
    {
      "cell_type": "code",
      "source": [
        "#!/bin/bash\n",
        "#%mkdir out\n",
        "#%mkdir out/parts\n",
        "#%mkdir out/parts_out\n",
        "import glob, os\n",
        "continue_viz=True\n",
        "while continue_viz:\n",
        "  continue_viz=False\n",
        "  %rm /content/out/parts_out/*\n",
        "  !python /content/bdf_coh_3d_viz.py --input {input_flag} --prefix {prefix_flag} --output {output_flag} --ch_names {ch_names_flag} --methods {methods_flag} --bands {bands_flag} --vmin {vmin_flag} --duration {duration_flag} --overlap {overlap_flag} --fps {fps_flag} --n_parts_one_time {n_parts_one_time_flag} --part_len {part_len_flag}\n",
        "#  !python bdf_coh_3d_viz.py --input \"/content/eeg/20211130-162023-sync1.bdf\",\"/content/eeg/20211130-162023-sync2.bdf\",\"/content/eeg/20211130-162023-sync3.bdf\",\"/content/eeg/20211130-162023-sync4.bdf\" --prefix \"sync1\",\"sync2\",\"sync3\",\"sync4\" --output \"20211130-162023-syncs\"\n",
        "  os.chdir(\"/content/out/parts_out\")\n",
        "  for file in glob.glob(\"*.txt\"):\n",
        "    continue_viz=True\n",
        "  for file in glob.glob(\"*.sh\"):\n",
        "  #if os.path.isfile('/content/out/parts_out/*.txt'):\n",
        "    %cp /content/out/parts_out/* /content/out/parts\n",
        "  %rm /content/out/parts_out/*\n"
      ],
      "metadata": {
        "id": "OHXpLMCfRrG3",
        "colab": {
          "base_uri": "https://localhost:8080/"
        },
        "outputId": "102819e2-ae65-4022-c8b6-f087408aadf1"
      },
      "execution_count": 24,
      "outputs": [
        {
          "output_type": "stream",
          "name": "stdout",
          "text": [
            "rm: cannot remove '/content/out/parts_out/*': No such file or directory\n",
            "Extracting EDF parameters from /content/eeg/20211130-162023-sync1.bdf...\n",
            "BDF file detected\n",
            "Setting channel info structure...\n",
            "Creating raw.info structure...\n",
            "Creating RawArray with float64 data, n_channels=18, n_times=1213440\n",
            "    Range : 0 ... 1213439 =      0.000 ...  2369.998 secs\n",
            "Ready.\n",
            "Not setting metadata\n",
            "Not setting metadata\n",
            "23694 matching events found\n",
            "No baseline correction applied\n",
            "0 projection items activated\n",
            "Connectivity computation...\n",
            "only using indices for lower-triangular matrix\n",
            "    computing connectivity for 153 connections\n",
            "    using t=0.000s..0.623s for estimation (320 points)\n",
            "    frequencies: 8.0Hz..11.2Hz (3 points)\n",
            "    connectivity scores will be averaged for each band\n",
            "    Using multitaper spectrum estimation with 7 DPSS windows\n",
            "    the following metrics will be computed: Coherence\n",
            "    computing connectivity for epoch 1\n",
            "    computing connectivity for epoch 2\n",
            "    computing connectivity for epoch 3\n",
            "    computing connectivity for epoch 4\n",
            "    computing connectivity for epoch 5\n",
            "    computing connectivity for epoch 6\n",
            "    computing connectivity for epoch 7\n",
            "    computing connectivity for epoch 8\n",
            "    computing connectivity for epoch 9\n",
            "    computing connectivity for epoch 10\n",
            "    assembling connectivity matrix\n",
            "[Connectivity computation done]\n"
          ]
        }
      ]
    },
    {
      "cell_type": "code",
      "source": [
        "!chmod +x /content/out/parts/{file}\n",
        "!/content/out/parts/{file}"
      ],
      "metadata": {
        "id": "uYKKLGs-gfEX"
      },
      "execution_count": null,
      "outputs": []
    },
    {
      "cell_type": "code",
      "source": [
        "%rm /content/out/parts/*"
      ],
      "metadata": {
        "id": "iCp49Gd58PvP"
      },
      "execution_count": null,
      "outputs": []
    }
  ]
}