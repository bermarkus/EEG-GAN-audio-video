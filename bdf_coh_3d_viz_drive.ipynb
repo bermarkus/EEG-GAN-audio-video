{
  "nbformat": 4,
  "nbformat_minor": 0,
  "metadata": {
    "colab": {
      "name": "bdf_coh_3d_viz_drive.ipynb",
      "provenance": [],
      "collapsed_sections": [
        "uqrQxAS9a0AR"
      ],
      "toc_visible": true,
      "authorship_tag": "ABX9TyPuTux/6K2+bUoHszHqdRYE",
      "include_colab_link": true
    },
    "kernelspec": {
      "name": "python3",
      "display_name": "Python 3"
    },
    "language_info": {
      "name": "python"
    }
  },
  "cells": [
    {
      "cell_type": "markdown",
      "metadata": {
        "id": "view-in-github",
        "colab_type": "text"
      },
      "source": [
        "<a href=\"https://colab.research.google.com/github/neuroidss/EEG-GAN-audio-video/blob/main/bdf_coh_3d_viz_drive.ipynb\" target=\"_parent\"><img src=\"https://colab.research.google.com/assets/colab-badge.svg\" alt=\"Open In Colab\"/></a>"
      ]
    },
    {
      "cell_type": "markdown",
      "source": [
        "# Init"
      ],
      "metadata": {
        "id": "uqrQxAS9a0AR"
      }
    },
    {
      "cell_type": "code",
      "source": [
        "  import os\n",
        "  if 'COLAB_GPU' in os.environ:\n",
        "    print(\"I'm running on Colab\")\n",
        "    from google.colab import drive\n",
        "    drive.mount('/content/drive', force_remount=True)\n",
        "  else:\n",
        "    !mkdir /content/drive\n",
        "    !mkdir /content/drive/MyDrive\n"
      ],
      "metadata": {
        "colab": {
          "base_uri": "https://localhost:8080/"
        },
        "id": "xrEwaCJWST5k",
        "outputId": "68828813-bab5-45a0-875d-93c69580744b"
      },
      "execution_count": 1,
      "outputs": [
        {
          "output_type": "stream",
          "name": "stdout",
          "text": [
            "mkdir: cannot create directory ‘/content/drive’: File exists\n",
            "mkdir: cannot create directory ‘/content/drive/MyDrive’: File exists\n"
          ]
        }
      ]
    },
    {
      "cell_type": "code",
      "source": [
        "import os\n",
        "drive_path = '/content/drive/MyDrive/'\n",
        "repo_container_dir = 'neuroidss'\n",
        "repo_name = 'EEG-GAN-audio-video'\n",
        "git_repo = 'https://github.com/'+repo_container_dir+'/'+repo_name+'.git'\n",
        "#git_repo = 'https://github.com/neuroidss/EEG-GAN-audio-video.git'\n",
        "branch_name = 'main'\n",
        "\n",
        "working_dir = os.path.join(drive_path, repo_container_dir, repo_name)#, branch_name)\n",
        "\n",
        "if os.path.isdir(working_dir):\n",
        "  %cd {working_dir}\n",
        "else:\n",
        "  container_path = os.path.join(drive_path, repo_container_dir)\n",
        "  os.makedirs(container_path)\n",
        "  %cd {container_path}\n",
        "  !git clone --branch {branch_name} {git_repo}\n",
        "  %cd {repo_name}"
      ],
      "metadata": {
        "colab": {
          "base_uri": "https://localhost:8080/"
        },
        "id": "YWe3mMUOhqDb",
        "outputId": "f290443e-4871-46f5-8f12-94c471bf7da4"
      },
      "execution_count": 2,
      "outputs": [
        {
          "output_type": "stream",
          "name": "stdout",
          "text": [
            "/media/dmitryneuro/6b052ea3-d4af-4897-a048-fe540f13d756/content/drive/MyDrive/neuroidss/EEG-GAN-audio-video\n"
          ]
        }
      ]
    },
    {
      "cell_type": "code",
      "source": [
        "!pip install mne==0.23.3\n",
        "!pip install pandas\n",
        "!pip install matplotlib"
      ],
      "metadata": {
        "colab": {
          "base_uri": "https://localhost:8080/"
        },
        "id": "HqFeh_EYhDdy",
        "outputId": "ce53b8c0-4fed-4fc2-fbd7-ee9fcb5bdcd5"
      },
      "execution_count": 3,
      "outputs": [
        {
          "output_type": "stream",
          "name": "stdout",
          "text": [
            "Requirement already satisfied: mne==0.23.3 in /media/dmitryneuro/6b052ea3-d4af-4897-a048-fe540f13d756/content/env/lib/python3.7/site-packages (0.23.3)\r\n",
            "Requirement already satisfied: scipy>=1.1.0 in /media/dmitryneuro/6b052ea3-d4af-4897-a048-fe540f13d756/content/env/lib/python3.7/site-packages (from mne==0.23.3) (1.7.3)\r\n",
            "Requirement already satisfied: numpy>=1.15.4 in /media/dmitryneuro/6b052ea3-d4af-4897-a048-fe540f13d756/content/env/lib/python3.7/site-packages (from mne==0.23.3) (1.21.6)\n",
            "Requirement already satisfied: pandas in /media/dmitryneuro/6b052ea3-d4af-4897-a048-fe540f13d756/content/env/lib/python3.7/site-packages (1.3.5)\n",
            "Requirement already satisfied: python-dateutil>=2.7.3 in /media/dmitryneuro/6b052ea3-d4af-4897-a048-fe540f13d756/content/env/lib/python3.7/site-packages (from pandas) (2.8.2)\n",
            "Requirement already satisfied: pytz>=2017.3 in /media/dmitryneuro/6b052ea3-d4af-4897-a048-fe540f13d756/content/env/lib/python3.7/site-packages (from pandas) (2022.1)\n",
            "Requirement already satisfied: numpy>=1.17.3 in /media/dmitryneuro/6b052ea3-d4af-4897-a048-fe540f13d756/content/env/lib/python3.7/site-packages (from pandas) (1.21.6)\n",
            "Requirement already satisfied: six>=1.5 in /media/dmitryneuro/6b052ea3-d4af-4897-a048-fe540f13d756/content/env/lib/python3.7/site-packages (from python-dateutil>=2.7.3->pandas) (1.16.0)\n",
            "Requirement already satisfied: matplotlib in /media/dmitryneuro/6b052ea3-d4af-4897-a048-fe540f13d756/content/env/lib/python3.7/site-packages (3.5.2)\n",
            "Requirement already satisfied: packaging>=20.0 in /media/dmitryneuro/6b052ea3-d4af-4897-a048-fe540f13d756/content/env/lib/python3.7/site-packages (from matplotlib) (21.3)\n",
            "Requirement already satisfied: pyparsing>=2.2.1 in /media/dmitryneuro/6b052ea3-d4af-4897-a048-fe540f13d756/content/env/lib/python3.7/site-packages (from matplotlib) (3.0.9)\n",
            "Requirement already satisfied: python-dateutil>=2.7 in /media/dmitryneuro/6b052ea3-d4af-4897-a048-fe540f13d756/content/env/lib/python3.7/site-packages (from matplotlib) (2.8.2)\n",
            "Requirement already satisfied: kiwisolver>=1.0.1 in /media/dmitryneuro/6b052ea3-d4af-4897-a048-fe540f13d756/content/env/lib/python3.7/site-packages (from matplotlib) (1.4.4)\n",
            "Requirement already satisfied: pillow>=6.2.0 in /media/dmitryneuro/6b052ea3-d4af-4897-a048-fe540f13d756/content/env/lib/python3.7/site-packages (from matplotlib) (9.2.0)\n",
            "Requirement already satisfied: cycler>=0.10 in /media/dmitryneuro/6b052ea3-d4af-4897-a048-fe540f13d756/content/env/lib/python3.7/site-packages (from matplotlib) (0.11.0)\n",
            "Requirement already satisfied: numpy>=1.17 in /media/dmitryneuro/6b052ea3-d4af-4897-a048-fe540f13d756/content/env/lib/python3.7/site-packages (from matplotlib) (1.21.6)\n",
            "Requirement already satisfied: fonttools>=4.22.0 in /media/dmitryneuro/6b052ea3-d4af-4897-a048-fe540f13d756/content/env/lib/python3.7/site-packages (from matplotlib) (4.34.4)\n",
            "Requirement already satisfied: typing-extensions in /media/dmitryneuro/6b052ea3-d4af-4897-a048-fe540f13d756/content/env/lib/python3.7/site-packages (from kiwisolver>=1.0.1->matplotlib) (4.3.0)\n",
            "Requirement already satisfied: six>=1.5 in /media/dmitryneuro/6b052ea3-d4af-4897-a048-fe540f13d756/content/env/lib/python3.7/site-packages (from python-dateutil>=2.7->matplotlib) (1.16.0)\n"
          ]
        }
      ]
    },
    {
      "cell_type": "code",
      "source": [
        "def download_file_from_google_drive(file_id,dest_path):\n",
        "  import os.path\n",
        "  if not os.path.isfile(dest_path):  \n",
        "    !mkdir -p $(dirname {dest_path})\n",
        "    !wget --save-cookies cookies.txt 'https://docs.google.com/uc?export=download&id='{file_id} -O- | sed -rn 's/.*confirm=([0-9A-Za-z_]+).*/\\1/p' > confirm.txt\n",
        "    !wget --load-cookies cookies.txt -O {dest_path} 'https://docs.google.com/uc?export=download&id='{file_id}'&confirm='$(<confirm.txt)"
      ],
      "metadata": {
        "id": "EgVzSmVUhrzz"
      },
      "execution_count": 4,
      "outputs": []
    },
    {
      "cell_type": "code",
      "source": [
        "!mkdir /content/drive/MyDrive/{repo_container_dir}/{repo_name}/eeg\n",
        "!ln -s /content/drive/MyDrive/{repo_container_dir}/{repo_name}/eeg /content/eeg\n"
      ],
      "metadata": {
        "id": "5gYaa5pIhpwU",
        "colab": {
          "base_uri": "https://localhost:8080/"
        },
        "outputId": "8a4f82dd-9ced-4240-cab1-8b6fcd513eaf"
      },
      "execution_count": 5,
      "outputs": [
        {
          "output_type": "stream",
          "name": "stdout",
          "text": [
            "mkdir: cannot create directory ‘/content/drive/MyDrive/neuroidss/EEG-GAN-audio-video/eeg’: File exists\r\n"
          ]
        }
      ]
    },
    {
      "cell_type": "code",
      "source": [
        "  !pip install Pillow\n",
        "  import PIL.Image \n",
        "  !pip install tqdm\n",
        "  from tqdm import tqdm\n",
        "  !pip install imageio==2.4.1\n",
        "  !pip install imageio-ffmpeg==0.4.3 pyspng==0.1.0\n"
      ],
      "metadata": {
        "colab": {
          "base_uri": "https://localhost:8080/"
        },
        "id": "3is4BjHAi1MK",
        "outputId": "a887ee1e-5a61-4d80-b0ea-85540aa3feee"
      },
      "execution_count": 7,
      "outputs": [
        {
          "output_type": "stream",
          "name": "stdout",
          "text": [
            "Requirement already satisfied: Pillow in /media/dmitryneuro/6b052ea3-d4af-4897-a048-fe540f13d756/content/env/lib/python3.7/site-packages (9.2.0)\n",
            "Requirement already satisfied: tqdm in /media/dmitryneuro/6b052ea3-d4af-4897-a048-fe540f13d756/content/env/lib/python3.7/site-packages (4.64.0)\n",
            "Requirement already satisfied: imageio==2.4.1 in /media/dmitryneuro/6b052ea3-d4af-4897-a048-fe540f13d756/content/env/lib/python3.7/site-packages (2.4.1)\n",
            "Requirement already satisfied: numpy in /media/dmitryneuro/6b052ea3-d4af-4897-a048-fe540f13d756/content/env/lib/python3.7/site-packages (from imageio==2.4.1) (1.21.6)\n",
            "Requirement already satisfied: pillow in /media/dmitryneuro/6b052ea3-d4af-4897-a048-fe540f13d756/content/env/lib/python3.7/site-packages (from imageio==2.4.1) (9.2.0)\n",
            "Requirement already satisfied: imageio-ffmpeg==0.4.3 in /media/dmitryneuro/6b052ea3-d4af-4897-a048-fe540f13d756/content/env/lib/python3.7/site-packages (0.4.3)\n",
            "Requirement already satisfied: pyspng==0.1.0 in /media/dmitryneuro/6b052ea3-d4af-4897-a048-fe540f13d756/content/env/lib/python3.7/site-packages (0.1.0)\n",
            "Requirement already satisfied: numpy in /media/dmitryneuro/6b052ea3-d4af-4897-a048-fe540f13d756/content/env/lib/python3.7/site-packages (from pyspng==0.1.0) (1.21.6)\n"
          ]
        }
      ]
    },
    {
      "cell_type": "code",
      "source": [
        "  !pip install mne_connectivity"
      ],
      "metadata": {
        "colab": {
          "base_uri": "https://localhost:8080/"
        },
        "id": "bnou3xWFjPu5",
        "outputId": "6b3a7b01-f657-431d-9145-3c82315a3362"
      },
      "execution_count": 8,
      "outputs": [
        {
          "output_type": "stream",
          "name": "stdout",
          "text": [
            "Requirement already satisfied: mne_connectivity in /media/dmitryneuro/6b052ea3-d4af-4897-a048-fe540f13d756/content/env/lib/python3.7/site-packages (0.3)\r\n",
            "Requirement already satisfied: mne in /media/dmitryneuro/6b052ea3-d4af-4897-a048-fe540f13d756/content/env/lib/python3.7/site-packages (from mne_connectivity) (0.23.3)\r\n",
            "Requirement already satisfied: numpy in /media/dmitryneuro/6b052ea3-d4af-4897-a048-fe540f13d756/content/env/lib/python3.7/site-packages (from mne_connectivity) (1.21.6)\r\n",
            "Requirement already satisfied: scipy in /media/dmitryneuro/6b052ea3-d4af-4897-a048-fe540f13d756/content/env/lib/python3.7/site-packages (from mne_connectivity) (1.7.3)\r\n",
            "Requirement already satisfied: xarray in /media/dmitryneuro/6b052ea3-d4af-4897-a048-fe540f13d756/content/env/lib/python3.7/site-packages (from mne_connectivity) (0.20.2)\r\n",
            "Requirement already satisfied: tqdm in /media/dmitryneuro/6b052ea3-d4af-4897-a048-fe540f13d756/content/env/lib/python3.7/site-packages (from mne_connectivity) (4.64.0)\r\n",
            "Requirement already satisfied: netCDF4 in /media/dmitryneuro/6b052ea3-d4af-4897-a048-fe540f13d756/content/env/lib/python3.7/site-packages (from mne_connectivity) (1.6.0)\r\n",
            "Requirement already satisfied: pandas in /media/dmitryneuro/6b052ea3-d4af-4897-a048-fe540f13d756/content/env/lib/python3.7/site-packages (from mne_connectivity) (1.3.5)\n",
            "Requirement already satisfied: cftime in /media/dmitryneuro/6b052ea3-d4af-4897-a048-fe540f13d756/content/env/lib/python3.7/site-packages (from netCDF4->mne_connectivity) (1.6.1)\n",
            "Requirement already satisfied: python-dateutil>=2.7.3 in /media/dmitryneuro/6b052ea3-d4af-4897-a048-fe540f13d756/content/env/lib/python3.7/site-packages (from pandas->mne_connectivity) (2.8.2)\n",
            "Requirement already satisfied: pytz>=2017.3 in /media/dmitryneuro/6b052ea3-d4af-4897-a048-fe540f13d756/content/env/lib/python3.7/site-packages (from pandas->mne_connectivity) (2022.1)\n",
            "Requirement already satisfied: typing-extensions>=3.7 in /media/dmitryneuro/6b052ea3-d4af-4897-a048-fe540f13d756/content/env/lib/python3.7/site-packages (from xarray->mne_connectivity) (4.3.0)\n",
            "Requirement already satisfied: importlib-metadata in /media/dmitryneuro/6b052ea3-d4af-4897-a048-fe540f13d756/content/env/lib/python3.7/site-packages (from xarray->mne_connectivity) (4.12.0)\n",
            "Requirement already satisfied: six>=1.5 in /media/dmitryneuro/6b052ea3-d4af-4897-a048-fe540f13d756/content/env/lib/python3.7/site-packages (from python-dateutil>=2.7.3->pandas->mne_connectivity) (1.16.0)\n",
            "Requirement already satisfied: zipp>=0.5 in /media/dmitryneuro/6b052ea3-d4af-4897-a048-fe540f13d756/content/env/lib/python3.7/site-packages (from importlib-metadata->xarray->mne_connectivity) (3.8.1)\n"
          ]
        }
      ]
    },
    {
      "cell_type": "code",
      "source": [
        "#%mkdir /content/drive/MyDrive/neuroidss\n",
        "#%mkdir /content/drive/MyDrive/neuroidss/EEG-GAN-audio-video\n",
        "%mkdir /content/drive/MyDrive/{repo_container_dir}/{repo_name}/out\n",
        "%mkdir /content/drive/MyDrive/{repo_container_dir}/{repo_name}/out/parts_out\n",
        "%mkdir /content/drive/MyDrive/{repo_container_dir}/{repo_name}/out/parts\n",
        "!ln -s /content/drive/MyDrive/{repo_container_dir}/{repo_name}/out /content/out"
      ],
      "metadata": {
        "id": "vlfHrwpcSqYU",
        "colab": {
          "base_uri": "https://localhost:8080/"
        },
        "outputId": "7541f1fc-f5ba-4c1e-ce05-d55d7023a822"
      },
      "execution_count": 9,
      "outputs": [
        {
          "output_type": "stream",
          "name": "stdout",
          "text": [
            "mkdir: cannot create directory ‘/content/drive/MyDrive/neuroidss/EEG-GAN-audio-video/out’: File exists\n",
            "mkdir: cannot create directory ‘/content/drive/MyDrive/neuroidss/EEG-GAN-audio-video/out/parts_out’: File exists\n",
            "mkdir: cannot create directory ‘/content/drive/MyDrive/neuroidss/EEG-GAN-audio-video/out/parts’: File exists\n"
          ]
        }
      ]
    },
    {
      "cell_type": "code",
      "source": [
        "#%mkdir /content/out\n",
        "#%mkdir /content/out/parts_out\n",
        "#%mkdir /content/out/parts"
      ],
      "metadata": {
        "id": "QzcLauffjsA6"
      },
      "execution_count": 10,
      "outputs": []
    },
    {
      "cell_type": "code",
      "source": [
        "%cd /content"
      ],
      "metadata": {
        "colab": {
          "base_uri": "https://localhost:8080/"
        },
        "id": "ZF6o5NJHnjI6",
        "outputId": "98f0ecc2-2bab-4043-84fe-1112335c3247"
      },
      "execution_count": 11,
      "outputs": [
        {
          "output_type": "stream",
          "name": "stdout",
          "text": [
            "/media/dmitryneuro/6b052ea3-d4af-4897-a048-fe540f13d756/content\n"
          ]
        }
      ]
    },
    {
      "cell_type": "code",
      "source": [
        "!ln -s /content/drive/MyDrive/{repo_container_dir}/{repo_name}/bdf_coh_3d_viz.sh ./bdf_coh_3d_viz.sh\n",
        "!ln -s /content/drive/MyDrive/{repo_container_dir}/{repo_name}/bdf_coh_3d_viz.py ./bdf_coh_3d_viz.py\n",
        "!chmod +x /content/drive/MyDrive/{repo_container_dir}/{repo_name}/bdf_coh_3d_viz.sh\n"
      ],
      "metadata": {
        "id": "_IkoC7IvotmB",
        "colab": {
          "base_uri": "https://localhost:8080/"
        },
        "outputId": "badae135-7bde-415e-b97e-b6a093558e04"
      },
      "execution_count": 12,
      "outputs": [
        {
          "output_type": "stream",
          "name": "stdout",
          "text": [
            "ln: failed to create symbolic link './bdf_coh_3d_viz.sh': File exists\n",
            "ln: failed to create symbolic link './bdf_coh_3d_viz.py': File exists\n"
          ]
        }
      ]
    },
    {
      "cell_type": "code",
      "source": [
        "!pip install absl-py"
      ],
      "metadata": {
        "colab": {
          "base_uri": "https://localhost:8080/"
        },
        "id": "tyPbHPF_E01E",
        "outputId": "0b837122-db06-425a-a53c-7d09be75327d"
      },
      "execution_count": 13,
      "outputs": [
        {
          "output_type": "stream",
          "name": "stdout",
          "text": [
            "Requirement already satisfied: absl-py in ./env/lib/python3.7/site-packages (1.2.0)\r\n"
          ]
        }
      ]
    },
    {
      "cell_type": "code",
      "source": [
        "!pip install --upgrade gdown"
      ],
      "metadata": {
        "id": "jY1-Vek0b3lK"
      },
      "execution_count": null,
      "outputs": []
    },
    {
      "cell_type": "markdown",
      "source": [
        "# parameters"
      ],
      "metadata": {
        "id": "9nysyjODbDry"
      }
    },
    {
      "cell_type": "code",
      "source": [
        "\n",
        "#!pip install googledrivedownloader\n",
        "#from google_drive_downloader import GoogleDriveDownloader as gdd\n",
        "files_path=[]\n",
        "#if generate&gen_drums:\n",
        "#files_path = [['1Nfzi6yT83SBZxtgIYVtYp7C7g_Sq9OdS', '/content/eeg/record-[2019.11.13-22.23.59].csv'],\n",
        "#              ['1LtMfr9GduR3semMVgh_6JoUSKbCG8XbH', '/content/eeg/record-[2020.06.28-14.26.09].csv']]\n",
        "#for i in range(len(files_path)):\n",
        "##  gdd.download_file_from_google_drive(file_id=files_path[i][0], dest_path=files_path[i][1])\n",
        "#  download_file_from_google_drive(file_id=files_path[i][0], dest_path=files_path[i][1])\n",
        "\n",
        "#files_path = [['1nIiilGVq8XXU7bb1UC5GDtmGbovuil9C', '/content/eeg/5min_experienced_meditator_unfiltered_signals.bdf', '5min_experienced_meditator_unfiltered_signals']]\n",
        "\n",
        "#for i in range(len(files_path)):\n",
        "##  gdd.download_file_from_google_drive(file_id=files_path[i][0], dest_path=files_path[i][1])\n",
        "#  download_file_from_google_drive(file_id=files_path[i][0], dest_path=files_path[i][1])\n",
        "\n",
        "#files_path = [['1BphDQFJZ0aIMiZbkQ55_MzNxOrdq0Jcb', '/content/eeg/01-07-2022_15-34.bdf', '01-07-2022_15-34'],\n",
        "#              ['1HlDuAO8n_hmH1PWlT46T1Waqyy5yz1LV', '/content/eeg/01-07-2022_18-32.bdf', '01-07-2022_18-32'],\n",
        "#              ['1u_8ANTzYB9jP7wCnErivF1ClM1rXixSg', '/content/eeg/01-07-2022_16-52.bdf', '01-07-2022_16-52'],\n",
        "#              ['1_cgoBcHAf3VRIorYafC-vHLAGpv8Papz', '/content/eeg/01-07-2022_17-39.bdf', '01-07-2022_17-39'],\n",
        "#              ['1JMLtO_sQtZtdQHQ2RCZ0RbRj3cvk0G_2', '/content/eeg/01-07-2022_14-05.bdf', '01-07-2022_14-05'],\n",
        "#              ['1ag-1yK-HSxNRh_5wnP9h-kOkVyX3YqSs', '/content/eeg/01-07-2022_18-32_signals.csv']]\n",
        "\n",
        "#for i in range(len(files_path)):\n",
        "##  gdd.download_file_from_google_drive(file_id=files_path[i][0], dest_path=files_path[i][1])\n",
        "#  download_file_from_google_drive(file_id=files_path[i][0], dest_path=files_path[i][1])\n",
        "\n",
        "#files_path = [['16j4PwPoudiCVB_HF9m0fCYIt3uUZR3kA', '/content/eeg/20211130-162023-sync1.bdf', '20211130-162023-sync1', '20211130-162023-syncs'],\n",
        "#              ['16kSyskI7qOZRitvNIzd4iy6irqhgLwsI', '/content/eeg/20211130-162023-sync2.bdf', '20211130-162023-sync2', '20211130-162023-syncs'],\n",
        "#              ['16k88jpP7uZKKDT-WhZKcvGsnPclDA2TF', '/content/eeg/20211130-162023-sync3.bdf', '20211130-162023-sync3', '20211130-162023-syncs'],\n",
        "#              ['16licSohQPcbLnJmMD88In5PbiiLjOB_N', '/content/eeg/20211130-162023-sync4.bdf', '20211130-162023-sync4', '20211130-162023-syncs'],\n",
        "#              ['16nHtHn1BBkzb9oTl4EhJmPHPEB4Q8CVl', '/content/eeg/20211130-221138-sync1.bdf', '20211130-221138-sync1', '20211130-221138-syncs'],\n",
        "#              ['16m5Kp0WEdz3GixvQ7-jPVLdQUhXmIbA6', '/content/eeg/20211130-221138-sync2.bdf', '20211130-221138-sync2', '20211130-221138-syncs'],\n",
        "#              ['16mJVZV1XT-RULgcSKUSROOQnQr6CHYCK', '/content/eeg/20211130-221138-sync3.bdf', '20211130-221138-sync3', '20211130-221138-syncs'],\n",
        "#              ['16nh5R44VIRDFbYmFk7sDQeMXEAA1veY4', '/content/eeg/20211130-221138-sync4.bdf', '20211130-221138-sync4', '20211130-221138-syncs'],\n",
        "#              ['16oygYh5ZerFWmNHNMaFqZxUNbC0yj-oW', '/content/eeg/20211130-231131-sync1.bdf', '20211130-231131-sync1', '20211130-231131-syncs'],\n",
        "#              ['16q-Rl-L6NcTxdKco347Q63eK8Z3e5h-F', '/content/eeg/20211130-231131-sync2.bdf', '20211130-231131-sync2', '20211130-231131-syncs'],\n",
        "#              ['16o9MNod2FHz3tplGv14a8vxNR8EVGfxx', '/content/eeg/20211130-231131-sync3.bdf', '20211130-231131-sync3', '20211130-231131-syncs'],\n",
        "#              ['16oszc_L44xtZNOgBuEJtgSjwl1Pob825', '/content/eeg/20211130-231131-sync4.bdf', '20211130-231131-sync4', '20211130-231131-syncs']]\n",
        "\n",
        "\n",
        "files_path = [['16j4PwPoudiCVB_HF9m0fCYIt3uUZR3kA', '/content/eeg/20211130-162023-sync1.bdf', 'sync1_', '20211130-162023-syncs'],\n",
        "              ['16kSyskI7qOZRitvNIzd4iy6irqhgLwsI', '/content/eeg/20211130-162023-sync2.bdf', 'sync2_', '20211130-162023-syncs'],\n",
        "              ['16k88jpP7uZKKDT-WhZKcvGsnPclDA2TF', '/content/eeg/20211130-162023-sync3.bdf', 'sync3_', '20211130-162023-syncs'],\n",
        "              ['16licSohQPcbLnJmMD88In5PbiiLjOB_N', '/content/eeg/20211130-162023-sync4.bdf', 'sync4_', '20211130-162023-syncs']]\n",
        "#files_path = [['16nHtHn1BBkzb9oTl4EhJmPHPEB4Q8CVl', '/content/eeg/20211130-221138-sync1.bdf', 'sync1_', '20211130-221138-syncs'],\n",
        "#              ['16m5Kp0WEdz3GixvQ7-jPVLdQUhXmIbA6', '/content/eeg/20211130-221138-sync2.bdf', 'sync2_', '20211130-221138-syncs'],\n",
        "#              ['16mJVZV1XT-RULgcSKUSROOQnQr6CHYCK', '/content/eeg/20211130-221138-sync3.bdf', 'sync3_', '20211130-221138-syncs'],\n",
        "#              ['16nh5R44VIRDFbYmFk7sDQeMXEAA1veY4', '/content/eeg/20211130-221138-sync4.bdf', 'sync4_', '20211130-221138-syncs']]\n",
        "#files_path = [['16oygYh5ZerFWmNHNMaFqZxUNbC0yj-oW', '/content/eeg/20211130-231131-sync1.bdf', 'sync1_', '20211130-231131-syncs'],\n",
        "#              ['16q-Rl-L6NcTxdKco347Q63eK8Z3e5h-F', '/content/eeg/20211130-231131-sync2.bdf', 'sync2_', '20211130-231131-syncs'],\n",
        "#              ['16o9MNod2FHz3tplGv14a8vxNR8EVGfxx', '/content/eeg/20211130-231131-sync3.bdf', 'sync3_', '20211130-231131-syncs'],\n",
        "#              ['16oszc_L44xtZNOgBuEJtgSjwl1Pob825', '/content/eeg/20211130-231131-sync4.bdf', 'sync4_', '20211130-231131-syncs']]\n",
        "\n",
        "files_path = [['16j4PwPoudiCVB_HF9m0fCYIt3uUZR3kA', '/content/eeg/20211130-162023-sync1.bdf', '', '20211130-162023-sync1']]\n",
        "\n",
        "for i in range(len(files_path)):\n",
        "#  gdd.download_file_from_google_drive(file_id=files_path[i][0], dest_path=files_path[i][1])\n",
        "  download_file_from_google_drive(file_id=files_path[i][0], dest_path=files_path[i][1])\n",
        "\n",
        "\n",
        "files_path_flag=str(files_path)\n",
        "input=[]\n",
        "for file_path_index in range(len(files_path)):\n",
        "  input.append(files_path[file_path_index][1])\n",
        "input_flag=str(input).strip(\"[]\").replace(\" \", \"\")\n",
        "prefix=[]\n",
        "for file_path_index in range(len(files_path)):\n",
        "  prefix.append(files_path[file_path_index][2])\n",
        "prefix_flag=str(prefix).strip(\"[]\").replace(\" \", \"\")\n",
        "output_flag=str(files_path[0][3])\n"
      ],
      "metadata": {
        "id": "xIuwDgKThnZg"
      },
      "execution_count": 85,
      "outputs": []
    },
    {
      "cell_type": "code",
      "source": [
        "bands = [[4.,7.]]\n",
        "#bands = [[8.,12.]]\n",
        "#bands = [[13.,29.]]\n",
        "#bands = [[4.,7.],[8.,12.],[13.,29.]]\n",
        "bands_flag=str(bands).strip(\"[]\").replace(\" \", \"\")"
      ],
      "metadata": {
        "id": "gbAvc7wkgDaN"
      },
      "execution_count": 72,
      "outputs": []
    },
    {
      "cell_type": "code",
      "source": [
        "methods = ['coh']\n",
        "#methods = ['ciplv']\n",
        "#methods = ['wpli']\n",
        "#methods = ['coh', 'plv', 'ciplv', 'ppc', 'pli', 'wpli']\n",
        "methods_flag=str(methods).strip(\"[]\").replace(\" \", \"\")"
      ],
      "metadata": {
        "id": "wS8Oag2LMdBi"
      },
      "execution_count": 66,
      "outputs": []
    },
    {
      "cell_type": "code",
      "source": [
        "ch_names = ['Fz','Fp1','F7','F3','T3','C3','T5','P3','O1','Pz','O2','P4','T6','C4','T4','F4','F8','Fp2']\n",
        "ch_names_flag=str(ch_names).strip(\"[]\").replace(\" \", \"\")"
      ],
      "metadata": {
        "id": "u05cf9H3P5pq"
      },
      "execution_count": 52,
      "outputs": []
    },
    {
      "cell_type": "code",
      "source": [
        "#vmin=0\n",
        "vmin=0.7\n",
        "vmin_flag=str(vmin)\n"
      ],
      "metadata": {
        "id": "hEhCzWAHhxTz"
      },
      "execution_count": 75,
      "outputs": []
    },
    {
      "cell_type": "code",
      "source": [
        "duration=5*1/bands[0][0]\n",
        "duration_flag=str(duration)"
      ],
      "metadata": {
        "id": "SJeBGBzSiS8O"
      },
      "execution_count": 76,
      "outputs": []
    },
    {
      "cell_type": "code",
      "source": [
        "overlap=duration-0.1\n",
        "overlap_flag=str(overlap)"
      ],
      "metadata": {
        "id": "19rhNWmjiSd0"
      },
      "execution_count": 77,
      "outputs": []
    },
    {
      "cell_type": "markdown",
      "source": [
        "# run"
      ],
      "metadata": {
        "id": "AmaQaiNhbKQ3"
      }
    },
    {
      "cell_type": "code",
      "source": [
        "#!/bin/bash\n",
        "%mkdir out\n",
        "%mkdir out/parts\n",
        "%mkdir out/parts_out\n",
        "for i in range(1):\n",
        "  %rm out/parts_out/*\n",
        "  !python bdf_coh_3d_viz.py --input {input_flag} --prefix {prefix_flag} --output {output_flag} --ch_names {ch_names_flag} --methods {methods_flag} --bands {bands_flag} --vmin {vmin_flag} --duration {duration_flag} --overlap {overlap_flag}\n",
        "#  !python bdf_coh_3d_viz.py --input \"/content/eeg/20211130-162023-sync1.bdf\",\"/content/eeg/20211130-162023-sync2.bdf\",\"/content/eeg/20211130-162023-sync3.bdf\",\"/content/eeg/20211130-162023-sync4.bdf\" --prefix \"sync1\",\"sync2\",\"sync3\",\"sync4\" --output \"20211130-162023-syncs\"\n",
        "  %cp out/parts_out/* out/parts\n",
        "  %rm out/parts_out/*\n"
      ],
      "metadata": {
        "id": "OHXpLMCfRrG3"
      },
      "execution_count": null,
      "outputs": []
    },
    {
      "cell_type": "code",
      "source": [
        "!chmod +x ./out/20211130-162023-syncs_circle_coh_8-12hz_vmin0.7_23692.sh\n",
        "!./out/20211130-162023-syncs_circle_coh_8-12hz_vmin0.7_23692.sh"
      ],
      "metadata": {
        "id": "uYKKLGs-gfEX"
      },
      "execution_count": null,
      "outputs": []
    },
    {
      "cell_type": "code",
      "source": [
        "!chmod +x ./out/20211130-221138-syncs_circle_coh_8-12hz_vmin0.7_17222.sh\n",
        "!./out/20211130-221138-syncs_circle_coh_8-12hz_vmin0.7_17222.sh"
      ],
      "metadata": {
        "id": "eh4qsnnomrnt"
      },
      "execution_count": null,
      "outputs": []
    },
    {
      "cell_type": "code",
      "source": [
        "!chmod +x ./out/20211130-231131-syncs_circle_coh_8-12hz_vmin0.7_17362.sh\n",
        "!./out/20211130-231131-syncs_circle_coh_8-12hz_vmin0.7_17362.sh"
      ],
      "metadata": {
        "id": "vdW2H0XDmra1"
      },
      "execution_count": null,
      "outputs": []
    }
  ]
}