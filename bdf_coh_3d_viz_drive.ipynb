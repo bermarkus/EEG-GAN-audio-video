{
  "nbformat": 4,
  "nbformat_minor": 0,
  "metadata": {
    "colab": {
      "name": "bdf_coh_3d_viz_drive.ipynb",
      "provenance": [],
      "collapsed_sections": [],
      "authorship_tag": "ABX9TyOeLp9y9Judbw1AOEz+479k",
      "include_colab_link": true
    },
    "kernelspec": {
      "name": "python3",
      "display_name": "Python 3"
    },
    "language_info": {
      "name": "python"
    }
  },
  "cells": [
    {
      "cell_type": "markdown",
      "metadata": {
        "id": "view-in-github",
        "colab_type": "text"
      },
      "source": [
        "<a href=\"https://colab.research.google.com/github/neuroidss/EEG-GAN-audio-video/blob/main/bdf_coh_3d_viz_drive.ipynb\" target=\"_parent\"><img src=\"https://colab.research.google.com/assets/colab-badge.svg\" alt=\"Open In Colab\"/></a>"
      ]
    },
    {
      "cell_type": "markdown",
      "source": [
        "# Init"
      ],
      "metadata": {
        "id": "uqrQxAS9a0AR"
      }
    },
    {
      "cell_type": "code",
      "source": [
        "  import os\n",
        "  if 'COLAB_GPU' in os.environ:\n",
        "    print(\"I'm running on Colab\")\n",
        "    from google.colab import drive\n",
        "    drive.mount('/content/drive', force_remount=True)\n",
        "  else:\n",
        "    !mkdir /content/drive\n",
        "    !mkdir /content/drive/MyDrive\n"
      ],
      "metadata": {
        "colab": {
          "base_uri": "https://localhost:8080/"
        },
        "id": "xrEwaCJWST5k",
        "outputId": "68007dbb-64cb-4157-9aa9-4132a027aabd"
      },
      "execution_count": 22,
      "outputs": [
        {
          "output_type": "stream",
          "name": "stdout",
          "text": [
            "I'm running on Colab\n",
            "Mounted at /content/drive\n"
          ]
        }
      ]
    },
    {
      "cell_type": "code",
      "source": [
        "import os\n",
        "drive_path = '/content/drive/MyDrive/'\n",
        "repo_container_dir = 'neuroidss'\n",
        "repo_name = 'EEG-GAN-audio-video'\n",
        "git_repo = 'https://github.com/'+repo_container_dir+'/'+repo_name+'.git'\n",
        "#git_repo = 'https://github.com/neuroidss/EEG-GAN-audio-video.git'\n",
        "branch_name = 'main'\n",
        "\n",
        "working_dir = os.path.join(drive_path, repo_container_dir, repo_name)#, branch_name)\n",
        "\n",
        "if os.path.isdir(working_dir):\n",
        "  %cd {working_dir}\n",
        "else:\n",
        "  container_path = os.path.join(drive_path, repo_container_dir)\n",
        "  if not os.path.isdir(container_path):\n",
        "    os.makedirs(container_path)\n",
        "  %cd {container_path}\n",
        "  !git clone --branch {branch_name} {git_repo}\n",
        "  %cd {repo_name}"
      ],
      "metadata": {
        "colab": {
          "base_uri": "https://localhost:8080/"
        },
        "id": "YWe3mMUOhqDb",
        "outputId": "d0ace39d-b35e-4fa3-b5dc-18c627823b01"
      },
      "execution_count": 25,
      "outputs": [
        {
          "output_type": "stream",
          "name": "stdout",
          "text": [
            "/content/drive/MyDrive/neuroidss/EEG-GAN-audio-video\n"
          ]
        }
      ]
    },
    {
      "cell_type": "code",
      "source": [
        "!pip install mne==0.23.3\n",
        "!pip install pandas\n",
        "!pip install matplotlib"
      ],
      "metadata": {
        "colab": {
          "base_uri": "https://localhost:8080/"
        },
        "id": "HqFeh_EYhDdy",
        "outputId": "420c621e-3356-4354-cf5c-8dac2a579a30"
      },
      "execution_count": 26,
      "outputs": [
        {
          "output_type": "stream",
          "name": "stdout",
          "text": [
            "Looking in indexes: https://pypi.org/simple, https://us-python.pkg.dev/colab-wheels/public/simple/\n",
            "Collecting mne==0.23.3\n",
            "  Using cached mne-0.23.3-py3-none-any.whl (6.9 MB)\n",
            "Requirement already satisfied: numpy>=1.15.4 in /usr/local/lib/python3.7/dist-packages (from mne==0.23.3) (1.21.6)\n",
            "Requirement already satisfied: scipy>=1.1.0 in /usr/local/lib/python3.7/dist-packages (from mne==0.23.3) (1.7.3)\n",
            "Installing collected packages: mne\n",
            "  Attempting uninstall: mne\n",
            "    Found existing installation: mne 1.0.3\n",
            "    Uninstalling mne-1.0.3:\n",
            "      Successfully uninstalled mne-1.0.3\n",
            "Successfully installed mne-0.23.3\n",
            "Looking in indexes: https://pypi.org/simple, https://us-python.pkg.dev/colab-wheels/public/simple/\n",
            "Requirement already satisfied: pandas in /usr/local/lib/python3.7/dist-packages (1.3.5)\n",
            "Requirement already satisfied: python-dateutil>=2.7.3 in /usr/local/lib/python3.7/dist-packages (from pandas) (2.8.2)\n",
            "Requirement already satisfied: pytz>=2017.3 in /usr/local/lib/python3.7/dist-packages (from pandas) (2022.1)\n",
            "Requirement already satisfied: numpy>=1.17.3 in /usr/local/lib/python3.7/dist-packages (from pandas) (1.21.6)\n",
            "Requirement already satisfied: six>=1.5 in /usr/local/lib/python3.7/dist-packages (from python-dateutil>=2.7.3->pandas) (1.15.0)\n",
            "Looking in indexes: https://pypi.org/simple, https://us-python.pkg.dev/colab-wheels/public/simple/\n",
            "Requirement already satisfied: matplotlib in /usr/local/lib/python3.7/dist-packages (3.2.2)\n",
            "Requirement already satisfied: pyparsing!=2.0.4,!=2.1.2,!=2.1.6,>=2.0.1 in /usr/local/lib/python3.7/dist-packages (from matplotlib) (3.0.9)\n",
            "Requirement already satisfied: cycler>=0.10 in /usr/local/lib/python3.7/dist-packages (from matplotlib) (0.11.0)\n",
            "Requirement already satisfied: python-dateutil>=2.1 in /usr/local/lib/python3.7/dist-packages (from matplotlib) (2.8.2)\n",
            "Requirement already satisfied: numpy>=1.11 in /usr/local/lib/python3.7/dist-packages (from matplotlib) (1.21.6)\n",
            "Requirement already satisfied: kiwisolver>=1.0.1 in /usr/local/lib/python3.7/dist-packages (from matplotlib) (1.4.4)\n",
            "Requirement already satisfied: typing-extensions in /usr/local/lib/python3.7/dist-packages (from kiwisolver>=1.0.1->matplotlib) (4.1.1)\n",
            "Requirement already satisfied: six>=1.5 in /usr/local/lib/python3.7/dist-packages (from python-dateutil>=2.1->matplotlib) (1.15.0)\n"
          ]
        }
      ]
    },
    {
      "cell_type": "code",
      "source": [
        "def download_file_from_google_drive(file_id,dest_path):\n",
        "  import os.path\n",
        "  if not os.path.isfile(dest_path):  \n",
        "    !mkdir -p $(dirname {dest_path})\n",
        "    !wget --save-cookies cookies.txt 'https://docs.google.com/uc?export=download&id='{file_id} -O- | sed -rn 's/.*confirm=([0-9A-Za-z_]+).*/\\1/p' > confirm.txt\n",
        "    !wget --load-cookies cookies.txt -O {dest_path} 'https://docs.google.com/uc?export=download&id='{file_id}'&confirm='$(<confirm.txt)"
      ],
      "metadata": {
        "id": "EgVzSmVUhrzz"
      },
      "execution_count": 27,
      "outputs": []
    },
    {
      "cell_type": "code",
      "source": [
        "!mkdir /content/drive/MyDrive/{repo_container_dir}/{repo_name}/eeg\n",
        "!ln -s /content/drive/MyDrive/{repo_container_dir}/{repo_name}/eeg /content/eeg\n"
      ],
      "metadata": {
        "id": "5gYaa5pIhpwU"
      },
      "execution_count": 28,
      "outputs": []
    },
    {
      "cell_type": "code",
      "source": [
        "  !pip install Pillow\n",
        "  import PIL.Image \n",
        "  !pip install tqdm\n",
        "  from tqdm import tqdm\n",
        "  !pip install imageio==2.4.1\n",
        "  !pip install imageio-ffmpeg==0.4.3 pyspng==0.1.0\n"
      ],
      "metadata": {
        "colab": {
          "base_uri": "https://localhost:8080/"
        },
        "id": "3is4BjHAi1MK",
        "outputId": "3324c40b-1e58-429d-f056-08e379756302"
      },
      "execution_count": 29,
      "outputs": [
        {
          "output_type": "stream",
          "name": "stdout",
          "text": [
            "Looking in indexes: https://pypi.org/simple, https://us-python.pkg.dev/colab-wheels/public/simple/\n",
            "Requirement already satisfied: Pillow in /usr/local/lib/python3.7/dist-packages (7.1.2)\n",
            "Looking in indexes: https://pypi.org/simple, https://us-python.pkg.dev/colab-wheels/public/simple/\n",
            "Requirement already satisfied: tqdm in /usr/local/lib/python3.7/dist-packages (4.64.0)\n",
            "Looking in indexes: https://pypi.org/simple, https://us-python.pkg.dev/colab-wheels/public/simple/\n",
            "Requirement already satisfied: imageio==2.4.1 in /usr/local/lib/python3.7/dist-packages (2.4.1)\n",
            "Requirement already satisfied: numpy in /usr/local/lib/python3.7/dist-packages (from imageio==2.4.1) (1.21.6)\n",
            "Requirement already satisfied: pillow in /usr/local/lib/python3.7/dist-packages (from imageio==2.4.1) (7.1.2)\n",
            "Looking in indexes: https://pypi.org/simple, https://us-python.pkg.dev/colab-wheels/public/simple/\n",
            "Requirement already satisfied: imageio-ffmpeg==0.4.3 in /usr/local/lib/python3.7/dist-packages (0.4.3)\n",
            "Requirement already satisfied: pyspng==0.1.0 in /usr/local/lib/python3.7/dist-packages (0.1.0)\n",
            "Requirement already satisfied: numpy in /usr/local/lib/python3.7/dist-packages (from pyspng==0.1.0) (1.21.6)\n"
          ]
        }
      ]
    },
    {
      "cell_type": "code",
      "source": [
        "  !pip install mne_connectivity"
      ],
      "metadata": {
        "colab": {
          "base_uri": "https://localhost:8080/"
        },
        "id": "bnou3xWFjPu5",
        "outputId": "e5308847-0671-454a-aaa7-18601843ea69"
      },
      "execution_count": 30,
      "outputs": [
        {
          "output_type": "stream",
          "name": "stdout",
          "text": [
            "Looking in indexes: https://pypi.org/simple, https://us-python.pkg.dev/colab-wheels/public/simple/\n",
            "Requirement already satisfied: mne_connectivity in /usr/local/lib/python3.7/dist-packages (0.3)\n",
            "Requirement already satisfied: mne in /usr/local/lib/python3.7/dist-packages (from mne_connectivity) (0.23.3)\n",
            "Requirement already satisfied: tqdm in /usr/local/lib/python3.7/dist-packages (from mne_connectivity) (4.64.0)\n",
            "Requirement already satisfied: netCDF4 in /usr/local/lib/python3.7/dist-packages (from mne_connectivity) (1.6.0)\n",
            "Requirement already satisfied: pandas in /usr/local/lib/python3.7/dist-packages (from mne_connectivity) (1.3.5)\n",
            "Requirement already satisfied: scipy in /usr/local/lib/python3.7/dist-packages (from mne_connectivity) (1.7.3)\n",
            "Requirement already satisfied: xarray in /usr/local/lib/python3.7/dist-packages (from mne_connectivity) (0.20.2)\n",
            "Requirement already satisfied: numpy in /usr/local/lib/python3.7/dist-packages (from mne_connectivity) (1.21.6)\n",
            "Requirement already satisfied: cftime in /usr/local/lib/python3.7/dist-packages (from netCDF4->mne_connectivity) (1.6.1)\n",
            "Requirement already satisfied: python-dateutil>=2.7.3 in /usr/local/lib/python3.7/dist-packages (from pandas->mne_connectivity) (2.8.2)\n",
            "Requirement already satisfied: pytz>=2017.3 in /usr/local/lib/python3.7/dist-packages (from pandas->mne_connectivity) (2022.1)\n",
            "Requirement already satisfied: six>=1.5 in /usr/local/lib/python3.7/dist-packages (from python-dateutil>=2.7.3->pandas->mne_connectivity) (1.15.0)\n",
            "Requirement already satisfied: typing-extensions>=3.7 in /usr/local/lib/python3.7/dist-packages (from xarray->mne_connectivity) (4.1.1)\n",
            "Requirement already satisfied: importlib-metadata in /usr/local/lib/python3.7/dist-packages (from xarray->mne_connectivity) (4.12.0)\n",
            "Requirement already satisfied: zipp>=0.5 in /usr/local/lib/python3.7/dist-packages (from importlib-metadata->xarray->mne_connectivity) (3.8.1)\n"
          ]
        }
      ]
    },
    {
      "cell_type": "code",
      "source": [
        "#%mkdir /content/out\n",
        "#%mkdir /content/out/parts_out\n",
        "#%mkdir /content/out/parts"
      ],
      "metadata": {
        "id": "QzcLauffjsA6"
      },
      "execution_count": 31,
      "outputs": []
    },
    {
      "cell_type": "code",
      "source": [
        "%cd /content"
      ],
      "metadata": {
        "colab": {
          "base_uri": "https://localhost:8080/"
        },
        "id": "ZF6o5NJHnjI6",
        "outputId": "9333e0a9-673d-4837-b3e4-7c480d0de26a"
      },
      "execution_count": 32,
      "outputs": [
        {
          "output_type": "stream",
          "name": "stdout",
          "text": [
            "/content\n"
          ]
        }
      ]
    },
    {
      "cell_type": "code",
      "source": [
        "!ln -s /content/drive/MyDrive/{repo_container_dir}/{repo_name}/bdf_coh_3d_viz.sh /content/bdf_coh_3d_viz.sh\n",
        "!ln -s /content/drive/MyDrive/{repo_container_dir}/{repo_name}/bdf_coh_3d_viz.py /content/bdf_coh_3d_viz.py\n",
        "!chmod +x /content/drive/MyDrive/{repo_container_dir}/{repo_name}/bdf_coh_3d_viz.sh\n"
      ],
      "metadata": {
        "id": "_IkoC7IvotmB",
        "colab": {
          "base_uri": "https://localhost:8080/"
        },
        "outputId": "b8d57a43-6ce2-4709-a335-628623e6fbc7"
      },
      "execution_count": 33,
      "outputs": [
        {
          "output_type": "stream",
          "name": "stdout",
          "text": [
            "ln: failed to create symbolic link '/content/bdf_coh_3d_viz.sh': File exists\n",
            "ln: failed to create symbolic link '/content/bdf_coh_3d_viz.py': File exists\n"
          ]
        }
      ]
    },
    {
      "cell_type": "code",
      "source": [
        "!pip install absl-py"
      ],
      "metadata": {
        "colab": {
          "base_uri": "https://localhost:8080/"
        },
        "id": "tyPbHPF_E01E",
        "outputId": "c010c92f-7891-41d9-a70e-8fc2266f09e5"
      },
      "execution_count": 34,
      "outputs": [
        {
          "output_type": "stream",
          "name": "stdout",
          "text": [
            "Looking in indexes: https://pypi.org/simple, https://us-python.pkg.dev/colab-wheels/public/simple/\n",
            "Requirement already satisfied: absl-py in /usr/local/lib/python3.7/dist-packages (1.2.0)\n"
          ]
        }
      ]
    },
    {
      "cell_type": "code",
      "source": [
        "!pip install --upgrade gdown"
      ],
      "metadata": {
        "id": "jY1-Vek0b3lK",
        "colab": {
          "base_uri": "https://localhost:8080/"
        },
        "outputId": "4eec1893-9ac2-4631-82b0-05334b2584d1"
      },
      "execution_count": 35,
      "outputs": [
        {
          "output_type": "stream",
          "name": "stdout",
          "text": [
            "Looking in indexes: https://pypi.org/simple, https://us-python.pkg.dev/colab-wheels/public/simple/\n",
            "Requirement already satisfied: gdown in /usr/local/lib/python3.7/dist-packages (4.5.1)\n",
            "Requirement already satisfied: filelock in /usr/local/lib/python3.7/dist-packages (from gdown) (3.7.1)\n",
            "Requirement already satisfied: beautifulsoup4 in /usr/local/lib/python3.7/dist-packages (from gdown) (4.6.3)\n",
            "Requirement already satisfied: tqdm in /usr/local/lib/python3.7/dist-packages (from gdown) (4.64.0)\n",
            "Requirement already satisfied: requests[socks] in /usr/local/lib/python3.7/dist-packages (from gdown) (2.23.0)\n",
            "Requirement already satisfied: six in /usr/local/lib/python3.7/dist-packages (from gdown) (1.15.0)\n",
            "Requirement already satisfied: certifi>=2017.4.17 in /usr/local/lib/python3.7/dist-packages (from requests[socks]->gdown) (2022.6.15)\n",
            "Requirement already satisfied: idna<3,>=2.5 in /usr/local/lib/python3.7/dist-packages (from requests[socks]->gdown) (2.10)\n",
            "Requirement already satisfied: chardet<4,>=3.0.2 in /usr/local/lib/python3.7/dist-packages (from requests[socks]->gdown) (3.0.4)\n",
            "Requirement already satisfied: urllib3!=1.25.0,!=1.25.1,<1.26,>=1.21.1 in /usr/local/lib/python3.7/dist-packages (from requests[socks]->gdown) (1.24.3)\n",
            "Requirement already satisfied: PySocks!=1.5.7,>=1.5.6 in /usr/local/lib/python3.7/dist-packages (from requests[socks]->gdown) (1.7.1)\n"
          ]
        }
      ]
    },
    {
      "cell_type": "markdown",
      "source": [
        "# parameters"
      ],
      "metadata": {
        "id": "9nysyjODbDry"
      }
    },
    {
      "cell_type": "code",
      "source": [
        "\n",
        "#!pip install googledrivedownloader\n",
        "#from google_drive_downloader import GoogleDriveDownloader as gdd\n",
        "files_path=[]\n",
        "#if generate&gen_drums:\n",
        "#files_path = [['1Nfzi6yT83SBZxtgIYVtYp7C7g_Sq9OdS', '/content/eeg/record-[2019.11.13-22.23.59].csv'],\n",
        "#              ['1LtMfr9GduR3semMVgh_6JoUSKbCG8XbH', '/content/eeg/record-[2020.06.28-14.26.09].csv']]\n",
        "#for i in range(len(files_path)):\n",
        "##  gdd.download_file_from_google_drive(file_id=files_path[i][0], dest_path=files_path[i][1])\n",
        "#  download_file_from_google_drive(file_id=files_path[i][0], dest_path=files_path[i][1])\n",
        "\n",
        "#files_path = [['1nIiilGVq8XXU7bb1UC5GDtmGbovuil9C', '/content/eeg/5min_experienced_meditator_unfiltered_signals.bdf', '5min_experienced_meditator_unfiltered_signals']]\n",
        "\n",
        "#for i in range(len(files_path)):\n",
        "##  gdd.download_file_from_google_drive(file_id=files_path[i][0], dest_path=files_path[i][1])\n",
        "#  download_file_from_google_drive(file_id=files_path[i][0], dest_path=files_path[i][1])\n",
        "\n",
        "#files_path = [['1BphDQFJZ0aIMiZbkQ55_MzNxOrdq0Jcb', '/content/eeg/01-07-2022_15-34.bdf', '01-07-2022_15-34'],\n",
        "#              ['1HlDuAO8n_hmH1PWlT46T1Waqyy5yz1LV', '/content/eeg/01-07-2022_18-32.bdf', '01-07-2022_18-32'],\n",
        "#              ['1u_8ANTzYB9jP7wCnErivF1ClM1rXixSg', '/content/eeg/01-07-2022_16-52.bdf', '01-07-2022_16-52'],\n",
        "#              ['1_cgoBcHAf3VRIorYafC-vHLAGpv8Papz', '/content/eeg/01-07-2022_17-39.bdf', '01-07-2022_17-39'],\n",
        "#              ['1JMLtO_sQtZtdQHQ2RCZ0RbRj3cvk0G_2', '/content/eeg/01-07-2022_14-05.bdf', '01-07-2022_14-05'],\n",
        "#              ['1ag-1yK-HSxNRh_5wnP9h-kOkVyX3YqSs', '/content/eeg/01-07-2022_18-32_signals.csv']]\n",
        "\n",
        "#for i in range(len(files_path)):\n",
        "##  gdd.download_file_from_google_drive(file_id=files_path[i][0], dest_path=files_path[i][1])\n",
        "#  download_file_from_google_drive(file_id=files_path[i][0], dest_path=files_path[i][1])\n",
        "\n",
        "#files_path = [['16j4PwPoudiCVB_HF9m0fCYIt3uUZR3kA', '/content/eeg/20211130-162023-sync1.bdf', '20211130-162023-sync1', '20211130-162023-syncs'],\n",
        "#              ['16kSyskI7qOZRitvNIzd4iy6irqhgLwsI', '/content/eeg/20211130-162023-sync2.bdf', '20211130-162023-sync2', '20211130-162023-syncs'],\n",
        "#              ['16k88jpP7uZKKDT-WhZKcvGsnPclDA2TF', '/content/eeg/20211130-162023-sync3.bdf', '20211130-162023-sync3', '20211130-162023-syncs'],\n",
        "#              ['16licSohQPcbLnJmMD88In5PbiiLjOB_N', '/content/eeg/20211130-162023-sync4.bdf', '20211130-162023-sync4', '20211130-162023-syncs'],\n",
        "#              ['16nHtHn1BBkzb9oTl4EhJmPHPEB4Q8CVl', '/content/eeg/20211130-221138-sync1.bdf', '20211130-221138-sync1', '20211130-221138-syncs'],\n",
        "#              ['16m5Kp0WEdz3GixvQ7-jPVLdQUhXmIbA6', '/content/eeg/20211130-221138-sync2.bdf', '20211130-221138-sync2', '20211130-221138-syncs'],\n",
        "#              ['16mJVZV1XT-RULgcSKUSROOQnQr6CHYCK', '/content/eeg/20211130-221138-sync3.bdf', '20211130-221138-sync3', '20211130-221138-syncs'],\n",
        "#              ['16nh5R44VIRDFbYmFk7sDQeMXEAA1veY4', '/content/eeg/20211130-221138-sync4.bdf', '20211130-221138-sync4', '20211130-221138-syncs'],\n",
        "#              ['16oygYh5ZerFWmNHNMaFqZxUNbC0yj-oW', '/content/eeg/20211130-231131-sync1.bdf', '20211130-231131-sync1', '20211130-231131-syncs'],\n",
        "#              ['16q-Rl-L6NcTxdKco347Q63eK8Z3e5h-F', '/content/eeg/20211130-231131-sync2.bdf', '20211130-231131-sync2', '20211130-231131-syncs'],\n",
        "#              ['16o9MNod2FHz3tplGv14a8vxNR8EVGfxx', '/content/eeg/20211130-231131-sync3.bdf', '20211130-231131-sync3', '20211130-231131-syncs'],\n",
        "#              ['16oszc_L44xtZNOgBuEJtgSjwl1Pob825', '/content/eeg/20211130-231131-sync4.bdf', '20211130-231131-sync4', '20211130-231131-syncs']]\n",
        "\n",
        "\n",
        "files_path = [['16j4PwPoudiCVB_HF9m0fCYIt3uUZR3kA', '/content/eeg/20211130-162023-sync1.bdf', 'sync1_', '20211130-162023-syncs'],\n",
        "              ['16kSyskI7qOZRitvNIzd4iy6irqhgLwsI', '/content/eeg/20211130-162023-sync2.bdf', 'sync2_', '20211130-162023-syncs'],\n",
        "              ['16k88jpP7uZKKDT-WhZKcvGsnPclDA2TF', '/content/eeg/20211130-162023-sync3.bdf', 'sync3_', '20211130-162023-syncs'],\n",
        "              ['16licSohQPcbLnJmMD88In5PbiiLjOB_N', '/content/eeg/20211130-162023-sync4.bdf', 'sync4_', '20211130-162023-syncs']]\n",
        "#files_path = [['16nHtHn1BBkzb9oTl4EhJmPHPEB4Q8CVl', '/content/eeg/20211130-221138-sync1.bdf', 'sync1_', '20211130-221138-syncs'],\n",
        "#              ['16m5Kp0WEdz3GixvQ7-jPVLdQUhXmIbA6', '/content/eeg/20211130-221138-sync2.bdf', 'sync2_', '20211130-221138-syncs'],\n",
        "#              ['16mJVZV1XT-RULgcSKUSROOQnQr6CHYCK', '/content/eeg/20211130-221138-sync3.bdf', 'sync3_', '20211130-221138-syncs'],\n",
        "#              ['16nh5R44VIRDFbYmFk7sDQeMXEAA1veY4', '/content/eeg/20211130-221138-sync4.bdf', 'sync4_', '20211130-221138-syncs']]\n",
        "#files_path = [['16oygYh5ZerFWmNHNMaFqZxUNbC0yj-oW', '/content/eeg/20211130-231131-sync1.bdf', 'sync1_', '20211130-231131-syncs'],\n",
        "#              ['16q-Rl-L6NcTxdKco347Q63eK8Z3e5h-F', '/content/eeg/20211130-231131-sync2.bdf', 'sync2_', '20211130-231131-syncs'],\n",
        "#              ['16o9MNod2FHz3tplGv14a8vxNR8EVGfxx', '/content/eeg/20211130-231131-sync3.bdf', 'sync3_', '20211130-231131-syncs'],\n",
        "#              ['16oszc_L44xtZNOgBuEJtgSjwl1Pob825', '/content/eeg/20211130-231131-sync4.bdf', 'sync4_', '20211130-231131-syncs']]\n",
        "\n",
        "files_path = [['16j4PwPoudiCVB_HF9m0fCYIt3uUZR3kA', '/content/eeg/20211130-162023-sync1.bdf', '', '20211130-162023-sync1']]\n",
        "\n",
        "for i in range(len(files_path)):\n",
        "#  gdd.download_file_from_google_drive(file_id=files_path[i][0], dest_path=files_path[i][1])\n",
        "  download_file_from_google_drive(file_id=files_path[i][0], dest_path=files_path[i][1])\n",
        "\n",
        "\n",
        "files_path_flag=str(files_path)\n",
        "input=[]\n",
        "for file_path_index in range(len(files_path)):\n",
        "  input.append(files_path[file_path_index][1])\n",
        "input_flag=str(input).strip(\"[]\").replace(\" \", \"\")\n",
        "prefix=[]\n",
        "for file_path_index in range(len(files_path)):\n",
        "  prefix.append(files_path[file_path_index][2])\n",
        "prefix_flag=str(prefix).strip(\"[]\").replace(\" \", \"\")\n",
        "output_flag=str(files_path[0][3])\n"
      ],
      "metadata": {
        "id": "xIuwDgKThnZg",
        "colab": {
          "base_uri": "https://localhost:8080/"
        },
        "outputId": "afe466d4-42b4-44c8-d1af-65f653a00d43"
      },
      "execution_count": 36,
      "outputs": [
        {
          "output_type": "stream",
          "name": "stdout",
          "text": [
            "--2022-07-31 21:09:57--  https://docs.google.com/uc?export=download&id=16j4PwPoudiCVB_HF9m0fCYIt3uUZR3kA\n",
            "Resolving docs.google.com (docs.google.com)... 142.250.152.101, 142.250.152.100, 142.250.152.139, ...\n",
            "Connecting to docs.google.com (docs.google.com)|142.250.152.101|:443... connected.\n",
            "HTTP request sent, awaiting response... 303 See Other\n",
            "Location: https://doc-0s-1k-docs.googleusercontent.com/docs/securesc/ha0ro937gcuc7l7deffksulhg5h7mbp1/d9flh5rl2gr1r5osrpech3048r1je8pr/1659301725000/00549515794019844199/*/16j4PwPoudiCVB_HF9m0fCYIt3uUZR3kA?e=download&uuid=a4248a57-e8d0-4830-9ab2-e6b83c4e14df [following]\n",
            "Warning: wildcards not supported in HTTP.\n",
            "--2022-07-31 21:09:59--  https://doc-0s-1k-docs.googleusercontent.com/docs/securesc/ha0ro937gcuc7l7deffksulhg5h7mbp1/d9flh5rl2gr1r5osrpech3048r1je8pr/1659301725000/00549515794019844199/*/16j4PwPoudiCVB_HF9m0fCYIt3uUZR3kA?e=download&uuid=a4248a57-e8d0-4830-9ab2-e6b83c4e14df\n",
            "Resolving doc-0s-1k-docs.googleusercontent.com (doc-0s-1k-docs.googleusercontent.com)... 74.125.126.132, 2607:f8b0:4001:c1d::84\n",
            "Connecting to doc-0s-1k-docs.googleusercontent.com (doc-0s-1k-docs.googleusercontent.com)|74.125.126.132|:443... connected.\n",
            "HTTP request sent, awaiting response... 200 OK\n",
            "Length: 80363364 (77M) [application/octet-stream]\n",
            "Saving to: ‘STDOUT’\n",
            "\n",
            "-                   100%[===================>]  76.64M   155MB/s    in 0.5s    \n",
            "\n",
            "2022-07-31 21:10:00 (155 MB/s) - written to stdout [80363364/80363364]\n",
            "\n",
            "--2022-07-31 21:10:00--  https://docs.google.com/uc?export=download&id=16j4PwPoudiCVB_HF9m0fCYIt3uUZR3kA&confirm=\n",
            "Resolving docs.google.com (docs.google.com)... 172.217.214.139, 172.217.214.100, 172.217.214.138, ...\n",
            "Connecting to docs.google.com (docs.google.com)|172.217.214.139|:443... connected.\n",
            "HTTP request sent, awaiting response... 303 See Other\n",
            "Location: https://doc-0s-1k-docs.googleusercontent.com/docs/securesc/ha0ro937gcuc7l7deffksulhg5h7mbp1/u10a683gckbfq3rbauoquatjc5on60tu/1659301800000/00549515794019844199/*/16j4PwPoudiCVB_HF9m0fCYIt3uUZR3kA?e=download&uuid=63c472e2-5d44-40a8-89c7-a9ace0481220 [following]\n",
            "Warning: wildcards not supported in HTTP.\n",
            "--2022-07-31 21:10:02--  https://doc-0s-1k-docs.googleusercontent.com/docs/securesc/ha0ro937gcuc7l7deffksulhg5h7mbp1/u10a683gckbfq3rbauoquatjc5on60tu/1659301800000/00549515794019844199/*/16j4PwPoudiCVB_HF9m0fCYIt3uUZR3kA?e=download&uuid=63c472e2-5d44-40a8-89c7-a9ace0481220\n",
            "Resolving doc-0s-1k-docs.googleusercontent.com (doc-0s-1k-docs.googleusercontent.com)... 74.125.126.132, 2607:f8b0:4001:c1d::84\n",
            "Connecting to doc-0s-1k-docs.googleusercontent.com (doc-0s-1k-docs.googleusercontent.com)|74.125.126.132|:443... connected.\n",
            "HTTP request sent, awaiting response... 200 OK\n",
            "Length: 80363364 (77M) [application/octet-stream]\n",
            "Saving to: ‘/content/eeg/20211130-162023-sync1.bdf’\n",
            "\n",
            "/content/eeg/202111 100%[===================>]  76.64M  41.6MB/s    in 1.8s    \n",
            "\n",
            "2022-07-31 21:10:03 (41.6 MB/s) - ‘/content/eeg/20211130-162023-sync1.bdf’ saved [80363364/80363364]\n",
            "\n"
          ]
        }
      ]
    },
    {
      "cell_type": "code",
      "source": [
        "#bands = [[4.,7.]]\n",
        "bands = [[8.,12.]]\n",
        "#bands = [[13.,29.]]\n",
        "#bands = [[4.,7.],[8.,12.],[13.,29.]]\n",
        "bands_flag=str(bands).strip(\"[]\").replace(\" \", \"\")"
      ],
      "metadata": {
        "id": "gbAvc7wkgDaN"
      },
      "execution_count": 37,
      "outputs": []
    },
    {
      "cell_type": "code",
      "source": [
        "methods = ['coh']\n",
        "#methods = ['ciplv']\n",
        "#methods = ['wpli']\n",
        "#methods = ['coh', 'plv', 'ciplv', 'ppc', 'pli', 'wpli']\n",
        "methods_flag=str(methods).strip(\"[]\").replace(\" \", \"\")"
      ],
      "metadata": {
        "id": "wS8Oag2LMdBi"
      },
      "execution_count": 38,
      "outputs": []
    },
    {
      "cell_type": "code",
      "source": [
        "ch_names = ['Fz','Fp1','F7','F3','T3','C3','T5','P3','O1','Pz','O2','P4','T6','C4','T4','F4','F8','Fp2']\n",
        "ch_names_flag=str(ch_names).strip(\"[]\").replace(\" \", \"\")"
      ],
      "metadata": {
        "id": "u05cf9H3P5pq"
      },
      "execution_count": 39,
      "outputs": []
    },
    {
      "cell_type": "code",
      "source": [
        "#vmin=0\n",
        "vmin=0.7\n",
        "vmin_flag=str(vmin)\n"
      ],
      "metadata": {
        "id": "hEhCzWAHhxTz"
      },
      "execution_count": 40,
      "outputs": []
    },
    {
      "cell_type": "code",
      "source": [
        "duration=5*1/bands[0][0]\n",
        "duration_flag=str(duration)"
      ],
      "metadata": {
        "id": "SJeBGBzSiS8O"
      },
      "execution_count": 41,
      "outputs": []
    },
    {
      "cell_type": "code",
      "source": [
        "overlap=duration-0.1\n",
        "overlap_flag=str(overlap)"
      ],
      "metadata": {
        "id": "19rhNWmjiSd0"
      },
      "execution_count": 42,
      "outputs": []
    },
    {
      "cell_type": "markdown",
      "source": [
        "# run"
      ],
      "metadata": {
        "id": "AmaQaiNhbKQ3"
      }
    },
    {
      "cell_type": "code",
      "source": [
        "#%mkdir /content/drive/MyDrive/neuroidss\n",
        "#%mkdir /content/drive/MyDrive/neuroidss/EEG-GAN-audio-video\n",
        "%mkdir /content/drive/MyDrive/{repo_container_dir}/{repo_name}/out\n",
        "%mkdir /content/drive/MyDrive/{repo_container_dir}/{repo_name}/out/parts_out\n",
        "%mkdir /content/drive/MyDrive/{repo_container_dir}/{repo_name}/out/parts\n",
        "!ln -s /content/drive/MyDrive/{repo_container_dir}/{repo_name}/out /content/out"
      ],
      "metadata": {
        "id": "vlfHrwpcSqYU"
      },
      "execution_count": 43,
      "outputs": []
    },
    {
      "cell_type": "code",
      "source": [
        "#!/bin/bash\n",
        "#%mkdir out\n",
        "#%mkdir out/parts\n",
        "#%mkdir out/parts_out\n",
        "import glob, os\n",
        "continue_viz=True\n",
        "while continue_viz:\n",
        "  continue_viz=False\n",
        "  %rm /content/out/parts_out/*\n",
        "  !python /content/bdf_coh_3d_viz.py --input {input_flag} --prefix {prefix_flag} --output {output_flag} --ch_names {ch_names_flag} --methods {methods_flag} --bands {bands_flag} --vmin {vmin_flag} --duration {duration_flag} --overlap {overlap_flag}\n",
        "#  !python bdf_coh_3d_viz.py --input \"/content/eeg/20211130-162023-sync1.bdf\",\"/content/eeg/20211130-162023-sync2.bdf\",\"/content/eeg/20211130-162023-sync3.bdf\",\"/content/eeg/20211130-162023-sync4.bdf\" --prefix \"sync1\",\"sync2\",\"sync3\",\"sync4\" --output \"20211130-162023-syncs\"\n",
        "  os.chdir(\"/content/out/parts_out\")\n",
        "  for file in glob.glob(\"*.txt\"):\n",
        "    continue_viz=True\n",
        "  for file in glob.glob(\"*.sh\"):\n",
        "  #if os.path.isfile('/content/out/parts_out/*.txt'):\n",
        "    %cp /content/out/parts_out/* /content/out/parts\n",
        "  %rm /content/out/parts_out/*\n"
      ],
      "metadata": {
        "id": "OHXpLMCfRrG3",
        "colab": {
          "base_uri": "https://localhost:8080/"
        },
        "outputId": "f6d4892a-a208-4ad3-fe6d-eae15e38d4e1"
      },
      "execution_count": null,
      "outputs": [
        {
          "output_type": "stream",
          "name": "stdout",
          "text": [
            "rm: cannot remove '/content/out/parts_out/*': No such file or directory\n",
            "Extracting EDF parameters from /content/eeg/20211130-162023-sync1.bdf...\n",
            "BDF file detected\n",
            "Setting channel info structure...\n",
            "Creating raw.info structure...\n",
            "Creating RawArray with float64 data, n_channels=18, n_times=1213440\n",
            "    Range : 0 ... 1213439 =      0.000 ...  2369.998 secs\n",
            "Ready.\n",
            "Not setting metadata\n",
            "Not setting metadata\n",
            "23694 matching events found\n",
            "No baseline correction applied\n",
            "0 projection items activated\n",
            "Connectivity computation...\n",
            "only using indices for lower-triangular matrix\n",
            "    computing connectivity for 153 connections\n",
            "    using t=0.000s..0.623s for estimation (320 points)\n",
            "    frequencies: 8.0Hz..11.2Hz (3 points)\n",
            "    connectivity scores will be averaged for each band\n",
            "    Using multitaper spectrum estimation with 7 DPSS windows\n",
            "    the following metrics will be computed: Coherence\n",
            "    computing connectivity for epoch 1\n",
            "    computing connectivity for epoch 2\n",
            "    computing connectivity for epoch 3\n",
            "    computing connectivity for epoch 4\n",
            "    computing connectivity for epoch 5\n",
            "    computing connectivity for epoch 6\n",
            "    computing connectivity for epoch 7\n",
            "    computing connectivity for epoch 8\n",
            "    computing connectivity for epoch 9\n",
            "    computing connectivity for epoch 10\n",
            "    assembling connectivity matrix\n",
            "[Connectivity computation done]\n",
            "4200/23692\n",
            "4201/23692\n",
            "4202/23692\n",
            "4203/23692\n",
            "4204/23692\n",
            "4205/23692\n",
            "4206/23692\n",
            "4207/23692\n",
            "4208/23692\n",
            "4209/23692\n",
            "4210/23692\n",
            "4211/23692\n",
            "4212/23692\n",
            "4213/23692\n",
            "4214/23692\n",
            "4215/23692\n",
            "4216/23692\n",
            "4217/23692\n",
            "4218/23692\n",
            "4219/23692\n",
            "4220/23692\n",
            "4221/23692\n",
            "4222/23692\n",
            "4223/23692\n",
            "4224/23692\n",
            "4225/23692\n",
            "4226/23692\n",
            "4227/23692\n",
            "4228/23692\n",
            "4229/23692\n",
            "4230/23692\n",
            "4231/23692\n",
            "4232/23692\n",
            "4233/23692\n"
          ]
        }
      ]
    },
    {
      "cell_type": "code",
      "source": [
        "!chmod +x /content/out/parts/{file}\n",
        "!/content/out/parts/{file}"
      ],
      "metadata": {
        "id": "uYKKLGs-gfEX",
        "colab": {
          "base_uri": "https://localhost:8080/"
        },
        "outputId": "4c8baa7f-0433-42c1-dbde-778176718c59"
      },
      "execution_count": 45,
      "outputs": [
        {
          "output_type": "stream",
          "name": "stdout",
          "text": [
            "ffmpeg version 3.4.11-0ubuntu0.1 Copyright (c) 2000-2022 the FFmpeg developers\n",
            "  built with gcc 7 (Ubuntu 7.5.0-3ubuntu1~18.04)\n",
            "  configuration: --prefix=/usr --extra-version=0ubuntu0.1 --toolchain=hardened --libdir=/usr/lib/x86_64-linux-gnu --incdir=/usr/include/x86_64-linux-gnu --enable-gpl --disable-stripping --enable-avresample --enable-avisynth --enable-gnutls --enable-ladspa --enable-libass --enable-libbluray --enable-libbs2b --enable-libcaca --enable-libcdio --enable-libflite --enable-libfontconfig --enable-libfreetype --enable-libfribidi --enable-libgme --enable-libgsm --enable-libmp3lame --enable-libmysofa --enable-libopenjpeg --enable-libopenmpt --enable-libopus --enable-libpulse --enable-librubberband --enable-librsvg --enable-libshine --enable-libsnappy --enable-libsoxr --enable-libspeex --enable-libssh --enable-libtheora --enable-libtwolame --enable-libvorbis --enable-libvpx --enable-libwavpack --enable-libwebp --enable-libx265 --enable-libxml2 --enable-libxvid --enable-libzmq --enable-libzvbi --enable-omx --enable-openal --enable-opengl --enable-sdl2 --enable-libdc1394 --enable-libdrm --enable-libiec61883 --enable-chromaprint --enable-frei0r --enable-libopencv --enable-libx264 --enable-shared\n",
            "  libavutil      55. 78.100 / 55. 78.100\n",
            "  libavcodec     57.107.100 / 57.107.100\n",
            "  libavformat    57. 83.100 / 57. 83.100\n",
            "  libavdevice    57. 10.100 / 57. 10.100\n",
            "  libavfilter     6.107.100 /  6.107.100\n",
            "  libavresample   3.  7.  0 /  3.  7.  0\n",
            "  libswscale      4.  8.100 /  4.  8.100\n",
            "  libswresample   2.  9.100 /  2.  9.100\n",
            "  libpostproc    54.  7.100 / 54.  7.100\n",
            "\u001b[0;35m[mov,mp4,m4a,3gp,3g2,mj2 @ 0x5644a83f0600] \u001b[0mAuto-inserting h264_mp4toannexb bitstream filter\n",
            "Input #0, concat, from '/content/out/parts/20211130-162023-sync1_circle_coh_8-12hz_vmin0.7_23692.txt':\n",
            "  Duration: N/A, start: 0.000000, bitrate: 897 kb/s\n",
            "    Stream #0:0(und): Video: h264 (High) (avc1 / 0x31637661), yuv420p, 640x640, 897 kb/s, 10 fps, 10 tbr, 10240 tbn, 20 tbc\n",
            "    Metadata:\n",
            "      handler_name    : VideoHandler\n",
            "Output #0, mp4, to '/content/out/20211130-162023-sync1_circle_coh_8-12hz_vmin0.7_23692.mp4':\n",
            "  Metadata:\n",
            "    encoder         : Lavf57.83.100\n",
            "    Stream #0:0(und): Video: h264 (High) (avc1 / 0x31637661), yuv420p, 640x640, q=2-31, 897 kb/s, 10 fps, 10 tbr, 10240 tbn, 10240 tbc\n",
            "    Metadata:\n",
            "      handler_name    : VideoHandler\n",
            "Stream mapping:\n",
            "  Stream #0:0 -> #0:0 (copy)\n",
            "Press [q] to stop, [?] for help\n",
            "\u001b[0;35m[mov,mp4,m4a,3gp,3g2,mj2 @ 0x5644a83f0600] \u001b[0mAuto-inserting h264_mp4toannexb bitstream filter\n",
            "    Last message repeated 1 times\r    Last message repeated 1 times\n",
            "\u001b[0;35m[mov,mp4,m4a,3gp,3g2,mj2 @ 0x5644a83f2a00] \u001b[0mAuto-inserting h264_mp4toannexb bitstream filter\n",
            "    Last message repeated 34 times\n",
            "\u001b[0;35m[mov,mp4,m4a,3gp,3g2,mj2 @ 0x5644a83f2a00] \u001b[0mAuto-inserting h264_mp4toannexb bitstream filter\n",
            "    Last message repeated 3 times\n",
            "\u001b[0;35m[concat @ 0x5644a83f0000] \u001b[0m\u001b[1;31mImpossible to open '/content/out/parts/20211130-162023-sync1_circle_coh_8-12hz_vmin0.7_23692_42.mp4'\n",
            "\u001b[0m\u001b[1;31m/content/out/parts/20211130-162023-sync1_circle_coh_8-12hz_vmin0.7_23692.txt: No such file or directory\n",
            "\u001b[0mframe= 4200 fps=0.0 q=-1.0 Lsize=   40846kB time=00:06:59.70 bitrate= 797.3kbits/s speed= 721x    \n",
            "video:40795kB audio:0kB subtitle:0kB other streams:0kB global headers:0kB muxing overhead: 0.123863%\n"
          ]
        }
      ]
    }
  ]
}