{
  "nbformat": 4,
  "nbformat_minor": 0,
  "metadata": {
    "colab": {
      "name": "bdf_coh_3d_viz_drive.ipynb",
      "provenance": [],
      "collapsed_sections": [],
      "authorship_tag": "ABX9TyNTELNLte4L37ip72x1ud0e",
      "include_colab_link": true
    },
    "kernelspec": {
      "name": "python3",
      "display_name": "Python 3"
    },
    "language_info": {
      "name": "python"
    }
  },
  "cells": [
    {
      "cell_type": "markdown",
      "metadata": {
        "id": "view-in-github",
        "colab_type": "text"
      },
      "source": [
        "<a href=\"https://colab.research.google.com/github/neuroidss/EEG-GAN-audio-video/blob/main/bdf_coh_3d_viz_drive.ipynb\" target=\"_parent\"><img src=\"https://colab.research.google.com/assets/colab-badge.svg\" alt=\"Open In Colab\"/></a>"
      ]
    },
    {
      "cell_type": "markdown",
      "source": [
        "# Init"
      ],
      "metadata": {
        "id": "uqrQxAS9a0AR"
      }
    },
    {
      "cell_type": "code",
      "source": [
        "  import os\n",
        "  if 'COLAB_GPU' in os.environ:\n",
        "    print(\"I'm running on Colab\")\n",
        "    from google.colab import drive\n",
        "    drive.mount('/content/drive', force_remount=True)\n",
        "  else:\n",
        "    !mkdir /content/drive\n",
        "    !mkdir /content/drive/MyDrive\n"
      ],
      "metadata": {
        "colab": {
          "base_uri": "https://localhost:8080/"
        },
        "id": "xrEwaCJWST5k",
        "outputId": "56179927-150d-4d9a-8fc9-a6537daab0e0"
      },
      "execution_count": 1,
      "outputs": [
        {
          "output_type": "stream",
          "name": "stdout",
          "text": [
            "mkdir: cannot create directory ‘/content/drive’: File exists\n",
            "mkdir: cannot create directory ‘/content/drive/MyDrive’: File exists\n"
          ]
        }
      ]
    },
    {
      "cell_type": "code",
      "source": [
        "import os\n",
        "drive_path = '/content/drive/MyDrive/'\n",
        "repo_container_dir = 'neuroidss'\n",
        "repo_name = 'EEG-GAN-audio-video'\n",
        "git_repo = 'https://github.com/'+repo_container_dir+'/'+repo_name+'.git'\n",
        "#git_repo = 'https://github.com/neuroidss/EEG-GAN-audio-video.git'\n",
        "branch_name = 'main'\n",
        "\n",
        "working_dir = os.path.join(drive_path, repo_container_dir, repo_name)#, branch_name)\n",
        "\n",
        "if os.path.isdir(working_dir):\n",
        "  %cd {working_dir}\n",
        "else:\n",
        "  container_path = os.path.join(drive_path, repo_container_dir)\n",
        "  os.makedirs(container_path)\n",
        "  %cd {container_path}\n",
        "  !git clone --branch {branch_name} {git_repo}\n",
        "  %cd {repo_name}"
      ],
      "metadata": {
        "colab": {
          "base_uri": "https://localhost:8080/"
        },
        "id": "YWe3mMUOhqDb",
        "outputId": "febafc24-d75d-40e4-cc36-0fb0f2e93045"
      },
      "execution_count": 2,
      "outputs": [
        {
          "output_type": "stream",
          "name": "stdout",
          "text": [
            "/mnt/6b052ea3-d4af-4897-a048-fe540f13d756/content/drive/MyDrive/neuroidss/EEG-GAN-audio-video\n"
          ]
        }
      ]
    },
    {
      "cell_type": "code",
      "source": [
        "!pip install mne==0.23.3\n",
        "!pip install pandas\n",
        "!pip install matplotlib"
      ],
      "metadata": {
        "colab": {
          "base_uri": "https://localhost:8080/"
        },
        "id": "HqFeh_EYhDdy",
        "outputId": "2d7f57ac-2972-4460-d6fd-bf942cdb5a98"
      },
      "execution_count": 3,
      "outputs": [
        {
          "output_type": "stream",
          "name": "stdout",
          "text": [
            "Collecting mne==0.23.3\r\n",
            "  Using cached mne-0.23.3-py3-none-any.whl (6.9 MB)\n",
            "Collecting scipy>=1.1.0\n",
            "  Using cached scipy-1.7.3-cp37-cp37m-manylinux_2_12_x86_64.manylinux2010_x86_64.whl (38.1 MB)\n",
            "Collecting numpy>=1.15.4\n",
            "  Using cached numpy-1.21.6-cp37-cp37m-manylinux_2_12_x86_64.manylinux2010_x86_64.whl (15.7 MB)\n",
            "Installing collected packages: numpy, scipy, mne\n",
            "Successfully installed mne-0.23.3 numpy-1.21.6 scipy-1.7.3\n",
            "Collecting pandas\n",
            "  Using cached pandas-1.3.5-cp37-cp37m-manylinux_2_17_x86_64.manylinux2014_x86_64.whl (11.3 MB)\n",
            "Requirement already satisfied: numpy>=1.17.3 in /mnt/6b052ea3-d4af-4897-a048-fe540f13d756/content/env/lib/python3.7/site-packages (from pandas) (1.21.6)\n",
            "Requirement already satisfied: python-dateutil>=2.7.3 in /mnt/6b052ea3-d4af-4897-a048-fe540f13d756/content/env/lib/python3.7/site-packages (from pandas) (2.8.2)\n",
            "Requirement already satisfied: pytz>=2017.3 in /mnt/6b052ea3-d4af-4897-a048-fe540f13d756/content/env/lib/python3.7/site-packages (from pandas) (2022.1)\n",
            "Requirement already satisfied: six>=1.5 in /mnt/6b052ea3-d4af-4897-a048-fe540f13d756/content/env/lib/python3.7/site-packages (from python-dateutil>=2.7.3->pandas) (1.16.0)\n",
            "Installing collected packages: pandas\n",
            "Successfully installed pandas-1.3.5\n",
            "Collecting matplotlib\n",
            "  Using cached matplotlib-3.5.2-cp37-cp37m-manylinux_2_5_x86_64.manylinux1_x86_64.whl (11.2 MB)\n",
            "Collecting kiwisolver>=1.0.1\n",
            "  Using cached kiwisolver-1.4.4-cp37-cp37m-manylinux_2_5_x86_64.manylinux1_x86_64.whl (1.1 MB)\n",
            "Collecting pillow>=6.2.0\n",
            "  Using cached Pillow-9.2.0-cp37-cp37m-manylinux_2_17_x86_64.manylinux2014_x86_64.whl (3.1 MB)\n",
            "Requirement already satisfied: python-dateutil>=2.7 in /mnt/6b052ea3-d4af-4897-a048-fe540f13d756/content/env/lib/python3.7/site-packages (from matplotlib) (2.8.2)\n",
            "Collecting fonttools>=4.22.0\n",
            "  Using cached fonttools-4.34.4-py3-none-any.whl (944 kB)\n",
            "Collecting cycler>=0.10\n",
            "  Using cached cycler-0.11.0-py3-none-any.whl (6.4 kB)\n",
            "Requirement already satisfied: numpy>=1.17 in /mnt/6b052ea3-d4af-4897-a048-fe540f13d756/content/env/lib/python3.7/site-packages (from matplotlib) (1.21.6)\n",
            "Requirement already satisfied: pyparsing>=2.2.1 in /mnt/6b052ea3-d4af-4897-a048-fe540f13d756/content/env/lib/python3.7/site-packages (from matplotlib) (3.0.9)\n",
            "Requirement already satisfied: packaging>=20.0 in /mnt/6b052ea3-d4af-4897-a048-fe540f13d756/content/env/lib/python3.7/site-packages (from matplotlib) (21.3)\n",
            "Requirement already satisfied: typing-extensions in /mnt/6b052ea3-d4af-4897-a048-fe540f13d756/content/env/lib/python3.7/site-packages (from kiwisolver>=1.0.1->matplotlib) (4.3.0)\n",
            "Requirement already satisfied: six>=1.5 in /mnt/6b052ea3-d4af-4897-a048-fe540f13d756/content/env/lib/python3.7/site-packages (from python-dateutil>=2.7->matplotlib) (1.16.0)\n",
            "Installing collected packages: pillow, kiwisolver, fonttools, cycler, matplotlib\n",
            "Successfully installed cycler-0.11.0 fonttools-4.34.4 kiwisolver-1.4.4 matplotlib-3.5.2 pillow-9.2.0\n"
          ]
        }
      ]
    },
    {
      "cell_type": "code",
      "source": [
        "def download_file_from_google_drive(file_id,dest_path):\n",
        "  import os.path\n",
        "  if not os.path.isfile(dest_path):  \n",
        "    !mkdir -p $(dirname {dest_path})\n",
        "    !wget --save-cookies cookies.txt 'https://docs.google.com/uc?export=download&id='{file_id} -O- | sed -rn 's/.*confirm=([0-9A-Za-z_]+).*/\\1/p' > confirm.txt\n",
        "    !wget --load-cookies cookies.txt -O {dest_path} 'https://docs.google.com/uc?export=download&id='{file_id}'&confirm='$(<confirm.txt)"
      ],
      "metadata": {
        "id": "EgVzSmVUhrzz"
      },
      "execution_count": 4,
      "outputs": []
    },
    {
      "cell_type": "code",
      "source": [
        "!mkdir /content/drive/MyDrive/{repo_container_dir}/{repo_name}/eeg\n",
        "!ln -s /content/drive/MyDrive/{repo_container_dir}/{repo_name}/eeg /content/eeg\n"
      ],
      "metadata": {
        "id": "5gYaa5pIhpwU",
        "colab": {
          "base_uri": "https://localhost:8080/"
        },
        "outputId": "f6be73f2-7ca6-4480-b155-deb960aa4de3"
      },
      "execution_count": 5,
      "outputs": [
        {
          "output_type": "stream",
          "name": "stdout",
          "text": [
            "mkdir: cannot create directory ‘/content/drive/MyDrive/neuroidss/EEG-GAN-audio-video/eeg’: File exists\n",
            "ln: failed to create symbolic link '/content/eeg/eeg': File exists\n"
          ]
        }
      ]
    },
    {
      "cell_type": "code",
      "source": [
        "  !pip install Pillow\n",
        "  import PIL.Image \n",
        "  !pip install tqdm\n",
        "  from tqdm import tqdm\n",
        "  !pip install imageio==2.4.1\n",
        "  !pip install imageio-ffmpeg==0.4.3 pyspng==0.1.0\n"
      ],
      "metadata": {
        "colab": {
          "base_uri": "https://localhost:8080/"
        },
        "id": "3is4BjHAi1MK",
        "outputId": "3746a486-cecd-4b22-e989-e1ac21be5c2c"
      },
      "execution_count": 6,
      "outputs": [
        {
          "output_type": "stream",
          "name": "stdout",
          "text": [
            "Requirement already satisfied: Pillow in /mnt/6b052ea3-d4af-4897-a048-fe540f13d756/content/env/lib/python3.7/site-packages (9.2.0)\n",
            "Collecting tqdm\n",
            "  Using cached tqdm-4.64.0-py2.py3-none-any.whl (78 kB)\n",
            "Installing collected packages: tqdm\n",
            "Successfully installed tqdm-4.64.0\n",
            "Collecting imageio==2.4.1\n",
            "  Using cached imageio-2.4.1.tar.gz (3.3 MB)\n",
            "  Preparing metadata (setup.py) ... \u001b[?25l-\b \bdone\n",
            "\u001b[?25hRequirement already satisfied: numpy in /mnt/6b052ea3-d4af-4897-a048-fe540f13d756/content/env/lib/python3.7/site-packages (from imageio==2.4.1) (1.21.6)\n",
            "Requirement already satisfied: pillow in /mnt/6b052ea3-d4af-4897-a048-fe540f13d756/content/env/lib/python3.7/site-packages (from imageio==2.4.1) (9.2.0)\n",
            "Using legacy 'setup.py install' for imageio, since package 'wheel' is not installed.\n",
            "Installing collected packages: imageio\n",
            "  Running setup.py install for imageio ... \u001b[?25l-\b \b\\\b \bdone\n",
            "\u001b[?25hSuccessfully installed imageio-2.4.1\n",
            "Collecting imageio-ffmpeg==0.4.3\n",
            "  Using cached imageio_ffmpeg-0.4.3-py3-none-manylinux2010_x86_64.whl (26.9 MB)\n",
            "Collecting pyspng==0.1.0\n",
            "  Using cached pyspng-0.1.0-cp37-cp37m-manylinux2010_x86_64.whl (195 kB)\n",
            "Requirement already satisfied: numpy in /mnt/6b052ea3-d4af-4897-a048-fe540f13d756/content/env/lib/python3.7/site-packages (from pyspng==0.1.0) (1.21.6)\n",
            "Installing collected packages: pyspng, imageio-ffmpeg\n",
            "Successfully installed imageio-ffmpeg-0.4.3 pyspng-0.1.0\n"
          ]
        }
      ]
    },
    {
      "cell_type": "code",
      "source": [
        "  !pip install mne_connectivity"
      ],
      "metadata": {
        "colab": {
          "base_uri": "https://localhost:8080/"
        },
        "id": "bnou3xWFjPu5",
        "outputId": "4b8ef986-1ad4-4b8e-fd31-e964b53c8ce2"
      },
      "execution_count": 7,
      "outputs": [
        {
          "output_type": "stream",
          "name": "stdout",
          "text": [
            "Collecting mne_connectivity\r\n",
            "  Using cached mne_connectivity-0.3-py3-none-any.whl (69 kB)\n",
            "Collecting netCDF4\n",
            "  Using cached netCDF4-1.6.0-cp37-cp37m-manylinux_2_17_x86_64.manylinux2014_x86_64.whl (5.1 MB)\n",
            "Collecting xarray\n",
            "  Using cached xarray-0.20.2-py3-none-any.whl (845 kB)\n",
            "Requirement already satisfied: tqdm in /mnt/6b052ea3-d4af-4897-a048-fe540f13d756/content/env/lib/python3.7/site-packages (from mne_connectivity) (4.64.0)\n",
            "Requirement already satisfied: scipy in /mnt/6b052ea3-d4af-4897-a048-fe540f13d756/content/env/lib/python3.7/site-packages (from mne_connectivity) (1.7.3)\n",
            "Requirement already satisfied: mne in /mnt/6b052ea3-d4af-4897-a048-fe540f13d756/content/env/lib/python3.7/site-packages (from mne_connectivity) (0.23.3)\n",
            "Requirement already satisfied: numpy in /mnt/6b052ea3-d4af-4897-a048-fe540f13d756/content/env/lib/python3.7/site-packages (from mne_connectivity) (1.21.6)\n",
            "Requirement already satisfied: pandas in /mnt/6b052ea3-d4af-4897-a048-fe540f13d756/content/env/lib/python3.7/site-packages (from mne_connectivity) (1.3.5)\n",
            "Collecting cftime\n",
            "  Using cached cftime-1.6.1-cp37-cp37m-manylinux_2_17_x86_64.manylinux2014_x86_64.whl (231 kB)\n",
            "Requirement already satisfied: python-dateutil>=2.7.3 in /mnt/6b052ea3-d4af-4897-a048-fe540f13d756/content/env/lib/python3.7/site-packages (from pandas->mne_connectivity) (2.8.2)\n",
            "Requirement already satisfied: pytz>=2017.3 in /mnt/6b052ea3-d4af-4897-a048-fe540f13d756/content/env/lib/python3.7/site-packages (from pandas->mne_connectivity) (2022.1)\n",
            "Requirement already satisfied: typing-extensions>=3.7 in /mnt/6b052ea3-d4af-4897-a048-fe540f13d756/content/env/lib/python3.7/site-packages (from xarray->mne_connectivity) (4.3.0)\n",
            "Requirement already satisfied: importlib-metadata in /mnt/6b052ea3-d4af-4897-a048-fe540f13d756/content/env/lib/python3.7/site-packages (from xarray->mne_connectivity) (4.12.0)\n",
            "Requirement already satisfied: six>=1.5 in /mnt/6b052ea3-d4af-4897-a048-fe540f13d756/content/env/lib/python3.7/site-packages (from python-dateutil>=2.7.3->pandas->mne_connectivity) (1.16.0)\n",
            "Requirement already satisfied: zipp>=0.5 in /mnt/6b052ea3-d4af-4897-a048-fe540f13d756/content/env/lib/python3.7/site-packages (from importlib-metadata->xarray->mne_connectivity) (3.8.1)\n",
            "Installing collected packages: cftime, netCDF4, xarray, mne_connectivity\n",
            "Successfully installed cftime-1.6.1 mne_connectivity-0.3 netCDF4-1.6.0 xarray-0.20.2\n"
          ]
        }
      ]
    },
    {
      "cell_type": "code",
      "source": [
        "#%mkdir /content/out\n",
        "#%mkdir /content/out/parts_out\n",
        "#%mkdir /content/out/parts"
      ],
      "metadata": {
        "id": "QzcLauffjsA6"
      },
      "execution_count": 9,
      "outputs": []
    },
    {
      "cell_type": "code",
      "source": [
        "%cd /content"
      ],
      "metadata": {
        "colab": {
          "base_uri": "https://localhost:8080/"
        },
        "id": "ZF6o5NJHnjI6",
        "outputId": "0e7df0c5-dcae-45f4-ae73-cf7e37d854da"
      },
      "execution_count": 10,
      "outputs": [
        {
          "output_type": "stream",
          "name": "stdout",
          "text": [
            "/mnt/6b052ea3-d4af-4897-a048-fe540f13d756/content\n"
          ]
        }
      ]
    },
    {
      "cell_type": "code",
      "source": [
        "!ln -s /content/drive/MyDrive/{repo_container_dir}/{repo_name}/bdf_coh_3d_viz.sh /content/bdf_coh_3d_viz.sh\n",
        "!ln -s /content/drive/MyDrive/{repo_container_dir}/{repo_name}/bdf_coh_3d_viz.py /content/bdf_coh_3d_viz.py\n",
        "!chmod +x /content/drive/MyDrive/{repo_container_dir}/{repo_name}/bdf_coh_3d_viz.sh\n"
      ],
      "metadata": {
        "id": "_IkoC7IvotmB",
        "colab": {
          "base_uri": "https://localhost:8080/"
        },
        "outputId": "4aaf1bff-e271-472a-97b7-f3280204b1b2"
      },
      "execution_count": 11,
      "outputs": [
        {
          "output_type": "stream",
          "name": "stdout",
          "text": [
            "ln: failed to create symbolic link './bdf_coh_3d_viz.sh': File exists\n",
            "ln: failed to create symbolic link './bdf_coh_3d_viz.py': File exists\n"
          ]
        }
      ]
    },
    {
      "cell_type": "code",
      "source": [
        "!pip install absl-py"
      ],
      "metadata": {
        "colab": {
          "base_uri": "https://localhost:8080/"
        },
        "id": "tyPbHPF_E01E",
        "outputId": "c9dd6d41-e24a-4b38-871c-0349feff7a91"
      },
      "execution_count": 12,
      "outputs": [
        {
          "output_type": "stream",
          "name": "stdout",
          "text": [
            "Collecting absl-py\r\n",
            "  Using cached absl_py-1.2.0-py3-none-any.whl (123 kB)\n",
            "Installing collected packages: absl-py\n",
            "Successfully installed absl-py-1.2.0\n"
          ]
        }
      ]
    },
    {
      "cell_type": "code",
      "source": [
        "!pip install --upgrade gdown"
      ],
      "metadata": {
        "id": "jY1-Vek0b3lK",
        "colab": {
          "base_uri": "https://localhost:8080/"
        },
        "outputId": "06d80f49-3afa-4135-923c-50ebad466004"
      },
      "execution_count": 13,
      "outputs": [
        {
          "output_type": "stream",
          "name": "stdout",
          "text": [
            "Collecting gdown\r\n",
            "  Using cached gdown-4.5.1-py3-none-any.whl\n",
            "Collecting filelock\n",
            "  Using cached filelock-3.7.1-py3-none-any.whl (10 kB)\n",
            "Requirement already satisfied: beautifulsoup4 in ./env/lib/python3.7/site-packages (from gdown) (4.11.1)\n",
            "Requirement already satisfied: tqdm in ./env/lib/python3.7/site-packages (from gdown) (4.64.0)\n",
            "Requirement already satisfied: requests[socks] in ./env/lib/python3.7/site-packages (from gdown) (2.28.1)\n",
            "Requirement already satisfied: six in ./env/lib/python3.7/site-packages (from gdown) (1.16.0)\n",
            "Requirement already satisfied: soupsieve>1.2 in ./env/lib/python3.7/site-packages (from beautifulsoup4->gdown) (2.3.2.post1)\n",
            "Requirement already satisfied: charset-normalizer<3,>=2 in ./env/lib/python3.7/site-packages (from requests[socks]->gdown) (2.1.0)\n",
            "Requirement already satisfied: certifi>=2017.4.17 in ./env/lib/python3.7/site-packages (from requests[socks]->gdown) (2022.6.15)\n",
            "Requirement already satisfied: urllib3<1.27,>=1.21.1 in ./env/lib/python3.7/site-packages (from requests[socks]->gdown) (1.26.11)\n",
            "Requirement already satisfied: idna<4,>=2.5 in ./env/lib/python3.7/site-packages (from requests[socks]->gdown) (3.3)\n",
            "Collecting PySocks!=1.5.7,>=1.5.6\n",
            "  Using cached PySocks-1.7.1-py3-none-any.whl (16 kB)\n",
            "Installing collected packages: PySocks, filelock, gdown\n",
            "Successfully installed PySocks-1.7.1 filelock-3.7.1 gdown-4.5.1\n"
          ]
        }
      ]
    },
    {
      "cell_type": "markdown",
      "source": [
        "# parameters"
      ],
      "metadata": {
        "id": "9nysyjODbDry"
      }
    },
    {
      "cell_type": "code",
      "source": [
        "\n",
        "#!pip install googledrivedownloader\n",
        "#from google_drive_downloader import GoogleDriveDownloader as gdd\n",
        "files_path=[]\n",
        "#if generate&gen_drums:\n",
        "#files_path = [['1Nfzi6yT83SBZxtgIYVtYp7C7g_Sq9OdS', '/content/eeg/record-[2019.11.13-22.23.59].csv'],\n",
        "#              ['1LtMfr9GduR3semMVgh_6JoUSKbCG8XbH', '/content/eeg/record-[2020.06.28-14.26.09].csv']]\n",
        "#for i in range(len(files_path)):\n",
        "##  gdd.download_file_from_google_drive(file_id=files_path[i][0], dest_path=files_path[i][1])\n",
        "#  download_file_from_google_drive(file_id=files_path[i][0], dest_path=files_path[i][1])\n",
        "\n",
        "#files_path = [['1nIiilGVq8XXU7bb1UC5GDtmGbovuil9C', '/content/eeg/5min_experienced_meditator_unfiltered_signals.bdf', '5min_experienced_meditator_unfiltered_signals']]\n",
        "\n",
        "#for i in range(len(files_path)):\n",
        "##  gdd.download_file_from_google_drive(file_id=files_path[i][0], dest_path=files_path[i][1])\n",
        "#  download_file_from_google_drive(file_id=files_path[i][0], dest_path=files_path[i][1])\n",
        "\n",
        "#files_path = [['1BphDQFJZ0aIMiZbkQ55_MzNxOrdq0Jcb', '/content/eeg/01-07-2022_15-34.bdf', '01-07-2022_15-34'],\n",
        "#              ['1HlDuAO8n_hmH1PWlT46T1Waqyy5yz1LV', '/content/eeg/01-07-2022_18-32.bdf', '01-07-2022_18-32'],\n",
        "#              ['1u_8ANTzYB9jP7wCnErivF1ClM1rXixSg', '/content/eeg/01-07-2022_16-52.bdf', '01-07-2022_16-52'],\n",
        "#              ['1_cgoBcHAf3VRIorYafC-vHLAGpv8Papz', '/content/eeg/01-07-2022_17-39.bdf', '01-07-2022_17-39'],\n",
        "#              ['1JMLtO_sQtZtdQHQ2RCZ0RbRj3cvk0G_2', '/content/eeg/01-07-2022_14-05.bdf', '01-07-2022_14-05'],\n",
        "#              ['1ag-1yK-HSxNRh_5wnP9h-kOkVyX3YqSs', '/content/eeg/01-07-2022_18-32_signals.csv']]\n",
        "\n",
        "#for i in range(len(files_path)):\n",
        "##  gdd.download_file_from_google_drive(file_id=files_path[i][0], dest_path=files_path[i][1])\n",
        "#  download_file_from_google_drive(file_id=files_path[i][0], dest_path=files_path[i][1])\n",
        "\n",
        "#files_path = [['16j4PwPoudiCVB_HF9m0fCYIt3uUZR3kA', '/content/eeg/20211130-162023-sync1.bdf', '20211130-162023-sync1', '20211130-162023-syncs'],\n",
        "#              ['16kSyskI7qOZRitvNIzd4iy6irqhgLwsI', '/content/eeg/20211130-162023-sync2.bdf', '20211130-162023-sync2', '20211130-162023-syncs'],\n",
        "#              ['16k88jpP7uZKKDT-WhZKcvGsnPclDA2TF', '/content/eeg/20211130-162023-sync3.bdf', '20211130-162023-sync3', '20211130-162023-syncs'],\n",
        "#              ['16licSohQPcbLnJmMD88In5PbiiLjOB_N', '/content/eeg/20211130-162023-sync4.bdf', '20211130-162023-sync4', '20211130-162023-syncs'],\n",
        "#              ['16nHtHn1BBkzb9oTl4EhJmPHPEB4Q8CVl', '/content/eeg/20211130-221138-sync1.bdf', '20211130-221138-sync1', '20211130-221138-syncs'],\n",
        "#              ['16m5Kp0WEdz3GixvQ7-jPVLdQUhXmIbA6', '/content/eeg/20211130-221138-sync2.bdf', '20211130-221138-sync2', '20211130-221138-syncs'],\n",
        "#              ['16mJVZV1XT-RULgcSKUSROOQnQr6CHYCK', '/content/eeg/20211130-221138-sync3.bdf', '20211130-221138-sync3', '20211130-221138-syncs'],\n",
        "#              ['16nh5R44VIRDFbYmFk7sDQeMXEAA1veY4', '/content/eeg/20211130-221138-sync4.bdf', '20211130-221138-sync4', '20211130-221138-syncs'],\n",
        "#              ['16oygYh5ZerFWmNHNMaFqZxUNbC0yj-oW', '/content/eeg/20211130-231131-sync1.bdf', '20211130-231131-sync1', '20211130-231131-syncs'],\n",
        "#              ['16q-Rl-L6NcTxdKco347Q63eK8Z3e5h-F', '/content/eeg/20211130-231131-sync2.bdf', '20211130-231131-sync2', '20211130-231131-syncs'],\n",
        "#              ['16o9MNod2FHz3tplGv14a8vxNR8EVGfxx', '/content/eeg/20211130-231131-sync3.bdf', '20211130-231131-sync3', '20211130-231131-syncs'],\n",
        "#              ['16oszc_L44xtZNOgBuEJtgSjwl1Pob825', '/content/eeg/20211130-231131-sync4.bdf', '20211130-231131-sync4', '20211130-231131-syncs']]\n",
        "\n",
        "\n",
        "files_path = [['16j4PwPoudiCVB_HF9m0fCYIt3uUZR3kA', '/content/eeg/20211130-162023-sync1.bdf', 'sync1_', '20211130-162023-syncs'],\n",
        "              ['16kSyskI7qOZRitvNIzd4iy6irqhgLwsI', '/content/eeg/20211130-162023-sync2.bdf', 'sync2_', '20211130-162023-syncs'],\n",
        "              ['16k88jpP7uZKKDT-WhZKcvGsnPclDA2TF', '/content/eeg/20211130-162023-sync3.bdf', 'sync3_', '20211130-162023-syncs'],\n",
        "              ['16licSohQPcbLnJmMD88In5PbiiLjOB_N', '/content/eeg/20211130-162023-sync4.bdf', 'sync4_', '20211130-162023-syncs']]\n",
        "#files_path = [['16nHtHn1BBkzb9oTl4EhJmPHPEB4Q8CVl', '/content/eeg/20211130-221138-sync1.bdf', 'sync1_', '20211130-221138-syncs'],\n",
        "#              ['16m5Kp0WEdz3GixvQ7-jPVLdQUhXmIbA6', '/content/eeg/20211130-221138-sync2.bdf', 'sync2_', '20211130-221138-syncs'],\n",
        "#              ['16mJVZV1XT-RULgcSKUSROOQnQr6CHYCK', '/content/eeg/20211130-221138-sync3.bdf', 'sync3_', '20211130-221138-syncs'],\n",
        "#              ['16nh5R44VIRDFbYmFk7sDQeMXEAA1veY4', '/content/eeg/20211130-221138-sync4.bdf', 'sync4_', '20211130-221138-syncs']]\n",
        "#files_path = [['16oygYh5ZerFWmNHNMaFqZxUNbC0yj-oW', '/content/eeg/20211130-231131-sync1.bdf', 'sync1_', '20211130-231131-syncs'],\n",
        "#              ['16q-Rl-L6NcTxdKco347Q63eK8Z3e5h-F', '/content/eeg/20211130-231131-sync2.bdf', 'sync2_', '20211130-231131-syncs'],\n",
        "#              ['16o9MNod2FHz3tplGv14a8vxNR8EVGfxx', '/content/eeg/20211130-231131-sync3.bdf', 'sync3_', '20211130-231131-syncs'],\n",
        "#              ['16oszc_L44xtZNOgBuEJtgSjwl1Pob825', '/content/eeg/20211130-231131-sync4.bdf', 'sync4_', '20211130-231131-syncs']]\n",
        "\n",
        "files_path = [['16j4PwPoudiCVB_HF9m0fCYIt3uUZR3kA', '/content/eeg/20211130-162023-sync1.bdf', '', '20211130-162023-sync1']]\n",
        "\n",
        "for i in range(len(files_path)):\n",
        "#  gdd.download_file_from_google_drive(file_id=files_path[i][0], dest_path=files_path[i][1])\n",
        "  download_file_from_google_drive(file_id=files_path[i][0], dest_path=files_path[i][1])\n",
        "\n",
        "\n",
        "files_path_flag=str(files_path)\n",
        "input=[]\n",
        "for file_path_index in range(len(files_path)):\n",
        "  input.append(files_path[file_path_index][1])\n",
        "input_flag=str(input).strip(\"[]\").replace(\" \", \"\")\n",
        "prefix=[]\n",
        "for file_path_index in range(len(files_path)):\n",
        "  prefix.append(files_path[file_path_index][2])\n",
        "prefix_flag=str(prefix).strip(\"[]\").replace(\" \", \"\")\n",
        "output_flag=str(files_path[0][3])\n"
      ],
      "metadata": {
        "id": "xIuwDgKThnZg"
      },
      "execution_count": 14,
      "outputs": []
    },
    {
      "cell_type": "code",
      "source": [
        "#bands = [[4.,7.]]\n",
        "bands = [[8.,12.]]\n",
        "#bands = [[13.,29.]]\n",
        "#bands = [[4.,7.],[8.,12.],[13.,29.]]\n",
        "bands_flag=str(bands).strip(\"[]\").replace(\" \", \"\")"
      ],
      "metadata": {
        "id": "gbAvc7wkgDaN"
      },
      "execution_count": 24,
      "outputs": []
    },
    {
      "cell_type": "code",
      "source": [
        "methods = ['coh']\n",
        "#methods = ['ciplv']\n",
        "#methods = ['wpli']\n",
        "#methods = ['coh', 'plv', 'ciplv', 'ppc', 'pli', 'wpli']\n",
        "methods_flag=str(methods).strip(\"[]\").replace(\" \", \"\")"
      ],
      "metadata": {
        "id": "wS8Oag2LMdBi"
      },
      "execution_count": 16,
      "outputs": []
    },
    {
      "cell_type": "code",
      "source": [
        "ch_names = ['Fz','Fp1','F7','F3','T3','C3','T5','P3','O1','Pz','O2','P4','T6','C4','T4','F4','F8','Fp2']\n",
        "ch_names_flag=str(ch_names).strip(\"[]\").replace(\" \", \"\")"
      ],
      "metadata": {
        "id": "u05cf9H3P5pq"
      },
      "execution_count": 17,
      "outputs": []
    },
    {
      "cell_type": "code",
      "source": [
        "#vmin=0\n",
        "vmin=0.7\n",
        "vmin_flag=str(vmin)\n"
      ],
      "metadata": {
        "id": "hEhCzWAHhxTz"
      },
      "execution_count": 18,
      "outputs": []
    },
    {
      "cell_type": "code",
      "source": [
        "duration=5*1/bands[0][0]\n",
        "duration_flag=str(duration)"
      ],
      "metadata": {
        "id": "SJeBGBzSiS8O"
      },
      "execution_count": 19,
      "outputs": []
    },
    {
      "cell_type": "code",
      "source": [
        "overlap=duration-0.1\n",
        "overlap_flag=str(overlap)"
      ],
      "metadata": {
        "id": "19rhNWmjiSd0"
      },
      "execution_count": 20,
      "outputs": []
    },
    {
      "cell_type": "markdown",
      "source": [
        "# run"
      ],
      "metadata": {
        "id": "AmaQaiNhbKQ3"
      }
    },
    {
      "cell_type": "code",
      "source": [
        "#%mkdir /content/drive/MyDrive/neuroidss\n",
        "#%mkdir /content/drive/MyDrive/neuroidss/EEG-GAN-audio-video\n",
        "%mkdir /content/drive/MyDrive/{repo_container_dir}/{repo_name}/out\n",
        "%mkdir /content/drive/MyDrive/{repo_container_dir}/{repo_name}/out/parts_out\n",
        "%mkdir /content/drive/MyDrive/{repo_container_dir}/{repo_name}/out/parts\n",
        "!ln -s /content/drive/MyDrive/{repo_container_dir}/{repo_name}/out /content/out"
      ],
      "metadata": {
        "id": "vlfHrwpcSqYU"
      },
      "execution_count": 28,
      "outputs": []
    },
    {
      "cell_type": "code",
      "source": [
        "    print(file)"
      ],
      "metadata": {
        "colab": {
          "base_uri": "https://localhost:8080/"
        },
        "id": "xQ6EA_Tk49Fq",
        "outputId": "eabaac0f-56c8-457f-b8ac-3615e952b6cd"
      },
      "execution_count": 38,
      "outputs": [
        {
          "output_type": "stream",
          "name": "stdout",
          "text": [
            "Untitled Document 1.txt\n"
          ]
        }
      ]
    },
    {
      "cell_type": "code",
      "source": [
        "#!/bin/bash\n",
        "#%mkdir out\n",
        "#%mkdir out/parts\n",
        "#%mkdir out/parts_out\n",
        "import glob, os\n",
        "continue_viz=True\n",
        "while continue_viz:\n",
        "  continue_viz=False\n",
        "  %rm /content/out/parts_out/*\n",
        "  !python /content/bdf_coh_3d_viz.py --input {input_flag} --prefix {prefix_flag} --output {output_flag} --ch_names {ch_names_flag} --methods {methods_flag} --bands {bands_flag} --vmin {vmin_flag} --duration {duration_flag} --overlap {overlap_flag}\n",
        "#  !python bdf_coh_3d_viz.py --input \"/content/eeg/20211130-162023-sync1.bdf\",\"/content/eeg/20211130-162023-sync2.bdf\",\"/content/eeg/20211130-162023-sync3.bdf\",\"/content/eeg/20211130-162023-sync4.bdf\" --prefix \"sync1\",\"sync2\",\"sync3\",\"sync4\" --output \"20211130-162023-syncs\"\n",
        "  os.chdir(\"/content/out/parts_out\")\n",
        "  for file in glob.glob(\"*.sh\"):\n",
        "  #if os.path.isfile('/content/out/parts_out/*.txt'):\n",
        "    continue_viz=True\n",
        "    %cp /content/out/parts_out/* /content/out/parts\n",
        "  %rm /content/out/parts_out/*\n"
      ],
      "metadata": {
        "id": "OHXpLMCfRrG3",
        "colab": {
          "base_uri": "https://localhost:8080/"
        },
        "outputId": "3ce58ff7-5811-4b8b-a8a4-69135e3a2b22"
      },
      "execution_count": null,
      "outputs": [
        {
          "output_type": "stream",
          "name": "stdout",
          "text": [
            "rm: cannot remove '/content/out/parts_out/*': No such file or directory\n",
            "Extracting EDF parameters from /content/eeg/20211130-162023-sync1.bdf...\n",
            "BDF file detected\n",
            "Setting channel info structure...\n",
            "Creating raw.info structure...\n",
            "Creating RawArray with float64 data, n_channels=18, n_times=1213440\n",
            "    Range : 0 ... 1213439 =      0.000 ...  2369.998 secs\n",
            "Ready.\n",
            "Not setting metadata\n",
            "Not setting metadata\n",
            "23688 matching events found\n",
            "No baseline correction applied\n",
            "0 projection items activated\n",
            "Connectivity computation...\n",
            "only using indices for lower-triangular matrix\n",
            "    computing connectivity for 153 connections\n",
            "    using t=0.000s..1.248s for estimation (640 points)\n",
            "    frequencies: 8.0Hz..12.0Hz (6 points)\n",
            "    connectivity scores will be averaged for each band\n",
            "    Using multitaper spectrum estimation with 7 DPSS windows\n",
            "    the following metrics will be computed: Coherence\n",
            "    computing connectivity for epoch 1\n",
            "    computing connectivity for epoch 2\n",
            "    computing connectivity for epoch 3\n",
            "    computing connectivity for epoch 4\n",
            "    computing connectivity for epoch 5\n",
            "    computing connectivity for epoch 6\n",
            "    computing connectivity for epoch 7\n",
            "    computing connectivity for epoch 8\n",
            "    computing connectivity for epoch 9\n",
            "    computing connectivity for epoch 10\n",
            "    assembling connectivity matrix\n",
            "[Connectivity computation done]\n",
            "5700/23686\n",
            "5701/23686\n",
            "5702/23686\n",
            "5703/23686\n",
            "5704/23686\n",
            "5705/23686\n",
            "5706/23686\n",
            "5707/23686\n",
            "5708/23686\n",
            "5709/23686\n",
            "5710/23686\n",
            "5711/23686\n",
            "5712/23686\n",
            "5713/23686\n",
            "5714/23686\n",
            "5715/23686\n",
            "5716/23686\n",
            "5717/23686\n",
            "5718/23686\n",
            "5719/23686\n",
            "5720/23686\n",
            "5721/23686\n",
            "5722/23686\n",
            "5723/23686\n",
            "5724/23686\n",
            "5725/23686\n",
            "5726/23686\n",
            "5727/23686\n",
            "5728/23686\n",
            "5729/23686\n",
            "5730/23686\n"
          ]
        }
      ]
    },
    {
      "cell_type": "code",
      "source": [
        "!chmod +x /content/out/parts/{file}\n",
        "!/content/out/parts/{file}"
      ],
      "metadata": {
        "id": "uYKKLGs-gfEX",
        "colab": {
          "base_uri": "https://localhost:8080/"
        },
        "outputId": "1dde2a45-e8da-4506-bf76-0b4ad6e0dadf"
      },
      "execution_count": 42,
      "outputs": [
        {
          "output_type": "stream",
          "name": "stdout",
          "text": [
            "ffmpeg version 3.4.11-0ubuntu0.1 Copyright (c) 2000-2022 the FFmpeg developers\r\n",
            "  built with gcc 7 (Ubuntu 7.5.0-3ubuntu1~18.04)\r\n",
            "  configuration: --prefix=/usr --extra-version=0ubuntu0.1 --toolchain=hardened --libdir=/usr/lib/x86_64-linux-gnu --incdir=/usr/include/x86_64-linux-gnu --enable-gpl --disable-stripping --enable-avresample --enable-avisynth --enable-gnutls --enable-ladspa --enable-libass --enable-libbluray --enable-libbs2b --enable-libcaca --enable-libcdio --enable-libflite --enable-libfontconfig --enable-libfreetype --enable-libfribidi --enable-libgme --enable-libgsm --enable-libmp3lame --enable-libmysofa --enable-libopenjpeg --enable-libopenmpt --enable-libopus --enable-libpulse --enable-librubberband --enable-librsvg --enable-libshine --enable-libsnappy --enable-libsoxr --enable-libspeex --enable-libssh --enable-libtheora --enable-libtwolame --enable-libvorbis --enable-libvpx --enable-libwavpack --enable-libwebp --enable-libx265 --enable-libxml2 --enable-libxvid --enable-libzmq --enable-libzvbi --enable-omx --enable-openal --enable-opengl --enable-sdl2 --enable-libdc1394 --enable-libdrm --enable-libiec61883 --enable-chromaprint --enable-frei0r --enable-libopencv --enable-libx264 --enable-shared\r\n",
            "  libavutil      55. 78.100 / 55. 78.100\r\n",
            "  libavcodec     57.107.100 / 57.107.100\r\n",
            "  libavformat    57. 83.100 / 57. 83.100\r\n",
            "  libavdevice    57. 10.100 / 57. 10.100\r\n",
            "  libavfilter     6.107.100 /  6.107.100\r\n",
            "  libavresample   3.  7.  0 /  3.  7.  0\r\n",
            "  libswscale      4.  8.100 /  4.  8.100\r\n",
            "  libswresample   2.  9.100 /  2.  9.100\r\n",
            "  libpostproc    54.  7.100 / 54.  7.100\r\n",
            "\u001b[1;31m/content/out/parts_out/20211130-162023-sync1_circle_coh_8-12hz_vmin0.7_23686.txt: No such file or directory\r\n",
            "\u001b[0m"
          ]
        }
      ]
    },
    {
      "cell_type": "code",
      "source": [
        ""
      ],
      "metadata": {
        "id": "Z2-hTHQm8tSq"
      },
      "execution_count": null,
      "outputs": []
    }
  ]
}