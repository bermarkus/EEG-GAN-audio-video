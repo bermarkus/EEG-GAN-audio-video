{
  "nbformat": 4,
  "nbformat_minor": 0,
  "metadata": {
    "colab": {
      "name": "bdf_coh_3d_viz.ipynb",
      "provenance": [],
      "collapsed_sections": [],
      "authorship_tag": "ABX9TyMRnlNzo/rFjKkIMnttOZIJ",
      "include_colab_link": true
    },
    "kernelspec": {
      "name": "python3",
      "display_name": "Python 3"
    },
    "language_info": {
      "name": "python"
    }
  },
  "cells": [
    {
      "cell_type": "markdown",
      "metadata": {
        "id": "view-in-github",
        "colab_type": "text"
      },
      "source": [
        "<a href=\"https://colab.research.google.com/github/neuroidss/EEG-GAN-audio-video/blob/main/bdf_coh_3d_viz.ipynb\" target=\"_parent\"><img src=\"https://colab.research.google.com/assets/colab-badge.svg\" alt=\"Open In Colab\"/></a>"
      ]
    },
    {
      "cell_type": "code",
      "source": [
        "%matplotlib inline\n",
        "\n",
        "import matplotlib.pyplot as plt\n",
        "import matplotlib\n",
        "matplotlib.use('agg')\n",
        "\n",
        "#for k in range(100):\n",
        "#  fig, ax = plt.subplots(figsize=(37.33, 21))\n",
        "#  fig.savefig(f'figure{k}.png')\n",
        "#  plt.close(fig)"
      ],
      "metadata": {
        "id": "JHR4BJ2eZOCX"
      },
      "execution_count": 1,
      "outputs": []
    },
    {
      "cell_type": "code",
      "execution_count": 2,
      "metadata": {
        "id": "T7IwIoD6x4I8"
      },
      "outputs": [],
      "source": [
        "ch_names_sg2 = ['FP1','AF3','F7','F3','FC1','FC5','T7','C3','CP1','CP5','P7','P3','Pz','PO3','O1','Oz','O2','PO4','P4','P8','CP6','CP2','C4','T8','FC6','FC2','F4','F8','AF4','FP2','Fz','Cz']\n",
        "ch_locations_sg2=[0,1,2,3,4,5,6,7,8,9,10,11,12,13,14,15,16,17,18,19,20,21,22,23,24,25,26,27,28,29,30,31]\n",
        "bands = [[8.,12.]]\n",
        "methods = ['coh']\n",
        "duration=5*1/8\n",
        "overlap=0\n",
        "fps_sg2=1\n",
        "#if generate_wavegan:\n",
        "fps_wg=1#hz/(32768*2)\n",
        "fps_sg2=fps_wg*4\n",
        "#fps_sg2=fps_wg\n",
        "fps_hm=fps_wg\n",
        "\n",
        "if 2*1/fps_wg>duration:\n",
        "  duration=2*1/fps_wg\n",
        "  overlap=0\n",
        "\n",
        "#if generate&gen_wavegan:\n",
        "#  dim_wg = 100\n",
        "#if generate&gen_stylegan2:\n",
        "#  dim_sg2 = 512\n",
        "#if generate&gen_sg2_shawwn:\n",
        "#  dim_sg2 = 1024\n",
        "\n",
        "#stepSize = 1/pow(2,24)\n",
        "#vref = 2.50 #2.5V voltage ref +/- 250nV\n",
        "#gain = 8\n",
        "\n",
        "#vscale = (vref/gain)*stepSize #volts per step.\n",
        "#uVperStep = 1000000 * ((vref/gain)*stepSize) #uV per step.\n",
        "#scalar = 1/(1000000 / ((vref/gain)*stepSize)) #steps per uV."
      ]
    },
    {
      "cell_type": "code",
      "source": [
        "def download_file_from_google_drive(file_id,dest_path):\n",
        "  import os.path\n",
        "  if not os.path.isfile(dest_path):  \n",
        "    !mkdir -p $(dirname {dest_path})\n",
        "    !wget --save-cookies cookies.txt 'https://docs.google.com/uc?export=download&id='{file_id} -O- | sed -rn 's/.*confirm=([0-9A-Za-z_]+).*/\\1/p' > confirm.txt\n",
        "    !wget --load-cookies cookies.txt -O {dest_path} 'https://docs.google.com/uc?export=download&id='{file_id}'&confirm='$(<confirm.txt)"
      ],
      "metadata": {
        "id": "QyZ0lgw9KatI"
      },
      "execution_count": 3,
      "outputs": []
    },
    {
      "cell_type": "code",
      "source": [
        "!mkdir /content/eeg"
      ],
      "metadata": {
        "id": "1zH66IbjbKQI",
        "colab": {
          "base_uri": "https://localhost:8080/"
        },
        "outputId": "7afd8e11-abbd-42db-db40-893f75b80218"
      },
      "execution_count": 4,
      "outputs": [
        {
          "output_type": "stream",
          "name": "stdout",
          "text": [
            "mkdir: cannot create directory ‘/content/eeg’: File exists\r\n"
          ]
        }
      ]
    },
    {
      "cell_type": "code",
      "source": [
        "!pip install --upgrade gdown\n",
        "#!pip install googledrivedownloader\n",
        "#from google_drive_downloader import GoogleDriveDownloader as gdd\n",
        "files_path=[]\n",
        "#if generate&gen_drums:\n",
        "files_path = [['1Nfzi6yT83SBZxtgIYVtYp7C7g_Sq9OdS', '/content/eeg/record-[2019.11.13-22.23.59].csv'],\n",
        "              ['1LtMfr9GduR3semMVgh_6JoUSKbCG8XbH', '/content/eeg/record-[2020.06.28-14.26.09].csv']]\n",
        "for i in range(len(files_path)):\n",
        "#  gdd.download_file_from_google_drive(file_id=files_path[i][0], dest_path=files_path[i][1])\n",
        "  download_file_from_google_drive(file_id=files_path[i][0], dest_path=files_path[i][1])\n",
        "\n",
        "files_path = [['1nIiilGVq8XXU7bb1UC5GDtmGbovuil9C', '/content/eeg/5min_experienced_meditator_unfiltered_signals.bdf', '5min_experienced_meditator_unfiltered_signals']]\n",
        "\n",
        "for i in range(len(files_path)):\n",
        "#  gdd.download_file_from_google_drive(file_id=files_path[i][0], dest_path=files_path[i][1])\n",
        "  download_file_from_google_drive(file_id=files_path[i][0], dest_path=files_path[i][1])\n",
        "\n",
        "files_path = [['1BphDQFJZ0aIMiZbkQ55_MzNxOrdq0Jcb', '/content/eeg/01-07-2022_15-34.bdf', '01-07-2022_15-34'],\n",
        "              ['1HlDuAO8n_hmH1PWlT46T1Waqyy5yz1LV', '/content/eeg/01-07-2022_18-32.bdf', '01-07-2022_18-32'],\n",
        "              ['1u_8ANTzYB9jP7wCnErivF1ClM1rXixSg', '/content/eeg/01-07-2022_16-52.bdf', '01-07-2022_16-52'],\n",
        "              ['1_cgoBcHAf3VRIorYafC-vHLAGpv8Papz', '/content/eeg/01-07-2022_17-39.bdf', '01-07-2022_17-39'],\n",
        "              ['1JMLtO_sQtZtdQHQ2RCZ0RbRj3cvk0G_2', '/content/eeg/01-07-2022_14-05.bdf', '01-07-2022_14-05'],\n",
        "              ['1ag-1yK-HSxNRh_5wnP9h-kOkVyX3YqSs', '/content/eeg/01-07-2022_18-32_signals.csv']]\n",
        "\n",
        "for i in range(len(files_path)):\n",
        "#  gdd.download_file_from_google_drive(file_id=files_path[i][0], dest_path=files_path[i][1])\n",
        "  download_file_from_google_drive(file_id=files_path[i][0], dest_path=files_path[i][1])\n",
        "\n"
      ],
      "metadata": {
        "colab": {
          "base_uri": "https://localhost:8080/"
        },
        "id": "b2Seg16EKeUn",
        "outputId": "ad0b6ee9-47a0-407a-a5f0-135cd3520c3f"
      },
      "execution_count": 5,
      "outputs": [
        {
          "output_type": "stream",
          "name": "stdout",
          "text": [
            "Requirement already satisfied: gdown in ./env/lib/python3.7/site-packages (4.5.1)\n",
            "Requirement already satisfied: beautifulsoup4 in ./env/lib/python3.7/site-packages (from gdown) (4.11.1)\n",
            "Requirement already satisfied: tqdm in ./env/lib/python3.7/site-packages (from gdown) (4.62.2)\n",
            "Requirement already satisfied: filelock in ./env/lib/python3.7/site-packages (from gdown) (3.6.0)\n",
            "Requirement already satisfied: six in ./env/lib/python3.7/site-packages (from gdown) (1.15.0)\n",
            "Requirement already satisfied: requests[socks] in ./env/lib/python3.7/site-packages (from gdown) (2.26.0)\n",
            "Requirement already satisfied: soupsieve>1.2 in ./env/lib/python3.7/site-packages (from beautifulsoup4->gdown) (2.3.2.post1)\n",
            "Requirement already satisfied: charset-normalizer~=2.0.0 in ./env/lib/python3.7/site-packages (from requests[socks]->gdown) (2.0.5)\n",
            "Requirement already satisfied: idna<4,>=2.5 in ./env/lib/python3.7/site-packages (from requests[socks]->gdown) (3.2)\n",
            "Requirement already satisfied: urllib3<1.27,>=1.21.1 in ./env/lib/python3.7/site-packages (from requests[socks]->gdown) (1.26.6)\n",
            "Requirement already satisfied: certifi>=2017.4.17 in ./env/lib/python3.7/site-packages (from requests[socks]->gdown) (2021.5.30)\n",
            "Requirement already satisfied: PySocks!=1.5.7,>=1.5.6 in ./env/lib/python3.7/site-packages (from requests[socks]->gdown) (1.7.1)\n",
            "\u001b[33mWARNING: You are using pip version 21.2.4; however, version 22.1.2 is available.\n",
            "You should consider upgrading via the '/home/dmitryneuro/colab/env/bin/python3.7 -m pip install --upgrade pip' command.\u001b[0m\n"
          ]
        }
      ]
    },
    {
      "cell_type": "code",
      "source": [
        "!pip install mne==0.23.3\n",
        "\n",
        "import mne\n",
        "from mne import io"
      ],
      "metadata": {
        "colab": {
          "base_uri": "https://localhost:8080/"
        },
        "id": "ZRD8C00WnqCN",
        "outputId": "e17ce64f-6b3a-4378-aacc-14c09b5578b2"
      },
      "execution_count": 6,
      "outputs": [
        {
          "output_type": "stream",
          "name": "stdout",
          "text": [
            "Requirement already satisfied: mne==0.23.3 in ./env/lib/python3.7/site-packages (0.23.3)\r\n",
            "Requirement already satisfied: numpy>=1.15.4 in ./env/lib/python3.7/site-packages (from mne==0.23.3) (1.19.5)\r\n",
            "Requirement already satisfied: scipy>=1.1.0 in ./env/lib/python3.7/site-packages (from mne==0.23.3) (1.7.1)\n",
            "\u001b[33mWARNING: You are using pip version 21.2.4; however, version 22.1.2 is available.\n",
            "You should consider upgrading via the '/home/dmitryneuro/colab/env/bin/python3.7 -m pip install --upgrade pip' command.\u001b[0m\n"
          ]
        }
      ]
    },
    {
      "cell_type": "code",
      "source": [
        "    ch_names = ['FP1','F7','F3','T3','C3','T5','P3','PZ','O1','O2','P4','T6','C4','T4','F4','F8','FP2','FZ']\n",
        "#    ch_names = ['O2','T6','T4','F8','FP2','F4','C4','P4','PZ','FZ','FP1','F3','C3','P3','O1','T5','T3','F7']\n",
        "\n",
        "    sfreq = 512 \n",
        "    ch_types=['eeg']*len(ch_names)\n",
        "    info = mne.create_info(ch_names = ch_names, sfreq = sfreq, ch_types=ch_types)\n",
        "    misc_ch_names = ['','']\n",
        "    \n",
        "\n",
        "\n",
        "\n"
      ],
      "metadata": {
        "id": "fEhuLJnIoPY6"
      },
      "execution_count": 7,
      "outputs": []
    },
    {
      "cell_type": "code",
      "source": [
        "    input_fname=files_path[4][1]\n",
        "    input_fname_name=files_path[4][2]\n",
        "#    raw = io.read_raw_bdf(input_fname, eog=None, misc=None, stim_channel='auto', exclude=(), preload=False, verbose=None,include)\n",
        "    raw = io.read_raw_bdf(input_fname, eog=None, misc=None, stim_channel='auto', \n",
        "                          exclude=(), preload=False, verbose=True)\n"
      ],
      "metadata": {
        "colab": {
          "base_uri": "https://localhost:8080/"
        },
        "id": "CfpCy94znJ2b",
        "outputId": "d0928263-72be-480f-d0b8-620970f9a084"
      },
      "execution_count": 8,
      "outputs": [
        {
          "output_type": "stream",
          "name": "stdout",
          "text": [
            "Extracting EDF parameters from /content/eeg/01-07-2022_14-05.bdf...\n",
            "BDF file detected\n",
            "Setting channel info structure...\n",
            "Creating raw.info structure...\n"
          ]
        }
      ]
    },
    {
      "cell_type": "code",
      "source": [
        "raw.info"
      ],
      "metadata": {
        "colab": {
          "base_uri": "https://localhost:8080/",
          "height": 254
        },
        "id": "fK2JhDafr1rb",
        "outputId": "b872c51c-d743-4e31-a191-ef0debad9015"
      },
      "execution_count": 9,
      "outputs": [
        {
          "output_type": "execute_result",
          "data": {
            "text/plain": [
              "<Info | 7 non-empty values\n",
              " bads: []\n",
              " ch_names: O2, T6, T4, F8, FP2, F4, C4, P4, Button, Channel 10, Channel 11, ...\n",
              " chs: 35 EEG\n",
              " custom_ref_applied: False\n",
              " highpass: 0.0 Hz\n",
              " lowpass: 173.8 Hz\n",
              " meas_date: 2022-07-01 14:05:00 UTC\n",
              " nchan: 35\n",
              " projs: []\n",
              " sfreq: 347.7 Hz\n",
              ">"
            ],
            "text/html": [
              "\n",
              "<table class=\"table table-hover\">\n",
              "    <tr>\n",
              "        <th>Measurement date</th>\n",
              "        <td>July 01, 2022  14:05:00 GMT</td>\n",
              "        \n",
              "    </tr>\n",
              "    <tr>\n",
              "        <th>Experimenter</th>\n",
              "<td>Unknown</td>\n",
              "    </tr>\n",
              "        <th>Participant</th>\n",
              "<td>Unknown</td>\n",
              "    </tr>\n",
              "    <tr>\n",
              "        <th>Digitized points</th>\n",
              "        <td>Not available</td>\n",
              "    </tr>\n",
              "    <tr>\n",
              "        <th>Good channels</th>\n",
              "        <td>0 magnetometer, 0 gradiometer,\n",
              "            and 35 EEG channels</td>\n",
              "    </tr>\n",
              "    <tr>\n",
              "        <th>Bad channels</th>\n",
              "        <td></td>\n",
              "        \n",
              "    </tr>\n",
              "    <tr>\n",
              "        <th>EOG channels</th>\n",
              "        <td>Not available</td>\n",
              "    </tr>\n",
              "    <tr>\n",
              "        <th>ECG channels</th>\n",
              "        <td>Not available</td>\n",
              "    <tr>\n",
              "        <th>Sampling frequency</th>\n",
              "        <td>347.68 Hz</td>\n",
              "    </tr>\n",
              "    <tr>\n",
              "        <th>Highpass</th>\n",
              "        <td>0.00 Hz</td>\n",
              "    </tr>\n",
              "     <tr>\n",
              "        <th>Lowpass</th>\n",
              "        <td>173.84 Hz</td>\n",
              "    </tr>\n",
              "</table>\n"
            ]
          },
          "metadata": {},
          "execution_count": 9
        }
      ]
    },
    {
      "cell_type": "code",
      "source": [
        "  !pip install Pillow\n",
        "  import PIL.Image \n",
        "  !pip install tqdm\n",
        "  from tqdm import tqdm\n",
        "  !pip install imageio==2.4.1\n",
        "  !pip install imageio-ffmpeg==0.4.3 pyspng==0.1.0\n"
      ],
      "metadata": {
        "colab": {
          "base_uri": "https://localhost:8080/"
        },
        "id": "MWg6MXegKmy4",
        "outputId": "be2ec5eb-d118-4d8d-db5f-c2e072b1070f"
      },
      "execution_count": 10,
      "outputs": [
        {
          "output_type": "stream",
          "name": "stdout",
          "text": [
            "Requirement already satisfied: Pillow in ./env/lib/python3.7/site-packages (8.3.2)\n",
            "\u001b[33mWARNING: You are using pip version 21.2.4; however, version 22.1.2 is available.\n",
            "You should consider upgrading via the '/home/dmitryneuro/colab/env/bin/python3.7 -m pip install --upgrade pip' command.\u001b[0m\n",
            "Requirement already satisfied: tqdm in ./env/lib/python3.7/site-packages (4.62.2)\n",
            "\u001b[33mWARNING: You are using pip version 21.2.4; however, version 22.1.2 is available.\n",
            "You should consider upgrading via the '/home/dmitryneuro/colab/env/bin/python3.7 -m pip install --upgrade pip' command.\u001b[0m\n",
            "Requirement already satisfied: imageio==2.4.1 in ./env/lib/python3.7/site-packages (2.4.1)\n",
            "Requirement already satisfied: numpy in ./env/lib/python3.7/site-packages (from imageio==2.4.1) (1.19.5)\n",
            "Requirement already satisfied: pillow in ./env/lib/python3.7/site-packages (from imageio==2.4.1) (8.3.2)\n",
            "\u001b[33mWARNING: You are using pip version 21.2.4; however, version 22.1.2 is available.\n",
            "You should consider upgrading via the '/home/dmitryneuro/colab/env/bin/python3.7 -m pip install --upgrade pip' command.\u001b[0m\n",
            "Requirement already satisfied: imageio-ffmpeg==0.4.3 in ./env/lib/python3.7/site-packages (0.4.3)\n",
            "Requirement already satisfied: pyspng==0.1.0 in ./env/lib/python3.7/site-packages (0.1.0)\n",
            "Requirement already satisfied: numpy in ./env/lib/python3.7/site-packages (from pyspng==0.1.0) (1.19.5)\n",
            "\u001b[33mWARNING: You are using pip version 21.2.4; however, version 22.1.2 is available.\n",
            "You should consider upgrading via the '/home/dmitryneuro/colab/env/bin/python3.7 -m pip install --upgrade pip' command.\u001b[0m\n"
          ]
        }
      ]
    },
    {
      "cell_type": "code",
      "source": [
        "!mkdir '/content/out'\n"
      ],
      "metadata": {
        "colab": {
          "base_uri": "https://localhost:8080/"
        },
        "id": "tQZGTTYGKuao",
        "outputId": "477629a3-001c-47e4-a007-e0554b564ba0"
      },
      "execution_count": 11,
      "outputs": [
        {
          "output_type": "stream",
          "name": "stdout",
          "text": [
            "mkdir: cannot create directory ‘/content/out’: File exists\r\n"
          ]
        }
      ]
    },
    {
      "cell_type": "code",
      "source": [
        "!pip install mne==0.23.3\n",
        "!pip install pandas\n",
        "!pip install matplotlib\n",
        "\n",
        "import mne\n",
        "from mne import io\n",
        "from mne.datasets import sample\n",
        "from mne.minimum_norm import read_inverse_operator, compute_source_psd\n",
        "\n",
        "from mne.connectivity import spectral_connectivity, seed_target_indices\n",
        "\n",
        "import pandas as pd\n",
        "import numpy as np\n"
      ],
      "metadata": {
        "colab": {
          "base_uri": "https://localhost:8080/"
        },
        "id": "bx0lLwzRKyhX",
        "outputId": "993b1ffc-2a41-4d0f-bb17-a75c51ed9759"
      },
      "execution_count": 12,
      "outputs": [
        {
          "output_type": "stream",
          "name": "stdout",
          "text": [
            "Requirement already satisfied: mne==0.23.3 in ./env/lib/python3.7/site-packages (0.23.3)\r\n",
            "Requirement already satisfied: scipy>=1.1.0 in ./env/lib/python3.7/site-packages (from mne==0.23.3) (1.7.1)\r\n",
            "Requirement already satisfied: numpy>=1.15.4 in ./env/lib/python3.7/site-packages (from mne==0.23.3) (1.19.5)\n",
            "\u001b[33mWARNING: You are using pip version 21.2.4; however, version 22.1.2 is available.\n",
            "You should consider upgrading via the '/home/dmitryneuro/colab/env/bin/python3.7 -m pip install --upgrade pip' command.\u001b[0m\n",
            "Requirement already satisfied: pandas in ./env/lib/python3.7/site-packages (1.3.5)\n",
            "Requirement already satisfied: python-dateutil>=2.7.3 in ./env/lib/python3.7/site-packages (from pandas) (2.8.2)\n",
            "Requirement already satisfied: pytz>=2017.3 in ./env/lib/python3.7/site-packages (from pandas) (2021.1)\n",
            "Requirement already satisfied: numpy>=1.17.3 in ./env/lib/python3.7/site-packages (from pandas) (1.19.5)\n",
            "Requirement already satisfied: six>=1.5 in ./env/lib/python3.7/site-packages (from python-dateutil>=2.7.3->pandas) (1.15.0)\n",
            "\u001b[33mWARNING: You are using pip version 21.2.4; however, version 22.1.2 is available.\n",
            "You should consider upgrading via the '/home/dmitryneuro/colab/env/bin/python3.7 -m pip install --upgrade pip' command.\u001b[0m\n",
            "Requirement already satisfied: matplotlib in ./env/lib/python3.7/site-packages (3.4.3)\n",
            "Requirement already satisfied: python-dateutil>=2.7 in ./env/lib/python3.7/site-packages (from matplotlib) (2.8.2)\n",
            "Requirement already satisfied: pyparsing>=2.2.1 in ./env/lib/python3.7/site-packages (from matplotlib) (2.4.7)\n",
            "Requirement already satisfied: pillow>=6.2.0 in ./env/lib/python3.7/site-packages (from matplotlib) (8.3.2)\n",
            "Requirement already satisfied: numpy>=1.16 in ./env/lib/python3.7/site-packages (from matplotlib) (1.19.5)\n",
            "Requirement already satisfied: kiwisolver>=1.0.1 in ./env/lib/python3.7/site-packages (from matplotlib) (1.3.2)\n",
            "Requirement already satisfied: cycler>=0.10 in ./env/lib/python3.7/site-packages (from matplotlib) (0.10.0)\n",
            "Requirement already satisfied: six in ./env/lib/python3.7/site-packages (from cycler>=0.10->matplotlib) (1.15.0)\n",
            "\u001b[33mWARNING: You are using pip version 21.2.4; however, version 22.1.2 is available.\n",
            "You should consider upgrading via the '/home/dmitryneuro/colab/env/bin/python3.7 -m pip install --upgrade pip' command.\u001b[0m\n"
          ]
        }
      ]
    },
    {
      "cell_type": "code",
      "source": [
        "if False:\n",
        "    key = 0\n",
        "    idx = 0\n",
        "\n",
        "    data_path = '/content/eeg'\n",
        "    #raw_fname = data_path + '/record-[2019.11.13-22.23.59].gdf'\n",
        "    #raw = mne.io.read_raw_gdf(raw_fname, preload=True)\n",
        "\n",
        "    path = data_path\n",
        "\n",
        "    ch_names = ['FP1','AF3','F7','F3','FC1','FC5','T7','C3','CP1','CP5','P7','P3','Pz','PO3','O1','Oz','O2','PO4','P4','P8','CP6','CP2','C4','T8','FC6','FC2','F4','F8','AF4','FP2','Fz','Cz']\n",
        "    data = pd.read_csv(path + '/record-[2019.11.13-22.23.59].csv', skiprows=0, usecols=ch_names, header=0, delimiter=';') \n",
        "    \n",
        "    #ch_names = ['FP1','F3','P3','O1','O2','P4','F4','FP2']\n",
        "    #data = pd.read_csv(path + '/record-[2020.06.28-14.26.09].csv', skiprows=0, usecols=ch_names, header=0, delimiter=';') \n",
        "    \n",
        "    #data = pd.read_csv(path + '/record-[2020.06.28-00.36.11].csv', skiprows=0, usecols=ch_names, header=0, delimiter=';') \n",
        "    #data = pd.read_csv(path + '/record-[2020.06.29-19.49.23].csv', skiprows=0, usecols=ch_names, header=0, delimiter=';') \n",
        "    \n",
        "    #print(data)\n",
        "    data_transpose=np.transpose(data)\n",
        "\n",
        "    sfreq = 512 \n",
        "    ch_types=['eeg']*len(ch_names)\n",
        "    info = mne.create_info(ch_names = ch_names, sfreq = sfreq, ch_types=ch_types)\n",
        "    #info = mne.create_info(sfreq = sfreq)\n",
        "    raw = mne.io.RawArray(data_transpose, info)\n",
        "    #raw.plot()\n",
        "    \n",
        "    input_fname=files_path[0][1]\n",
        "    mne.io.read_raw_bdf(input_fname, eog=None, misc=None, stim_channel='auto', exclude=(), infer_types=False, include=None, preload=False, verbose=None)\n",
        "\n",
        "    # Setup for reading the raw data\n",
        "    #raw = io.read_raw_fif(raw_fname, verbose=False)\n",
        "    #events = mne.find_events(raw, stim_channel='STI 014')\n",
        "    #inverse_operator = read_inverse_operator(fname_inv)\n",
        "    #raw.info['bads'] = ['MEG 2443', 'EEG 053']\n",
        "\n",
        "    # picks MEG gradiometers\n",
        "    #picks = mne.pick_types(raw.info, meg=False, eeg=True, eog=False, stim=False)\n",
        "    picks = ch_names"
      ],
      "metadata": {
        "id": "9nNDkdqvbtpx"
      },
      "execution_count": 13,
      "outputs": []
    },
    {
      "cell_type": "code",
      "source": [
        "print(raw)\n",
        "raw.pick(ch_names)"
      ],
      "metadata": {
        "colab": {
          "base_uri": "https://localhost:8080/",
          "height": 314
        },
        "id": "ILJiXMCZoyk9",
        "outputId": "661bf16b-b1ed-4373-9cd8-9f7aed369860"
      },
      "execution_count": 14,
      "outputs": [
        {
          "output_type": "stream",
          "name": "stdout",
          "text": [
            "<RawEDF | 01-07-2022_14-05.bdf, 35 x 1448448 (4166.0 s), ~38 kB, data not loaded>\n"
          ]
        },
        {
          "output_type": "execute_result",
          "data": {
            "text/plain": [
              "<RawEDF | 01-07-2022_14-05.bdf, 18 x 1448448 (4166.0 s), ~22 kB, data not loaded>"
            ],
            "text/html": [
              "\n",
              "\n",
              "<table class=\"table table-hover\">\n",
              "    <tr>\n",
              "        <th>Measurement date</th>\n",
              "        <td>July 01, 2022  14:05:00 GMT</td>\n",
              "        \n",
              "    </tr>\n",
              "    <tr>\n",
              "        <th>Experimenter</th>\n",
              "<td>Unknown</td>\n",
              "    </tr>\n",
              "        <th>Participant</th>\n",
              "<td>Unknown</td>\n",
              "    </tr>\n",
              "    <tr>\n",
              "        <th>Digitized points</th>\n",
              "        <td>Not available</td>\n",
              "    </tr>\n",
              "    <tr>\n",
              "        <th>Good channels</th>\n",
              "        <td>0 magnetometer, 0 gradiometer,\n",
              "            and 18 EEG channels</td>\n",
              "    </tr>\n",
              "    <tr>\n",
              "        <th>Bad channels</th>\n",
              "        <td></td>\n",
              "        \n",
              "    </tr>\n",
              "    <tr>\n",
              "        <th>EOG channels</th>\n",
              "        <td>Not available</td>\n",
              "    </tr>\n",
              "    <tr>\n",
              "        <th>ECG channels</th>\n",
              "        <td>Not available</td>\n",
              "    <tr>\n",
              "        <th>Sampling frequency</th>\n",
              "        <td>347.68 Hz</td>\n",
              "    </tr>\n",
              "    <tr>\n",
              "        <th>Highpass</th>\n",
              "        <td>0.00 Hz</td>\n",
              "    </tr>\n",
              "     <tr>\n",
              "        <th>Lowpass</th>\n",
              "        <td>173.84 Hz</td>\n",
              "    </tr>\n",
              "\n",
              "    <tr>\n",
              "        <th>Filenames</th>\n",
              "        <td>01-07-2022_14-05.bdf</td>\n",
              "    </tr>\n",
              "    <tr>\n",
              "        <th>Duration</th>\n",
              "        <td>01:09:25 (HH:MM:SS)</td>\n",
              "    </tr>\n",
              "</table>\n"
            ]
          },
          "metadata": {},
          "execution_count": 14
        }
      ]
    },
    {
      "cell_type": "code",
      "source": [
        "#!pip install imageio==2.9\n",
        "!pip install imageio==2.4.1\n",
        "!pip install imageio-ffmpeg==0.4.3 pyspng==0.1.0"
      ],
      "metadata": {
        "colab": {
          "base_uri": "https://localhost:8080/"
        },
        "id": "paxEG_lhd8s1",
        "outputId": "307977c1-20f3-4ece-deed-10289cd8abf4"
      },
      "execution_count": 15,
      "outputs": [
        {
          "output_type": "stream",
          "name": "stdout",
          "text": [
            "Requirement already satisfied: imageio==2.4.1 in ./env/lib/python3.7/site-packages (2.4.1)\n",
            "Requirement already satisfied: pillow in ./env/lib/python3.7/site-packages (from imageio==2.4.1) (8.3.2)\n",
            "Requirement already satisfied: numpy in ./env/lib/python3.7/site-packages (from imageio==2.4.1) (1.19.5)\n",
            "\u001b[33mWARNING: You are using pip version 21.2.4; however, version 22.1.2 is available.\n",
            "You should consider upgrading via the '/home/dmitryneuro/colab/env/bin/python3.7 -m pip install --upgrade pip' command.\u001b[0m\n",
            "Requirement already satisfied: imageio-ffmpeg==0.4.3 in ./env/lib/python3.7/site-packages (0.4.3)\n",
            "Requirement already satisfied: pyspng==0.1.0 in ./env/lib/python3.7/site-packages (0.1.0)\n",
            "Requirement already satisfied: numpy in ./env/lib/python3.7/site-packages (from pyspng==0.1.0) (1.19.5)\n",
            "\u001b[33mWARNING: You are using pip version 21.2.4; however, version 22.1.2 is available.\n",
            "You should consider upgrading via the '/home/dmitryneuro/colab/env/bin/python3.7 -m pip install --upgrade pip' command.\u001b[0m\n"
          ]
        }
      ]
    },
    {
      "cell_type": "code",
      "source": [
        "#import imageio\n",
        "#fps=10\n",
        "#out = imageio.get_writer('/content/out/output.mp4', mode='I', fps=fps, codec='libx264', bitrate='16M')\n",
        "\n",
        "#for img in imgs:\n",
        "#  out.append_data(np.asarray(img))\n",
        "#out.close()\n",
        " "
      ],
      "metadata": {
        "id": "7Gx1IDMid8nq"
      },
      "execution_count": 16,
      "outputs": []
    },
    {
      "cell_type": "code",
      "source": [
        "bands = [[8.,12.]]\n",
        "#bands = [[4.,7.],[8.,12.],[13.,29.]]\n",
        "#bands = [[8.,12.],[8.,12.],[8.,12.]]\n",
        "#bands_name = ['theta','alpha','beta']\n",
        "datas=[]\n",
        "for band in range(len(bands)):\n",
        "# datas.append(raw)\n",
        " datas.append(raw.pick(ch_names))\n",
        " \n",
        "# datas.append(raw.filter(l_freq=bands[band][0], h_freq=bands[band][1],method='iir'))\n",
        "#theta_data = raw.filter(l_freq=4, h_freq=7,method='iir')\n",
        "#alpha_data = raw.filter(l_freq=8, h_freq=12,method='iir')\n",
        "#beta_data = raw.filter(l_freq=13, h_freq=29,method='iir')"
      ],
      "metadata": {
        "id": "8eqMOf-veKSR"
      },
      "execution_count": 17,
      "outputs": []
    },
    {
      "cell_type": "code",
      "source": [
        "methods = ['coh']\n",
        "#methods = ['wpli']\n",
        "#methods = ['coh', 'plv', 'ciplv', 'ppc', 'pli', 'wpli']\n",
        "epochs = []\n",
        "for band in range(len(bands)):\n",
        "# epochs.append(mne.make_fixed_length_epochs(datas[band], \n",
        "#                                            duration=0.1, preload=False))\n",
        " epochs.append(mne.make_fixed_length_epochs(datas[band], \n",
        "                                            duration=5*1/8, preload=False, overlap=5*1/8-0.1))\n",
        "# epochs.append(mne.make_fixed_length_epochs(datas[band], duration=1.25, preload=False, overlap=1.15))\n",
        "#epochs = [mne.make_fixed_length_epochs(theta_data, duration=0.1, preload=False),\n",
        "#          mne.make_fixed_length_epochs(alpha_data, duration=0.1, preload=False),\n",
        "#          mne.make_fixed_length_epochs(beta_data, duration=0.1, preload=False)]\n",
        "#epochs = mne.make_fixed_length_epochs(alpha_data, duration=0.1, preload=False)\n",
        "#epochs = mne.make_fixed_length_epochs(raw, duration=2, preload=True)\n",
        "#epochs = mne.make_fixed_length_epochs(raw, duration=10, preload=True)\n",
        "#epochs = mne.make_fixed_length_epochs(raw, duration=1, preload=False)\n",
        "#event_related_plot = epochs.plot_image(picks=['FP1'])"
      ],
      "metadata": {
        "id": "-sHGeqZseKPp",
        "colab": {
          "base_uri": "https://localhost:8080/"
        },
        "outputId": "9c0e43ac-5dab-4c13-dd16-a9eb98fd8f75"
      },
      "execution_count": 18,
      "outputs": [
        {
          "output_type": "stream",
          "name": "stdout",
          "text": [
            "Not setting metadata\n",
            "Not setting metadata\n",
            "41654 matching events found\n",
            "No baseline correction applied\n",
            "0 projection items activated\n"
          ]
        }
      ]
    },
    {
      "cell_type": "code",
      "source": [
        "len(epochs[0].events)"
      ],
      "metadata": {
        "id": "KRq4VDiGLAel",
        "colab": {
          "base_uri": "https://localhost:8080/"
        },
        "outputId": "6999b5cb-6e3e-4a04-d21d-5caf8bc7680c"
      },
      "execution_count": 19,
      "outputs": [
        {
          "output_type": "execute_result",
          "data": {
            "text/plain": [
              "41654"
            ]
          },
          "metadata": {},
          "execution_count": 19
        }
      ]
    },
    {
      "cell_type": "code",
      "source": [
        "#fmin=8.\n",
        "#fmax=13.\n",
        "fmin=bands[0][0]\n",
        "fmax=bands[0][1]+1.\n",
        "          \n",
        "sfreq = raw.info['sfreq']  # the sampling frequency\n",
        "#con_methods = ['coh', 'pli', 'ciplv']\n",
        "con_methods = ['coh', 'plv', 'ciplv', 'ppc', 'pli', 'wpli']\n",
        "#con_methods = ['coh', 'plv', 'ciplv', 'ppc', 'pli', 'pli2_unbiased', 'wpli', 'wpli2_debiased']\n",
        "#con, freqs, times, n_epochs, n_tapers = spectral_connectivity(\n",
        "#    epochs, method=con_methods, mode='multitaper', sfreq=sfreq, fmin=fmin,\n",
        "#    fmax=fmax, faverage=True, mt_adaptive=True, n_jobs=10)\n",
        "#con, freqs, times, n_epochs, n_tapers = spectral_connectivity(\n",
        "#    epochs[1][2000:2010], method=con_methods, mode='multitaper', sfreq=sfreq, \n",
        "#    faverage=True, mt_adaptive=True, n_jobs=1)\n",
        "#con, freqs, times, n_epochs, n_tapers = spectral_connectivity(\n",
        "#    epochs[0][2000,2001], method=con_methods, mode='multitaper', sfreq=sfreq, fmin=fmin,\n",
        "#    fmax=fmax, faverage=True, mt_adaptive=True, n_jobs=1)\n",
        "con, freqs, times, n_epochs, n_tapers = spectral_connectivity(\n",
        "    epochs[0][2000:2010], method=con_methods, mode='multitaper', sfreq=sfreq, fmin=fmin,\n",
        "    fmax=fmax, faverage=True, mt_adaptive=True, n_jobs=1)"
      ],
      "metadata": {
        "id": "WVT5t6vweKNI",
        "colab": {
          "base_uri": "https://localhost:8080/"
        },
        "outputId": "755cc500-c171-4be6-8b6e-432d85e2fb6c"
      },
      "execution_count": 20,
      "outputs": [
        {
          "output_type": "stream",
          "name": "stdout",
          "text": [
            "Connectivity computation...\n",
            "only using indices for lower-triangular matrix\n",
            "    computing connectivity for 153 connections\n",
            "    using t=0.000s..0.621s for estimation (217 points)\n",
            "    frequencies: 8.0Hz..12.8Hz (4 points)\n",
            "    connectivity scores will be averaged for each band\n"
          ]
        },
        {
          "output_type": "stream",
          "name": "stderr",
          "text": [
            "/tmp/ipykernel_6529/711940581.py:21: RuntimeWarning: fmin=8.000 Hz corresponds to 4.993 < 5 cycles based on the epoch length 0.624 sec, need at least 0.625 sec epochs or fmin=8.011. Spectrum estimate will be unreliable.\n",
            "  fmax=fmax, faverage=True, mt_adaptive=True, n_jobs=1)\n"
          ]
        },
        {
          "output_type": "stream",
          "name": "stdout",
          "text": [
            "    Using multitaper spectrum estimation with 7 DPSS windows\n",
            "    the following metrics will be computed: Coherence, PLV, ciPLV, PPC, PLI, WPLI\n",
            "    computing connectivity for epoch 1\n",
            "    computing connectivity for epoch 2\n",
            "    computing connectivity for epoch 3\n",
            "    computing connectivity for epoch 4\n",
            "    computing connectivity for epoch 5\n",
            "    computing connectivity for epoch 6\n",
            "    computing connectivity for epoch 7\n",
            "    computing connectivity for epoch 8\n",
            "    computing connectivity for epoch 9\n",
            "    computing connectivity for epoch 10\n",
            "    assembling connectivity matrix\n",
            "[Connectivity computation done]\n"
          ]
        }
      ]
    },
    {
      "cell_type": "code",
      "source": [
        "con_res = dict()\n",
        "for method, c in zip(con_methods, con):\n",
        "    con_res[method] = c[:, :, 0]"
      ],
      "metadata": {
        "id": "iakYgOupeKKh"
      },
      "execution_count": 21,
      "outputs": []
    },
    {
      "cell_type": "code",
      "source": [
        "sfreq"
      ],
      "metadata": {
        "id": "sCmMi-FQp6uJ",
        "colab": {
          "base_uri": "https://localhost:8080/"
        },
        "outputId": "951b9a50-7cff-471f-c47e-49bdaa665684"
      },
      "execution_count": 22,
      "outputs": [
        {
          "output_type": "execute_result",
          "data": {
            "text/plain": [
              "347.68413168264857"
            ]
          },
          "metadata": {},
          "execution_count": 22
        }
      ]
    },
    {
      "cell_type": "code",
      "source": [
        "con_res\n"
      ],
      "metadata": {
        "id": "x8OWncfapvaa",
        "colab": {
          "base_uri": "https://localhost:8080/"
        },
        "outputId": "1a606382-03cd-4c6b-8b65-97c1c7b5d85c"
      },
      "execution_count": 23,
      "outputs": [
        {
          "output_type": "execute_result",
          "data": {
            "text/plain": [
              "{'coh': array([[0.        , 0.        , 0.        , 0.        , 0.        ,\n",
              "         0.        , 0.        , 0.        , 0.        , 0.        ,\n",
              "         0.        , 0.        , 0.        , 0.        , 0.        ,\n",
              "         0.        , 0.        , 0.        ],\n",
              "        [0.68350444, 0.        , 0.        , 0.        , 0.        ,\n",
              "         0.        , 0.        , 0.        , 0.        , 0.        ,\n",
              "         0.        , 0.        , 0.        , 0.        , 0.        ,\n",
              "         0.        , 0.        , 0.        ],\n",
              "        [0.58790129, 0.67601579, 0.        , 0.        , 0.        ,\n",
              "         0.        , 0.        , 0.        , 0.        , 0.        ,\n",
              "         0.        , 0.        , 0.        , 0.        , 0.        ,\n",
              "         0.        , 0.        , 0.        ],\n",
              "        [0.56903328, 0.51630436, 0.32564449, 0.        , 0.        ,\n",
              "         0.        , 0.        , 0.        , 0.        , 0.        ,\n",
              "         0.        , 0.        , 0.        , 0.        , 0.        ,\n",
              "         0.        , 0.        , 0.        ],\n",
              "        [0.42266331, 0.48258447, 0.57174731, 0.254005  , 0.        ,\n",
              "         0.        , 0.        , 0.        , 0.        , 0.        ,\n",
              "         0.        , 0.        , 0.        , 0.        , 0.        ,\n",
              "         0.        , 0.        , 0.        ],\n",
              "        [0.40765402, 0.25094885, 0.21652705, 0.51510443, 0.43933901,\n",
              "         0.        , 0.        , 0.        , 0.        , 0.        ,\n",
              "         0.        , 0.        , 0.        , 0.        , 0.        ,\n",
              "         0.        , 0.        , 0.        ],\n",
              "        [0.3423964 , 0.42207861, 0.55664696, 0.38363516, 0.51762743,\n",
              "         0.60993039, 0.        , 0.        , 0.        , 0.        ,\n",
              "         0.        , 0.        , 0.        , 0.        , 0.        ,\n",
              "         0.        , 0.        , 0.        ],\n",
              "        [0.32279225, 0.0923566 , 0.19895553, 0.35116135, 0.39392681,\n",
              "         0.52042794, 0.42778861, 0.        , 0.        , 0.        ,\n",
              "         0.        , 0.        , 0.        , 0.        , 0.        ,\n",
              "         0.        , 0.        , 0.        ],\n",
              "        [0.22043393, 0.1087971 , 0.21577369, 0.24847593, 0.4381672 ,\n",
              "         0.55646265, 0.53281697, 0.39691158, 0.        , 0.        ,\n",
              "         0.        , 0.        , 0.        , 0.        , 0.        ,\n",
              "         0.        , 0.        , 0.        ],\n",
              "        [0.2734115 , 0.35607314, 0.29529471, 0.24682212, 0.27587302,\n",
              "         0.37341319, 0.19931427, 0.62354229, 0.59198706, 0.        ,\n",
              "         0.        , 0.        , 0.        , 0.        , 0.        ,\n",
              "         0.        , 0.        , 0.        ],\n",
              "        [0.21443368, 0.36053054, 0.26368247, 0.23047166, 0.24473778,\n",
              "         0.23416934, 0.07111386, 0.73358632, 0.33869186, 0.74642525,\n",
              "         0.        , 0.        , 0.        , 0.        , 0.        ,\n",
              "         0.        , 0.        , 0.        ],\n",
              "        [0.34386108, 0.44726163, 0.4228546 , 0.0763083 , 0.35191039,\n",
              "         0.26820238, 0.21430492, 0.16864875, 0.51796023, 0.56451109,\n",
              "         0.5725065 , 0.        , 0.        , 0.        , 0.        ,\n",
              "         0.        , 0.        , 0.        ],\n",
              "        [0.4084457 , 0.21574497, 0.25854053, 0.39039003, 0.17020501,\n",
              "         0.17932829, 0.23280413, 0.59711259, 0.23093467, 0.31043563,\n",
              "         0.72045243, 0.34444567, 0.        , 0.        , 0.        ,\n",
              "         0.        , 0.        , 0.        ],\n",
              "        [0.4074303 , 0.58200124, 0.44037333, 0.51437927, 0.26117992,\n",
              "         0.12358749, 0.42186164, 0.14899147, 0.16854845, 0.08891014,\n",
              "         0.17236798, 0.10568818, 0.48243621, 0.        , 0.        ,\n",
              "         0.        , 0.        , 0.        ],\n",
              "        [0.38886666, 0.25561449, 0.28830211, 0.20568922, 0.13494381,\n",
              "         0.13008831, 0.35198268, 0.25666477, 0.3082168 , 0.21081937,\n",
              "         0.40219211, 0.41882688, 0.57661515, 0.26089296, 0.        ,\n",
              "         0.        , 0.        , 0.        ],\n",
              "        [0.32063206, 0.3025916 , 0.20931034, 0.34177938, 0.2775564 ,\n",
              "         0.15269969, 0.09952454, 0.29339169, 0.3055367 , 0.17712082,\n",
              "         0.30830771, 0.26900492, 0.46692431, 0.14875208, 0.54989532,\n",
              "         0.        , 0.        , 0.        ],\n",
              "        [0.53677958, 0.35064922, 0.38267295, 0.23798521, 0.25751426,\n",
              "         0.25486852, 0.1174973 , 0.40752115, 0.16127139, 0.18892828,\n",
              "         0.29292468, 0.28616071, 0.35789403, 0.09894985, 0.35161253,\n",
              "         0.40909221, 0.        , 0.        ],\n",
              "        [0.67207788, 0.52963195, 0.61222458, 0.23882176, 0.7143658 ,\n",
              "         0.30845979, 0.26417398, 0.43526127, 0.21725711, 0.26690166,\n",
              "         0.38772428, 0.31844715, 0.39910213, 0.26182039, 0.22751861,\n",
              "         0.43922599, 0.51714048, 0.        ]]),\n",
              " 'plv': array([[0.        , 0.        , 0.        , 0.        , 0.        ,\n",
              "         0.        , 0.        , 0.        , 0.        , 0.        ,\n",
              "         0.        , 0.        , 0.        , 0.        , 0.        ,\n",
              "         0.        , 0.        , 0.        ],\n",
              "        [0.97323779, 0.        , 0.        , 0.        , 0.        ,\n",
              "         0.        , 0.        , 0.        , 0.        , 0.        ,\n",
              "         0.        , 0.        , 0.        , 0.        , 0.        ,\n",
              "         0.        , 0.        , 0.        ],\n",
              "        [0.94228509, 0.94925103, 0.        , 0.        , 0.        ,\n",
              "         0.        , 0.        , 0.        , 0.        , 0.        ,\n",
              "         0.        , 0.        , 0.        , 0.        , 0.        ,\n",
              "         0.        , 0.        , 0.        ],\n",
              "        [0.8863728 , 0.85437502, 0.6262655 , 0.        , 0.        ,\n",
              "         0.        , 0.        , 0.        , 0.        , 0.        ,\n",
              "         0.        , 0.        , 0.        , 0.        , 0.        ,\n",
              "         0.        , 0.        , 0.        ],\n",
              "        [0.87656789, 0.86425992, 0.94609884, 0.53279661, 0.        ,\n",
              "         0.        , 0.        , 0.        , 0.        , 0.        ,\n",
              "         0.        , 0.        , 0.        , 0.        , 0.        ,\n",
              "         0.        , 0.        , 0.        ],\n",
              "        [0.82332382, 0.67998873, 0.56006791, 0.87465642, 0.77599405,\n",
              "         0.        , 0.        , 0.        , 0.        , 0.        ,\n",
              "         0.        , 0.        , 0.        , 0.        , 0.        ,\n",
              "         0.        , 0.        , 0.        ],\n",
              "        [0.83033545, 0.8672166 , 0.9424417 , 0.76160654, 0.94915797,\n",
              "         0.93071665, 0.        , 0.        , 0.        , 0.        ,\n",
              "         0.        , 0.        , 0.        , 0.        , 0.        ,\n",
              "         0.        , 0.        , 0.        ],\n",
              "        [0.82587549, 0.36604941, 0.66977588, 0.68986188, 0.8229668 ,\n",
              "         0.93914546, 0.92184909, 0.        , 0.        , 0.        ,\n",
              "         0.        , 0.        , 0.        , 0.        , 0.        ,\n",
              "         0.        , 0.        , 0.        ],\n",
              "        [0.60307655, 0.38236399, 0.48780534, 0.52756161, 0.87137205,\n",
              "         0.84608586, 0.91363297, 0.79416794, 0.        , 0.        ,\n",
              "         0.        , 0.        , 0.        , 0.        , 0.        ,\n",
              "         0.        , 0.        , 0.        ],\n",
              "        [0.62312865, 0.88775809, 0.81955563, 0.40524583, 0.62150301,\n",
              "         0.60210761, 0.50690482, 0.90786142, 0.93294268, 0.        ,\n",
              "         0.        , 0.        , 0.        , 0.        , 0.        ,\n",
              "         0.        , 0.        , 0.        ],\n",
              "        [0.63491806, 0.91671214, 0.74094627, 0.57410659, 0.61648951,\n",
              "         0.71207965, 0.20815013, 0.98038177, 0.82431565, 0.98397853,\n",
              "         0.        , 0.        , 0.        , 0.        , 0.        ,\n",
              "         0.        , 0.        , 0.        ],\n",
              "        [0.83487076, 0.89779811, 0.83893734, 0.19850306, 0.76273477,\n",
              "         0.73711871, 0.63953549, 0.35817478, 0.96304784, 0.9274077 ,\n",
              "         0.96192284, 0.        , 0.        , 0.        , 0.        ,\n",
              "         0.        , 0.        , 0.        ],\n",
              "        [0.91016248, 0.71498894, 0.61141428, 0.87933019, 0.50069533,\n",
              "         0.51116644, 0.57049193, 0.97355018, 0.69629709, 0.70363241,\n",
              "         0.97530862, 0.77061528, 0.        , 0.        , 0.        ,\n",
              "         0.        , 0.        , 0.        ],\n",
              "        [0.75226219, 0.81609654, 0.77051171, 0.6903319 , 0.42918164,\n",
              "         0.21232501, 0.91558751, 0.3922494 , 0.39182875, 0.27581613,\n",
              "         0.48386721, 0.26244818, 0.89881849, 0.        , 0.        ,\n",
              "         0.        , 0.        , 0.        ],\n",
              "        [0.87347037, 0.59606372, 0.47624051, 0.58842337, 0.45687949,\n",
              "         0.54912137, 0.78200574, 0.77427414, 0.83486547, 0.61780393,\n",
              "         0.78709362, 0.64880713, 0.92655957, 0.56802417, 0.        ,\n",
              "         0.        , 0.        , 0.        ],\n",
              "        [0.80253984, 0.51113021, 0.33638154, 0.70500484, 0.68430738,\n",
              "         0.52679646, 0.39510329, 0.72668345, 0.69789455, 0.44536366,\n",
              "         0.71064229, 0.64830386, 0.85127913, 0.42661415, 0.95873432,\n",
              "         0.        , 0.        , 0.        ],\n",
              "        [0.96108621, 0.85646681, 0.87628966, 0.57453593, 0.68517822,\n",
              "         0.81597983, 0.45189175, 0.94365274, 0.46790084, 0.55934429,\n",
              "         0.84861019, 0.82576518, 0.85926186, 0.38701365, 0.87226718,\n",
              "         0.85914796, 0.        , 0.        ],\n",
              "        [0.94839058, 0.90699887, 0.93073343, 0.58047232, 0.96431632,\n",
              "         0.63320678, 0.70411338, 0.85492704, 0.52735486, 0.66237672,\n",
              "         0.92161201, 0.93099425, 0.83078503, 0.59799366, 0.56360493,\n",
              "         0.82752639, 0.92434777, 0.        ]]),\n",
              " 'ciplv': array([[0.        , 0.        , 0.        , 0.        , 0.        ,\n",
              "         0.        , 0.        , 0.        , 0.        , 0.        ,\n",
              "         0.        , 0.        , 0.        , 0.        , 0.        ,\n",
              "         0.        , 0.        , 0.        ],\n",
              "        [0.66216877, 0.        , 0.        , 0.        , 0.        ,\n",
              "         0.        , 0.        , 0.        , 0.        , 0.        ,\n",
              "         0.        , 0.        , 0.        , 0.        , 0.        ,\n",
              "         0.        , 0.        , 0.        ],\n",
              "        [0.5233252 , 0.37534732, 0.        , 0.        , 0.        ,\n",
              "         0.        , 0.        , 0.        , 0.        , 0.        ,\n",
              "         0.        , 0.        , 0.        , 0.        , 0.        ,\n",
              "         0.        , 0.        , 0.        ],\n",
              "        [0.51551078, 0.20131205, 0.05520758, 0.        , 0.        ,\n",
              "         0.        , 0.        , 0.        , 0.        , 0.        ,\n",
              "         0.        , 0.        , 0.        , 0.        , 0.        ,\n",
              "         0.        , 0.        , 0.        ],\n",
              "        [0.53675926, 0.53657981, 0.65275465, 0.30253638, 0.        ,\n",
              "         0.        , 0.        , 0.        , 0.        , 0.        ,\n",
              "         0.        , 0.        , 0.        , 0.        , 0.        ,\n",
              "         0.        , 0.        , 0.        ],\n",
              "        [0.7492328 , 0.32512822, 0.22075141, 0.51906538, 0.2850399 ,\n",
              "         0.        , 0.        , 0.        , 0.        , 0.        ,\n",
              "         0.        , 0.        , 0.        , 0.        , 0.        ,\n",
              "         0.        , 0.        , 0.        ],\n",
              "        [0.4616712 , 0.81472484, 0.79597367, 0.254007  , 0.38190633,\n",
              "         0.1756771 , 0.        , 0.        , 0.        , 0.        ,\n",
              "         0.        , 0.        , 0.        , 0.        , 0.        ,\n",
              "         0.        , 0.        , 0.        ],\n",
              "        [0.77269252, 0.31393129, 0.52985795, 0.46776921, 0.42177519,\n",
              "         0.1130689 , 0.4452828 , 0.        , 0.        , 0.        ,\n",
              "         0.        , 0.        , 0.        , 0.        , 0.        ,\n",
              "         0.        , 0.        , 0.        ],\n",
              "        [0.55069811, 0.35818393, 0.43615545, 0.35066274, 0.66154281,\n",
              "         0.67617558, 0.46391763, 0.44848006, 0.        , 0.        ,\n",
              "         0.        , 0.        , 0.        , 0.        , 0.        ,\n",
              "         0.        , 0.        , 0.        ],\n",
              "        [0.48885427, 0.63480894, 0.4224747 , 0.35724257, 0.47739418,\n",
              "         0.55587217, 0.23977002, 0.63062616, 0.82886242, 0.        ,\n",
              "         0.        , 0.        , 0.        , 0.        , 0.        ,\n",
              "         0.        , 0.        , 0.        ],\n",
              "        [0.61112573, 0.8949674 , 0.70511102, 0.57258154, 0.61355069,\n",
              "         0.54138744, 0.17823321, 0.38758521, 0.74455925, 0.69474877,\n",
              "         0.        , 0.        , 0.        , 0.        , 0.        ,\n",
              "         0.        , 0.        , 0.        ],\n",
              "        [0.37157124, 0.76360733, 0.71519394, 0.08825243, 0.59055271,\n",
              "         0.66677057, 0.34364602, 0.18066488, 0.95293362, 0.55974141,\n",
              "         0.61754697, 0.        , 0.        , 0.        , 0.        ,\n",
              "         0.        , 0.        , 0.        ],\n",
              "        [0.81411453, 0.44511422, 0.58131587, 0.59991829, 0.28270863,\n",
              "         0.34939322, 0.32370793, 0.26967498, 0.64592102, 0.23264659,\n",
              "         0.37371761, 0.59460488, 0.        , 0.        , 0.        ,\n",
              "         0.        , 0.        , 0.        ],\n",
              "        [0.62767738, 0.56212485, 0.6257916 , 0.38414488, 0.41894602,\n",
              "         0.13819439, 0.91197889, 0.14892818, 0.3724562 , 0.14890482,\n",
              "         0.28732923, 0.05440126, 0.2478697 , 0.        , 0.        ,\n",
              "         0.        , 0.        , 0.        ],\n",
              "        [0.38287337, 0.56773112, 0.45596262, 0.34536334, 0.3693956 ,\n",
              "         0.46515875, 0.67048861, 0.20843656, 0.26656716, 0.40822187,\n",
              "         0.54657662, 0.64763687, 0.44723464, 0.50413767, 0.        ,\n",
              "         0.        , 0.        , 0.        ],\n",
              "        [0.60715014, 0.21873612, 0.20198595, 0.59868926, 0.26241695,\n",
              "         0.10210321, 0.09043645, 0.45375857, 0.38436066, 0.3257515 ,\n",
              "         0.28633701, 0.64377146, 0.28909199, 0.21842853, 0.59001723,\n",
              "         0.        , 0.        , 0.        ],\n",
              "        [0.55178221, 0.38438313, 0.37567285, 0.19643068, 0.19522228,\n",
              "         0.77409611, 0.23426431, 0.89171746, 0.2703065 , 0.54004086,\n",
              "         0.76747084, 0.12045942, 0.40334507, 0.13731636, 0.30625456,\n",
              "         0.44578268, 0.        , 0.        ],\n",
              "        [0.67381875, 0.39007811, 0.42854796, 0.31740122, 0.65700207,\n",
              "         0.50079441, 0.2226425 , 0.75343366, 0.46969337, 0.55686266,\n",
              "         0.90861861, 0.68619982, 0.64688681, 0.43252676, 0.30941766,\n",
              "         0.38765746, 0.39884016, 0.        ]]),\n",
              " 'ppc': array([[ 0.        ,  0.        ,  0.        ,  0.        ,  0.        ,\n",
              "          0.        ,  0.        ,  0.        ,  0.        ,  0.        ,\n",
              "          0.        ,  0.        ,  0.        ,  0.        ,  0.        ,\n",
              "          0.        ,  0.        ,  0.        ],\n",
              "        [ 0.94158839,  0.        ,  0.        ,  0.        ,  0.        ,\n",
              "          0.        ,  0.        ,  0.        ,  0.        ,  0.        ,\n",
              "          0.        ,  0.        ,  0.        ,  0.        ,  0.        ,\n",
              "          0.        ,  0.        ,  0.        ],\n",
              "        [ 0.87660413,  0.89017722,  0.        ,  0.        ,  0.        ,\n",
              "          0.        ,  0.        ,  0.        ,  0.        ,  0.        ,\n",
              "          0.        ,  0.        ,  0.        ,  0.        ,  0.        ,\n",
              "          0.        ,  0.        ,  0.        ],\n",
              "        [ 0.77638171,  0.70155401,  0.34052292,  0.        ,  0.        ,\n",
              "          0.        ,  0.        ,  0.        ,  0.        ,  0.        ,\n",
              "          0.        ,  0.        ,  0.        ,  0.        ,  0.        ,\n",
              "          0.        ,  0.        ,  0.        ],\n",
              "        [ 0.74380908,  0.71987075,  0.883821  ,  0.25226492,  0.        ,\n",
              "          0.        ,  0.        ,  0.        ,  0.        ,  0.        ,\n",
              "          0.        ,  0.        ,  0.        ,  0.        ,  0.        ,\n",
              "          0.        ,  0.        ,  0.        ],\n",
              "        [ 0.64949698,  0.40863588,  0.28302172,  0.74660977,  0.63093174,\n",
              "          0.        ,  0.        ,  0.        ,  0.        ,  0.        ,\n",
              "          0.        ,  0.        ,  0.        ,  0.        ,  0.        ,\n",
              "          0.        ,  0.        ,  0.        ],\n",
              "        [ 0.67185752,  0.72755426,  0.87606736,  0.57865155,  0.88993499,\n",
              "          0.85141624,  0.        ,  0.        ,  0.        ,  0.        ,\n",
              "          0.        ,  0.        ,  0.        ,  0.        ,  0.        ,\n",
              "          0.        ,  0.        ,  0.        ],\n",
              "        [ 0.65139505,  0.05462107,  0.40122997,  0.43296365,  0.66400452,\n",
              "          0.87449598,  0.84020571,  0.        ,  0.        ,  0.        ,\n",
              "          0.        ,  0.        ,  0.        ,  0.        ,  0.        ,\n",
              "          0.        ,  0.        ,  0.        ],\n",
              "        [ 0.33394214,  0.08021185,  0.22056557,  0.23933398,  0.73699202,\n",
              "          0.69662915,  0.81996778,  0.59846733,  0.        ,  0.        ,\n",
              "          0.        ,  0.        ,  0.        ,  0.        ,  0.        ,\n",
              "          0.        ,  0.        ,  0.        ],\n",
              "        [ 0.32577545,  0.76994251,  0.64261452,  0.08302788,  0.34575716,\n",
              "          0.31449112,  0.19278721,  0.80603344,  0.85683267,  0.        ,\n",
              "          0.        ,  0.        ,  0.        ,  0.        ,  0.        ,\n",
              "          0.        ,  0.        ,  0.        ],\n",
              "        [ 0.34062021,  0.82494346,  0.52025737,  0.34028696,  0.34307059,\n",
              "          0.45502788, -0.05974033,  0.95687125,  0.64549316,  0.96491214,\n",
              "          0.        ,  0.        ,  0.        ,  0.        ,  0.        ,\n",
              "          0.        ,  0.        ,  0.        ],\n",
              "        [ 0.68161703,  0.7863889 ,  0.68615365, -0.0654041 ,  0.55155911,\n",
              "          0.4946199 ,  0.3548239 ,  0.07416294,  0.91981642,  0.84560132,\n",
              "          0.9172135 ,  0.        ,  0.        ,  0.        ,  0.        ,\n",
              "          0.        ,  0.        ,  0.        ],\n",
              "        [ 0.81346457,  0.46983555,  0.3217781 ,  0.75197524,  0.17809769,\n",
              "          0.25144588,  0.26989599,  0.94203537,  0.44372428,  0.52120398,\n",
              "          0.9458235 ,  0.55274476,  0.        ,  0.        ,  0.        ,\n",
              "          0.        ,  0.        ,  0.        ],\n",
              "        [ 0.53171169,  0.63614802,  0.55943092,  0.43489724,  0.14590093,\n",
              "         -0.04387838,  0.82066896,  0.0843705 ,  0.09030782, -0.01945657,\n",
              "          0.15110196, -0.0333279 ,  0.78664864,  0.        ,  0.        ,\n",
              "          0.        ,  0.        ,  0.        ],\n",
              "        [ 0.74064614,  0.28798613,  0.17295189,  0.31658722,  0.15357433,\n",
              "          0.2680961 ,  0.5801097 ,  0.56092389,  0.6670549 ,  0.3245601 ,\n",
              "          0.58023498,  0.35849375,  0.84309525,  0.26196632,  0.        ,\n",
              "          0.        ,  0.        ,  0.        ],\n",
              "        [ 0.65311595,  0.18312304,  0.05380756,  0.50230366,  0.43334243,\n",
              "          0.21850532,  0.15333827,  0.51016697,  0.45766416,  0.11298389,\n",
              "          0.47311246,  0.36915741,  0.70646632,  0.16104681,  0.91065906,\n",
              "          0.        ,  0.        ,  0.        ],\n",
              "        [ 0.91600841,  0.71124962,  0.75229039,  0.2860736 ,  0.43139406,\n",
              "          0.63801574,  0.13858135,  0.87847314,  0.14242142,  0.29067464,\n",
              "          0.69299156,  0.64909853,  0.71152454,  0.09545798,  0.73951786,\n",
              "          0.71375184,  0.        ,  0.        ],\n",
              "        [ 0.89261289,  0.80342006,  0.85592972,  0.31888306,  0.92300729,\n",
              "          0.39995739,  0.47394354,  0.71725181,  0.22201773,  0.42814217,\n",
              "          0.83299287,  0.85284709,  0.66487861,  0.3057034 ,  0.24815713,\n",
              "          0.65474672,  0.84486864,  0.        ]]),\n",
              " 'pli': array([[0.  , 0.  , 0.  , 0.  , 0.  , 0.  , 0.  , 0.  , 0.  , 0.  , 0.  ,\n",
              "         0.  , 0.  , 0.  , 0.  , 0.  , 0.  , 0.  ],\n",
              "        [0.75, 0.  , 0.  , 0.  , 0.  , 0.  , 0.  , 0.  , 0.  , 0.  , 0.  ,\n",
              "         0.  , 0.  , 0.  , 0.  , 0.  , 0.  , 0.  ],\n",
              "        [0.65, 0.45, 0.  , 0.  , 0.  , 0.  , 0.  , 0.  , 0.  , 0.  , 0.  ,\n",
              "         0.  , 0.  , 0.  , 0.  , 0.  , 0.  , 0.  ],\n",
              "        [0.5 , 0.35, 0.2 , 0.  , 0.  , 0.  , 0.  , 0.  , 0.  , 0.  , 0.  ,\n",
              "         0.  , 0.  , 0.  , 0.  , 0.  , 0.  , 0.  ],\n",
              "        [0.5 , 0.6 , 0.6 , 0.25, 0.  , 0.  , 0.  , 0.  , 0.  , 0.  , 0.  ,\n",
              "         0.  , 0.  , 0.  , 0.  , 0.  , 0.  , 0.  ],\n",
              "        [0.95, 0.5 , 0.25, 0.35, 0.3 , 0.  , 0.  , 0.  , 0.  , 0.  , 0.  ,\n",
              "         0.  , 0.  , 0.  , 0.  , 0.  , 0.  , 0.  ],\n",
              "        [0.6 , 0.85, 0.85, 0.3 , 0.25, 0.2 , 0.  , 0.  , 0.  , 0.  , 0.  ,\n",
              "         0.  , 0.  , 0.  , 0.  , 0.  , 0.  , 0.  ],\n",
              "        [0.95, 0.45, 0.6 , 0.55, 0.4 , 0.25, 0.45, 0.  , 0.  , 0.  , 0.  ,\n",
              "         0.  , 0.  , 0.  , 0.  , 0.  , 0.  , 0.  ],\n",
              "        [0.7 , 0.45, 0.55, 0.45, 0.8 , 0.8 , 0.6 , 0.45, 0.  , 0.  , 0.  ,\n",
              "         0.  , 0.  , 0.  , 0.  , 0.  , 0.  , 0.  ],\n",
              "        [0.4 , 0.7 , 0.5 , 0.35, 0.7 , 0.6 , 0.35, 0.65, 0.9 , 0.  , 0.  ,\n",
              "         0.  , 0.  , 0.  , 0.  , 0.  , 0.  , 0.  ],\n",
              "        [0.75, 1.  , 0.8 , 0.65, 0.7 , 0.6 , 0.15, 0.35, 0.85, 0.75, 0.  ,\n",
              "         0.  , 0.  , 0.  , 0.  , 0.  , 0.  , 0.  ],\n",
              "        [0.35, 0.75, 0.85, 0.15, 0.75, 0.7 , 0.45, 0.25, 1.  , 0.55, 0.55,\n",
              "         0.  , 0.  , 0.  , 0.  , 0.  , 0.  , 0.  ],\n",
              "        [0.85, 0.45, 0.8 , 0.6 , 0.3 , 0.35, 0.65, 0.15, 0.85, 0.3 , 0.3 ,\n",
              "         0.6 , 0.  , 0.  , 0.  , 0.  , 0.  , 0.  ],\n",
              "        [0.75, 0.75, 0.75, 0.5 , 0.65, 0.05, 1.  , 0.25, 0.5 , 0.2 , 0.3 ,\n",
              "         0.05, 0.1 , 0.  , 0.  , 0.  , 0.  , 0.  ],\n",
              "        [0.3 , 0.6 , 0.6 , 0.4 , 0.45, 0.55, 0.6 , 0.15, 0.2 , 0.5 , 0.4 ,\n",
              "         0.65, 0.3 , 0.7 , 0.  , 0.  , 0.  , 0.  ],\n",
              "        [0.65, 0.4 , 0.25, 0.7 , 0.4 , 0.15, 0.15, 0.5 , 0.4 , 0.5 , 0.2 ,\n",
              "         0.8 , 0.15, 0.2 , 0.55, 0.  , 0.  , 0.  ],\n",
              "        [0.5 , 0.3 , 0.4 , 0.15, 0.15, 0.9 , 0.45, 1.  , 0.25, 0.7 , 0.95,\n",
              "         0.15, 0.45, 0.05, 0.45, 0.45, 0.  , 0.  ],\n",
              "        [0.65, 0.35, 0.55, 0.35, 0.65, 0.5 , 0.25, 0.9 , 0.75, 0.7 , 1.  ,\n",
              "         0.65, 0.8 , 0.5 , 0.3 , 0.2 , 0.3 , 0.  ]]),\n",
              " 'wpli': array([[0.        , 0.        , 0.        , 0.        , 0.        ,\n",
              "         0.        , 0.        , 0.        , 0.        , 0.        ,\n",
              "         0.        , 0.        , 0.        , 0.        , 0.        ,\n",
              "         0.        , 0.        , 0.        ],\n",
              "        [0.73776046, 0.        , 0.        , 0.        , 0.        ,\n",
              "         0.        , 0.        , 0.        , 0.        , 0.        ,\n",
              "         0.        , 0.        , 0.        , 0.        , 0.        ,\n",
              "         0.        , 0.        , 0.        ],\n",
              "        [0.74877007, 0.60372528, 0.        , 0.        , 0.        ,\n",
              "         0.        , 0.        , 0.        , 0.        , 0.        ,\n",
              "         0.        , 0.        , 0.        , 0.        , 0.        ,\n",
              "         0.        , 0.        , 0.        ],\n",
              "        [0.63142235, 0.51468066, 0.10049693, 0.        , 0.        ,\n",
              "         0.        , 0.        , 0.        , 0.        , 0.        ,\n",
              "         0.        , 0.        , 0.        , 0.        , 0.        ,\n",
              "         0.        , 0.        , 0.        ],\n",
              "        [0.71878869, 0.79608104, 0.8109567 , 0.42806653, 0.        ,\n",
              "         0.        , 0.        , 0.        , 0.        , 0.        ,\n",
              "         0.        , 0.        , 0.        , 0.        , 0.        ,\n",
              "         0.        , 0.        , 0.        ],\n",
              "        [0.99196454, 0.5523486 , 0.28257772, 0.70960289, 0.38602962,\n",
              "         0.        , 0.        , 0.        , 0.        , 0.        ,\n",
              "         0.        , 0.        , 0.        , 0.        , 0.        ,\n",
              "         0.        , 0.        , 0.        ],\n",
              "        [0.77622427, 0.9925675 , 0.89415419, 0.26023575, 0.44312262,\n",
              "         0.20183767, 0.        , 0.        , 0.        , 0.        ,\n",
              "         0.        , 0.        , 0.        , 0.        , 0.        ,\n",
              "         0.        , 0.        , 0.        ],\n",
              "        [0.96178476, 0.59315732, 0.7346995 , 0.73390139, 0.4294127 ,\n",
              "         0.26730634, 0.59340472, 0.        , 0.        , 0.        ,\n",
              "         0.        , 0.        , 0.        , 0.        , 0.        ,\n",
              "         0.        , 0.        , 0.        ],\n",
              "        [0.85337682, 0.59981678, 0.64852762, 0.65126664, 0.81306805,\n",
              "         0.94628153, 0.78623763, 0.60239585, 0.        , 0.        ,\n",
              "         0.        , 0.        , 0.        , 0.        , 0.        ,\n",
              "         0.        , 0.        , 0.        ],\n",
              "        [0.47698325, 0.70332011, 0.6570254 , 0.75618363, 0.72337462,\n",
              "         0.90997286, 0.27340422, 0.92811844, 0.9740526 , 0.        ,\n",
              "         0.        , 0.        , 0.        , 0.        , 0.        ,\n",
              "         0.        , 0.        , 0.        ],\n",
              "        [0.90999342, 1.        , 0.90033075, 0.83505917, 0.80649244,\n",
              "         0.85786864, 0.30788647, 0.57564405, 0.90316838, 0.87320968,\n",
              "         0.        , 0.        , 0.        , 0.        , 0.        ,\n",
              "         0.        , 0.        , 0.        ],\n",
              "        [0.45226449, 0.94198581, 0.97891542, 0.20364795, 0.81746687,\n",
              "         0.91445422, 0.62351994, 0.42624564, 1.        , 0.69844672,\n",
              "         0.7631942 , 0.        , 0.        , 0.        , 0.        ,\n",
              "         0.        , 0.        , 0.        ],\n",
              "        [0.9120639 , 0.69280691, 0.96118876, 0.70928303, 0.54515461,\n",
              "         0.60052356, 0.61511195, 0.31158052, 0.90566751, 0.39449951,\n",
              "         0.52767767, 0.88690872, 0.        , 0.        , 0.        ,\n",
              "         0.        , 0.        , 0.        ],\n",
              "        [0.84274542, 0.84643704, 0.84026005, 0.82571412, 0.75069324,\n",
              "         0.24421384, 1.        , 0.30663328, 0.64515765, 0.20961267,\n",
              "         0.33824106, 0.17051675, 0.43337325, 0.        , 0.        ,\n",
              "         0.        , 0.        , 0.        ],\n",
              "        [0.33639223, 0.75448355, 0.82073217, 0.53772017, 0.50773047,\n",
              "         0.64716858, 0.86916565, 0.45191505, 0.43746607, 0.52661476,\n",
              "         0.56642785, 0.89216284, 0.28329145, 0.821897  , 0.        ,\n",
              "         0.        , 0.        , 0.        ],\n",
              "        [0.8252077 , 0.53843278, 0.51408868, 0.81667861, 0.38878232,\n",
              "         0.23823252, 0.10766159, 0.7018321 , 0.68871856, 0.74724698,\n",
              "         0.52872959, 0.91448185, 0.58313859, 0.23950482, 0.7720941 ,\n",
              "         0.        , 0.        , 0.        ],\n",
              "        [0.67385131, 0.47278548, 0.57173387, 0.12822695, 0.40499553,\n",
              "         0.98097108, 0.47825322, 1.        , 0.26991518, 0.89413467,\n",
              "         0.99571525, 0.19518531, 0.64567517, 0.18111005, 0.40193444,\n",
              "         0.58842722, 0.        , 0.        ],\n",
              "        [0.83198476, 0.47190974, 0.67489171, 0.39699981, 0.82646912,\n",
              "         0.83224066, 0.39931309, 0.95931675, 0.74771687, 0.75411262,\n",
              "         1.        , 0.87082345, 0.88464701, 0.708584  , 0.43557085,\n",
              "         0.22050313, 0.46634794, 0.        ]])}"
            ]
          },
          "metadata": {},
          "execution_count": 23
        }
      ]
    },
    {
      "cell_type": "code",
      "source": [
        "from mne.viz import circular_layout, plot_connectivity_circle\n",
        "#import matplotlib.pyplot as plt\n",
        "\n",
        "label_names = ch_names\n",
        "\n",
        "#plot_connectivity_circle(con_res['pli'], label_names, \n",
        "#                                                  title='All-to-All Connectivity (PLI)')\n",
        "#fig = plt.figure(num=None, figsize=(8, 4), facecolor='black')\n",
        "no_names = [''] * len(label_names)\n",
        "for ii, method in enumerate(con_methods):\n",
        "    plot_connectivity_circle(con_res[method], label_names, n_lines=300,\n",
        "                             title=method)\n",
        "    #plot_connectivity_circle(con_res[method], label_names, n_lines=300,\n",
        "    #                         title=method, padding=0, fontsize_colorbar=6,\n",
        "    #                         fig=fig, subplot=(1, 8, ii + 1))\n",
        "\n",
        "    #plot_connectivity_circle(con_res[method], no_names, n_lines=300,\n",
        "    #                         title=method, padding=0, fontsize_colorbar=6,\n",
        "    #                         fig=fig, subplot=(1, 6, ii + 1))\n",
        "plt.show()"
      ],
      "metadata": {
        "id": "v4D8oWlEeKII",
        "colab": {
          "base_uri": "https://localhost:8080/"
        },
        "outputId": "689d5624-2e88-4802-8a91-1da1fce71066"
      },
      "execution_count": 24,
      "outputs": [
        {
          "output_type": "stream",
          "name": "stderr",
          "text": [
            "/home/dmitryneuro/colab/env/lib/python3.7/site-packages/ipykernel_launcher.py:20: UserWarning: Matplotlib is currently using agg, which is a non-GUI backend, so cannot show the figure.\n"
          ]
        }
      ]
    },
    {
      "cell_type": "code",
      "source": [
        "con_res['coh']"
      ],
      "metadata": {
        "id": "zM78B6WjeKFo",
        "colab": {
          "base_uri": "https://localhost:8080/"
        },
        "outputId": "ef3f6a28-da70-480d-a199-6bb05a2e8f0c"
      },
      "execution_count": 25,
      "outputs": [
        {
          "output_type": "execute_result",
          "data": {
            "text/plain": [
              "array([[0.        , 0.        , 0.        , 0.        , 0.        ,\n",
              "        0.        , 0.        , 0.        , 0.        , 0.        ,\n",
              "        0.        , 0.        , 0.        , 0.        , 0.        ,\n",
              "        0.        , 0.        , 0.        ],\n",
              "       [0.68350444, 0.        , 0.        , 0.        , 0.        ,\n",
              "        0.        , 0.        , 0.        , 0.        , 0.        ,\n",
              "        0.        , 0.        , 0.        , 0.        , 0.        ,\n",
              "        0.        , 0.        , 0.        ],\n",
              "       [0.58790129, 0.67601579, 0.        , 0.        , 0.        ,\n",
              "        0.        , 0.        , 0.        , 0.        , 0.        ,\n",
              "        0.        , 0.        , 0.        , 0.        , 0.        ,\n",
              "        0.        , 0.        , 0.        ],\n",
              "       [0.56903328, 0.51630436, 0.32564449, 0.        , 0.        ,\n",
              "        0.        , 0.        , 0.        , 0.        , 0.        ,\n",
              "        0.        , 0.        , 0.        , 0.        , 0.        ,\n",
              "        0.        , 0.        , 0.        ],\n",
              "       [0.42266331, 0.48258447, 0.57174731, 0.254005  , 0.        ,\n",
              "        0.        , 0.        , 0.        , 0.        , 0.        ,\n",
              "        0.        , 0.        , 0.        , 0.        , 0.        ,\n",
              "        0.        , 0.        , 0.        ],\n",
              "       [0.40765402, 0.25094885, 0.21652705, 0.51510443, 0.43933901,\n",
              "        0.        , 0.        , 0.        , 0.        , 0.        ,\n",
              "        0.        , 0.        , 0.        , 0.        , 0.        ,\n",
              "        0.        , 0.        , 0.        ],\n",
              "       [0.3423964 , 0.42207861, 0.55664696, 0.38363516, 0.51762743,\n",
              "        0.60993039, 0.        , 0.        , 0.        , 0.        ,\n",
              "        0.        , 0.        , 0.        , 0.        , 0.        ,\n",
              "        0.        , 0.        , 0.        ],\n",
              "       [0.32279225, 0.0923566 , 0.19895553, 0.35116135, 0.39392681,\n",
              "        0.52042794, 0.42778861, 0.        , 0.        , 0.        ,\n",
              "        0.        , 0.        , 0.        , 0.        , 0.        ,\n",
              "        0.        , 0.        , 0.        ],\n",
              "       [0.22043393, 0.1087971 , 0.21577369, 0.24847593, 0.4381672 ,\n",
              "        0.55646265, 0.53281697, 0.39691158, 0.        , 0.        ,\n",
              "        0.        , 0.        , 0.        , 0.        , 0.        ,\n",
              "        0.        , 0.        , 0.        ],\n",
              "       [0.2734115 , 0.35607314, 0.29529471, 0.24682212, 0.27587302,\n",
              "        0.37341319, 0.19931427, 0.62354229, 0.59198706, 0.        ,\n",
              "        0.        , 0.        , 0.        , 0.        , 0.        ,\n",
              "        0.        , 0.        , 0.        ],\n",
              "       [0.21443368, 0.36053054, 0.26368247, 0.23047166, 0.24473778,\n",
              "        0.23416934, 0.07111386, 0.73358632, 0.33869186, 0.74642525,\n",
              "        0.        , 0.        , 0.        , 0.        , 0.        ,\n",
              "        0.        , 0.        , 0.        ],\n",
              "       [0.34386108, 0.44726163, 0.4228546 , 0.0763083 , 0.35191039,\n",
              "        0.26820238, 0.21430492, 0.16864875, 0.51796023, 0.56451109,\n",
              "        0.5725065 , 0.        , 0.        , 0.        , 0.        ,\n",
              "        0.        , 0.        , 0.        ],\n",
              "       [0.4084457 , 0.21574497, 0.25854053, 0.39039003, 0.17020501,\n",
              "        0.17932829, 0.23280413, 0.59711259, 0.23093467, 0.31043563,\n",
              "        0.72045243, 0.34444567, 0.        , 0.        , 0.        ,\n",
              "        0.        , 0.        , 0.        ],\n",
              "       [0.4074303 , 0.58200124, 0.44037333, 0.51437927, 0.26117992,\n",
              "        0.12358749, 0.42186164, 0.14899147, 0.16854845, 0.08891014,\n",
              "        0.17236798, 0.10568818, 0.48243621, 0.        , 0.        ,\n",
              "        0.        , 0.        , 0.        ],\n",
              "       [0.38886666, 0.25561449, 0.28830211, 0.20568922, 0.13494381,\n",
              "        0.13008831, 0.35198268, 0.25666477, 0.3082168 , 0.21081937,\n",
              "        0.40219211, 0.41882688, 0.57661515, 0.26089296, 0.        ,\n",
              "        0.        , 0.        , 0.        ],\n",
              "       [0.32063206, 0.3025916 , 0.20931034, 0.34177938, 0.2775564 ,\n",
              "        0.15269969, 0.09952454, 0.29339169, 0.3055367 , 0.17712082,\n",
              "        0.30830771, 0.26900492, 0.46692431, 0.14875208, 0.54989532,\n",
              "        0.        , 0.        , 0.        ],\n",
              "       [0.53677958, 0.35064922, 0.38267295, 0.23798521, 0.25751426,\n",
              "        0.25486852, 0.1174973 , 0.40752115, 0.16127139, 0.18892828,\n",
              "        0.29292468, 0.28616071, 0.35789403, 0.09894985, 0.35161253,\n",
              "        0.40909221, 0.        , 0.        ],\n",
              "       [0.67207788, 0.52963195, 0.61222458, 0.23882176, 0.7143658 ,\n",
              "        0.30845979, 0.26417398, 0.43526127, 0.21725711, 0.26690166,\n",
              "        0.38772428, 0.31844715, 0.39910213, 0.26182039, 0.22751861,\n",
              "        0.43922599, 0.51714048, 0.        ]])"
            ]
          },
          "metadata": {},
          "execution_count": 25
        }
      ]
    },
    {
      "cell_type": "code",
      "source": [
        "import io\n",
        "from PIL import Image\n",
        "\n",
        "#%matplotlib inline\n",
        "#import matplotlib.pyplot as plt"
      ],
      "metadata": {
        "id": "CXuffiBli2n1"
      },
      "execution_count": 26,
      "outputs": []
    },
    {
      "cell_type": "code",
      "source": [
        "#import matplotlib\n",
        "#matplotlib.use('agg')\n"
      ],
      "metadata": {
        "id": "i1WqVlrBNyig"
      },
      "execution_count": 27,
      "outputs": []
    },
    {
      "cell_type": "code",
      "source": [
        "#matplotlib.interactive(False)"
      ],
      "metadata": {
        "id": "EOU8vnSRYH3-"
      },
      "execution_count": 28,
      "outputs": []
    },
    {
      "cell_type": "code",
      "source": [
        "#import gc\n",
        "\n",
        "import imageio\n",
        "\n",
        "!pip install mne-connectivity\n",
        "\n",
        "from mne_connectivity.viz import plot_sensors_connectivity\n"
      ],
      "metadata": {
        "id": "ZYjjcaHKX_mc",
        "colab": {
          "base_uri": "https://localhost:8080/"
        },
        "outputId": "ffbf474d-ddbf-4922-fbbb-f623dd685655"
      },
      "execution_count": 29,
      "outputs": [
        {
          "output_type": "stream",
          "name": "stdout",
          "text": [
            "Requirement already satisfied: mne-connectivity in ./env/lib/python3.7/site-packages (0.3)\n",
            "Requirement already satisfied: numpy in ./env/lib/python3.7/site-packages (from mne-connectivity) (1.19.5)\n",
            "Requirement already satisfied: xarray in ./env/lib/python3.7/site-packages (from mne-connectivity) (0.20.2)\n",
            "Requirement already satisfied: tqdm in ./env/lib/python3.7/site-packages (from mne-connectivity) (4.62.2)\n",
            "Requirement already satisfied: netCDF4 in ./env/lib/python3.7/site-packages (from mne-connectivity) (1.6.0)\n",
            "Requirement already satisfied: scipy in ./env/lib/python3.7/site-packages (from mne-connectivity) (1.7.1)\n",
            "Requirement already satisfied: pandas in ./env/lib/python3.7/site-packages (from mne-connectivity) (1.3.5)\n",
            "Requirement already satisfied: mne in ./env/lib/python3.7/site-packages (from mne-connectivity) (0.23.3)\n",
            "Requirement already satisfied: cftime in ./env/lib/python3.7/site-packages (from netCDF4->mne-connectivity) (1.6.1)\n",
            "Requirement already satisfied: pytz>=2017.3 in ./env/lib/python3.7/site-packages (from pandas->mne-connectivity) (2021.1)\n",
            "Requirement already satisfied: python-dateutil>=2.7.3 in ./env/lib/python3.7/site-packages (from pandas->mne-connectivity) (2.8.2)\n",
            "Requirement already satisfied: six>=1.5 in ./env/lib/python3.7/site-packages (from python-dateutil>=2.7.3->pandas->mne-connectivity) (1.15.0)\n",
            "Requirement already satisfied: importlib-metadata in ./env/lib/python3.7/site-packages (from xarray->mne-connectivity) (4.8.1)\n",
            "Requirement already satisfied: typing-extensions>=3.7 in ./env/lib/python3.7/site-packages (from xarray->mne-connectivity) (3.7.4.3)\n",
            "Requirement already satisfied: zipp>=0.5 in ./env/lib/python3.7/site-packages (from importlib-metadata->xarray->mne-connectivity) (3.5.0)\n",
            "\u001b[33mWARNING: You are using pip version 21.2.4; however, version 22.1.2 is available.\n",
            "You should consider upgrading via the '/home/dmitryneuro/colab/env/bin/python3.7 -m pip install --upgrade pip' command.\u001b[0m\n"
          ]
        }
      ]
    },
    {
      "cell_type": "code",
      "source": [
        "#matplotlib.use('agg')\n",
        "#fig = plt.figure()\n",
        "\n",
        "fps=10\n",
        "#out = imageio.get_writer('/content/out/output.mp4', fps=fps)\n",
        "#out = imageio.get_writer('/content/out/'+input_fname_name+'_circle_'+methods[0]+'_'+\n",
        "#                         str(int(bands[0][0]))+'-'+str(int(bands[0][1]))+'hz_'+str(len(epochs[0].events)-2)+'.mp4', fps=fps)\n",
        "#out = imageio.get_writer('/content/out/output.mp4', mode='I', fps=fps, codec='libx264', bitrate='16M')\n",
        "\n",
        "# Generate random breaks and display audio\n",
        "\n",
        "# CHANGE THIS to change number of examples generated\n",
        "#n_generate = 30\n",
        "#n_generate = 150\n",
        "#n_generate = 300\n",
        "#n_generate = 305\n",
        "#n_generate = 390\n",
        "\n",
        "# Sample latent vectors\n",
        "#seed = 666 # change this seed to generate different set of breaks\n",
        "#np.random.seed(seed)\n",
        "#_z = (np.random.rand(n_generate, dim) * 2.) - 1.\n",
        "\n",
        "\n",
        "hz=44100\n",
        "#hz=39936\n",
        "#hz=int(32768*2*(600/240))\n",
        "#hz=int(32768*2*(480/240))\n",
        "#hz=int(32768*2*(360/240))\n",
        "#hz=int(32768*2*(300/240))\n",
        "#hz=int(32768*2*(265/240))\n",
        "#hz=int(32768*2*(250/240))\n",
        "#hz=int(32768*2*(240/240)*1.6666666)\n",
        "#hz=int(32768*2*(240/240))\n",
        "#hz=int(32768*2*(120/240))\n",
        "#fps=hz/(32768*2)\n",
        "#fps=10\n",
        "#fps=0.5\n",
        "#fps=44100/(32768*2)\n",
        "#fps=1\n",
        "#fps=1/3\n",
        "#fps=1.5\n",
        "\n",
        "#n_generate=int((307-2)*fps)\n",
        "#n_generate=int((160-2)*fps)\n",
        "#n_generate=int((1598-2)*fps)\n",
        "#n_generate=int((1648-2)*fps)\n",
        "n_generate=len(epochs[0].events)-2\n",
        "\n",
        "#n_generate=int((10-2)*fps)\n",
        "#n_generate=int((1607-2)*fps)\n",
        "#n_generate=150\n",
        "part_len = 1000\n",
        "#part_len = 275\n",
        "dim = 512\n",
        "\n",
        "\n",
        "n_parts = n_generate//part_len\n",
        "if n_generate%part_len>0:\n",
        "    n_parts=n_parts+1\n",
        "\n",
        "vol=0.1\n",
        "\n",
        "#psd_array=np.random.rand(part_len, dim) \n",
        "\n",
        "#out = imageio.get_writer('./output.mp4', mode='I', fps=fps, codec='libx264', bitrate='16M')\n",
        "\n",
        "#Gs_kwargs = dnnlib.EasyDict()\n",
        "#Gs_kwargs.output_transform = dict(func=tflib.convert_images_to_uint8, nchw_to_nhwc=True)\n",
        "#Gs_kwargs.randomize_noise = False\n",
        "\n",
        "imgs = []\n",
        "imgs1 = []\n",
        "\n",
        "def plot_func(con,methods,label_names,out):\n",
        "        #plt.ioff()\n",
        "        if True:\n",
        "#          con_res = dict()\n",
        "#          for method, c in zip(methods, con):\n",
        "#            con_res[method] = c[:, :, 0]\n",
        "#            con_res[method] = c[:, :]\n",
        "          #for ii, method in enumerate(methods):\n",
        "#          if False:\n",
        "          if True:\n",
        "#            fig,_ = plot_connectivity_circle(con_res[method], label_names, n_lines=300, \n",
        "\n",
        "#            plot_connectivity_circle(con[:, :, 0], label_names, n_lines=300, \n",
        "#                                             title=method, show = False)\n",
        "            #fig = plt.figure()\n",
        "            #fig,_ = \n",
        "#            fig,ax = plot_connectivity_circle(con[:, :, 0], label_names, n_lines=300, \n",
        "#                                             title=method, show = False, vmin=0, vmax=1)#, fig=fig)\n",
        "            #fig, ax = plt.subplots(figsize=(37.33, 21)) \n",
        "            fig,ax = plot_connectivity_circle(con[:, :, 0], label_names, n_lines=300, \n",
        "                                             title=methods[0], show = False, vmin=0, vmax=1)#, fig=fig)\n",
        "#            fig = plot_sensors_connectivity(raw.info, con[:, :, 0], picks=label_names, cbar_label=method)\n",
        "          #plot_conmat_file = os.path.abspath('circle_' + fname + '.eps')\n",
        "          #fig.savefig(plot_conmat_file, facecolor='black')\n",
        "\n",
        "          #plt.close()\n",
        "          #plt.close(fig)\n",
        "          #fig.clf()\n",
        "          \n",
        "          #del fig\n",
        "\n",
        "          #if ji%100==0 :\n",
        "          #  gc.collect()\n",
        "\n",
        "        #if False:\n",
        "\n",
        "          #plt.close(fig)\n",
        "          ##fig1.close()\n",
        "          #del fig\n",
        "\n",
        "          #plt.rcParams[\"figure.figsize\"] = [7.50, 3.50]\n",
        "          #plt.rcParams[\"figure.autolayout\"] = True\n",
        "\n",
        "          #plt.figure()\n",
        "          #plt.plot([1, 2])\n",
        "\n",
        "          img_buf = io.BytesIO()\n",
        "          #plt.savefig(img_buf, format='png')\n",
        "\n",
        "          fig.savefig(img_buf, facecolor='black', format='png')\n",
        "          fig.savefig('/content/out/img_buf.png', facecolor='black', format='png')\n",
        "\n",
        "          #fig.clear()\n",
        "          #fig.clf()\n",
        "          #plt.close()\n",
        "          #ax.cla()\n",
        "\n",
        "          #plt.savefig(img_buf, facecolor='black', format='png')\n",
        "          #plt.savefig('/content/out/img_buf.png', facecolor='black', format='png')\n",
        "\n",
        "          #plt.close()\n",
        "          #plt.close(fig)\n",
        "          #fig.clf()\n",
        "\n",
        "          # Clear the current axes.\n",
        "          #plt.cla() \n",
        "          # Clear the current figure.\n",
        "          #plt.clf() \n",
        "          # Closes all the figure windows.\n",
        "          #plt.close('all')   \n",
        "          #plt.close(fig)\n",
        "          #gc.collect()\n",
        "          #del fig\n",
        "\n",
        "          #if ji%100==0 :\n",
        "          #  gc.collect()\n",
        "\n",
        "          img_buf.seek(0)\n",
        "\n",
        "          im = imageio.imread(img_buf)\n",
        "          out.append_data(im)\n",
        "          img_buf.close()\n",
        "\n",
        "          plt.close('all')   \n",
        "\n",
        "#z_avg_samples=n_generate\n",
        "#for i in range(n_generate): # display separate audio for each break\n",
        "for j in range(n_parts): # display separate audio for each break\n",
        "  out_file = '/content/out/'+input_fname_name+'_circle_'+methods[0]+'_'+str(int(bands[0][0]))+'-'+str(int(bands[0][1]))+'hz_'+str(len(epochs[0].events)-2)+'_'+str(j)+'.mp4'\n",
        "  import os.path\n",
        "  if not os.path.isfile(out_file):  \n",
        "    out = imageio.get_writer(out_file, fps=fps)\n",
        "\n",
        "    for i in range(part_len): # display separate audio for each break\n",
        "        ji = j * part_len + i\n",
        "        \n",
        "#        if (i==0) and (n_generate-ji<part_len):\n",
        "#            psd_array=np.random.rand((n_generate-ji), dim) \n",
        "\n",
        "\n",
        "        eeg_step=ji\n",
        "        #print (f'EEG step: {(eeg_step/3):.1f} s')\n",
        "        tmin, tmax = 0+(eeg_step/fps), 2+(eeg_step/fps)  # use the first 120s of data\n",
        "        #tmin, tmax = 0+(10*eeg_step/512), 2+(10*eeg_step/512)  # use the first 120s of data\n",
        "        #fmin, fmax = 0.5, 256  # look at frequencies between 4 and 100Hz\n",
        "        #fmin, fmax = 0.5, 50  # look at frequencies between 4 and 100Hz\n",
        "        #fmin, fmax = 8, 12  # look at frequencies between 4 and 100Hz\n",
        "        #n_fft = 512  # the FFT size (n_fft). Ideally a power of 2\n",
        "        #n_fft = 1024  # the FFT size (n_fft). Ideally a power of 2\n",
        "        #n_fft = 2048  # the FFT size (n_fft). Ideally a power of 2\n",
        "        #label = mne.read_label(fname_label)\n",
        "        \n",
        "        print(str(ji) + '/' + str(n_generate))\n",
        "        #logger = logging.getLogger()\n",
        "        #logger.disabled = True\n",
        "\n",
        "        sfreq = raw.info['sfreq']  # the sampling frequency\n",
        "        \n",
        "#        psds=np.zeros(dim)\n",
        "        \n",
        "        for method in range(len(methods)):\n",
        "         for band in range(len(bands)):\n",
        "          #fmin=8.\n",
        "          #fmax=13.\n",
        "          fmin=bands[band][0]\n",
        "          fmax=bands[band][1]\n",
        "          if band == 0:\n",
        "           con, freqs, times, n_epochs, n_tapers = spectral_connectivity(\n",
        "            epochs[band][ji:ji+1], method=methods[method], mode='multitaper', sfreq=sfreq, fmin=fmin,\n",
        "#            epochs[band][ji:ji+10], method=methods[method], mode='multitaper', sfreq=sfreq, fmin=fmin,\n",
        "            fmax=fmax, faverage=True, mt_adaptive=True, n_jobs=1, verbose=50)\n",
        "          #con, freqs, times, n_epochs, n_tapers = spectral_connectivity(\n",
        "          #  epochs[band][ji,ji+1], method=methods[method], mode='multitaper', sfreq=sfreq, fmin=fmin,\n",
        "          #  fmax=fmax, faverage=True, mt_adaptive=True, n_jobs=1)\n",
        "#          psds_shift1=int(round(method*len(bands)+band)*(len(ch_names)*(len(ch_names)-1)/2))\n",
        "#          ji1=0\n",
        "#          for j1 in range(0,len(ch_names)): # display separate audio for each break\n",
        "#            for i1 in range(0,j1): # display separate audio for each break\n",
        "#              psds[ji1+psds_shift1]=(con[j1][i1][0]-0.5)*1\n",
        "#              ji1 = ji1+1\n",
        "        #psds, freqs = mne.time_frequency.psd_welch(raw, picks=picks,\n",
        "        #                 tmin=tmin, tmax=tmax, fmin=fmin, fmax=fmax,\n",
        "        #                 n_fft=n_fft)\n",
        "        #logger.disabled = False\n",
        "\n",
        "        #print(freqs)\n",
        "        #print(psds)\n",
        "        \n",
        "#        psd_array[i]=psds\n",
        "        ##z_samples = psds\n",
        "\n",
        "        #w_samples = G.mapping(torch.from_numpy(z_samples).to(device), None)  # [N, L, C]\n",
        "        #w_samples = w_samples[:, :1, :].cpu().numpy().astype(np.float32)       # [N, 1, C]\n",
        "        ##z_avg = np.mean(z_samples, axis=0)      # [1, 1, C]\n",
        "        #z_avg = np.mean(z_samples, axis=0, keepdims=True)      # [1, 1, C]\n",
        "        ##psd_array[i]=z_avg\n",
        "        #psd_array[i]=z_avg\n",
        "        #print(z_avg)\n",
        "        #z_std = (np.sum((z_samples - z_avg) ** 2) / z_avg_samples) ** 0.5\n",
        "\n",
        "        #psd_array[i]=psds\n",
        "        #psds_transpose=np.transpose(psds)\n",
        "        #plt.plot(freqs,psds_transpose)\n",
        "        #plt.xlabel('Frequency (Hz)')\n",
        "        #plt.ylabel('PSD (dB)')\n",
        "        #plt.title('Power Spectrum (PSD)')\n",
        "        #plt.show()\n",
        "#        if (i==part_len-1) or (ji==n_generate-1) :\n",
        "#        if True:\n",
        "        if False:\n",
        "#          con_res = dict()\n",
        "#          for method, c in zip(methods, con):\n",
        "#            con_res[method] = c[:, :, 0]\n",
        "#            con_res[method] = c[:, :]\n",
        "          for ii, method in enumerate(methods):\n",
        "#            fig,_ = plot_connectivity_circle(con_res[method], label_names, n_lines=300, \n",
        "\n",
        "#            plot_connectivity_circle(con[:, :, 0], label_names, n_lines=300, \n",
        "#                                             title=method, show = False)\n",
        "            #fig = plt.figure()\n",
        "#            fig,_ = \n",
        "            fig,ax = plot_connectivity_circle(con[:, :, 0], label_names, n_lines=300, \n",
        "                                             title=method, show = False, vmin=0, vmax=1)#, fig=fig)\n",
        "#            fig = plot_sensors_connectivity(raw.info, con[:, :, 0], picks=label_names, cbar_label=method)\n",
        "          #plot_conmat_file = os.path.abspath('circle_' + fname + '.eps')\n",
        "          #fig.savefig(plot_conmat_file, facecolor='black')\n",
        "\n",
        "          #plt.close()\n",
        "          #plt.close(fig)\n",
        "          #fig.clf()\n",
        "          \n",
        "          #del fig\n",
        "\n",
        "          #if ji%100==0 :\n",
        "          #  gc.collect()\n",
        "\n",
        "        if False:\n",
        "#        if True:\n",
        "\n",
        "          #plt.close(fig)\n",
        "          ##fig1.close()\n",
        "          #del fig\n",
        "\n",
        "          #plt.rcParams[\"figure.figsize\"] = [7.50, 3.50]\n",
        "          #plt.rcParams[\"figure.autolayout\"] = True\n",
        "\n",
        "          #plt.figure()\n",
        "          #plt.plot([1, 2])\n",
        "\n",
        "          img_buf = io.BytesIO()\n",
        "          #plt.savefig(img_buf, format='png')\n",
        "\n",
        "          #fig.savefig(img_buf, facecolor='black', format='png')\n",
        "          #fig.savefig('/content/out/img_buf.png', facecolor='black', format='png')\n",
        "\n",
        "          #fig.clf()\n",
        "          #plt.close()\n",
        "          #ax.cla()\n",
        "\n",
        "          plt.savefig(img_buf, facecolor='black', format='png')\n",
        "          plt.savefig('/content/out/img_buf.png', facecolor='black', format='png')\n",
        "\n",
        "          #plt.close()\n",
        "          plt.close(fig)\n",
        "          #fig.clf()\n",
        "\n",
        "          # Clear the current axes.\n",
        "          plt.cla() \n",
        "          # Clear the current figure.\n",
        "          plt.clf() \n",
        "          # Closes all the figure windows.\n",
        "          plt.close('all')   \n",
        "          #plt.close(fig)\n",
        "          #gc.collect()\n",
        "          del fig\n",
        "          del ax\n",
        "\n",
        "          #if ji%100==0 :\n",
        "          #  gc.collect()\n",
        "\n",
        "          img_buf.seek(0)\n",
        "\n",
        "          im = imageio.imread(img_buf)\n",
        "          out.append_data(im)\n",
        "          img_buf.close()\n",
        "          #del img_buf\n",
        "          #del im\n",
        "\n",
        "          #if ji == 100:\n",
        "          #  out.close()\n",
        "          #  break\n",
        "\n",
        "          #im = img_buf.getvalue()\n",
        "\n",
        "          #im = Image.open(img_buf)\n",
        "#          im.copy()\n",
        "          #im.show(title=\"My Image\")\n",
        "          \n",
        "          #out.append_data(np.asarray(im))\n",
        "\n",
        "          #im.close()\n",
        "\n",
        "          #img_buf.close()\n",
        "\n",
        "          #  _z = psd_array * vol\n",
        "          #  images = Gs.run(_z, None, **Gs_kwargs) # [minibatch, height, width, channel]\n",
        "          #  for image in images:\n",
        "              #imgs1.append(image)\n",
        "#              out.append_data(np.asarray(PIL.Image.fromarray(image, 'RGB')))\n",
        "\n",
        "              #imgs.append(PIL.Image.fromarray(image, 'RGB'))\n",
        "            #out.append(PIL.Image.fromarray(images[0], 'RGB'))\n",
        "            #_G_z = sess.run(G_z, {z: _z})[:,:,0]\n",
        "            #if j==0:\n",
        "            #    _G_z_full=_G_z\n",
        "            #else:\n",
        "            #    _G_z_full=np.append(_G_z_full,_G_z)\n",
        "\n",
        "        if True:\n",
        "          plot_func(con,methods,label_names,out)\n",
        "          #if ji%100==0 :\n",
        "          #  gc.collect()\n",
        "          if (ji==n_generate-1) :\n",
        "                break\n",
        "    out.close()\n",
        "\n",
        "\n",
        "#print(psd_array)\n",
        "#print(psd_array.shape)\n",
        "#print(psd_array.ndim)\n",
        "#_z = psd_array / 5.\n",
        "#_z = psd_array / 10.\n",
        "#_z = (psd_array * 2.) - 1.\n",
        "#_G_z = sess.run(G_z, {z: _z})[:,:,0]\n",
        "\n",
        "# display(Audio(_G_z.flatten(), rate=39936)) # display all in one audio\n",
        "\n",
        "#for i in range(n_generate): # display separate audio for each break\n",
        "  #print(i)\n",
        "  #display(Audio(np.tile(_G_z[i][1:_G_z[i].ndim/2], 2), rate=39936)) # change rate for different tempo\n",
        "  #display(Audio(np.tile(_G_z[i][1:32768], 2), rate=32768)) # change rate for different tempo\n",
        "  #display(Audio(np.tile(_G_z[i], 1), rate=32768)) # change rate for different tempo\n",
        "#out.close()"
      ],
      "metadata": {
        "id": "-kCJEYReeKDB"
      },
      "execution_count": null,
      "outputs": []
    },
    {
      "cell_type": "code",
      "source": [
        "out.close()"
      ],
      "metadata": {
        "id": "Y--FRlDieKAQ"
      },
      "execution_count": 31,
      "outputs": []
    },
    {
      "cell_type": "code",
      "source": [
        "#!pip install pyvista"
      ],
      "metadata": {
        "id": "TmCSQC9mGdgI"
      },
      "execution_count": 32,
      "outputs": []
    },
    {
      "cell_type": "code",
      "source": [
        "#import pyvista"
      ],
      "metadata": {
        "id": "vr_jstOaeJ9w"
      },
      "execution_count": 33,
      "outputs": []
    },
    {
      "cell_type": "code",
      "source": [
        ""
      ],
      "metadata": {
        "id": "YvMGflcRd8k6"
      },
      "execution_count": 33,
      "outputs": []
    },
    {
      "cell_type": "code",
      "source": [
        "stop"
      ],
      "metadata": {
        "id": "meVp0N8ad8Vu",
        "colab": {
          "base_uri": "https://localhost:8080/",
          "height": 165
        },
        "outputId": "123958ba-690e-486b-dce6-77f5b9c67c9a"
      },
      "execution_count": 34,
      "outputs": [
        {
          "output_type": "error",
          "ename": "NameError",
          "evalue": "ignored",
          "traceback": [
            "\u001b[0;31m---------------------------------------------------------------------------\u001b[0m",
            "\u001b[0;31mNameError\u001b[0m                                 Traceback (most recent call last)",
            "\u001b[0;32m/tmp/ipykernel_6529/3957423419.py\u001b[0m in \u001b[0;36m<module>\u001b[0;34m\u001b[0m\n\u001b[0;32m----> 1\u001b[0;31m \u001b[0mstop\u001b[0m\u001b[0;34m\u001b[0m\u001b[0;34m\u001b[0m\u001b[0m\n\u001b[0m",
            "\u001b[0;31mNameError\u001b[0m: name 'stop' is not defined"
          ]
        }
      ]
    }
  ]
}