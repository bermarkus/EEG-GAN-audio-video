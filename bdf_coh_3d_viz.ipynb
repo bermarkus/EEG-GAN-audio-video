{
  "nbformat": 4,
  "nbformat_minor": 0,
  "metadata": {
    "colab": {
      "name": "bdf_coh_3d_viz.ipynb",
      "provenance": [],
      "collapsed_sections": [],
      "authorship_tag": "ABX9TyOEbChnJeEbmDdu6hJj6t7m",
      "include_colab_link": true
    },
    "kernelspec": {
      "name": "python3",
      "display_name": "Python 3"
    },
    "language_info": {
      "name": "python"
    }
  },
  "cells": [
    {
      "cell_type": "markdown",
      "metadata": {
        "id": "view-in-github",
        "colab_type": "text"
      },
      "source": [
        "<a href=\"https://colab.research.google.com/github/neuroidss/EEG-GAN-audio-video/blob/main/bdf_coh_3d_viz.ipynb\" target=\"_parent\"><img src=\"https://colab.research.google.com/assets/colab-badge.svg\" alt=\"Open In Colab\"/></a>"
      ]
    },
    {
      "cell_type": "code",
      "source": [
        "%matplotlib inline\n",
        "\n",
        "import matplotlib.pyplot as plt\n",
        "import matplotlib\n",
        "matplotlib.use('agg')\n",
        "\n",
        "#for k in range(100):\n",
        "#  fig, ax = plt.subplots(figsize=(37.33, 21))\n",
        "#  fig.savefig(f'figure{k}.png')\n",
        "#  plt.close(fig)"
      ],
      "metadata": {
        "id": "JHR4BJ2eZOCX"
      },
      "execution_count": 1,
      "outputs": []
    },
    {
      "cell_type": "code",
      "execution_count": 2,
      "metadata": {
        "id": "T7IwIoD6x4I8"
      },
      "outputs": [],
      "source": [
        "ch_names_sg2 = ['FP1','AF3','F7','F3','FC1','FC5','T7','C3','CP1','CP5','P7','P3','Pz','PO3','O1','Oz','O2','PO4','P4','P8','CP6','CP2','C4','T8','FC6','FC2','F4','F8','AF4','FP2','Fz','Cz']\n",
        "ch_locations_sg2=[0,1,2,3,4,5,6,7,8,9,10,11,12,13,14,15,16,17,18,19,20,21,22,23,24,25,26,27,28,29,30,31]\n",
        "bands = [[8.,12.]]\n",
        "methods = ['coh']\n",
        "duration=5*1/8\n",
        "overlap=0\n",
        "fps_sg2=1\n",
        "#if generate_wavegan:\n",
        "fps_wg=1#hz/(32768*2)\n",
        "fps_sg2=fps_wg*4\n",
        "#fps_sg2=fps_wg\n",
        "fps_hm=fps_wg\n",
        "\n",
        "if 2*1/fps_wg>duration:\n",
        "  duration=2*1/fps_wg\n",
        "  overlap=0\n",
        "\n",
        "#if generate&gen_wavegan:\n",
        "#  dim_wg = 100\n",
        "#if generate&gen_stylegan2:\n",
        "#  dim_sg2 = 512\n",
        "#if generate&gen_sg2_shawwn:\n",
        "#  dim_sg2 = 1024\n",
        "\n",
        "#stepSize = 1/pow(2,24)\n",
        "#vref = 2.50 #2.5V voltage ref +/- 250nV\n",
        "#gain = 8\n",
        "\n",
        "#vscale = (vref/gain)*stepSize #volts per step.\n",
        "#uVperStep = 1000000 * ((vref/gain)*stepSize) #uV per step.\n",
        "#scalar = 1/(1000000 / ((vref/gain)*stepSize)) #steps per uV."
      ]
    },
    {
      "cell_type": "code",
      "source": [
        "def download_file_from_google_drive(file_id,dest_path):\n",
        "  import os.path\n",
        "  if not os.path.isfile(dest_path):  \n",
        "    !mkdir -p $(dirname {dest_path})\n",
        "    !wget --save-cookies cookies.txt 'https://docs.google.com/uc?export=download&id='{file_id} -O- | sed -rn 's/.*confirm=([0-9A-Za-z_]+).*/\\1/p' > confirm.txt\n",
        "    !wget --load-cookies cookies.txt -O {dest_path} 'https://docs.google.com/uc?export=download&id='{file_id}'&confirm='$(<confirm.txt)"
      ],
      "metadata": {
        "id": "QyZ0lgw9KatI"
      },
      "execution_count": 3,
      "outputs": []
    },
    {
      "cell_type": "code",
      "source": [
        "!mkdir /content/eeg"
      ],
      "metadata": {
        "id": "1zH66IbjbKQI",
        "colab": {
          "base_uri": "https://localhost:8080/"
        },
        "outputId": "a7e6bf54-672b-4469-8510-d9f3d501d99b"
      },
      "execution_count": 4,
      "outputs": [
        {
          "output_type": "stream",
          "name": "stdout",
          "text": [
            "mkdir: cannot create directory ‘/content/eeg’: File exists\r\n"
          ]
        }
      ]
    },
    {
      "cell_type": "code",
      "source": [
        "!pip install --upgrade gdown\n",
        "#!pip install googledrivedownloader\n",
        "#from google_drive_downloader import GoogleDriveDownloader as gdd\n",
        "files_path=[]\n",
        "#if generate&gen_drums:\n",
        "files_path = [['1Nfzi6yT83SBZxtgIYVtYp7C7g_Sq9OdS', '/content/eeg/record-[2019.11.13-22.23.59].csv'],\n",
        "              ['1LtMfr9GduR3semMVgh_6JoUSKbCG8XbH', '/content/eeg/record-[2020.06.28-14.26.09].csv']]\n",
        "for i in range(len(files_path)):\n",
        "#  gdd.download_file_from_google_drive(file_id=files_path[i][0], dest_path=files_path[i][1])\n",
        "  download_file_from_google_drive(file_id=files_path[i][0], dest_path=files_path[i][1])\n",
        "\n",
        "files_path = [['1nIiilGVq8XXU7bb1UC5GDtmGbovuil9C', '/content/eeg/5min_experienced_meditator_unfiltered_signals.bdf', '5min_experienced_meditator_unfiltered_signals']]\n",
        "\n",
        "for i in range(len(files_path)):\n",
        "#  gdd.download_file_from_google_drive(file_id=files_path[i][0], dest_path=files_path[i][1])\n",
        "  download_file_from_google_drive(file_id=files_path[i][0], dest_path=files_path[i][1])\n",
        "\n",
        "files_path = [['1BphDQFJZ0aIMiZbkQ55_MzNxOrdq0Jcb', '/content/eeg/01-07-2022_15-34.bdf', '01-07-2022_15-34'],\n",
        "              ['1HlDuAO8n_hmH1PWlT46T1Waqyy5yz1LV', '/content/eeg/01-07-2022_18-32.bdf', '01-07-2022_18-32'],\n",
        "              ['1u_8ANTzYB9jP7wCnErivF1ClM1rXixSg', '/content/eeg/01-07-2022_16-52.bdf', '01-07-2022_16-52'],\n",
        "              ['1_cgoBcHAf3VRIorYafC-vHLAGpv8Papz', '/content/eeg/01-07-2022_17-39.bdf', '01-07-2022_17-39'],\n",
        "              ['1JMLtO_sQtZtdQHQ2RCZ0RbRj3cvk0G_2', '/content/eeg/01-07-2022_14-05.bdf', '01-07-2022_14-05'],\n",
        "              ['1ag-1yK-HSxNRh_5wnP9h-kOkVyX3YqSs', '/content/eeg/01-07-2022_18-32_signals.csv']]\n",
        "\n",
        "for i in range(len(files_path)):\n",
        "#  gdd.download_file_from_google_drive(file_id=files_path[i][0], dest_path=files_path[i][1])\n",
        "  download_file_from_google_drive(file_id=files_path[i][0], dest_path=files_path[i][1])\n",
        "\n",
        "files_path = [['16j4PwPoudiCVB_HF9m0fCYIt3uUZR3kA', '/content/eeg/20211130-162023-sync1.bdf', '20211130-162023-sync1', '20211130-162023-syncs'],\n",
        "              ['16kSyskI7qOZRitvNIzd4iy6irqhgLwsI', '/content/eeg/20211130-162023-sync2.bdf', '20211130-162023-sync2', '20211130-162023-syncs'],\n",
        "              ['16k88jpP7uZKKDT-WhZKcvGsnPclDA2TF', '/content/eeg/20211130-162023-sync3.bdf', '20211130-162023-sync3', '20211130-162023-syncs'],\n",
        "              ['16licSohQPcbLnJmMD88In5PbiiLjOB_N', '/content/eeg/20211130-162023-sync4.bdf', '20211130-162023-sync4', '20211130-162023-syncs'],\n",
        "              ['16nHtHn1BBkzb9oTl4EhJmPHPEB4Q8CVl', '/content/eeg/20211130-221138-sync1.bdf', '20211130-221138-sync1', '20211130-221138-syncs'],\n",
        "              ['16m5Kp0WEdz3GixvQ7-jPVLdQUhXmIbA6', '/content/eeg/20211130-221138-sync2.bdf', '20211130-221138-sync2', '20211130-221138-syncs'],\n",
        "              ['16mJVZV1XT-RULgcSKUSROOQnQr6CHYCK', '/content/eeg/20211130-221138-sync3.bdf', '20211130-221138-sync3', '20211130-221138-syncs'],\n",
        "              ['16nh5R44VIRDFbYmFk7sDQeMXEAA1veY4', '/content/eeg/20211130-221138-sync4.bdf', '20211130-221138-sync4', '20211130-221138-syncs'],\n",
        "              ['16oygYh5ZerFWmNHNMaFqZxUNbC0yj-oW', '/content/eeg/20211130-231131-sync1.bdf', '20211130-231131-sync1', '20211130-231131-syncs'],\n",
        "              ['16q-Rl-L6NcTxdKco347Q63eK8Z3e5h-F', '/content/eeg/20211130-231131-sync2.bdf', '20211130-231131-sync2', '20211130-231131-syncs'],\n",
        "              ['16o9MNod2FHz3tplGv14a8vxNR8EVGfxx', '/content/eeg/20211130-231131-sync3.bdf', '20211130-231131-sync3', '20211130-231131-syncs'],\n",
        "              ['16oszc_L44xtZNOgBuEJtgSjwl1Pob825', '/content/eeg/20211130-231131-sync4.bdf', '20211130-231131-sync4', '20211130-231131-syncs']]\n",
        "\n",
        "for i in range(len(files_path)):\n",
        "#  gdd.download_file_from_google_drive(file_id=files_path[i][0], dest_path=files_path[i][1])\n",
        "  download_file_from_google_drive(file_id=files_path[i][0], dest_path=files_path[i][1])\n"
      ],
      "metadata": {
        "colab": {
          "base_uri": "https://localhost:8080/"
        },
        "id": "b2Seg16EKeUn",
        "outputId": "15aec960-e45f-48c0-cd3e-3aa7e52442fa"
      },
      "execution_count": 5,
      "outputs": [
        {
          "output_type": "stream",
          "name": "stdout",
          "text": [
            "Requirement already satisfied: gdown in ./env/lib/python3.7/site-packages (4.5.1)\n",
            "Requirement already satisfied: tqdm in ./env/lib/python3.7/site-packages (from gdown) (4.62.2)\n",
            "Requirement already satisfied: filelock in ./env/lib/python3.7/site-packages (from gdown) (3.6.0)\n",
            "Requirement already satisfied: requests[socks] in ./env/lib/python3.7/site-packages (from gdown) (2.26.0)\n",
            "Requirement already satisfied: six in ./env/lib/python3.7/site-packages (from gdown) (1.15.0)\n",
            "Requirement already satisfied: beautifulsoup4 in ./env/lib/python3.7/site-packages (from gdown) (4.11.1)\n",
            "Requirement already satisfied: soupsieve>1.2 in ./env/lib/python3.7/site-packages (from beautifulsoup4->gdown) (2.3.2.post1)\n",
            "Requirement already satisfied: urllib3<1.27,>=1.21.1 in ./env/lib/python3.7/site-packages (from requests[socks]->gdown) (1.26.6)\n",
            "Requirement already satisfied: idna<4,>=2.5 in ./env/lib/python3.7/site-packages (from requests[socks]->gdown) (3.2)\n",
            "Requirement already satisfied: certifi>=2017.4.17 in ./env/lib/python3.7/site-packages (from requests[socks]->gdown) (2021.5.30)\n",
            "Requirement already satisfied: charset-normalizer~=2.0.0 in ./env/lib/python3.7/site-packages (from requests[socks]->gdown) (2.0.5)\n",
            "Requirement already satisfied: PySocks!=1.5.7,>=1.5.6 in ./env/lib/python3.7/site-packages (from requests[socks]->gdown) (1.7.1)\n",
            "\u001b[33mWARNING: You are using pip version 21.2.4; however, version 22.1.2 is available.\n",
            "You should consider upgrading via the '/home/dmitryneuro/colab/env/bin/python3.7 -m pip install --upgrade pip' command.\u001b[0m\n"
          ]
        }
      ]
    },
    {
      "cell_type": "code",
      "source": [
        "!pip install mne==0.23.3\n",
        "\n",
        "import mne\n",
        "from mne import io"
      ],
      "metadata": {
        "colab": {
          "base_uri": "https://localhost:8080/"
        },
        "id": "ZRD8C00WnqCN",
        "outputId": "8eca057c-c03d-4f74-abf4-6ac087f76867"
      },
      "execution_count": 6,
      "outputs": [
        {
          "output_type": "stream",
          "name": "stdout",
          "text": [
            "Requirement already satisfied: mne==0.23.3 in ./env/lib/python3.7/site-packages (0.23.3)\r\n",
            "Requirement already satisfied: numpy>=1.15.4 in ./env/lib/python3.7/site-packages (from mne==0.23.3) (1.19.5)\r\n",
            "Requirement already satisfied: scipy>=1.1.0 in ./env/lib/python3.7/site-packages (from mne==0.23.3) (1.7.1)\n",
            "\u001b[33mWARNING: You are using pip version 21.2.4; however, version 22.1.2 is available.\n",
            "You should consider upgrading via the '/home/dmitryneuro/colab/env/bin/python3.7 -m pip install --upgrade pip' command.\u001b[0m\n"
          ]
        }
      ]
    },
    {
      "cell_type": "code",
      "source": [
        "    ch_names = ['Fz','Fp1','F7','F3','T3','C3','T5','P3','O1','Pz','O2','P4','T6','C4','T4','F4','F8','Fp2']\n",
        "#    ch_names = ['Fp1','F7','F3','T3','C3','T5','P3','O1','Pz','O2','P4','T6','C4','T4','F4','F8','Fp2','Fz']\n",
        "#    ch_names = ['F4','F8','Fp2','Fz','Fp1','F7','F3','T3','C3','T5','P3','O1','Pz','O2','P4','T6','C4','T4']\n",
        "#    ch_names = ['Fp1','F7','F3','T3','C3','T5','P3','Pz','O1','O2','P4','T6','C4','T4','F4','F8','Fp2','Fz']\n",
        "#    ch_names = ['FP1','F7','F3','T3','C3','T5','P3','PZ','O1','O2','P4','T6','C4','T4','F4','F8','FP2','FZ']\n",
        "#    ch_names = ['O2','T6','T4','F8','FP2','F4','C4','P4','PZ','FZ','FP1','F3','C3','P3','O1','T5','T3','F7']\n",
        "\n",
        "    sfreq = 512 \n",
        "    ch_types=['eeg']*len(ch_names)\n",
        "    info = mne.create_info(ch_names = ch_names, sfreq = sfreq, ch_types=ch_types)\n",
        "    misc_ch_names = ['','']\n",
        "    \n",
        "\n",
        "\n",
        "\n"
      ],
      "metadata": {
        "id": "fEhuLJnIoPY6"
      },
      "execution_count": 7,
      "outputs": []
    },
    {
      "cell_type": "code",
      "source": [
        "    #if False:\n",
        "    input_fname=files_path[0][1]\n",
        "    input_fname_name=files_path[0][2]\n",
        "#    raw = io.read_raw_bdf(input_fname, eog=None, misc=None, stim_channel='auto', exclude=(), preload=False, verbose=None,include)\n",
        "    raw = io.read_raw_bdf(input_fname, eog=None, misc=None, stim_channel='auto', \n",
        "                          exclude=(), preload=False, verbose=True)\n"
      ],
      "metadata": {
        "colab": {
          "base_uri": "https://localhost:8080/"
        },
        "id": "CfpCy94znJ2b",
        "outputId": "21a06184-f0ae-4942-8348-e39c2f004324"
      },
      "execution_count": 8,
      "outputs": [
        {
          "output_type": "stream",
          "name": "stdout",
          "text": [
            "Extracting EDF parameters from /content/eeg/20211130-162023-sync1.bdf...\n",
            "BDF file detected\n",
            "Setting channel info structure...\n",
            "Creating raw.info structure...\n"
          ]
        }
      ]
    },
    {
      "cell_type": "code",
      "source": [
        ""
      ],
      "metadata": {
        "id": "U0pMDym27011"
      },
      "execution_count": 8,
      "outputs": []
    },
    {
      "cell_type": "code",
      "source": [
        "    files_path_from=0\n",
        "    input_fname_name=files_path[files_path_from*4+0][3]\n",
        "\n",
        "    input_fnames=[{}]*4\n",
        "    input_fnames[0]=files_path[files_path_from*4+0][1]\n",
        "    input_fnames[1]=files_path[files_path_from*4+1][1]\n",
        "    input_fnames[2]=files_path[files_path_from*4+2][1]\n",
        "    input_fnames[3]=files_path[files_path_from*4+3][1]\n",
        "    input_fname_names=[{}]*4\n",
        "    input_fname_names[0]=files_path[files_path_from*4+0][2]\n",
        "    input_fname_names[1]=files_path[files_path_from*4+1][2]\n",
        "    input_fname_names[2]=files_path[files_path_from*4+2][2]\n",
        "    input_fname_names[3]=files_path[files_path_from*4+3][2]\n",
        "#    raw = io.read_raw_bdf(input_fname, eog=None, misc=None, stim_channel='auto', exclude=(), preload=False, verbose=None,include)\n",
        "    raws=[{}]*4\n",
        "    raws[0] = io.read_raw_bdf(input_fnames[0], eog=None, misc=None, stim_channel='auto', \n",
        "                          exclude=(), preload=False, verbose=True)\n",
        "    raws[1] = io.read_raw_bdf(input_fnames[1], eog=None, misc=None, stim_channel='auto', \n",
        "                          exclude=(), preload=False, verbose=True)\n",
        "    raws[2] = io.read_raw_bdf(input_fnames[2], eog=None, misc=None, stim_channel='auto', \n",
        "                          exclude=(), preload=False, verbose=True)\n",
        "    raws[3] = io.read_raw_bdf(input_fnames[3], eog=None, misc=None, stim_channel='auto', \n",
        "                          exclude=(), preload=False, verbose=True)\n",
        "    "
      ],
      "metadata": {
        "colab": {
          "base_uri": "https://localhost:8080/"
        },
        "id": "oS4lqupRUFAB",
        "outputId": "c1f0cecf-f2fe-434d-9932-86a259942481"
      },
      "execution_count": 9,
      "outputs": [
        {
          "output_type": "stream",
          "name": "stdout",
          "text": [
            "Extracting EDF parameters from /content/eeg/20211130-162023-sync1.bdf...\n",
            "BDF file detected\n",
            "Setting channel info structure...\n",
            "Creating raw.info structure...\n",
            "Extracting EDF parameters from /content/eeg/20211130-162023-sync2.bdf...\n",
            "BDF file detected\n",
            "Setting channel info structure...\n",
            "Creating raw.info structure...\n",
            "Extracting EDF parameters from /content/eeg/20211130-162023-sync3.bdf...\n",
            "BDF file detected\n",
            "Setting channel info structure...\n",
            "Creating raw.info structure...\n",
            "Extracting EDF parameters from /content/eeg/20211130-162023-sync4.bdf...\n",
            "BDF file detected\n",
            "Setting channel info structure...\n",
            "Creating raw.info structure...\n"
          ]
        }
      ]
    },
    {
      "cell_type": "code",
      "source": [
        "raw_picks=[{}]*4\n",
        "raw_picks[0] = raws[0].pick(ch_names)\n",
        "raw_picks[1] = raws[1].pick(ch_names)\n",
        "raw_picks[2] = raws[2].pick(ch_names)\n",
        "raw_picks[3] = raws[3].pick(ch_names)\n"
      ],
      "metadata": {
        "id": "PgQyhwLB2EO0"
      },
      "execution_count": 10,
      "outputs": []
    },
    {
      "cell_type": "code",
      "source": [
        "raw_picks[0].ch_names"
      ],
      "metadata": {
        "colab": {
          "base_uri": "https://localhost:8080/"
        },
        "id": "PqNWDr0t2YmB",
        "outputId": "b245e5e3-6c5a-4138-ea05-b3633f1b099c"
      },
      "execution_count": 11,
      "outputs": [
        {
          "output_type": "execute_result",
          "data": {
            "text/plain": [
              "['Fz',\n",
              " 'Fp1',\n",
              " 'F7',\n",
              " 'F3',\n",
              " 'T3',\n",
              " 'C3',\n",
              " 'T5',\n",
              " 'P3',\n",
              " 'O1',\n",
              " 'Pz',\n",
              " 'O2',\n",
              " 'P4',\n",
              " 'T6',\n",
              " 'C4',\n",
              " 'T4',\n",
              " 'F4',\n",
              " 'F8',\n",
              " 'Fp2']"
            ]
          },
          "metadata": {},
          "execution_count": 11
        }
      ]
    },
    {
      "cell_type": "code",
      "source": [
        "!pip install mne==0.23.3\n",
        "!pip install pandas\n",
        "!pip install matplotlib\n",
        "\n",
        "import mne\n",
        "from mne import io\n",
        "from mne.datasets import sample\n",
        "from mne.minimum_norm import read_inverse_operator, compute_source_psd\n",
        "\n",
        "from mne.connectivity import spectral_connectivity, seed_target_indices\n",
        "\n",
        "import pandas as pd\n",
        "import numpy as np\n"
      ],
      "metadata": {
        "colab": {
          "base_uri": "https://localhost:8080/"
        },
        "id": "bx0lLwzRKyhX",
        "outputId": "e5591c66-2d0f-4053-a7c8-d9cc45a5efc9"
      },
      "execution_count": 12,
      "outputs": [
        {
          "output_type": "stream",
          "name": "stdout",
          "text": [
            "Requirement already satisfied: mne==0.23.3 in ./env/lib/python3.7/site-packages (0.23.3)\r\n",
            "Requirement already satisfied: numpy>=1.15.4 in ./env/lib/python3.7/site-packages (from mne==0.23.3) (1.19.5)\r\n",
            "Requirement already satisfied: scipy>=1.1.0 in ./env/lib/python3.7/site-packages (from mne==0.23.3) (1.7.1)\n",
            "\u001b[33mWARNING: You are using pip version 21.2.4; however, version 22.1.2 is available.\n",
            "You should consider upgrading via the '/home/dmitryneuro/colab/env/bin/python3.7 -m pip install --upgrade pip' command.\u001b[0m\n",
            "Requirement already satisfied: pandas in ./env/lib/python3.7/site-packages (1.3.5)\n",
            "Requirement already satisfied: python-dateutil>=2.7.3 in ./env/lib/python3.7/site-packages (from pandas) (2.8.2)\n",
            "Requirement already satisfied: numpy>=1.17.3 in ./env/lib/python3.7/site-packages (from pandas) (1.19.5)\n",
            "Requirement already satisfied: pytz>=2017.3 in ./env/lib/python3.7/site-packages (from pandas) (2021.1)\n",
            "Requirement already satisfied: six>=1.5 in ./env/lib/python3.7/site-packages (from python-dateutil>=2.7.3->pandas) (1.15.0)\n",
            "\u001b[33mWARNING: You are using pip version 21.2.4; however, version 22.1.2 is available.\n",
            "You should consider upgrading via the '/home/dmitryneuro/colab/env/bin/python3.7 -m pip install --upgrade pip' command.\u001b[0m\n",
            "Requirement already satisfied: matplotlib in ./env/lib/python3.7/site-packages (3.4.3)\n",
            "Requirement already satisfied: pyparsing>=2.2.1 in ./env/lib/python3.7/site-packages (from matplotlib) (2.4.7)\n",
            "Requirement already satisfied: numpy>=1.16 in ./env/lib/python3.7/site-packages (from matplotlib) (1.19.5)\n",
            "Requirement already satisfied: pillow>=6.2.0 in ./env/lib/python3.7/site-packages (from matplotlib) (8.3.2)\n",
            "Requirement already satisfied: kiwisolver>=1.0.1 in ./env/lib/python3.7/site-packages (from matplotlib) (1.3.2)\n",
            "Requirement already satisfied: python-dateutil>=2.7 in ./env/lib/python3.7/site-packages (from matplotlib) (2.8.2)\n",
            "Requirement already satisfied: cycler>=0.10 in ./env/lib/python3.7/site-packages (from matplotlib) (0.10.0)\n",
            "Requirement already satisfied: six in ./env/lib/python3.7/site-packages (from cycler>=0.10->matplotlib) (1.15.0)\n",
            "\u001b[33mWARNING: You are using pip version 21.2.4; however, version 22.1.2 is available.\n",
            "You should consider upgrading via the '/home/dmitryneuro/colab/env/bin/python3.7 -m pip install --upgrade pip' command.\u001b[0m\n"
          ]
        }
      ]
    },
    {
      "cell_type": "code",
      "source": [
        "raws_for_hstack=[{}]*4\n",
        "raws_for_hstack[0] = raw_picks[0][:][0]\n",
        "raws_for_hstack[1] = raw_picks[1][:][0]\n",
        "raws_for_hstack[2] = raw_picks[2][:][0]\n",
        "raws_for_hstack[3] = raw_picks[3][:][0]\n",
        "\n",
        "raws_vstack = np.vstack(raws_for_hstack)\n"
      ],
      "metadata": {
        "id": "ry52ahRqxOtd"
      },
      "execution_count": 13,
      "outputs": []
    },
    {
      "cell_type": "code",
      "source": [
        "len(raws[0][:][0])"
      ],
      "metadata": {
        "colab": {
          "base_uri": "https://localhost:8080/"
        },
        "id": "75brfCDpyv8Z",
        "outputId": "f4873c9f-aaa3-4901-e5ee-466df77e5fa5"
      },
      "execution_count": 14,
      "outputs": [
        {
          "output_type": "execute_result",
          "data": {
            "text/plain": [
              "18"
            ]
          },
          "metadata": {},
          "execution_count": 14
        }
      ]
    },
    {
      "cell_type": "code",
      "source": [
        "len(raws_vstack)"
      ],
      "metadata": {
        "colab": {
          "base_uri": "https://localhost:8080/"
        },
        "id": "CxYPCvuxxYNP",
        "outputId": "0ba85a52-9a2c-491a-ae1b-af13193a187c"
      },
      "execution_count": 15,
      "outputs": [
        {
          "output_type": "execute_result",
          "data": {
            "text/plain": [
              "72"
            ]
          },
          "metadata": {},
          "execution_count": 15
        }
      ]
    },
    {
      "cell_type": "code",
      "source": [
        "raws_vstack"
      ],
      "metadata": {
        "colab": {
          "base_uri": "https://localhost:8080/"
        },
        "id": "ogj5ZhHg1pZ-",
        "outputId": "f437f60c-9d14-4bff-8bed-19a126a9a876"
      },
      "execution_count": 16,
      "outputs": [
        {
          "output_type": "execute_result",
          "data": {
            "text/plain": [
              "array([[-3.27718844e-01, -3.27722718e-01, -3.27682008e-01, ...,\n",
              "         2.98023242e-08,  2.98023242e-08,  2.98023242e-08],\n",
              "       [-3.69788401e-01, -3.69862847e-01, -3.69910709e-01, ...,\n",
              "         2.98023242e-08,  2.98023242e-08,  2.98023242e-08],\n",
              "       [-4.27928503e-01, -4.27981194e-01, -4.28003664e-01, ...,\n",
              "         2.98023242e-08,  2.98023242e-08,  2.98023242e-08],\n",
              "       ...,\n",
              "       [-2.89553749e-01, -2.89524900e-01, -2.89482998e-01, ...,\n",
              "         2.98023242e-08,  2.98023242e-08,  2.98023242e-08],\n",
              "       [-3.04018724e-01, -3.04014671e-01, -3.03991246e-01, ...,\n",
              "         2.98023242e-08,  2.98023242e-08,  2.98023242e-08],\n",
              "       [-4.18650324e-01, -4.18624217e-01, -4.18582196e-01, ...,\n",
              "         2.98023242e-08,  2.98023242e-08,  2.98023242e-08]])"
            ]
          },
          "metadata": {},
          "execution_count": 16
        }
      ]
    },
    {
      "cell_type": "code",
      "source": [
        "ch_names_syncs=[{}]*4\n",
        "syncs=[{}]*4\n",
        "syncs[0]=['sync1']*len(ch_names)\n",
        "syncs[1]=['sync2']*len(ch_names)\n",
        "syncs[2]=['sync3']*len(ch_names)\n",
        "syncs[3]=['sync4']*len(ch_names)\n",
        "\n",
        "ch_names_syncs[0] = [syncs[0][i] + '_' + ch_names[i] for i in range(len(ch_names))]\n",
        "ch_names_syncs[1] = [syncs[1][i] + '_' + ch_names[i] for i in range(len(ch_names))]\n",
        "ch_names_syncs[2] = [syncs[2][i] + '_' + ch_names[i] for i in range(len(ch_names))]\n",
        "ch_names_syncs[3] = [syncs[3][i] + '_' + ch_names[i] for i in range(len(ch_names))]\n"
      ],
      "metadata": {
        "id": "nBGSUi4ezQC_"
      },
      "execution_count": 17,
      "outputs": []
    },
    {
      "cell_type": "code",
      "source": [
        "ch_names_sync=ch_names_syncs[0]+ch_names_syncs[1]+ch_names_syncs[2]+ch_names_syncs[3]\n",
        "#ch_names_sync=ch_names_syncs[0]+ch_names_syncs[1]+ch_names_syncs[2]\n",
        "#ch_names_sync=ch_names_syncs[0]+ch_names_syncs[1]"
      ],
      "metadata": {
        "id": "Jp6GENPyzYpd"
      },
      "execution_count": 18,
      "outputs": []
    },
    {
      "cell_type": "code",
      "source": [
        "ch_names_sync"
      ],
      "metadata": {
        "colab": {
          "base_uri": "https://localhost:8080/"
        },
        "id": "GLAsgleA1ANJ",
        "outputId": "0eed24a9-374b-441b-a6ea-31eed7b84bec"
      },
      "execution_count": 19,
      "outputs": [
        {
          "output_type": "execute_result",
          "data": {
            "text/plain": [
              "['sync1_Fz',\n",
              " 'sync1_Fp1',\n",
              " 'sync1_F7',\n",
              " 'sync1_F3',\n",
              " 'sync1_T3',\n",
              " 'sync1_C3',\n",
              " 'sync1_T5',\n",
              " 'sync1_P3',\n",
              " 'sync1_O1',\n",
              " 'sync1_Pz',\n",
              " 'sync1_O2',\n",
              " 'sync1_P4',\n",
              " 'sync1_T6',\n",
              " 'sync1_C4',\n",
              " 'sync1_T4',\n",
              " 'sync1_F4',\n",
              " 'sync1_F8',\n",
              " 'sync1_Fp2',\n",
              " 'sync2_Fz',\n",
              " 'sync2_Fp1',\n",
              " 'sync2_F7',\n",
              " 'sync2_F3',\n",
              " 'sync2_T3',\n",
              " 'sync2_C3',\n",
              " 'sync2_T5',\n",
              " 'sync2_P3',\n",
              " 'sync2_O1',\n",
              " 'sync2_Pz',\n",
              " 'sync2_O2',\n",
              " 'sync2_P4',\n",
              " 'sync2_T6',\n",
              " 'sync2_C4',\n",
              " 'sync2_T4',\n",
              " 'sync2_F4',\n",
              " 'sync2_F8',\n",
              " 'sync2_Fp2',\n",
              " 'sync3_Fz',\n",
              " 'sync3_Fp1',\n",
              " 'sync3_F7',\n",
              " 'sync3_F3',\n",
              " 'sync3_T3',\n",
              " 'sync3_C3',\n",
              " 'sync3_T5',\n",
              " 'sync3_P3',\n",
              " 'sync3_O1',\n",
              " 'sync3_Pz',\n",
              " 'sync3_O2',\n",
              " 'sync3_P4',\n",
              " 'sync3_T6',\n",
              " 'sync3_C4',\n",
              " 'sync3_T4',\n",
              " 'sync3_F4',\n",
              " 'sync3_F8',\n",
              " 'sync3_Fp2',\n",
              " 'sync4_Fz',\n",
              " 'sync4_Fp1',\n",
              " 'sync4_F7',\n",
              " 'sync4_F3',\n",
              " 'sync4_T3',\n",
              " 'sync4_C3',\n",
              " 'sync4_T5',\n",
              " 'sync4_P3',\n",
              " 'sync4_O1',\n",
              " 'sync4_Pz',\n",
              " 'sync4_O2',\n",
              " 'sync4_P4',\n",
              " 'sync4_T6',\n",
              " 'sync4_C4',\n",
              " 'sync4_T4',\n",
              " 'sync4_F4',\n",
              " 'sync4_F8',\n",
              " 'sync4_Fp2']"
            ]
          },
          "metadata": {},
          "execution_count": 19
        }
      ]
    },
    {
      "cell_type": "code",
      "source": [
        "ch_names = ch_names_sync\n",
        "#raws_vstack = raws_for_hstack[0]\n",
        "#raws_for_hstack=[{}]*3\n",
        "#raws_for_hstack[0] = raw_picks[0][:][0]\n",
        "#raws_for_hstack[0] = raw_picks[1][:][0]\n",
        "#raws_for_hstack[1] = raw_picks[1][:][0]\n",
        "#raws_for_hstack[1] = raw_picks[2][:][0]\n",
        "#raws_for_hstack[2] = raw_picks[2][:][0]\n",
        "#raws_for_hstack[2] = raw_picks[3][:][0]\n",
        "#raws_for_hstack[3] = raw_picks[3][:][0]\n",
        "#raws_vstack = np.vstack(raws_for_hstack)"
      ],
      "metadata": {
        "id": "8Ik9XMVn3VUi"
      },
      "execution_count": 20,
      "outputs": []
    },
    {
      "cell_type": "code",
      "source": [
        "    sfreq = 512 \n",
        "    ch_types=['eeg']*len(ch_names)\n",
        "    info = mne.create_info(ch_names = ch_names, sfreq = sfreq, ch_types=ch_types)\n",
        "    #info = mne.create_info(sfreq = sfreq)\n",
        "    raw_sync = mne.io.RawArray(raws_vstack, info)"
      ],
      "metadata": {
        "colab": {
          "base_uri": "https://localhost:8080/"
        },
        "id": "W09_G91YzGOD",
        "outputId": "687ab964-0b66-49cf-9819-9787d230c151"
      },
      "execution_count": 21,
      "outputs": [
        {
          "output_type": "stream",
          "name": "stdout",
          "text": [
            "Creating RawArray with float64 data, n_channels=72, n_times=1213440\n",
            "    Range : 0 ... 1213439 =      0.000 ...  2369.998 secs\n",
            "Ready.\n"
          ]
        }
      ]
    },
    {
      "cell_type": "code",
      "source": [
        "raw.get_data"
      ],
      "metadata": {
        "colab": {
          "base_uri": "https://localhost:8080/"
        },
        "id": "ZW9gTH6VdR7t",
        "outputId": "428d2519-258f-4725-97a3-7c431c87db01"
      },
      "execution_count": 22,
      "outputs": [
        {
          "output_type": "execute_result",
          "data": {
            "text/plain": [
              "<bound method get_data of <RawEDF | 20211130-162023-sync1.bdf, 22 x 1213440 (2370.0 s), ~26 kB, data not loaded>>"
            ]
          },
          "metadata": {},
          "execution_count": 22
        }
      ]
    },
    {
      "cell_type": "code",
      "source": [
        "raw = raw_sync"
      ],
      "metadata": {
        "id": "dGZAasoI6Z_f"
      },
      "execution_count": 23,
      "outputs": []
    },
    {
      "cell_type": "code",
      "source": [
        "raw.info"
      ],
      "metadata": {
        "colab": {
          "base_uri": "https://localhost:8080/",
          "height": 254
        },
        "id": "fK2JhDafr1rb",
        "outputId": "c28d1b65-d845-4a47-d94b-a04a1c93893a"
      },
      "execution_count": 24,
      "outputs": [
        {
          "output_type": "execute_result",
          "data": {
            "text/plain": [
              "<Info | 7 non-empty values\n",
              " bads: []\n",
              " ch_names: sync1_Fz, sync1_Fp1, sync1_F7, sync1_F3, sync1_T3, sync1_C3, ...\n",
              " chs: 72 EEG\n",
              " custom_ref_applied: False\n",
              " highpass: 0.0 Hz\n",
              " lowpass: 256.0 Hz\n",
              " meas_date: unspecified\n",
              " nchan: 72\n",
              " projs: []\n",
              " sfreq: 512.0 Hz\n",
              ">"
            ],
            "text/html": [
              "\n",
              "<table class=\"table table-hover\">\n",
              "    <tr>\n",
              "        <th>Measurement date</th>\n",
              "<td>Unknown</td>\n",
              "    </tr>\n",
              "    <tr>\n",
              "        <th>Experimenter</th>\n",
              "<td>Unknown</td>\n",
              "    </tr>\n",
              "        <th>Participant</th>\n",
              "<td>Unknown</td>\n",
              "    </tr>\n",
              "    <tr>\n",
              "        <th>Digitized points</th>\n",
              "        <td>Not available</td>\n",
              "    </tr>\n",
              "    <tr>\n",
              "        <th>Good channels</th>\n",
              "        <td>0 magnetometer, 0 gradiometer,\n",
              "            and 72 EEG channels</td>\n",
              "    </tr>\n",
              "    <tr>\n",
              "        <th>Bad channels</th>\n",
              "        <td></td>\n",
              "        \n",
              "    </tr>\n",
              "    <tr>\n",
              "        <th>EOG channels</th>\n",
              "        <td>Not available</td>\n",
              "    </tr>\n",
              "    <tr>\n",
              "        <th>ECG channels</th>\n",
              "        <td>Not available</td>\n",
              "    <tr>\n",
              "        <th>Sampling frequency</th>\n",
              "        <td>512.00 Hz</td>\n",
              "    </tr>\n",
              "    <tr>\n",
              "        <th>Highpass</th>\n",
              "        <td>0.00 Hz</td>\n",
              "    </tr>\n",
              "     <tr>\n",
              "        <th>Lowpass</th>\n",
              "        <td>256.00 Hz</td>\n",
              "    </tr>\n",
              "</table>\n"
            ]
          },
          "metadata": {},
          "execution_count": 24
        }
      ]
    },
    {
      "cell_type": "code",
      "source": [
        "  !pip install Pillow\n",
        "  import PIL.Image \n",
        "  !pip install tqdm\n",
        "  from tqdm import tqdm\n",
        "  !pip install imageio==2.4.1\n",
        "  !pip install imageio-ffmpeg==0.4.3 pyspng==0.1.0\n"
      ],
      "metadata": {
        "colab": {
          "base_uri": "https://localhost:8080/"
        },
        "id": "MWg6MXegKmy4",
        "outputId": "85d0263e-02e3-4f96-f69c-9d75bd61762a"
      },
      "execution_count": 25,
      "outputs": [
        {
          "output_type": "stream",
          "name": "stdout",
          "text": [
            "Requirement already satisfied: Pillow in ./env/lib/python3.7/site-packages (8.3.2)\n",
            "\u001b[33mWARNING: You are using pip version 21.2.4; however, version 22.1.2 is available.\n",
            "You should consider upgrading via the '/home/dmitryneuro/colab/env/bin/python3.7 -m pip install --upgrade pip' command.\u001b[0m\n",
            "Requirement already satisfied: tqdm in ./env/lib/python3.7/site-packages (4.62.2)\n",
            "\u001b[33mWARNING: You are using pip version 21.2.4; however, version 22.1.2 is available.\n",
            "You should consider upgrading via the '/home/dmitryneuro/colab/env/bin/python3.7 -m pip install --upgrade pip' command.\u001b[0m\n",
            "Requirement already satisfied: imageio==2.4.1 in ./env/lib/python3.7/site-packages (2.4.1)\n",
            "Requirement already satisfied: numpy in ./env/lib/python3.7/site-packages (from imageio==2.4.1) (1.19.5)\n",
            "Requirement already satisfied: pillow in ./env/lib/python3.7/site-packages (from imageio==2.4.1) (8.3.2)\n",
            "^C\n",
            "\u001b[31mERROR: Operation cancelled by user\u001b[0m\n",
            "\u001b[33mWARNING: You are using pip version 21.2.4; however, version 22.1.2 is available.\n",
            "You should consider upgrading via the '/home/dmitryneuro/colab/env/bin/python3.7 -m pip install --upgrade pip' command.\u001b[0m\n",
            "Requirement already satisfied: imageio-ffmpeg==0.4.3 in ./env/lib/python3.7/site-packages (0.4.3)\n",
            "Requirement already satisfied: pyspng==0.1.0 in ./env/lib/python3.7/site-packages (0.1.0)\n",
            "Requirement already satisfied: numpy in ./env/lib/python3.7/site-packages (from pyspng==0.1.0) (1.19.5)\n",
            "\u001b[33mWARNING: You are using pip version 21.2.4; however, version 22.1.2 is available.\n",
            "You should consider upgrading via the '/home/dmitryneuro/colab/env/bin/python3.7 -m pip install --upgrade pip' command.\u001b[0m\n"
          ]
        }
      ]
    },
    {
      "cell_type": "code",
      "source": [
        "!mkdir '/content/out'\n"
      ],
      "metadata": {
        "colab": {
          "base_uri": "https://localhost:8080/"
        },
        "id": "tQZGTTYGKuao",
        "outputId": "a192807c-05ab-4a8c-cde4-0b641e2c1f1a"
      },
      "execution_count": 26,
      "outputs": [
        {
          "output_type": "stream",
          "name": "stdout",
          "text": [
            "mkdir: cannot create directory ‘/content/out’: File exists\r\n"
          ]
        }
      ]
    },
    {
      "cell_type": "code",
      "source": [
        "if False:\n",
        "    key = 0\n",
        "    idx = 0\n",
        "\n",
        "    data_path = '/content/eeg'\n",
        "    #raw_fname = data_path + '/record-[2019.11.13-22.23.59].gdf'\n",
        "    #raw = mne.io.read_raw_gdf(raw_fname, preload=True)\n",
        "\n",
        "    path = data_path\n",
        "\n",
        "    ch_names = ['FP1','AF3','F7','F3','FC1','FC5','T7','C3','CP1','CP5','P7','P3','Pz','PO3','O1','Oz','O2','PO4','P4','P8','CP6','CP2','C4','T8','FC6','FC2','F4','F8','AF4','FP2','Fz','Cz']\n",
        "    data = pd.read_csv(path + '/record-[2019.11.13-22.23.59].csv', skiprows=0, usecols=ch_names, header=0, delimiter=';') \n",
        "    \n",
        "    #ch_names = ['FP1','F3','P3','O1','O2','P4','F4','FP2']\n",
        "    #data = pd.read_csv(path + '/record-[2020.06.28-14.26.09].csv', skiprows=0, usecols=ch_names, header=0, delimiter=';') \n",
        "    \n",
        "    #data = pd.read_csv(path + '/record-[2020.06.28-00.36.11].csv', skiprows=0, usecols=ch_names, header=0, delimiter=';') \n",
        "    #data = pd.read_csv(path + '/record-[2020.06.29-19.49.23].csv', skiprows=0, usecols=ch_names, header=0, delimiter=';') \n",
        "    \n",
        "    #print(data)\n",
        "    data_transpose=np.transpose(data)\n",
        "\n",
        "    sfreq = 512 \n",
        "    ch_types=['eeg']*len(ch_names)\n",
        "    info = mne.create_info(ch_names = ch_names, sfreq = sfreq, ch_types=ch_types)\n",
        "    #info = mne.create_info(sfreq = sfreq)\n",
        "    raw = mne.io.RawArray(data_transpose, info)\n",
        "    #raw.plot()\n",
        "    \n",
        "    input_fname=files_path[0][1]\n",
        "    mne.io.read_raw_bdf(input_fname, eog=None, misc=None, stim_channel='auto', exclude=(), infer_types=False, include=None, preload=False, verbose=None)\n",
        "\n",
        "    # Setup for reading the raw data\n",
        "    #raw = io.read_raw_fif(raw_fname, verbose=False)\n",
        "    #events = mne.find_events(raw, stim_channel='STI 014')\n",
        "    #inverse_operator = read_inverse_operator(fname_inv)\n",
        "    #raw.info['bads'] = ['MEG 2443', 'EEG 053']\n",
        "\n",
        "    # picks MEG gradiometers\n",
        "    #picks = mne.pick_types(raw.info, meg=False, eeg=True, eog=False, stim=False)\n",
        "    picks = ch_names"
      ],
      "metadata": {
        "id": "9nNDkdqvbtpx"
      },
      "execution_count": 27,
      "outputs": []
    },
    {
      "cell_type": "code",
      "source": [
        "raw[:][0]"
      ],
      "metadata": {
        "colab": {
          "base_uri": "https://localhost:8080/"
        },
        "id": "UzunPuONwhFp",
        "outputId": "f4cc810b-167a-498b-a53a-e713ac7a1a26"
      },
      "execution_count": 28,
      "outputs": [
        {
          "output_type": "execute_result",
          "data": {
            "text/plain": [
              "array([[-3.27718844e-01, -3.27722718e-01, -3.27682008e-01, ...,\n",
              "         2.98023242e-08,  2.98023242e-08,  2.98023242e-08],\n",
              "       [-3.69788401e-01, -3.69862847e-01, -3.69910709e-01, ...,\n",
              "         2.98023242e-08,  2.98023242e-08,  2.98023242e-08],\n",
              "       [-4.27928503e-01, -4.27981194e-01, -4.28003664e-01, ...,\n",
              "         2.98023242e-08,  2.98023242e-08,  2.98023242e-08],\n",
              "       ...,\n",
              "       [-2.89553749e-01, -2.89524900e-01, -2.89482998e-01, ...,\n",
              "         2.98023242e-08,  2.98023242e-08,  2.98023242e-08],\n",
              "       [-3.04018724e-01, -3.04014671e-01, -3.03991246e-01, ...,\n",
              "         2.98023242e-08,  2.98023242e-08,  2.98023242e-08],\n",
              "       [-4.18650324e-01, -4.18624217e-01, -4.18582196e-01, ...,\n",
              "         2.98023242e-08,  2.98023242e-08,  2.98023242e-08]])"
            ]
          },
          "metadata": {},
          "execution_count": 28
        }
      ]
    },
    {
      "cell_type": "code",
      "source": [
        "raw1 = mne.io.RawArray(raw[:][0], info)"
      ],
      "metadata": {
        "colab": {
          "base_uri": "https://localhost:8080/"
        },
        "id": "Zf17OUtMwi95",
        "outputId": "6887ce6d-372e-42f2-effa-48aa7163d487"
      },
      "execution_count": 29,
      "outputs": [
        {
          "output_type": "stream",
          "name": "stdout",
          "text": [
            "Creating RawArray with float64 data, n_channels=72, n_times=1213440\n",
            "    Range : 0 ... 1213439 =      0.000 ...  2369.998 secs\n",
            "Ready.\n"
          ]
        }
      ]
    },
    {
      "cell_type": "code",
      "source": [
        "raw1.info"
      ],
      "metadata": {
        "colab": {
          "base_uri": "https://localhost:8080/",
          "height": 254
        },
        "id": "DMZrbslVwloM",
        "outputId": "c9076a34-8916-4480-9b00-de1fdbbcdb89"
      },
      "execution_count": 30,
      "outputs": [
        {
          "output_type": "execute_result",
          "data": {
            "text/plain": [
              "<Info | 7 non-empty values\n",
              " bads: []\n",
              " ch_names: sync1_Fz, sync1_Fp1, sync1_F7, sync1_F3, sync1_T3, sync1_C3, ...\n",
              " chs: 72 EEG\n",
              " custom_ref_applied: False\n",
              " highpass: 0.0 Hz\n",
              " lowpass: 256.0 Hz\n",
              " meas_date: unspecified\n",
              " nchan: 72\n",
              " projs: []\n",
              " sfreq: 512.0 Hz\n",
              ">"
            ],
            "text/html": [
              "\n",
              "<table class=\"table table-hover\">\n",
              "    <tr>\n",
              "        <th>Measurement date</th>\n",
              "<td>Unknown</td>\n",
              "    </tr>\n",
              "    <tr>\n",
              "        <th>Experimenter</th>\n",
              "<td>Unknown</td>\n",
              "    </tr>\n",
              "        <th>Participant</th>\n",
              "<td>Unknown</td>\n",
              "    </tr>\n",
              "    <tr>\n",
              "        <th>Digitized points</th>\n",
              "        <td>Not available</td>\n",
              "    </tr>\n",
              "    <tr>\n",
              "        <th>Good channels</th>\n",
              "        <td>0 magnetometer, 0 gradiometer,\n",
              "            and 72 EEG channels</td>\n",
              "    </tr>\n",
              "    <tr>\n",
              "        <th>Bad channels</th>\n",
              "        <td></td>\n",
              "        \n",
              "    </tr>\n",
              "    <tr>\n",
              "        <th>EOG channels</th>\n",
              "        <td>Not available</td>\n",
              "    </tr>\n",
              "    <tr>\n",
              "        <th>ECG channels</th>\n",
              "        <td>Not available</td>\n",
              "    <tr>\n",
              "        <th>Sampling frequency</th>\n",
              "        <td>512.00 Hz</td>\n",
              "    </tr>\n",
              "    <tr>\n",
              "        <th>Highpass</th>\n",
              "        <td>0.00 Hz</td>\n",
              "    </tr>\n",
              "     <tr>\n",
              "        <th>Lowpass</th>\n",
              "        <td>256.00 Hz</td>\n",
              "    </tr>\n",
              "</table>\n"
            ]
          },
          "metadata": {},
          "execution_count": 30
        }
      ]
    },
    {
      "cell_type": "code",
      "source": [
        "#raw#"
      ],
      "metadata": {
        "id": "Njw3NxUEwr3p"
      },
      "execution_count": 31,
      "outputs": []
    },
    {
      "cell_type": "code",
      "source": [
        "raw.ch_names\n"
      ],
      "metadata": {
        "colab": {
          "base_uri": "https://localhost:8080/"
        },
        "id": "YZKgw3HwBEko",
        "outputId": "2da33b92-9dc1-40a1-a9a6-f547a2a86caf"
      },
      "execution_count": 32,
      "outputs": [
        {
          "output_type": "execute_result",
          "data": {
            "text/plain": [
              "['sync1_Fz',\n",
              " 'sync1_Fp1',\n",
              " 'sync1_F7',\n",
              " 'sync1_F3',\n",
              " 'sync1_T3',\n",
              " 'sync1_C3',\n",
              " 'sync1_T5',\n",
              " 'sync1_P3',\n",
              " 'sync1_O1',\n",
              " 'sync1_Pz',\n",
              " 'sync1_O2',\n",
              " 'sync1_P4',\n",
              " 'sync1_T6',\n",
              " 'sync1_C4',\n",
              " 'sync1_T4',\n",
              " 'sync1_F4',\n",
              " 'sync1_F8',\n",
              " 'sync1_Fp2',\n",
              " 'sync2_Fz',\n",
              " 'sync2_Fp1',\n",
              " 'sync2_F7',\n",
              " 'sync2_F3',\n",
              " 'sync2_T3',\n",
              " 'sync2_C3',\n",
              " 'sync2_T5',\n",
              " 'sync2_P3',\n",
              " 'sync2_O1',\n",
              " 'sync2_Pz',\n",
              " 'sync2_O2',\n",
              " 'sync2_P4',\n",
              " 'sync2_T6',\n",
              " 'sync2_C4',\n",
              " 'sync2_T4',\n",
              " 'sync2_F4',\n",
              " 'sync2_F8',\n",
              " 'sync2_Fp2',\n",
              " 'sync3_Fz',\n",
              " 'sync3_Fp1',\n",
              " 'sync3_F7',\n",
              " 'sync3_F3',\n",
              " 'sync3_T3',\n",
              " 'sync3_C3',\n",
              " 'sync3_T5',\n",
              " 'sync3_P3',\n",
              " 'sync3_O1',\n",
              " 'sync3_Pz',\n",
              " 'sync3_O2',\n",
              " 'sync3_P4',\n",
              " 'sync3_T6',\n",
              " 'sync3_C4',\n",
              " 'sync3_T4',\n",
              " 'sync3_F4',\n",
              " 'sync3_F8',\n",
              " 'sync3_Fp2',\n",
              " 'sync4_Fz',\n",
              " 'sync4_Fp1',\n",
              " 'sync4_F7',\n",
              " 'sync4_F3',\n",
              " 'sync4_T3',\n",
              " 'sync4_C3',\n",
              " 'sync4_T5',\n",
              " 'sync4_P3',\n",
              " 'sync4_O1',\n",
              " 'sync4_Pz',\n",
              " 'sync4_O2',\n",
              " 'sync4_P4',\n",
              " 'sync4_T6',\n",
              " 'sync4_C4',\n",
              " 'sync4_T4',\n",
              " 'sync4_F4',\n",
              " 'sync4_F8',\n",
              " 'sync4_Fp2']"
            ]
          },
          "metadata": {},
          "execution_count": 32
        }
      ]
    },
    {
      "cell_type": "code",
      "source": [
        "print(raw)\n",
        "raw.pick(ch_names)"
      ],
      "metadata": {
        "colab": {
          "base_uri": "https://localhost:8080/",
          "height": 634
        },
        "id": "ILJiXMCZoyk9",
        "outputId": "d457946e-fd92-4af0-e1d8-0e6c1cce8400"
      },
      "execution_count": 33,
      "outputs": [
        {
          "output_type": "stream",
          "name": "stdout",
          "text": [
            "<RawArray | 72 x 1213440 (2370.0 s), ~666.6 MB, data loaded>\n"
          ]
        },
        {
          "output_type": "error",
          "ename": "TypeError",
          "evalue": "ignored",
          "traceback": [
            "\u001b[0;31m---------------------------------------------------------------------------\u001b[0m",
            "\u001b[0;31mTypeError\u001b[0m                                 Traceback (most recent call last)",
            "\u001b[0;32m~/colab/env/lib/python3.7/site-packages/IPython/core/formatters.py\u001b[0m in \u001b[0;36m__call__\u001b[0;34m(self, obj)\u001b[0m\n\u001b[1;32m    343\u001b[0m             \u001b[0mmethod\u001b[0m \u001b[0;34m=\u001b[0m \u001b[0mget_real_method\u001b[0m\u001b[0;34m(\u001b[0m\u001b[0mobj\u001b[0m\u001b[0;34m,\u001b[0m \u001b[0mself\u001b[0m\u001b[0;34m.\u001b[0m\u001b[0mprint_method\u001b[0m\u001b[0;34m)\u001b[0m\u001b[0;34m\u001b[0m\u001b[0;34m\u001b[0m\u001b[0m\n\u001b[1;32m    344\u001b[0m             \u001b[0;32mif\u001b[0m \u001b[0mmethod\u001b[0m \u001b[0;32mis\u001b[0m \u001b[0;32mnot\u001b[0m \u001b[0;32mNone\u001b[0m\u001b[0;34m:\u001b[0m\u001b[0;34m\u001b[0m\u001b[0;34m\u001b[0m\u001b[0m\n\u001b[0;32m--> 345\u001b[0;31m                 \u001b[0;32mreturn\u001b[0m \u001b[0mmethod\u001b[0m\u001b[0;34m(\u001b[0m\u001b[0;34m)\u001b[0m\u001b[0;34m\u001b[0m\u001b[0;34m\u001b[0m\u001b[0m\n\u001b[0m\u001b[1;32m    346\u001b[0m             \u001b[0;32mreturn\u001b[0m \u001b[0;32mNone\u001b[0m\u001b[0;34m\u001b[0m\u001b[0;34m\u001b[0m\u001b[0m\n\u001b[1;32m    347\u001b[0m         \u001b[0;32melse\u001b[0m\u001b[0;34m:\u001b[0m\u001b[0;34m\u001b[0m\u001b[0;34m\u001b[0m\u001b[0m\n",
            "\u001b[0;32m~/colab/env/lib/python3.7/site-packages/mne/io/base.py\u001b[0m in \u001b[0;36m_repr_html_\u001b[0;34m(self, caption)\u001b[0m\n\u001b[1;32m   1761\u001b[0m \u001b[0;34m\u001b[0m\u001b[0m\n\u001b[1;32m   1762\u001b[0m     \u001b[0;32mdef\u001b[0m \u001b[0m_repr_html_\u001b[0m\u001b[0;34m(\u001b[0m\u001b[0mself\u001b[0m\u001b[0;34m,\u001b[0m \u001b[0mcaption\u001b[0m\u001b[0;34m=\u001b[0m\u001b[0;32mNone\u001b[0m\u001b[0;34m)\u001b[0m\u001b[0;34m:\u001b[0m\u001b[0;34m\u001b[0m\u001b[0;34m\u001b[0m\u001b[0m\n\u001b[0;32m-> 1763\u001b[0;31m         \u001b[0mbasenames\u001b[0m \u001b[0;34m=\u001b[0m \u001b[0;34m[\u001b[0m\u001b[0mos\u001b[0m\u001b[0;34m.\u001b[0m\u001b[0mpath\u001b[0m\u001b[0;34m.\u001b[0m\u001b[0mbasename\u001b[0m\u001b[0;34m(\u001b[0m\u001b[0mf\u001b[0m\u001b[0;34m)\u001b[0m \u001b[0;32mfor\u001b[0m \u001b[0mf\u001b[0m \u001b[0;32min\u001b[0m \u001b[0mself\u001b[0m\u001b[0;34m.\u001b[0m\u001b[0m_filenames\u001b[0m\u001b[0;34m]\u001b[0m\u001b[0;34m\u001b[0m\u001b[0;34m\u001b[0m\u001b[0m\n\u001b[0m\u001b[1;32m   1764\u001b[0m         \u001b[0mm\u001b[0m\u001b[0;34m,\u001b[0m \u001b[0ms\u001b[0m \u001b[0;34m=\u001b[0m \u001b[0mdivmod\u001b[0m\u001b[0;34m(\u001b[0m\u001b[0mself\u001b[0m\u001b[0;34m.\u001b[0m\u001b[0m_last_time\u001b[0m \u001b[0;34m-\u001b[0m \u001b[0mself\u001b[0m\u001b[0;34m.\u001b[0m\u001b[0mfirst_time\u001b[0m\u001b[0;34m,\u001b[0m \u001b[0;36m60\u001b[0m\u001b[0;34m)\u001b[0m\u001b[0;34m\u001b[0m\u001b[0;34m\u001b[0m\u001b[0m\n\u001b[1;32m   1765\u001b[0m         \u001b[0mh\u001b[0m\u001b[0;34m,\u001b[0m \u001b[0mm\u001b[0m \u001b[0;34m=\u001b[0m \u001b[0mdivmod\u001b[0m\u001b[0;34m(\u001b[0m\u001b[0mm\u001b[0m\u001b[0;34m,\u001b[0m \u001b[0;36m60\u001b[0m\u001b[0;34m)\u001b[0m\u001b[0;34m\u001b[0m\u001b[0;34m\u001b[0m\u001b[0m\n",
            "\u001b[0;32m~/colab/env/lib/python3.7/site-packages/mne/io/base.py\u001b[0m in \u001b[0;36m<listcomp>\u001b[0;34m(.0)\u001b[0m\n\u001b[1;32m   1761\u001b[0m \u001b[0;34m\u001b[0m\u001b[0m\n\u001b[1;32m   1762\u001b[0m     \u001b[0;32mdef\u001b[0m \u001b[0m_repr_html_\u001b[0m\u001b[0;34m(\u001b[0m\u001b[0mself\u001b[0m\u001b[0;34m,\u001b[0m \u001b[0mcaption\u001b[0m\u001b[0;34m=\u001b[0m\u001b[0;32mNone\u001b[0m\u001b[0;34m)\u001b[0m\u001b[0;34m:\u001b[0m\u001b[0;34m\u001b[0m\u001b[0;34m\u001b[0m\u001b[0m\n\u001b[0;32m-> 1763\u001b[0;31m         \u001b[0mbasenames\u001b[0m \u001b[0;34m=\u001b[0m \u001b[0;34m[\u001b[0m\u001b[0mos\u001b[0m\u001b[0;34m.\u001b[0m\u001b[0mpath\u001b[0m\u001b[0;34m.\u001b[0m\u001b[0mbasename\u001b[0m\u001b[0;34m(\u001b[0m\u001b[0mf\u001b[0m\u001b[0;34m)\u001b[0m \u001b[0;32mfor\u001b[0m \u001b[0mf\u001b[0m \u001b[0;32min\u001b[0m \u001b[0mself\u001b[0m\u001b[0;34m.\u001b[0m\u001b[0m_filenames\u001b[0m\u001b[0;34m]\u001b[0m\u001b[0;34m\u001b[0m\u001b[0;34m\u001b[0m\u001b[0m\n\u001b[0m\u001b[1;32m   1764\u001b[0m         \u001b[0mm\u001b[0m\u001b[0;34m,\u001b[0m \u001b[0ms\u001b[0m \u001b[0;34m=\u001b[0m \u001b[0mdivmod\u001b[0m\u001b[0;34m(\u001b[0m\u001b[0mself\u001b[0m\u001b[0;34m.\u001b[0m\u001b[0m_last_time\u001b[0m \u001b[0;34m-\u001b[0m \u001b[0mself\u001b[0m\u001b[0;34m.\u001b[0m\u001b[0mfirst_time\u001b[0m\u001b[0;34m,\u001b[0m \u001b[0;36m60\u001b[0m\u001b[0;34m)\u001b[0m\u001b[0;34m\u001b[0m\u001b[0;34m\u001b[0m\u001b[0m\n\u001b[1;32m   1765\u001b[0m         \u001b[0mh\u001b[0m\u001b[0;34m,\u001b[0m \u001b[0mm\u001b[0m \u001b[0;34m=\u001b[0m \u001b[0mdivmod\u001b[0m\u001b[0;34m(\u001b[0m\u001b[0mm\u001b[0m\u001b[0;34m,\u001b[0m \u001b[0;36m60\u001b[0m\u001b[0;34m)\u001b[0m\u001b[0;34m\u001b[0m\u001b[0;34m\u001b[0m\u001b[0m\n",
            "\u001b[0;32m/usr/lib/python3.7/posixpath.py\u001b[0m in \u001b[0;36mbasename\u001b[0;34m(p)\u001b[0m\n\u001b[1;32m    144\u001b[0m \u001b[0;32mdef\u001b[0m \u001b[0mbasename\u001b[0m\u001b[0;34m(\u001b[0m\u001b[0mp\u001b[0m\u001b[0;34m)\u001b[0m\u001b[0;34m:\u001b[0m\u001b[0;34m\u001b[0m\u001b[0;34m\u001b[0m\u001b[0m\n\u001b[1;32m    145\u001b[0m     \u001b[0;34m\"\"\"Returns the final component of a pathname\"\"\"\u001b[0m\u001b[0;34m\u001b[0m\u001b[0;34m\u001b[0m\u001b[0m\n\u001b[0;32m--> 146\u001b[0;31m     \u001b[0mp\u001b[0m \u001b[0;34m=\u001b[0m \u001b[0mos\u001b[0m\u001b[0;34m.\u001b[0m\u001b[0mfspath\u001b[0m\u001b[0;34m(\u001b[0m\u001b[0mp\u001b[0m\u001b[0;34m)\u001b[0m\u001b[0;34m\u001b[0m\u001b[0;34m\u001b[0m\u001b[0m\n\u001b[0m\u001b[1;32m    147\u001b[0m     \u001b[0msep\u001b[0m \u001b[0;34m=\u001b[0m \u001b[0m_get_sep\u001b[0m\u001b[0;34m(\u001b[0m\u001b[0mp\u001b[0m\u001b[0;34m)\u001b[0m\u001b[0;34m\u001b[0m\u001b[0;34m\u001b[0m\u001b[0m\n\u001b[1;32m    148\u001b[0m     \u001b[0mi\u001b[0m \u001b[0;34m=\u001b[0m \u001b[0mp\u001b[0m\u001b[0;34m.\u001b[0m\u001b[0mrfind\u001b[0m\u001b[0;34m(\u001b[0m\u001b[0msep\u001b[0m\u001b[0;34m)\u001b[0m \u001b[0;34m+\u001b[0m \u001b[0;36m1\u001b[0m\u001b[0;34m\u001b[0m\u001b[0;34m\u001b[0m\u001b[0m\n",
            "\u001b[0;31mTypeError\u001b[0m: expected str, bytes or os.PathLike object, not NoneType"
          ]
        },
        {
          "output_type": "execute_result",
          "data": {
            "text/plain": [
              "<RawArray | 72 x 1213440 (2370.0 s), ~666.6 MB, data loaded>"
            ]
          },
          "metadata": {},
          "execution_count": 33
        }
      ]
    },
    {
      "cell_type": "code",
      "source": [
        "#!pip install imageio==2.9\n",
        "!pip install imageio==2.4.1\n",
        "!pip install imageio-ffmpeg==0.4.3 pyspng==0.1.0"
      ],
      "metadata": {
        "colab": {
          "base_uri": "https://localhost:8080/"
        },
        "id": "paxEG_lhd8s1",
        "outputId": "5aa4256f-7d58-4b5e-8785-4efeff590dce"
      },
      "execution_count": 34,
      "outputs": [
        {
          "output_type": "stream",
          "name": "stdout",
          "text": [
            "Requirement already satisfied: imageio==2.4.1 in ./env/lib/python3.7/site-packages (2.4.1)\r\n",
            "Requirement already satisfied: pillow in ./env/lib/python3.7/site-packages (from imageio==2.4.1) (8.3.2)\n",
            "Requirement already satisfied: numpy in ./env/lib/python3.7/site-packages (from imageio==2.4.1) (1.19.5)\n",
            "\u001b[33mWARNING: You are using pip version 21.2.4; however, version 22.1.2 is available.\n",
            "You should consider upgrading via the '/home/dmitryneuro/colab/env/bin/python3.7 -m pip install --upgrade pip' command.\u001b[0m\n",
            "Requirement already satisfied: imageio-ffmpeg==0.4.3 in ./env/lib/python3.7/site-packages (0.4.3)\n",
            "Requirement already satisfied: pyspng==0.1.0 in ./env/lib/python3.7/site-packages (0.1.0)\n",
            "Requirement already satisfied: numpy in ./env/lib/python3.7/site-packages (from pyspng==0.1.0) (1.19.5)\n",
            "\u001b[33mWARNING: You are using pip version 21.2.4; however, version 22.1.2 is available.\n",
            "You should consider upgrading via the '/home/dmitryneuro/colab/env/bin/python3.7 -m pip install --upgrade pip' command.\u001b[0m\n"
          ]
        }
      ]
    },
    {
      "cell_type": "code",
      "source": [
        "raw = raw_sync"
      ],
      "metadata": {
        "id": "74PhTMRS3NNl"
      },
      "execution_count": 35,
      "outputs": []
    },
    {
      "cell_type": "code",
      "source": [
        "#import imageio\n",
        "#fps=10\n",
        "#out = imageio.get_writer('/content/out/output.mp4', mode='I', fps=fps, codec='libx264', bitrate='16M')\n",
        "\n",
        "#for img in imgs:\n",
        "#  out.append_data(np.asarray(img))\n",
        "#out.close()\n",
        " "
      ],
      "metadata": {
        "id": "7Gx1IDMid8nq"
      },
      "execution_count": 36,
      "outputs": []
    },
    {
      "cell_type": "code",
      "source": [
        "bands = [[8.,12.]]\n",
        "#bands = [[4.,7.],[8.,12.],[13.,29.]]\n",
        "#bands = [[8.,12.],[8.,12.],[8.,12.]]\n",
        "#bands_name = ['theta','alpha','beta']\n",
        "datas=[]\n",
        "for band in range(len(bands)):\n",
        "# datas.append(raw)\n",
        " datas.append(raw.pick(ch_names))\n",
        " \n",
        "# datas.append(raw.filter(l_freq=bands[band][0], h_freq=bands[band][1],method='iir'))\n",
        "#theta_data = raw.filter(l_freq=4, h_freq=7,method='iir')\n",
        "#alpha_data = raw.filter(l_freq=8, h_freq=12,method='iir')\n",
        "#beta_data = raw.filter(l_freq=13, h_freq=29,method='iir')"
      ],
      "metadata": {
        "id": "8eqMOf-veKSR"
      },
      "execution_count": 37,
      "outputs": []
    },
    {
      "cell_type": "code",
      "source": [
        "methods = ['coh']\n",
        "#methods = ['wpli']\n",
        "#methods = ['coh', 'plv', 'ciplv', 'ppc', 'pli', 'wpli']\n",
        "epochs = []\n",
        "for band in range(len(bands)):\n",
        "# epochs.append(mne.make_fixed_length_epochs(datas[band], \n",
        "#                                            duration=0.1, preload=False))\n",
        " epochs.append(mne.make_fixed_length_epochs(datas[band], \n",
        "                                            duration=5*1/8, preload=False, overlap=5*1/8-0.1))\n",
        "# epochs.append(mne.make_fixed_length_epochs(datas[band], duration=1.25, preload=False, overlap=1.15))\n",
        "#epochs = [mne.make_fixed_length_epochs(theta_data, duration=0.1, preload=False),\n",
        "#          mne.make_fixed_length_epochs(alpha_data, duration=0.1, preload=False),\n",
        "#          mne.make_fixed_length_epochs(beta_data, duration=0.1, preload=False)]\n",
        "#epochs = mne.make_fixed_length_epochs(alpha_data, duration=0.1, preload=False)\n",
        "#epochs = mne.make_fixed_length_epochs(raw, duration=2, preload=True)\n",
        "#epochs = mne.make_fixed_length_epochs(raw, duration=10, preload=True)\n",
        "#epochs = mne.make_fixed_length_epochs(raw, duration=1, preload=False)\n",
        "#event_related_plot = epochs.plot_image(picks=['FP1'])"
      ],
      "metadata": {
        "id": "-sHGeqZseKPp",
        "colab": {
          "base_uri": "https://localhost:8080/"
        },
        "outputId": "20c93f10-3980-47b4-b895-09ed6b1e4381"
      },
      "execution_count": 38,
      "outputs": [
        {
          "output_type": "stream",
          "name": "stdout",
          "text": [
            "Not setting metadata\n",
            "Not setting metadata\n",
            "23694 matching events found\n",
            "No baseline correction applied\n",
            "0 projection items activated\n"
          ]
        }
      ]
    },
    {
      "cell_type": "code",
      "source": [
        "len(epochs[0].events)"
      ],
      "metadata": {
        "id": "KRq4VDiGLAel",
        "colab": {
          "base_uri": "https://localhost:8080/"
        },
        "outputId": "3b05e588-1171-422a-b2f9-641de098a4b0"
      },
      "execution_count": 39,
      "outputs": [
        {
          "output_type": "execute_result",
          "data": {
            "text/plain": [
              "23694"
            ]
          },
          "metadata": {},
          "execution_count": 39
        }
      ]
    },
    {
      "cell_type": "code",
      "source": [
        "raw[:][0]"
      ],
      "metadata": {
        "colab": {
          "base_uri": "https://localhost:8080/"
        },
        "id": "eiquVKD9wbcr",
        "outputId": "e6c03079-83a0-4c89-e8a1-ef6f358c8312"
      },
      "execution_count": 40,
      "outputs": [
        {
          "output_type": "execute_result",
          "data": {
            "text/plain": [
              "array([[-3.27718844e-01, -3.27722718e-01, -3.27682008e-01, ...,\n",
              "         2.98023242e-08,  2.98023242e-08,  2.98023242e-08],\n",
              "       [-3.69788401e-01, -3.69862847e-01, -3.69910709e-01, ...,\n",
              "         2.98023242e-08,  2.98023242e-08,  2.98023242e-08],\n",
              "       [-4.27928503e-01, -4.27981194e-01, -4.28003664e-01, ...,\n",
              "         2.98023242e-08,  2.98023242e-08,  2.98023242e-08],\n",
              "       ...,\n",
              "       [-2.89553749e-01, -2.89524900e-01, -2.89482998e-01, ...,\n",
              "         2.98023242e-08,  2.98023242e-08,  2.98023242e-08],\n",
              "       [-3.04018724e-01, -3.04014671e-01, -3.03991246e-01, ...,\n",
              "         2.98023242e-08,  2.98023242e-08,  2.98023242e-08],\n",
              "       [-4.18650324e-01, -4.18624217e-01, -4.18582196e-01, ...,\n",
              "         2.98023242e-08,  2.98023242e-08,  2.98023242e-08]])"
            ]
          },
          "metadata": {},
          "execution_count": 40
        }
      ]
    },
    {
      "cell_type": "code",
      "source": [
        "#fmin=8.\n",
        "#fmax=13.\n",
        "fmin=bands[0][0]\n",
        "fmax=bands[0][1]+1.\n",
        "          \n",
        "sfreq = raw.info['sfreq']  # the sampling frequency\n",
        "#con_methods = ['coh', 'pli', 'ciplv']\n",
        "con_methods = ['coh', 'plv', 'ciplv', 'ppc', 'pli', 'wpli']\n",
        "#con_methods = ['coh', 'plv', 'ciplv', 'ppc', 'pli', 'pli2_unbiased', 'wpli', 'wpli2_debiased']\n",
        "#con, freqs, times, n_epochs, n_tapers = spectral_connectivity(\n",
        "#    epochs, method=con_methods, mode='multitaper', sfreq=sfreq, fmin=fmin,\n",
        "#    fmax=fmax, faverage=True, mt_adaptive=True, n_jobs=10)\n",
        "#con, freqs, times, n_epochs, n_tapers = spectral_connectivity(\n",
        "#    epochs[1][2000:2010], method=con_methods, mode='multitaper', sfreq=sfreq, \n",
        "#    faverage=True, mt_adaptive=True, n_jobs=1)\n",
        "#con, freqs, times, n_epochs, n_tapers = spectral_connectivity(\n",
        "#    epochs[0][2000,2001], method=con_methods, mode='multitaper', sfreq=sfreq, fmin=fmin,\n",
        "#    fmax=fmax, faverage=True, mt_adaptive=True, n_jobs=1)\n",
        "\n",
        "con, freqs, times, n_epochs, n_tapers = spectral_connectivity(\n",
        "    epochs[0][2000:2010], method=con_methods, mode='multitaper', sfreq=sfreq, fmin=fmin,\n",
        "    fmax=fmax, faverage=True, mt_adaptive=True, n_jobs=1)\n",
        "\n"
      ],
      "metadata": {
        "id": "WVT5t6vweKNI",
        "colab": {
          "base_uri": "https://localhost:8080/",
          "height": 1000
        },
        "outputId": "114c85ab-8bac-4fa9-bd11-ca19a14f2fd1"
      },
      "execution_count": 41,
      "outputs": [
        {
          "output_type": "stream",
          "name": "stdout",
          "text": [
            "Connectivity computation...\n",
            "only using indices for lower-triangular matrix\n",
            "    computing connectivity for 2556 connections\n",
            "    using t=0.000s..0.623s for estimation (320 points)\n",
            "    frequencies: 8.0Hz..12.8Hz (4 points)\n",
            "    connectivity scores will be averaged for each band\n"
          ]
        },
        {
          "output_type": "error",
          "ename": "KeyboardInterrupt",
          "evalue": "ignored",
          "traceback": [
            "\u001b[0;31m---------------------------------------------------------------------------\u001b[0m",
            "\u001b[0;31mKeyboardInterrupt\u001b[0m                         Traceback (most recent call last)",
            "\u001b[0;32m/tmp/ipykernel_22547/4183448185.py\u001b[0m in \u001b[0;36m<module>\u001b[0;34m\u001b[0m\n\u001b[1;32m     20\u001b[0m con, freqs, times, n_epochs, n_tapers = spectral_connectivity(\n\u001b[1;32m     21\u001b[0m     \u001b[0mepochs\u001b[0m\u001b[0;34m[\u001b[0m\u001b[0;36m0\u001b[0m\u001b[0;34m]\u001b[0m\u001b[0;34m[\u001b[0m\u001b[0;36m2000\u001b[0m\u001b[0;34m:\u001b[0m\u001b[0;36m2010\u001b[0m\u001b[0;34m]\u001b[0m\u001b[0;34m,\u001b[0m \u001b[0mmethod\u001b[0m\u001b[0;34m=\u001b[0m\u001b[0mcon_methods\u001b[0m\u001b[0;34m,\u001b[0m \u001b[0mmode\u001b[0m\u001b[0;34m=\u001b[0m\u001b[0;34m'multitaper'\u001b[0m\u001b[0;34m,\u001b[0m \u001b[0msfreq\u001b[0m\u001b[0;34m=\u001b[0m\u001b[0msfreq\u001b[0m\u001b[0;34m,\u001b[0m \u001b[0mfmin\u001b[0m\u001b[0;34m=\u001b[0m\u001b[0mfmin\u001b[0m\u001b[0;34m,\u001b[0m\u001b[0;34m\u001b[0m\u001b[0;34m\u001b[0m\u001b[0m\n\u001b[0;32m---> 22\u001b[0;31m     fmax=fmax, faverage=True, mt_adaptive=True, n_jobs=1)\n\u001b[0m\u001b[1;32m     23\u001b[0m \u001b[0;34m\u001b[0m\u001b[0m\n",
            "\u001b[0;32m<decorator-gen-467>\u001b[0m in \u001b[0;36mspectral_connectivity\u001b[0;34m(data, method, indices, sfreq, mode, fmin, fmax, fskip, faverage, tmin, tmax, mt_bandwidth, mt_adaptive, mt_low_bias, cwt_freqs, cwt_n_cycles, block_size, n_jobs, verbose)\u001b[0m\n",
            "\u001b[0;32m~/colab/env/lib/python3.7/site-packages/mne/connectivity/spectral.py\u001b[0m in \u001b[0;36mspectral_connectivity\u001b[0;34m(data, method, indices, sfreq, mode, fmin, fmax, fskip, faverage, tmin, tmax, mt_bandwidth, mt_adaptive, mt_low_bias, cwt_freqs, cwt_n_cycles, block_size, n_jobs, verbose)\u001b[0m\n\u001b[1;32m    796\u001b[0m                 \u001b[0mmt_bandwidth\u001b[0m\u001b[0;34m=\u001b[0m\u001b[0mmt_bandwidth\u001b[0m\u001b[0;34m,\u001b[0m \u001b[0msfreq\u001b[0m\u001b[0;34m=\u001b[0m\u001b[0msfreq\u001b[0m\u001b[0;34m,\u001b[0m\u001b[0;34m\u001b[0m\u001b[0;34m\u001b[0m\u001b[0m\n\u001b[1;32m    797\u001b[0m                 \u001b[0mmt_low_bias\u001b[0m\u001b[0;34m=\u001b[0m\u001b[0mmt_low_bias\u001b[0m\u001b[0;34m,\u001b[0m \u001b[0mcwt_n_cycles\u001b[0m\u001b[0;34m=\u001b[0m\u001b[0mcwt_n_cycles\u001b[0m\u001b[0;34m,\u001b[0m\u001b[0;34m\u001b[0m\u001b[0;34m\u001b[0m\u001b[0m\n\u001b[0;32m--> 798\u001b[0;31m                 cwt_freqs=cwt_freqs, freqs=freqs, freq_mask=freq_mask)\n\u001b[0m\u001b[1;32m    799\u001b[0m \u001b[0;34m\u001b[0m\u001b[0m\n\u001b[1;32m    800\u001b[0m             \u001b[0;31m# unique signals for which we actually need to compute PSD etc.\u001b[0m\u001b[0;34m\u001b[0m\u001b[0;34m\u001b[0m\u001b[0;34m\u001b[0m\u001b[0m\n",
            "\u001b[0;32m~/colab/env/lib/python3.7/site-packages/mne/connectivity/spectral.py\u001b[0m in \u001b[0;36m_assemble_spectral_params\u001b[0;34m(mode, n_times, mt_adaptive, mt_bandwidth, sfreq, mt_low_bias, cwt_n_cycles, cwt_freqs, freqs, freq_mask)\u001b[0m\n\u001b[1;32m   1065\u001b[0m     \u001b[0;32mif\u001b[0m \u001b[0mmode\u001b[0m \u001b[0;34m==\u001b[0m \u001b[0;34m'multitaper'\u001b[0m\u001b[0;34m:\u001b[0m\u001b[0;34m\u001b[0m\u001b[0;34m\u001b[0m\u001b[0m\n\u001b[1;32m   1066\u001b[0m         window_fun, eigvals, mt_adaptive = _compute_mt_params(\n\u001b[0;32m-> 1067\u001b[0;31m             n_times, sfreq, mt_bandwidth, mt_low_bias, mt_adaptive)\n\u001b[0m\u001b[1;32m   1068\u001b[0m         \u001b[0mspectral_params\u001b[0m\u001b[0;34m.\u001b[0m\u001b[0mupdate\u001b[0m\u001b[0;34m(\u001b[0m\u001b[0mwindow_fun\u001b[0m\u001b[0;34m=\u001b[0m\u001b[0mwindow_fun\u001b[0m\u001b[0;34m,\u001b[0m \u001b[0meigvals\u001b[0m\u001b[0;34m=\u001b[0m\u001b[0meigvals\u001b[0m\u001b[0;34m)\u001b[0m\u001b[0;34m\u001b[0m\u001b[0;34m\u001b[0m\u001b[0m\n\u001b[1;32m   1069\u001b[0m     \u001b[0;32melif\u001b[0m \u001b[0mmode\u001b[0m \u001b[0;34m==\u001b[0m \u001b[0;34m'fourier'\u001b[0m\u001b[0;34m:\u001b[0m\u001b[0;34m\u001b[0m\u001b[0;34m\u001b[0m\u001b[0m\n",
            "\u001b[0;32m<decorator-gen-98>\u001b[0m in \u001b[0;36m_compute_mt_params\u001b[0;34m(n_times, sfreq, bandwidth, low_bias, adaptive, interp_from, verbose)\u001b[0m\n",
            "\u001b[0;32m~/colab/env/lib/python3.7/site-packages/mne/time_frequency/multitaper.py\u001b[0m in \u001b[0;36m_compute_mt_params\u001b[0;34m(n_times, sfreq, bandwidth, low_bias, adaptive, interp_from, verbose)\u001b[0m\n\u001b[1;32m    330\u001b[0m     \u001b[0;34m\"\"\"Triage windowing and multitaper parameters.\"\"\"\u001b[0m\u001b[0;34m\u001b[0m\u001b[0;34m\u001b[0m\u001b[0m\n\u001b[1;32m    331\u001b[0m     \u001b[0;31m# Compute standardized half-bandwidth\u001b[0m\u001b[0;34m\u001b[0m\u001b[0;34m\u001b[0m\u001b[0;34m\u001b[0m\u001b[0m\n\u001b[0;32m--> 332\u001b[0;31m     \u001b[0;32mfrom\u001b[0m \u001b[0mscipy\u001b[0m\u001b[0;34m.\u001b[0m\u001b[0msignal\u001b[0m \u001b[0;32mimport\u001b[0m \u001b[0mget_window\u001b[0m\u001b[0;34m\u001b[0m\u001b[0;34m\u001b[0m\u001b[0m\n\u001b[0m\u001b[1;32m    333\u001b[0m     \u001b[0;32mif\u001b[0m \u001b[0misinstance\u001b[0m\u001b[0;34m(\u001b[0m\u001b[0mbandwidth\u001b[0m\u001b[0;34m,\u001b[0m \u001b[0mstr\u001b[0m\u001b[0;34m)\u001b[0m\u001b[0;34m:\u001b[0m\u001b[0;34m\u001b[0m\u001b[0;34m\u001b[0m\u001b[0m\n\u001b[1;32m    334\u001b[0m         logger.info('    Using standard spectrum estimation with \"%s\" window'\n",
            "\u001b[0;32m~/colab/env/lib/python3.7/site-packages/scipy/signal/__init__.py\u001b[0m in \u001b[0;36m<module>\u001b[0;34m\u001b[0m\n\u001b[1;32m    300\u001b[0m \u001b[0;34m\u001b[0m\u001b[0m\n\u001b[1;32m    301\u001b[0m \u001b[0;32mfrom\u001b[0m \u001b[0;34m.\u001b[0m\u001b[0mbsplines\u001b[0m \u001b[0;32mimport\u001b[0m \u001b[0;34m*\u001b[0m\u001b[0;34m\u001b[0m\u001b[0;34m\u001b[0m\u001b[0m\n\u001b[0;32m--> 302\u001b[0;31m \u001b[0;32mfrom\u001b[0m \u001b[0;34m.\u001b[0m\u001b[0mfilter_design\u001b[0m \u001b[0;32mimport\u001b[0m \u001b[0;34m*\u001b[0m\u001b[0;34m\u001b[0m\u001b[0;34m\u001b[0m\u001b[0m\n\u001b[0m\u001b[1;32m    303\u001b[0m \u001b[0;32mfrom\u001b[0m \u001b[0;34m.\u001b[0m\u001b[0mfir_filter_design\u001b[0m \u001b[0;32mimport\u001b[0m \u001b[0;34m*\u001b[0m\u001b[0;34m\u001b[0m\u001b[0;34m\u001b[0m\u001b[0m\n\u001b[1;32m    304\u001b[0m \u001b[0;32mfrom\u001b[0m \u001b[0;34m.\u001b[0m\u001b[0mltisys\u001b[0m \u001b[0;32mimport\u001b[0m \u001b[0;34m*\u001b[0m\u001b[0;34m\u001b[0m\u001b[0;34m\u001b[0m\u001b[0m\n",
            "\u001b[0;32m~/colab/env/lib/python3.7/site-packages/scipy/signal/filter_design.py\u001b[0m in \u001b[0;36m<module>\u001b[0;34m\u001b[0m\n\u001b[1;32m     14\u001b[0m \u001b[0;32mfrom\u001b[0m \u001b[0mnumpy\u001b[0m\u001b[0;34m.\u001b[0m\u001b[0mpolynomial\u001b[0m\u001b[0;34m.\u001b[0m\u001b[0mpolynomial\u001b[0m \u001b[0;32mimport\u001b[0m \u001b[0mpolyvalfromroots\u001b[0m\u001b[0;34m\u001b[0m\u001b[0;34m\u001b[0m\u001b[0m\n\u001b[1;32m     15\u001b[0m \u001b[0;34m\u001b[0m\u001b[0m\n\u001b[0;32m---> 16\u001b[0;31m \u001b[0;32mfrom\u001b[0m \u001b[0mscipy\u001b[0m \u001b[0;32mimport\u001b[0m \u001b[0mspecial\u001b[0m\u001b[0;34m,\u001b[0m \u001b[0moptimize\u001b[0m\u001b[0;34m,\u001b[0m \u001b[0mfft\u001b[0m \u001b[0;32mas\u001b[0m \u001b[0msp_fft\u001b[0m\u001b[0;34m\u001b[0m\u001b[0;34m\u001b[0m\u001b[0m\n\u001b[0m\u001b[1;32m     17\u001b[0m \u001b[0;32mfrom\u001b[0m \u001b[0mscipy\u001b[0m\u001b[0;34m.\u001b[0m\u001b[0mspecial\u001b[0m \u001b[0;32mimport\u001b[0m \u001b[0mcomb\u001b[0m\u001b[0;34m\u001b[0m\u001b[0;34m\u001b[0m\u001b[0m\n\u001b[1;32m     18\u001b[0m \u001b[0;32mfrom\u001b[0m \u001b[0mscipy\u001b[0m\u001b[0;34m.\u001b[0m\u001b[0m_lib\u001b[0m\u001b[0;34m.\u001b[0m\u001b[0m_util\u001b[0m \u001b[0;32mimport\u001b[0m \u001b[0mfloat_factorial\u001b[0m\u001b[0;34m\u001b[0m\u001b[0;34m\u001b[0m\u001b[0m\n",
            "\u001b[0;32m~/colab/env/lib/python3.7/site-packages/scipy/optimize/__init__.py\u001b[0m in \u001b[0;36m<module>\u001b[0;34m\u001b[0m\n\u001b[1;32m    400\u001b[0m \u001b[0;32mfrom\u001b[0m \u001b[0;34m.\u001b[0m\u001b[0moptimize\u001b[0m \u001b[0;32mimport\u001b[0m \u001b[0;34m*\u001b[0m\u001b[0;34m\u001b[0m\u001b[0;34m\u001b[0m\u001b[0m\n\u001b[1;32m    401\u001b[0m \u001b[0;32mfrom\u001b[0m \u001b[0;34m.\u001b[0m\u001b[0m_minimize\u001b[0m \u001b[0;32mimport\u001b[0m \u001b[0;34m*\u001b[0m\u001b[0;34m\u001b[0m\u001b[0;34m\u001b[0m\u001b[0m\n\u001b[0;32m--> 402\u001b[0;31m \u001b[0;32mfrom\u001b[0m \u001b[0;34m.\u001b[0m\u001b[0m_root\u001b[0m \u001b[0;32mimport\u001b[0m \u001b[0;34m*\u001b[0m\u001b[0;34m\u001b[0m\u001b[0;34m\u001b[0m\u001b[0m\n\u001b[0m\u001b[1;32m    403\u001b[0m \u001b[0;32mfrom\u001b[0m \u001b[0;34m.\u001b[0m\u001b[0m_root_scalar\u001b[0m \u001b[0;32mimport\u001b[0m \u001b[0;34m*\u001b[0m\u001b[0;34m\u001b[0m\u001b[0;34m\u001b[0m\u001b[0m\n\u001b[1;32m    404\u001b[0m \u001b[0;32mfrom\u001b[0m \u001b[0;34m.\u001b[0m\u001b[0mminpack\u001b[0m \u001b[0;32mimport\u001b[0m \u001b[0;34m*\u001b[0m\u001b[0;34m\u001b[0m\u001b[0;34m\u001b[0m\u001b[0m\n",
            "\u001b[0;32m~/colab/env/lib/python3.7/site-packages/scipy/optimize/_root.py\u001b[0m in \u001b[0;36m<module>\u001b[0;34m\u001b[0m\n\u001b[1;32m     19\u001b[0m \u001b[0;32mfrom\u001b[0m \u001b[0;34m.\u001b[0m\u001b[0mminpack\u001b[0m \u001b[0;32mimport\u001b[0m \u001b[0m_root_hybr\u001b[0m\u001b[0;34m,\u001b[0m \u001b[0mleastsq\u001b[0m\u001b[0;34m\u001b[0m\u001b[0;34m\u001b[0m\u001b[0m\n\u001b[1;32m     20\u001b[0m \u001b[0;32mfrom\u001b[0m \u001b[0;34m.\u001b[0m\u001b[0m_spectral\u001b[0m \u001b[0;32mimport\u001b[0m \u001b[0m_root_df_sane\u001b[0m\u001b[0;34m\u001b[0m\u001b[0;34m\u001b[0m\u001b[0m\n\u001b[0;32m---> 21\u001b[0;31m \u001b[0;32mfrom\u001b[0m \u001b[0;34m.\u001b[0m \u001b[0;32mimport\u001b[0m \u001b[0mnonlin\u001b[0m\u001b[0;34m\u001b[0m\u001b[0;34m\u001b[0m\u001b[0m\n\u001b[0m\u001b[1;32m     22\u001b[0m \u001b[0;34m\u001b[0m\u001b[0m\n\u001b[1;32m     23\u001b[0m \u001b[0;34m\u001b[0m\u001b[0m\n",
            "\u001b[0;32m~/colab/env/lib/python3.7/site-packages/scipy/optimize/nonlin.py\u001b[0m in \u001b[0;36m<module>\u001b[0;34m\u001b[0m\n\u001b[1;32m   1652\u001b[0m \u001b[0;34m\u001b[0m\u001b[0m\n\u001b[1;32m   1653\u001b[0m \u001b[0;34m\u001b[0m\u001b[0m\n\u001b[0;32m-> 1654\u001b[0;31m \u001b[0mbroyden1\u001b[0m \u001b[0;34m=\u001b[0m \u001b[0m_nonlin_wrapper\u001b[0m\u001b[0;34m(\u001b[0m\u001b[0;34m'broyden1'\u001b[0m\u001b[0;34m,\u001b[0m \u001b[0mBroydenFirst\u001b[0m\u001b[0;34m)\u001b[0m\u001b[0;34m\u001b[0m\u001b[0;34m\u001b[0m\u001b[0m\n\u001b[0m\u001b[1;32m   1655\u001b[0m \u001b[0mbroyden2\u001b[0m \u001b[0;34m=\u001b[0m \u001b[0m_nonlin_wrapper\u001b[0m\u001b[0;34m(\u001b[0m\u001b[0;34m'broyden2'\u001b[0m\u001b[0;34m,\u001b[0m \u001b[0mBroydenSecond\u001b[0m\u001b[0;34m)\u001b[0m\u001b[0;34m\u001b[0m\u001b[0;34m\u001b[0m\u001b[0m\n\u001b[1;32m   1656\u001b[0m \u001b[0manderson\u001b[0m \u001b[0;34m=\u001b[0m \u001b[0m_nonlin_wrapper\u001b[0m\u001b[0;34m(\u001b[0m\u001b[0;34m'anderson'\u001b[0m\u001b[0;34m,\u001b[0m \u001b[0mAnderson\u001b[0m\u001b[0;34m)\u001b[0m\u001b[0;34m\u001b[0m\u001b[0;34m\u001b[0m\u001b[0m\n",
            "\u001b[0;32m~/colab/env/lib/python3.7/site-packages/scipy/optimize/nonlin.py\u001b[0m in \u001b[0;36m_nonlin_wrapper\u001b[0;34m(name, jac)\u001b[0m\n\u001b[1;32m   1645\u001b[0m     \u001b[0mns\u001b[0m \u001b[0;34m=\u001b[0m \u001b[0;34m{\u001b[0m\u001b[0;34m}\u001b[0m\u001b[0;34m\u001b[0m\u001b[0;34m\u001b[0m\u001b[0m\n\u001b[1;32m   1646\u001b[0m     \u001b[0mns\u001b[0m\u001b[0;34m.\u001b[0m\u001b[0mupdate\u001b[0m\u001b[0;34m(\u001b[0m\u001b[0mglobals\u001b[0m\u001b[0;34m(\u001b[0m\u001b[0;34m)\u001b[0m\u001b[0;34m)\u001b[0m\u001b[0;34m\u001b[0m\u001b[0;34m\u001b[0m\u001b[0m\n\u001b[0;32m-> 1647\u001b[0;31m     \u001b[0mexec\u001b[0m\u001b[0;34m(\u001b[0m\u001b[0mwrapper\u001b[0m\u001b[0;34m,\u001b[0m \u001b[0mns\u001b[0m\u001b[0;34m)\u001b[0m\u001b[0;34m\u001b[0m\u001b[0;34m\u001b[0m\u001b[0m\n\u001b[0m\u001b[1;32m   1648\u001b[0m     \u001b[0mfunc\u001b[0m \u001b[0;34m=\u001b[0m \u001b[0mns\u001b[0m\u001b[0;34m[\u001b[0m\u001b[0mname\u001b[0m\u001b[0;34m]\u001b[0m\u001b[0;34m\u001b[0m\u001b[0;34m\u001b[0m\u001b[0m\n\u001b[1;32m   1649\u001b[0m     \u001b[0mfunc\u001b[0m\u001b[0;34m.\u001b[0m\u001b[0m__doc__\u001b[0m \u001b[0;34m=\u001b[0m \u001b[0mjac\u001b[0m\u001b[0;34m.\u001b[0m\u001b[0m__doc__\u001b[0m\u001b[0;34m\u001b[0m\u001b[0;34m\u001b[0m\u001b[0m\n",
            "\u001b[0;32m~/colab/env/lib/python3.7/site-packages/scipy/optimize/nonlin.py\u001b[0m in \u001b[0;36m<module>\u001b[0;34m\u001b[0m\n",
            "\u001b[0;31mKeyboardInterrupt\u001b[0m: "
          ]
        }
      ]
    },
    {
      "cell_type": "code",
      "source": [
        "epochs[0][2000:2010]"
      ],
      "metadata": {
        "id": "ezrjypwhhSe9"
      },
      "execution_count": null,
      "outputs": []
    },
    {
      "cell_type": "code",
      "source": [
        "print(epochs[0][2000:2010])"
      ],
      "metadata": {
        "id": "HjIwTCLVuD1x"
      },
      "execution_count": null,
      "outputs": []
    },
    {
      "cell_type": "code",
      "source": [
        "con_res = dict()\n",
        "for method, c in zip(con_methods, con):\n",
        "    con_res[method] = c[:, :, 0]"
      ],
      "metadata": {
        "id": "iakYgOupeKKh"
      },
      "execution_count": null,
      "outputs": []
    },
    {
      "cell_type": "code",
      "source": [
        "sfreq"
      ],
      "metadata": {
        "id": "sCmMi-FQp6uJ"
      },
      "execution_count": null,
      "outputs": []
    },
    {
      "cell_type": "code",
      "source": [
        "con_res\n"
      ],
      "metadata": {
        "id": "x8OWncfapvaa"
      },
      "execution_count": null,
      "outputs": []
    },
    {
      "cell_type": "code",
      "source": [
        "from mne.viz import circular_layout, plot_connectivity_circle\n",
        "#import matplotlib.pyplot as plt\n",
        "\n",
        "label_names = ch_names\n",
        "\n",
        "#plot_connectivity_circle(con_res['pli'], label_names, \n",
        "#                                                  title='All-to-All Connectivity (PLI)')\n",
        "#fig = plt.figure(num=None, figsize=(8, 4), facecolor='black')\n",
        "no_names = [''] * len(label_names)\n",
        "for ii, method in enumerate(con_methods):\n",
        "    plot_connectivity_circle(con_res[method], label_names, n_lines=300,\n",
        "                             title=method)\n",
        "    #plot_connectivity_circle(con_res[method], label_names, n_lines=300,\n",
        "    #                         title=method, padding=0, fontsize_colorbar=6,\n",
        "    #                         fig=fig, subplot=(1, 8, ii + 1))\n",
        "\n",
        "    #plot_connectivity_circle(con_res[method], no_names, n_lines=300,\n",
        "    #                         title=method, padding=0, fontsize_colorbar=6,\n",
        "    #                         fig=fig, subplot=(1, 6, ii + 1))\n",
        "plt.show()"
      ],
      "metadata": {
        "id": "v4D8oWlEeKII"
      },
      "execution_count": null,
      "outputs": []
    },
    {
      "cell_type": "code",
      "source": [
        "con_res['coh']"
      ],
      "metadata": {
        "id": "zM78B6WjeKFo"
      },
      "execution_count": null,
      "outputs": []
    },
    {
      "cell_type": "code",
      "source": [
        "import io\n",
        "from PIL import Image\n",
        "\n",
        "#%matplotlib inline\n",
        "#import matplotlib.pyplot as plt"
      ],
      "metadata": {
        "id": "CXuffiBli2n1"
      },
      "execution_count": null,
      "outputs": []
    },
    {
      "cell_type": "code",
      "source": [
        "#import matplotlib\n",
        "#matplotlib.use('agg')\n"
      ],
      "metadata": {
        "id": "i1WqVlrBNyig"
      },
      "execution_count": null,
      "outputs": []
    },
    {
      "cell_type": "code",
      "source": [
        "#matplotlib.interactive(False)"
      ],
      "metadata": {
        "id": "EOU8vnSRYH3-"
      },
      "execution_count": null,
      "outputs": []
    },
    {
      "cell_type": "code",
      "source": [
        "#import gc\n",
        "\n",
        "import imageio\n",
        "\n",
        "!pip install mne-connectivity\n",
        "\n",
        "from mne_connectivity.viz import plot_sensors_connectivity\n"
      ],
      "metadata": {
        "id": "ZYjjcaHKX_mc"
      },
      "execution_count": null,
      "outputs": []
    },
    {
      "cell_type": "code",
      "source": [
        "n_parts_one_time = 3\n",
        "#matplotlib.use('agg')\n",
        "#fig = plt.figure()\n",
        "\n",
        "fps=10\n",
        "#out = imageio.get_writer('/content/out/output.mp4', fps=fps)\n",
        "#out = imageio.get_writer('/content/out/'+input_fname_name+'_circle_'+methods[0]+'_'+\n",
        "#                         str(int(bands[0][0]))+'-'+str(int(bands[0][1]))+'hz_'+str(len(epochs[0].events)-2)+'.mp4', fps=fps)\n",
        "#out = imageio.get_writer('/content/out/output.mp4', mode='I', fps=fps, codec='libx264', bitrate='16M')\n",
        "\n",
        "# Generate random breaks and display audio\n",
        "\n",
        "# CHANGE THIS to change number of examples generated\n",
        "#n_generate = 30\n",
        "#n_generate = 150\n",
        "#n_generate = 300\n",
        "#n_generate = 305\n",
        "#n_generate = 390\n",
        "\n",
        "# Sample latent vectors\n",
        "#seed = 666 # change this seed to generate different set of breaks\n",
        "#np.random.seed(seed)\n",
        "#_z = (np.random.rand(n_generate, dim) * 2.) - 1.\n",
        "\n",
        "\n",
        "hz=44100\n",
        "#hz=39936\n",
        "#hz=int(32768*2*(600/240))\n",
        "#hz=int(32768*2*(480/240))\n",
        "#hz=int(32768*2*(360/240))\n",
        "#hz=int(32768*2*(300/240))\n",
        "#hz=int(32768*2*(265/240))\n",
        "#hz=int(32768*2*(250/240))\n",
        "#hz=int(32768*2*(240/240)*1.6666666)\n",
        "#hz=int(32768*2*(240/240))\n",
        "#hz=int(32768*2*(120/240))\n",
        "#fps=hz/(32768*2)\n",
        "#fps=10\n",
        "#fps=0.5\n",
        "#fps=44100/(32768*2)\n",
        "#fps=1\n",
        "#fps=1/3\n",
        "#fps=1.5\n",
        "\n",
        "#n_generate=int((307-2)*fps)\n",
        "#n_generate=int((160-2)*fps)\n",
        "#n_generate=int((1598-2)*fps)\n",
        "#n_generate=int((1648-2)*fps)\n",
        "n_generate=len(epochs[0].events)-2\n",
        "\n",
        "#n_generate=int((10-2)*fps)\n",
        "#n_generate=int((1607-2)*fps)\n",
        "#n_generate=150\n",
        "part_len = 1000\n",
        "#part_len = 275\n",
        "dim = 512\n",
        "\n",
        "\n",
        "n_parts = n_generate//part_len\n",
        "if n_generate%part_len>0:\n",
        "    n_parts=n_parts+1\n",
        "\n",
        "vol=0.1\n",
        "\n",
        "#psd_array=np.random.rand(part_len, dim) \n",
        "\n",
        "#out = imageio.get_writer('./output.mp4', mode='I', fps=fps, codec='libx264', bitrate='16M')\n",
        "\n",
        "#Gs_kwargs = dnnlib.EasyDict()\n",
        "#Gs_kwargs.output_transform = dict(func=tflib.convert_images_to_uint8, nchw_to_nhwc=True)\n",
        "#Gs_kwargs.randomize_noise = False\n",
        "\n",
        "imgs = []\n",
        "imgs1 = []\n",
        "\n",
        "def plot_func(con,methods,label_names,out):\n",
        "        #plt.ioff()\n",
        "        if True:\n",
        "#          con_res = dict()\n",
        "#          for method, c in zip(methods, con):\n",
        "#            con_res[method] = c[:, :, 0]\n",
        "#            con_res[method] = c[:, :]\n",
        "          #for ii, method in enumerate(methods):\n",
        "#          if False:\n",
        "          if True:\n",
        "#            fig,_ = plot_connectivity_circle(con_res[method], label_names, n_lines=300, \n",
        "\n",
        "#            plot_connectivity_circle(con[:, :, 0], label_names, n_lines=300, \n",
        "#                                             title=method, show = False)\n",
        "            #fig = plt.figure()\n",
        "            #fig,_ = \n",
        "#            fig,ax = plot_connectivity_circle(con[:, :, 0], label_names, n_lines=300, \n",
        "#                                             title=method, show = False, vmin=0, vmax=1)#, fig=fig)\n",
        "            #fig, ax = plt.subplots(figsize=(37.33, 21)) \n",
        "#            fig,ax = plot_connectivity_circle(con[:, :, 0], label_names, n_lines=300, \n",
        "#                                             title=methods[0], show = False, vmin=0, vmax=1, fontsize_names=16)#, fig=fig)\n",
        "            fig,ax = plot_connectivity_circle(con[:, :, 0], label_names, n_lines=300, \n",
        "                                             title=input_fname_name+'_circle_'+methods[0]+'_'+str(int(bands[0][0]))+'-'+str(int(bands[0][1]))+'hz_'+str(len(epochs[0].events)-2), \n",
        "                                             show = False, vmin=0, vmax=1, fontsize_names=16)#, fig=fig)\n",
        "            #ax.set_theta_zero_location(\"W\")\n",
        "            \n",
        "            #ax.get_th\n",
        "            #ax.set_rotation()\n",
        "            #print(ax.get_xticks())\n",
        "#            ax.set_theta_zero_location((90+360/len(label_names)))\n",
        "            #print(ax.get_xticklabels())\n",
        "            #print(ax.get_xticks())\n",
        "            #xticks=ax.get_xticks()\n",
        "            #xticks.\n",
        "            #ax.set_rotation(0)\n",
        "\n",
        "            #rtick_locs = range(len(label_names))\n",
        "            #ax.set_rgrids(rtick_locs)\n",
        "            #ax.set_rticks(rtick_locs)\n",
        "            \n",
        "            #set_rgrids(self, radii, labels=None, angle=None, fmt=None, **kwargs)\n",
        "\n",
        "            #thetatick_locs = range(len(label_names))\n",
        "#            thetatick_locs = np.linspace(0.,45.,4)\n",
        "            #thetatick_labels = [u'%i\\u00b0'%np.round(x) for x in thetatick_locs]\n",
        "            #ax.set_thetagrids(thetatick_locs, thetatick_labels, fontsize=16)\n",
        "\n",
        "            #set_thetagrids(self, angles, labels=None, fmt=None, **kwargs)[source]\n",
        "            \n",
        "            #ax.set_xticks(np.linspace(0, 2*np.pi, len(label_names), endpoint=False))\n",
        "            #ax.set_xticklabels(range(len(label_names)))  \n",
        "\n",
        "#            ax.set_theta_offset(np.deg2rad(90+360/len(label_names)))\n",
        "            ax.set_theta_offset(np.deg2rad(360/len(label_names)))\n",
        "#            ax.set_thetagrids(range(len(label_names)), \n",
        "#                  labels=range(len(label_names)), fontsize=12)\n",
        "\n",
        "            #ax.set_rgrids(range(len(label_names)), labels=range(len(label_names)), fontsize=12, angle=180)\n",
        "\n",
        "            \n",
        "            #ax.set_xticklabels(ax.get_xticks(), rotation = np.deg2rad(90+360/len(label_names)))\n",
        "            #for tick in ax.get_xticklabels():\n",
        "            #  tick.set_rotation(45)\n",
        "#            for label, angle in zip(ax.get_xticklabels(), angles):\n",
        "            #labels = []\n",
        "            #for label in zip(ax.get_xticklabels()):\n",
        "            #  x,y = label.get_position()\n",
        "            #  lab = ax.text(x,y, label.get_text(), transform=label.get_transform(),\n",
        "            #                ha=label.get_ha(), va=label.get_va())\n",
        "            #  #lab.set_rotation(angle)\n",
        "            #  lab.set_rotation(10)\n",
        "            #  labels.append(lab)\n",
        "            ##ax.set_xticklabels([])\n",
        "            #ax.set_xticklabels(labels)\n",
        "            #plt.show()  \n",
        "\n",
        "#            fig = plot_sensors_connectivity(raw.info, con[:, :, 0], picks=label_names, cbar_label=method)\n",
        "          #plot_conmat_file = os.path.abspath('circle_' + fname + '.eps')\n",
        "          #fig.savefig(plot_conmat_file, facecolor='black')\n",
        "\n",
        "          #plt.close()\n",
        "          #plt.close(fig)\n",
        "          #fig.clf()\n",
        "          \n",
        "          #del fig\n",
        "\n",
        "          #if ji%100==0 :\n",
        "          #  gc.collect()\n",
        "\n",
        "        #if False:\n",
        "\n",
        "          #plt.close(fig)\n",
        "          ##fig1.close()\n",
        "          #del fig\n",
        "\n",
        "          #plt.rcParams[\"figure.figsize\"] = [7.50, 3.50]\n",
        "          #plt.rcParams[\"figure.autolayout\"] = True\n",
        "\n",
        "          #plt.figure()\n",
        "          #plt.plot([1, 2])\n",
        "\n",
        "          img_buf = io.BytesIO()\n",
        "          #plt.savefig(img_buf, format='png')\n",
        "\n",
        "          fig.savefig(img_buf, facecolor='black', format='png')\n",
        "          fig.savefig('/content/out/img_buf.png', facecolor='black', format='png')\n",
        "\n",
        "          #fig.clear()\n",
        "          #fig.clf()\n",
        "          #plt.close()\n",
        "          #ax.cla()\n",
        "\n",
        "          #plt.savefig(img_buf, facecolor='black', format='png')\n",
        "          #plt.savefig('/content/out/img_buf.png', facecolor='black', format='png')\n",
        "\n",
        "          #plt.close()\n",
        "          #plt.close(fig)\n",
        "          #fig.clf()\n",
        "\n",
        "          # Clear the current axes.\n",
        "          #plt.cla() \n",
        "          # Clear the current figure.\n",
        "          #plt.clf() \n",
        "          # Closes all the figure windows.\n",
        "          #plt.close('all')   \n",
        "          #plt.close(fig)\n",
        "          #gc.collect()\n",
        "          #del fig\n",
        "\n",
        "          #if ji%100==0 :\n",
        "          #  gc.collect()\n",
        "\n",
        "          img_buf.seek(0)\n",
        "\n",
        "          im1 = Image.open(img_buf)\n",
        "          im1.crop(0,0,576,576)\n",
        "          img_buf1 = io.BytesIO()\n",
        "          im1.write(img_buf1)\n",
        "          img_buf1.seek(0)\n",
        "\n",
        "          im = imageio.imread(img_buf1)\n",
        "          out.append_data(im)\n",
        "          img_buf.close()\n",
        "          img_buf1.close()\n",
        "\n",
        "          plt.close('all')   \n",
        "\n",
        "n_parts_now = 0\n",
        "\n",
        "#z_avg_samples=n_generate\n",
        "#for i in range(n_generate): # display separate audio for each break\n",
        "for j in range(n_parts): # display separate audio for each break\n",
        "  out_file = '/content/out/'+input_fname_name+'_circle_'+methods[0]+'_'+str(int(bands[0][0]))+'-'+str(int(bands[0][1]))+'hz_'+'vmin0.7_'+str(len(epochs[0].events)-2)+'_'+str(j)+'.mp4'\n",
        "  out_file_parts = '/content/out/parts/'+input_fname_name+'_circle_'+methods[0]+'_'+str(int(bands[0][0]))+'-'+str(int(bands[0][1]))+'hz_'+'vmin0.7_'+str(len(epochs[0].events)-2)+'_'+str(j)+'.mp4'\n",
        "\n",
        "  import os.path\n",
        "  if not os.path.isfile(out_file_parts):  \n",
        "    n_parts_now = n_parts_now + 1\n",
        "    if n_parts_now > n_parts_one_time:\n",
        "      break\n",
        "\n",
        "    if os.path.isfile(out_file):  \n",
        "      !rm {out_file}\n",
        "    out = imageio.get_writer(out_file, fps=fps)\n",
        "\n",
        "    for i in range(part_len): # display separate audio for each break\n",
        "        ji = j * part_len + i\n",
        "        \n",
        "#        if (i==0) and (n_generate-ji<part_len):\n",
        "#            psd_array=np.random.rand((n_generate-ji), dim) \n",
        "\n",
        "\n",
        "        eeg_step=ji\n",
        "        #print (f'EEG step: {(eeg_step/3):.1f} s')\n",
        "        tmin, tmax = 0+(eeg_step/fps), 2+(eeg_step/fps)  # use the first 120s of data\n",
        "        #tmin, tmax = 0+(10*eeg_step/512), 2+(10*eeg_step/512)  # use the first 120s of data\n",
        "        #fmin, fmax = 0.5, 256  # look at frequencies between 4 and 100Hz\n",
        "        #fmin, fmax = 0.5, 50  # look at frequencies between 4 and 100Hz\n",
        "        #fmin, fmax = 8, 12  # look at frequencies between 4 and 100Hz\n",
        "        #n_fft = 512  # the FFT size (n_fft). Ideally a power of 2\n",
        "        #n_fft = 1024  # the FFT size (n_fft). Ideally a power of 2\n",
        "        #n_fft = 2048  # the FFT size (n_fft). Ideally a power of 2\n",
        "        #label = mne.read_label(fname_label)\n",
        "        \n",
        "        print(str(ji) + '/' + str(n_generate))\n",
        "        #logger = logging.getLogger()\n",
        "        #logger.disabled = True\n",
        "\n",
        "        sfreq = raw.info['sfreq']  # the sampling frequency\n",
        "        \n",
        "#        psds=np.zeros(dim)\n",
        "        \n",
        "        for method in range(len(methods)):\n",
        "         for band in range(len(bands)):\n",
        "          #fmin=8.\n",
        "          #fmax=13.\n",
        "          fmin=bands[band][0]\n",
        "          fmax=bands[band][1]\n",
        "          if band == 0:\n",
        "           con, freqs, times, n_epochs, n_tapers = spectral_connectivity(\n",
        "            epochs[band][ji:ji+1], method=methods[method], mode='multitaper', sfreq=sfreq, fmin=fmin,\n",
        "#            epochs[band][ji:ji+10], method=methods[method], mode='multitaper', sfreq=sfreq, fmin=fmin,\n",
        "            fmax=fmax, faverage=True, mt_adaptive=True, n_jobs=1, verbose=50)\n",
        "          #con, freqs, times, n_epochs, n_tapers = spectral_connectivity(\n",
        "          #  epochs[band][ji,ji+1], method=methods[method], mode='multitaper', sfreq=sfreq, fmin=fmin,\n",
        "          #  fmax=fmax, faverage=True, mt_adaptive=True, n_jobs=1)\n",
        "#          psds_shift1=int(round(method*len(bands)+band)*(len(ch_names)*(len(ch_names)-1)/2))\n",
        "#          ji1=0\n",
        "#          for j1 in range(0,len(ch_names)): # display separate audio for each break\n",
        "#            for i1 in range(0,j1): # display separate audio for each break\n",
        "#              psds[ji1+psds_shift1]=(con[j1][i1][0]-0.5)*1\n",
        "#              ji1 = ji1+1\n",
        "        #psds, freqs = mne.time_frequency.psd_welch(raw, picks=picks,\n",
        "        #                 tmin=tmin, tmax=tmax, fmin=fmin, fmax=fmax,\n",
        "        #                 n_fft=n_fft)\n",
        "        #logger.disabled = False\n",
        "\n",
        "        #print(freqs)\n",
        "        #print(psds)\n",
        "        \n",
        "#        psd_array[i]=psds\n",
        "        ##z_samples = psds\n",
        "\n",
        "        #w_samples = G.mapping(torch.from_numpy(z_samples).to(device), None)  # [N, L, C]\n",
        "        #w_samples = w_samples[:, :1, :].cpu().numpy().astype(np.float32)       # [N, 1, C]\n",
        "        ##z_avg = np.mean(z_samples, axis=0)      # [1, 1, C]\n",
        "        #z_avg = np.mean(z_samples, axis=0, keepdims=True)      # [1, 1, C]\n",
        "        ##psd_array[i]=z_avg\n",
        "        #psd_array[i]=z_avg\n",
        "        #print(z_avg)\n",
        "        #z_std = (np.sum((z_samples - z_avg) ** 2) / z_avg_samples) ** 0.5\n",
        "\n",
        "        #psd_array[i]=psds\n",
        "        #psds_transpose=np.transpose(psds)\n",
        "        #plt.plot(freqs,psds_transpose)\n",
        "        #plt.xlabel('Frequency (Hz)')\n",
        "        #plt.ylabel('PSD (dB)')\n",
        "        #plt.title('Power Spectrum (PSD)')\n",
        "        #plt.show()\n",
        "#        if (i==part_len-1) or (ji==n_generate-1) :\n",
        "        if True:\n",
        "#        if False:\n",
        "#          con_res = dict()\n",
        "#          for method, c in zip(methods, con):\n",
        "#            con_res[method] = c[:, :, 0]\n",
        "#            con_res[method] = c[:, :]\n",
        "          for ii, method in enumerate(methods):\n",
        "#            fig,_ = plot_connectivity_circle(con_res[method], label_names, n_lines=300, \n",
        "\n",
        "#            plot_connectivity_circle(con[:, :, 0], label_names, n_lines=300, \n",
        "#                                             title=method, show = False)\n",
        "            #px = 1/plt.rcParams['figure.dpi']  # pixel in inches\n",
        "            #fig = plt.figure(figsize=(576*px, 576*px))\n",
        "#            fig,_ = \n",
        "\n",
        "#            fig,ax = plot_connectivity_circle(con[:, :, 0], label_names, n_lines=300, \n",
        "#                                             title=method, show = False, vmin=0, vmax=1)#, fig=fig)\n",
        "            con_sort=np.sort(np.abs(con).ravel())[::-1]\n",
        "            n_lines=np.argmax(con_sort<0.7)\n",
        "            fig,ax = plot_connectivity_circle(con[:, :, 0], label_names, n_lines=n_lines, \n",
        "#            fig,ax = plot_connectivity_circle(con[:, :, 0], label_names,# n_lines=300, \n",
        "#                                             title=input_fname_name+'_circle_'+methods[0]+'_'+str(int(bands[0][0]))+'-'+str(int(bands[0][1]))+'hz_'+str(len(epochs[0].events)-2), \n",
        "                                             title=input_fname_name+'_circle_'+methods[0]+'_'+str(int(bands[0][0]))+'-'+str(int(bands[0][1]))+'hz_'+'vmin0.7_'+str(len(epochs[0].events)-2)+'\\n'+str(ji), \n",
        "#                                             title=input_fname_name+'_circle_'+methods[0]+'_'+str(int(bands[0][0]))+'-'+str(int(bands[0][1]))+'hz_'+str(len(epochs[0].events)-2)+'_'+str(ji), \n",
        "                                             show = False, vmin=0.7, vmax=1, fontsize_names=8)#16)#, fig=fig)\n",
        "#                                             show = False, vmin=0, vmax=1, fontsize_names=8)#16)#, fig=fig)\n",
        "            #ax.set_theta_offset(np.deg2rad(360/len(label_names)))\n",
        "#            fig = plot_sensors_connectivity(raw.info, con[:, :, 0], picks=label_names, cbar_label=method)\n",
        "          #plot_conmat_file = os.path.abspath('circle_' + fname + '.eps')\n",
        "          #fig.savefig(plot_conmat_file, facecolor='black')\n",
        "\n",
        "          #plt.close()\n",
        "          #plt.close(fig)\n",
        "          #fig.clf()\n",
        "          \n",
        "          #del fig\n",
        "\n",
        "          #if ji%100==0 :\n",
        "          #  gc.collect()\n",
        "\n",
        "#        if False:\n",
        "        if True:\n",
        "\n",
        "          #plt.close(fig)\n",
        "          ##fig1.close()\n",
        "          #del fig\n",
        "\n",
        "          #plt.rcParams[\"figure.figsize\"] = [7.50, 3.50]\n",
        "          #plt.rcParams[\"figure.autolayout\"] = True\n",
        "\n",
        "          #plt.figure()\n",
        "          #plt.plot([1, 2])\n",
        "\n",
        "          img_buf = io.BytesIO()\n",
        "          #plt.savefig(img_buf, format='png')\n",
        "\n",
        "          #fig.savefig(img_buf, facecolor='black', format='png')\n",
        "          #fig.savefig('/content/out/img_buf.png', facecolor='black', format='png')\n",
        "\n",
        "          #fig.clf()\n",
        "          #plt.close()\n",
        "          #ax.cla()\n",
        "\n",
        "          #import matplotlib.transforms\n",
        "          #plt.savefig(img_buf, facecolor='black', format='png', \n",
        "          #            bbox_inches=matplotlib.transforms.Bbox([[100, 100], [100, 100]]))\n",
        "          #fig.set_size_inches(8.2, 8.11)\n",
        "\n",
        "#          plt.savefig(img_buf, facecolor='black', format='png', bbox_inches='tight')\n",
        "          plt.savefig(img_buf, facecolor='black', format='png')#, bbox_inches='tight')\n",
        "          #plt.savefig('/content/out/img_buf.png', facecolor='black', format='png')\n",
        "\n",
        "          #plt.close()\n",
        "          #plt.close(fig)\n",
        "          #fig.clf()\n",
        "\n",
        "          # Clear the current axes.\n",
        "          #plt.cla() \n",
        "          # Clear the current figure.\n",
        "          #plt.clf() \n",
        "          # Closes all the figure windows.\n",
        "          #plt.close('all')   \n",
        "          #plt.close(fig)\n",
        "          #gc.collect()\n",
        "          #del fig\n",
        "          #del ax\n",
        "\n",
        "          #if ji%100==0 :\n",
        "          #  gc.collect()\n",
        "\n",
        "          img_buf.seek(0)\n",
        "\n",
        "          im1 = Image.open(img_buf)\n",
        "\n",
        "          size = 432\n",
        "          im2 = im1.crop((35, 70, 35+size, 70+size))\n",
        "          img_buf1 = io.BytesIO()\n",
        "          im2.save(img_buf1, format='png')\n",
        "          img_buf1.seek(0)\n",
        "\n",
        "          im = imageio.imread(img_buf1)\n",
        "          #out.append_data(im)\n",
        "          img_buf.close()\n",
        "          img_buf1.close()\n",
        "\n",
        "#          im = imageio.imread(img_buf)\n",
        "#          img_buf.close()\n",
        "\n",
        "          #print(im.shape)\n",
        "          #(412, 399, 4)\n",
        "          im_arr = np.array(im)\n",
        "          #print(im_arr.shape)\n",
        "          #im_arr.reshape(416, 416, 4)\n",
        "          im_arr_rot = np.rot90(im_arr)\n",
        "          #im_arr_rot.resize((400, 416))\n",
        "\n",
        "          out.append_data(im_arr_rot)\n",
        "          imageio.imwrite('/content/out/img_buf.png', im_arr_rot, format='png')\n",
        "#          out.append_data(im)\n",
        "          #del img_buf\n",
        "          #del im\n",
        "\n",
        "          #if ji == 100:\n",
        "          #  out.close()\n",
        "          #  break\n",
        "\n",
        "          #im = img_buf.getvalue()\n",
        "\n",
        "          #im = Image.open(img_buf)\n",
        "#          im.copy()\n",
        "          #im.show(title=\"My Image\")\n",
        "          \n",
        "          #out.append_data(np.asarray(im))\n",
        "\n",
        "          #im.close()\n",
        "\n",
        "          #img_buf.close()\n",
        "\n",
        "          #  _z = psd_array * vol\n",
        "          #  images = Gs.run(_z, None, **Gs_kwargs) # [minibatch, height, width, channel]\n",
        "          #  for image in images:\n",
        "              #imgs1.append(image)\n",
        "#              out.append_data(np.asarray(PIL.Image.fromarray(image, 'RGB')))\n",
        "\n",
        "              #imgs.append(PIL.Image.fromarray(image, 'RGB'))\n",
        "            #out.append(PIL.Image.fromarray(images[0], 'RGB'))\n",
        "            #_G_z = sess.run(G_z, {z: _z})[:,:,0]\n",
        "            #if j==0:\n",
        "            #    _G_z_full=_G_z\n",
        "            #else:\n",
        "            #    _G_z_full=np.append(_G_z_full,_G_z)\n",
        "\n",
        "        #if True:\n",
        "        #  plot_func(con,methods,label_names,out)\n",
        "          #if ji%100==0 :\n",
        "          #  gc.collect()\n",
        "          if (ji==n_generate-1) :\n",
        "                break\n",
        "    out.close()\n",
        "    !mv {out_file} {out_file_parts}\n",
        "\n",
        "\n",
        "#print(psd_array)\n",
        "#print(psd_array.shape)\n",
        "#print(psd_array.ndim)\n",
        "#_z = psd_array / 5.\n",
        "#_z = psd_array / 10.\n",
        "#_z = (psd_array * 2.) - 1.\n",
        "#_G_z = sess.run(G_z, {z: _z})[:,:,0]\n",
        "\n",
        "# display(Audio(_G_z.flatten(), rate=39936)) # display all in one audio\n",
        "\n",
        "#for i in range(n_generate): # display separate audio for each break\n",
        "  #print(i)\n",
        "  #display(Audio(np.tile(_G_z[i][1:_G_z[i].ndim/2], 2), rate=39936)) # change rate for different tempo\n",
        "  #display(Audio(np.tile(_G_z[i][1:32768], 2), rate=32768)) # change rate for different tempo\n",
        "  #display(Audio(np.tile(_G_z[i], 1), rate=32768)) # change rate for different tempo\n",
        "#out.close()"
      ],
      "metadata": {
        "id": "-kCJEYReeKDB"
      },
      "execution_count": null,
      "outputs": []
    },
    {
      "cell_type": "code",
      "source": [
        "!mkdir '/content/out/parts'\n",
        "out_file_parts_txt = '/content/out/parts/'+input_fname_name+'_circle_'+methods[0]+'_'+str(int(bands[0][0]))+'-'+str(int(bands[0][1]))+'hz_'+'vmin0.7_'+str(len(epochs[0].events)-2)+'.txt'\n",
        "!rm {out_file_parts_txt}\n",
        "out_file_mp4 = '/content/out/'+input_fname_name+'_circle_'+methods[0]+'_'+str(int(bands[0][0]))+'-'+str(int(bands[0][1]))+'hz_'+'vmin0.7_'+str(len(epochs[0].events)-2)+'.mp4'\n",
        "with open(out_file_parts_txt, 'a') as the_file:\n",
        " for j in range(n_parts): # display separate audio for each break\n",
        "  out_file_part = '/content/out/parts/'+input_fname_name+'_circle_'+methods[0]+'_'+str(int(bands[0][0]))+'-'+str(int(bands[0][1]))+'hz_'+'vmin0.7_'+str(len(epochs[0].events)-2)+'_'+str(j)+'.mp4'\n",
        "  the_file.write(\"file '\")\n",
        "  the_file.write(out_file_part)\n",
        "  the_file.write(\"'\\n\")\n",
        "#  import os.path\n",
        "#  if not os.path.isfile(out_file):  \n",
        "#    out = imageio.get_writer(out_file, fps=fps)\n",
        "!rm {out_file_mp4}\n",
        "!ffmpeg -f concat -safe 0 -i {out_file_parts_txt} -c copy {out_file_mp4}\n",
        "#!ffmpeg -vfilters \"rotate=90\" -i {out_file_mp4} {out_file_mp4}\n"
      ],
      "metadata": {
        "id": "qlkKcr7c-YeD"
      },
      "execution_count": null,
      "outputs": []
    },
    {
      "cell_type": "code",
      "source": [
        "stop"
      ],
      "metadata": {
        "id": "ClyW01tQg1Os"
      },
      "execution_count": null,
      "outputs": []
    },
    {
      "cell_type": "code",
      "source": [
        "con[:, :, 0]"
      ],
      "metadata": {
        "id": "MuCfxxCPBn_-"
      },
      "execution_count": null,
      "outputs": []
    },
    {
      "cell_type": "code",
      "source": [
        "con_sort=np.sort(np.abs(con).ravel())[::-1]"
      ],
      "metadata": {
        "id": "tgtvVzWhBsok"
      },
      "execution_count": null,
      "outputs": []
    },
    {
      "cell_type": "code",
      "source": [
        "con_sort"
      ],
      "metadata": {
        "id": "JP_F35ZTDMO3"
      },
      "execution_count": null,
      "outputs": []
    },
    {
      "cell_type": "code",
      "source": [
        "n_lines=np.argmax(con_sort<0.7)"
      ],
      "metadata": {
        "id": "ozYFPDO5CW2t"
      },
      "execution_count": null,
      "outputs": []
    },
    {
      "cell_type": "code",
      "source": [
        "n_lines"
      ],
      "metadata": {
        "id": "Etq6UhQFCgqW"
      },
      "execution_count": null,
      "outputs": []
    },
    {
      "cell_type": "code",
      "source": [
        "con_thresh = np.sort(np.abs(con).ravel())[-n_lines]"
      ],
      "metadata": {
        "id": "g1WxHRutARpM"
      },
      "execution_count": null,
      "outputs": []
    },
    {
      "cell_type": "code",
      "source": [
        "con_thresh"
      ],
      "metadata": {
        "id": "fBQ8iPchCmlV"
      },
      "execution_count": null,
      "outputs": []
    },
    {
      "cell_type": "code",
      "source": [
        "stop"
      ],
      "metadata": {
        "id": "meVp0N8ad8Vu"
      },
      "execution_count": null,
      "outputs": []
    },
    {
      "cell_type": "code",
      "source": [
        "for size in range(20):\n",
        "          img_buf = io.BytesIO()\n",
        "\n",
        "#          fig.set_size_inches(5.0+size/10.0,5.0+size/10.0)\n",
        "#          fig.set_size_inches(5.0+15/10.0,5.0+15/10.0)\n",
        "          #fig.set_size_inches(6.1,6.1)\n",
        "#          fig.set_size_inches(6.5,6.5)\n",
        "          fig.set_dpi(70+size)\n",
        "          print(size)\n",
        "#          fig.set_size_inches(65,65)\n",
        "\n",
        "          plt.savefig(img_buf, facecolor='black', format='png')#, bbox_inches='tight')\n",
        "\n",
        "          img_buf.seek(0)\n",
        "\n",
        "          im = imageio.imread(img_buf)\n",
        "          img_buf.close()\n",
        "\n",
        "          print(im.shape)\n",
        "          print(im.shape[0]/16)\n",
        "          print(im.shape[1]/16)\n",
        "          "
      ],
      "metadata": {
        "id": "KOB2xzT7V_tV"
      },
      "execution_count": null,
      "outputs": []
    },
    {
      "cell_type": "code",
      "source": [
        "out.close()"
      ],
      "metadata": {
        "id": "Y--FRlDieKAQ"
      },
      "execution_count": null,
      "outputs": []
    },
    {
      "cell_type": "code",
      "source": [
        "print(plt.rcParams[\"savefig.bbox\"])"
      ],
      "metadata": {
        "id": "yFSbxv83QaLS"
      },
      "execution_count": null,
      "outputs": []
    },
    {
      "cell_type": "code",
      "source": [
        "input_fname=files_path[3][1]\n",
        "input_fname_name=files_path[3][2]"
      ],
      "metadata": {
        "id": "lh2sSoMoZ-My"
      },
      "execution_count": null,
      "outputs": []
    },
    {
      "cell_type": "code",
      "source": [
        "%cd '/content/out/'\n",
        "\n",
        "input0 = '20211130-162023-sync1_circle_coh_8-12hz_23692.mp4'\n",
        "input1 = '20211130-162023-sync2_circle_coh_8-12hz_23692.mp4'\n",
        "input2 = '20211130-162023-sync3_circle_coh_8-12hz_23692.mp4'\n",
        "input3 = '20211130-162023-sync4_circle_coh_8-12hz_23692.mp4'\n",
        "output = '20211130-162023-sync_circle_coh_8-12hz_23692.mp4'\n",
        "\n",
        "!docker run -v $(pwd):$(pwd) -w $(pwd) jrottenberg/ffmpeg -i {input0} -i {input1} -i {input2} -i {input3} -filter_complex \"[0:v][1:v][2:v][3:v]xstack=inputs=4:layout=0_0|w0_0|0_h0|w0_h0[v]\" -map \"[v]\" {output}"
      ],
      "metadata": {
        "id": "X1sqQNPA3TN8"
      },
      "execution_count": null,
      "outputs": []
    },
    {
      "cell_type": "code",
      "source": [
        "input0 = '/content/out/parts/'+'20211130-162023-sync1_circle_coh_8-12hz_23692_0.mp4'\n",
        "input1 = '/content/out/parts/'+'20211130-162023-sync2_circle_coh_8-12hz_23692_0.mp4'\n",
        "input2 = '/content/out/parts/'+'20211130-162023-sync3_circle_coh_8-12hz_23692_0.mp4'\n",
        "input3 = '/content/out/parts/'+'20211130-162023-sync4_circle_coh_8-12hz_23692_0.mp4'\n",
        "output = '/content/out/parts/'+'20211130-162023-sync_circle_coh_8-12hz_23692_0.mp4'\n",
        "\n",
        "!ffmpeg -i {input0} -i {input1} -i {input2} -i {input3} -filter_complex \"[0:v][1:v][2:v][3:v]xstack=inputs=4:layout=0_0|w0_0|0_h0|w0_h0[v]\" -map \"[v]\" {output}"
      ],
      "metadata": {
        "id": "a6nH9LifmP0n"
      },
      "execution_count": null,
      "outputs": []
    },
    {
      "cell_type": "code",
      "source": [
        "#!pip install pyvista"
      ],
      "metadata": {
        "id": "TmCSQC9mGdgI"
      },
      "execution_count": null,
      "outputs": []
    },
    {
      "cell_type": "code",
      "source": [
        "#import pyvista"
      ],
      "metadata": {
        "id": "vr_jstOaeJ9w"
      },
      "execution_count": null,
      "outputs": []
    },
    {
      "cell_type": "code",
      "source": [
        "!ffmpeg -version"
      ],
      "metadata": {
        "id": "YvMGflcRd8k6"
      },
      "execution_count": null,
      "outputs": []
    }
  ]
}