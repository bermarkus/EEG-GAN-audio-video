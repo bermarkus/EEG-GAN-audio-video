{
  "nbformat": 4,
  "nbformat_minor": 0,
  "metadata": {
    "colab": {
      "name": "bdf_coh_3d_viz.ipynb",
      "provenance": [],
      "collapsed_sections": [],
      "authorship_tag": "ABX9TyMlQZa1O6ucSuJ7UkMRetnm",
      "include_colab_link": true
    },
    "kernelspec": {
      "name": "python3",
      "display_name": "Python 3"
    },
    "language_info": {
      "name": "python"
    }
  },
  "cells": [
    {
      "cell_type": "markdown",
      "metadata": {
        "id": "view-in-github",
        "colab_type": "text"
      },
      "source": [
        "<a href=\"https://colab.research.google.com/github/neuroidss/EEG-GAN-audio-video/blob/main/bdf_coh_3d_viz.ipynb\" target=\"_parent\"><img src=\"https://colab.research.google.com/assets/colab-badge.svg\" alt=\"Open In Colab\"/></a>"
      ]
    },
    {
      "cell_type": "code",
      "source": [
        "%matplotlib inline\n",
        "\n",
        "import matplotlib.pyplot as plt\n",
        "import matplotlib\n",
        "matplotlib.use('agg')\n",
        "\n",
        "#for k in range(100):\n",
        "#  fig, ax = plt.subplots(figsize=(37.33, 21))\n",
        "#  fig.savefig(f'figure{k}.png')\n",
        "#  plt.close(fig)"
      ],
      "metadata": {
        "id": "JHR4BJ2eZOCX"
      },
      "execution_count": 1,
      "outputs": []
    },
    {
      "cell_type": "code",
      "execution_count": 2,
      "metadata": {
        "id": "T7IwIoD6x4I8"
      },
      "outputs": [],
      "source": [
        "ch_names_sg2 = ['FP1','AF3','F7','F3','FC1','FC5','T7','C3','CP1','CP5','P7','P3','Pz','PO3','O1','Oz','O2','PO4','P4','P8','CP6','CP2','C4','T8','FC6','FC2','F4','F8','AF4','FP2','Fz','Cz']\n",
        "ch_locations_sg2=[0,1,2,3,4,5,6,7,8,9,10,11,12,13,14,15,16,17,18,19,20,21,22,23,24,25,26,27,28,29,30,31]\n",
        "bands = [[8.,12.]]\n",
        "methods = ['coh']\n",
        "duration=5*1/8\n",
        "overlap=0\n",
        "fps_sg2=1\n",
        "#if generate_wavegan:\n",
        "fps_wg=1#hz/(32768*2)\n",
        "fps_sg2=fps_wg*4\n",
        "#fps_sg2=fps_wg\n",
        "fps_hm=fps_wg\n",
        "\n",
        "if 2*1/fps_wg>duration:\n",
        "  duration=2*1/fps_wg\n",
        "  overlap=0\n",
        "\n",
        "#if generate&gen_wavegan:\n",
        "#  dim_wg = 100\n",
        "#if generate&gen_stylegan2:\n",
        "#  dim_sg2 = 512\n",
        "#if generate&gen_sg2_shawwn:\n",
        "#  dim_sg2 = 1024\n",
        "\n",
        "#stepSize = 1/pow(2,24)\n",
        "#vref = 2.50 #2.5V voltage ref +/- 250nV\n",
        "#gain = 8\n",
        "\n",
        "#vscale = (vref/gain)*stepSize #volts per step.\n",
        "#uVperStep = 1000000 * ((vref/gain)*stepSize) #uV per step.\n",
        "#scalar = 1/(1000000 / ((vref/gain)*stepSize)) #steps per uV."
      ]
    },
    {
      "cell_type": "code",
      "source": [
        "def download_file_from_google_drive(file_id,dest_path):\n",
        "  import os.path\n",
        "  if not os.path.isfile(dest_path):  \n",
        "    !mkdir -p $(dirname {dest_path})\n",
        "    !wget --save-cookies cookies.txt 'https://docs.google.com/uc?export=download&id='{file_id} -O- | sed -rn 's/.*confirm=([0-9A-Za-z_]+).*/\\1/p' > confirm.txt\n",
        "    !wget --load-cookies cookies.txt -O {dest_path} 'https://docs.google.com/uc?export=download&id='{file_id}'&confirm='$(<confirm.txt)"
      ],
      "metadata": {
        "id": "QyZ0lgw9KatI"
      },
      "execution_count": 3,
      "outputs": []
    },
    {
      "cell_type": "code",
      "source": [
        "!mkdir /content/eeg"
      ],
      "metadata": {
        "id": "1zH66IbjbKQI",
        "colab": {
          "base_uri": "https://localhost:8080/"
        },
        "outputId": "54a4dfe4-0db0-4199-96b0-329223e8f765"
      },
      "execution_count": 4,
      "outputs": [
        {
          "output_type": "stream",
          "name": "stdout",
          "text": [
            "mkdir: cannot create directory ‘/content/eeg’: File exists\r\n"
          ]
        }
      ]
    },
    {
      "cell_type": "code",
      "source": [
        "!pip install --upgrade gdown\n",
        "#!pip install googledrivedownloader\n",
        "#from google_drive_downloader import GoogleDriveDownloader as gdd\n",
        "files_path=[]\n",
        "#if generate&gen_drums:\n",
        "files_path = [['1Nfzi6yT83SBZxtgIYVtYp7C7g_Sq9OdS', '/content/eeg/record-[2019.11.13-22.23.59].csv'],\n",
        "              ['1LtMfr9GduR3semMVgh_6JoUSKbCG8XbH', '/content/eeg/record-[2020.06.28-14.26.09].csv']]\n",
        "for i in range(len(files_path)):\n",
        "#  gdd.download_file_from_google_drive(file_id=files_path[i][0], dest_path=files_path[i][1])\n",
        "  download_file_from_google_drive(file_id=files_path[i][0], dest_path=files_path[i][1])\n",
        "\n",
        "files_path = [['1nIiilGVq8XXU7bb1UC5GDtmGbovuil9C', '/content/eeg/5min_experienced_meditator_unfiltered_signals.bdf', '5min_experienced_meditator_unfiltered_signals']]\n",
        "\n",
        "for i in range(len(files_path)):\n",
        "#  gdd.download_file_from_google_drive(file_id=files_path[i][0], dest_path=files_path[i][1])\n",
        "  download_file_from_google_drive(file_id=files_path[i][0], dest_path=files_path[i][1])\n",
        "\n",
        "files_path = [['1BphDQFJZ0aIMiZbkQ55_MzNxOrdq0Jcb', '/content/eeg/01-07-2022_15-34.bdf', '01-07-2022_15-34'],\n",
        "              ['1HlDuAO8n_hmH1PWlT46T1Waqyy5yz1LV', '/content/eeg/01-07-2022_18-32.bdf', '01-07-2022_18-32'],\n",
        "              ['1u_8ANTzYB9jP7wCnErivF1ClM1rXixSg', '/content/eeg/01-07-2022_16-52.bdf', '01-07-2022_16-52'],\n",
        "              ['1_cgoBcHAf3VRIorYafC-vHLAGpv8Papz', '/content/eeg/01-07-2022_17-39.bdf', '01-07-2022_17-39'],\n",
        "              ['1JMLtO_sQtZtdQHQ2RCZ0RbRj3cvk0G_2', '/content/eeg/01-07-2022_14-05.bdf', '01-07-2022_14-05'],\n",
        "              ['1ag-1yK-HSxNRh_5wnP9h-kOkVyX3YqSs', '/content/eeg/01-07-2022_18-32_signals.csv']]\n",
        "\n",
        "for i in range(len(files_path)):\n",
        "#  gdd.download_file_from_google_drive(file_id=files_path[i][0], dest_path=files_path[i][1])\n",
        "  download_file_from_google_drive(file_id=files_path[i][0], dest_path=files_path[i][1])\n",
        "\n",
        "files_path = [['16j4PwPoudiCVB_HF9m0fCYIt3uUZR3kA', '/content/eeg/20211130-162023-sync1.bdf', '20211130-162023-sync1', '20211130-162023-syncs'],\n",
        "              ['16kSyskI7qOZRitvNIzd4iy6irqhgLwsI', '/content/eeg/20211130-162023-sync2.bdf', '20211130-162023-sync2', '20211130-162023-syncs'],\n",
        "              ['16k88jpP7uZKKDT-WhZKcvGsnPclDA2TF', '/content/eeg/20211130-162023-sync3.bdf', '20211130-162023-sync3', '20211130-162023-syncs'],\n",
        "              ['16licSohQPcbLnJmMD88In5PbiiLjOB_N', '/content/eeg/20211130-162023-sync4.bdf', '20211130-162023-sync4', '20211130-162023-syncs'],\n",
        "              ['16nHtHn1BBkzb9oTl4EhJmPHPEB4Q8CVl', '/content/eeg/20211130-221138-sync1.bdf', '20211130-221138-sync1', '20211130-221138-syncs'],\n",
        "              ['16m5Kp0WEdz3GixvQ7-jPVLdQUhXmIbA6', '/content/eeg/20211130-221138-sync2.bdf', '20211130-221138-sync2', '20211130-221138-syncs'],\n",
        "              ['16mJVZV1XT-RULgcSKUSROOQnQr6CHYCK', '/content/eeg/20211130-221138-sync3.bdf', '20211130-221138-sync3', '20211130-221138-syncs'],\n",
        "              ['16nh5R44VIRDFbYmFk7sDQeMXEAA1veY4', '/content/eeg/20211130-221138-sync4.bdf', '20211130-221138-sync4', '20211130-221138-syncs'],\n",
        "              ['16oygYh5ZerFWmNHNMaFqZxUNbC0yj-oW', '/content/eeg/20211130-231131-sync1.bdf', '20211130-231131-sync1', '20211130-231131-syncs'],\n",
        "              ['16q-Rl-L6NcTxdKco347Q63eK8Z3e5h-F', '/content/eeg/20211130-231131-sync2.bdf', '20211130-231131-sync2', '20211130-231131-syncs'],\n",
        "              ['16o9MNod2FHz3tplGv14a8vxNR8EVGfxx', '/content/eeg/20211130-231131-sync3.bdf', '20211130-231131-sync3', '20211130-231131-syncs'],\n",
        "              ['16oszc_L44xtZNOgBuEJtgSjwl1Pob825', '/content/eeg/20211130-231131-sync4.bdf', '20211130-231131-sync4', '20211130-231131-syncs']]\n",
        "\n",
        "for i in range(len(files_path)):\n",
        "#  gdd.download_file_from_google_drive(file_id=files_path[i][0], dest_path=files_path[i][1])\n",
        "  download_file_from_google_drive(file_id=files_path[i][0], dest_path=files_path[i][1])\n"
      ],
      "metadata": {
        "colab": {
          "base_uri": "https://localhost:8080/"
        },
        "id": "b2Seg16EKeUn",
        "outputId": "ada1851e-ed04-4200-8652-ce3f83edcfde"
      },
      "execution_count": 5,
      "outputs": [
        {
          "output_type": "stream",
          "name": "stdout",
          "text": [
            "Requirement already satisfied: gdown in ./env/lib/python3.7/site-packages (4.5.1)\n",
            "Requirement already satisfied: filelock in ./env/lib/python3.7/site-packages (from gdown) (3.6.0)\n",
            "Requirement already satisfied: tqdm in ./env/lib/python3.7/site-packages (from gdown) (4.62.2)\n",
            "Requirement already satisfied: six in ./env/lib/python3.7/site-packages (from gdown) (1.15.0)\n",
            "Requirement already satisfied: beautifulsoup4 in ./env/lib/python3.7/site-packages (from gdown) (4.11.1)\n",
            "Requirement already satisfied: requests[socks] in ./env/lib/python3.7/site-packages (from gdown) (2.26.0)\n",
            "Requirement already satisfied: soupsieve>1.2 in ./env/lib/python3.7/site-packages (from beautifulsoup4->gdown) (2.3.2.post1)\n",
            "Requirement already satisfied: certifi>=2017.4.17 in ./env/lib/python3.7/site-packages (from requests[socks]->gdown) (2021.5.30)\n",
            "Requirement already satisfied: charset-normalizer~=2.0.0 in ./env/lib/python3.7/site-packages (from requests[socks]->gdown) (2.0.5)\n",
            "Requirement already satisfied: idna<4,>=2.5 in ./env/lib/python3.7/site-packages (from requests[socks]->gdown) (3.2)\n",
            "Requirement already satisfied: urllib3<1.27,>=1.21.1 in ./env/lib/python3.7/site-packages (from requests[socks]->gdown) (1.26.6)\n",
            "Requirement already satisfied: PySocks!=1.5.7,>=1.5.6 in ./env/lib/python3.7/site-packages (from requests[socks]->gdown) (1.7.1)\n",
            "\u001b[33mWARNING: You are using pip version 21.2.4; however, version 22.1.2 is available.\n",
            "You should consider upgrading via the '/home/dmitryneuro/colab/env/bin/python3.7 -m pip install --upgrade pip' command.\u001b[0m\n"
          ]
        }
      ]
    },
    {
      "cell_type": "code",
      "source": [
        "!pip install mne==0.23.3\n",
        "\n",
        "import mne\n",
        "from mne import io"
      ],
      "metadata": {
        "colab": {
          "base_uri": "https://localhost:8080/"
        },
        "id": "ZRD8C00WnqCN",
        "outputId": "a6462a36-bb2f-4334-f70f-c3dcc771ffaa"
      },
      "execution_count": 6,
      "outputs": [
        {
          "output_type": "stream",
          "name": "stdout",
          "text": [
            "Requirement already satisfied: mne==0.23.3 in ./env/lib/python3.7/site-packages (0.23.3)\r\n",
            "Requirement already satisfied: scipy>=1.1.0 in ./env/lib/python3.7/site-packages (from mne==0.23.3) (1.7.1)\r\n",
            "Requirement already satisfied: numpy>=1.15.4 in ./env/lib/python3.7/site-packages (from mne==0.23.3) (1.19.5)\n",
            "\u001b[33mWARNING: You are using pip version 21.2.4; however, version 22.1.2 is available.\n",
            "You should consider upgrading via the '/home/dmitryneuro/colab/env/bin/python3.7 -m pip install --upgrade pip' command.\u001b[0m\n"
          ]
        }
      ]
    },
    {
      "cell_type": "code",
      "source": [
        "    ch_names = ['Fz','Fp1','F7','F3','T3','C3','T5','P3','O1','Pz','O2','P4','T6','C4','T4','F4','F8','Fp2']\n",
        "#    ch_names = ['Fp1','F7','F3','T3','C3','T5','P3','O1','Pz','O2','P4','T6','C4','T4','F4','F8','Fp2','Fz']\n",
        "#    ch_names = ['F4','F8','Fp2','Fz','Fp1','F7','F3','T3','C3','T5','P3','O1','Pz','O2','P4','T6','C4','T4']\n",
        "#    ch_names = ['Fp1','F7','F3','T3','C3','T5','P3','Pz','O1','O2','P4','T6','C4','T4','F4','F8','Fp2','Fz']\n",
        "#    ch_names = ['FP1','F7','F3','T3','C3','T5','P3','PZ','O1','O2','P4','T6','C4','T4','F4','F8','FP2','FZ']\n",
        "#    ch_names = ['O2','T6','T4','F8','FP2','F4','C4','P4','PZ','FZ','FP1','F3','C3','P3','O1','T5','T3','F7']\n",
        "\n",
        "    sfreq = 512 \n",
        "    ch_types=['eeg']*len(ch_names)\n",
        "    info = mne.create_info(ch_names = ch_names, sfreq = sfreq, ch_types=ch_types)\n",
        "    misc_ch_names = ['','']\n",
        "    \n",
        "\n",
        "\n",
        "\n"
      ],
      "metadata": {
        "id": "fEhuLJnIoPY6"
      },
      "execution_count": 7,
      "outputs": []
    },
    {
      "cell_type": "code",
      "source": [
        "    #if False:\n",
        "    input_fname=files_path[0][1]\n",
        "    input_fname_name=files_path[0][2]\n",
        "#    raw = io.read_raw_bdf(input_fname, eog=None, misc=None, stim_channel='auto', exclude=(), preload=False, verbose=None,include)\n",
        "    raw = io.read_raw_bdf(input_fname, eog=None, misc=None, stim_channel='auto', \n",
        "                          exclude=(), preload=False, verbose=True)\n"
      ],
      "metadata": {
        "colab": {
          "base_uri": "https://localhost:8080/"
        },
        "id": "CfpCy94znJ2b",
        "outputId": "de77c492-dd06-46c6-897e-a4794fbe0c24"
      },
      "execution_count": 8,
      "outputs": [
        {
          "output_type": "stream",
          "name": "stdout",
          "text": [
            "Extracting EDF parameters from /content/eeg/20211130-162023-sync1.bdf...\n",
            "BDF file detected\n",
            "Setting channel info structure...\n",
            "Creating raw.info structure...\n"
          ]
        }
      ]
    },
    {
      "cell_type": "code",
      "source": [
        "    input_fname_name=files_path[0][3]"
      ],
      "metadata": {
        "id": "U0pMDym27011"
      },
      "execution_count": 9,
      "outputs": []
    },
    {
      "cell_type": "code",
      "source": [
        "    input_fnames=[{}]*4\n",
        "    input_fnames[0]=files_path[0][1]\n",
        "    input_fnames[1]=files_path[1][1]\n",
        "    input_fnames[2]=files_path[2][1]\n",
        "    input_fnames[3]=files_path[3][1]\n",
        "    input_fname_names=[{}]*4\n",
        "    input_fname_names[0]=files_path[0][2]\n",
        "    input_fname_names[1]=files_path[1][2]\n",
        "    input_fname_names[2]=files_path[2][2]\n",
        "    input_fname_names[3]=files_path[3][2]\n",
        "#    raw = io.read_raw_bdf(input_fname, eog=None, misc=None, stim_channel='auto', exclude=(), preload=False, verbose=None,include)\n",
        "    raws=[{}]*4\n",
        "    raws[0] = io.read_raw_bdf(input_fnames[0], eog=None, misc=None, stim_channel='auto', \n",
        "                          exclude=(), preload=False, verbose=True)\n",
        "    raws[1] = io.read_raw_bdf(input_fnames[1], eog=None, misc=None, stim_channel='auto', \n",
        "                          exclude=(), preload=False, verbose=True)\n",
        "    raws[2] = io.read_raw_bdf(input_fnames[2], eog=None, misc=None, stim_channel='auto', \n",
        "                          exclude=(), preload=False, verbose=True)\n",
        "    raws[3] = io.read_raw_bdf(input_fnames[3], eog=None, misc=None, stim_channel='auto', \n",
        "                          exclude=(), preload=False, verbose=True)\n",
        "    "
      ],
      "metadata": {
        "colab": {
          "base_uri": "https://localhost:8080/"
        },
        "id": "oS4lqupRUFAB",
        "outputId": "3b9e53c2-ce9a-4140-9e4b-6ce9084db863"
      },
      "execution_count": 10,
      "outputs": [
        {
          "output_type": "stream",
          "name": "stdout",
          "text": [
            "Extracting EDF parameters from /content/eeg/20211130-162023-sync1.bdf...\n",
            "BDF file detected\n",
            "Setting channel info structure...\n",
            "Creating raw.info structure...\n",
            "Extracting EDF parameters from /content/eeg/20211130-162023-sync2.bdf...\n",
            "BDF file detected\n",
            "Setting channel info structure...\n",
            "Creating raw.info structure...\n",
            "Extracting EDF parameters from /content/eeg/20211130-162023-sync3.bdf...\n",
            "BDF file detected\n",
            "Setting channel info structure...\n",
            "Creating raw.info structure...\n",
            "Extracting EDF parameters from /content/eeg/20211130-162023-sync4.bdf...\n",
            "BDF file detected\n",
            "Setting channel info structure...\n",
            "Creating raw.info structure...\n"
          ]
        }
      ]
    },
    {
      "cell_type": "code",
      "source": [
        "raw_picks=[{}]*4\n",
        "raw_picks[0] = raws[0].pick(ch_names)\n",
        "raw_picks[1] = raws[1].pick(ch_names)\n",
        "raw_picks[2] = raws[2].pick(ch_names)\n",
        "raw_picks[3] = raws[3].pick(ch_names)\n"
      ],
      "metadata": {
        "id": "PgQyhwLB2EO0"
      },
      "execution_count": 11,
      "outputs": []
    },
    {
      "cell_type": "code",
      "source": [
        "raw_picks[0].ch_names"
      ],
      "metadata": {
        "colab": {
          "base_uri": "https://localhost:8080/"
        },
        "id": "PqNWDr0t2YmB",
        "outputId": "35935db6-caba-4a9c-a1cb-30006c1706b9"
      },
      "execution_count": 12,
      "outputs": [
        {
          "output_type": "execute_result",
          "data": {
            "text/plain": [
              "['Fz',\n",
              " 'Fp1',\n",
              " 'F7',\n",
              " 'F3',\n",
              " 'T3',\n",
              " 'C3',\n",
              " 'T5',\n",
              " 'P3',\n",
              " 'O1',\n",
              " 'Pz',\n",
              " 'O2',\n",
              " 'P4',\n",
              " 'T6',\n",
              " 'C4',\n",
              " 'T4',\n",
              " 'F4',\n",
              " 'F8',\n",
              " 'Fp2']"
            ]
          },
          "metadata": {},
          "execution_count": 12
        }
      ]
    },
    {
      "cell_type": "code",
      "source": [
        "!pip install mne==0.23.3\n",
        "!pip install pandas\n",
        "!pip install matplotlib\n",
        "\n",
        "import mne\n",
        "from mne import io\n",
        "from mne.datasets import sample\n",
        "from mne.minimum_norm import read_inverse_operator, compute_source_psd\n",
        "\n",
        "from mne.connectivity import spectral_connectivity, seed_target_indices\n",
        "\n",
        "import pandas as pd\n",
        "import numpy as np\n"
      ],
      "metadata": {
        "colab": {
          "base_uri": "https://localhost:8080/"
        },
        "id": "bx0lLwzRKyhX",
        "outputId": "4405ce27-b280-4a84-b9d1-ffa15b945f9f"
      },
      "execution_count": 14,
      "outputs": [
        {
          "output_type": "stream",
          "name": "stdout",
          "text": [
            "Requirement already satisfied: mne==0.23.3 in ./env/lib/python3.7/site-packages (0.23.3)\r\n",
            "Requirement already satisfied: scipy>=1.1.0 in ./env/lib/python3.7/site-packages (from mne==0.23.3) (1.7.1)\r\n",
            "Requirement already satisfied: numpy>=1.15.4 in ./env/lib/python3.7/site-packages (from mne==0.23.3) (1.19.5)\n",
            "\u001b[33mWARNING: You are using pip version 21.2.4; however, version 22.1.2 is available.\n",
            "You should consider upgrading via the '/home/dmitryneuro/colab/env/bin/python3.7 -m pip install --upgrade pip' command.\u001b[0m\n",
            "Requirement already satisfied: pandas in ./env/lib/python3.7/site-packages (1.3.5)\n",
            "Requirement already satisfied: python-dateutil>=2.7.3 in ./env/lib/python3.7/site-packages (from pandas) (2.8.2)\n",
            "Requirement already satisfied: pytz>=2017.3 in ./env/lib/python3.7/site-packages (from pandas) (2021.1)\n",
            "Requirement already satisfied: numpy>=1.17.3 in ./env/lib/python3.7/site-packages (from pandas) (1.19.5)\n",
            "Requirement already satisfied: six>=1.5 in ./env/lib/python3.7/site-packages (from python-dateutil>=2.7.3->pandas) (1.15.0)\n",
            "\u001b[33mWARNING: You are using pip version 21.2.4; however, version 22.1.2 is available.\n",
            "You should consider upgrading via the '/home/dmitryneuro/colab/env/bin/python3.7 -m pip install --upgrade pip' command.\u001b[0m\n",
            "Requirement already satisfied: matplotlib in ./env/lib/python3.7/site-packages (3.4.3)\n",
            "Requirement already satisfied: numpy>=1.16 in ./env/lib/python3.7/site-packages (from matplotlib) (1.19.5)\n",
            "Requirement already satisfied: cycler>=0.10 in ./env/lib/python3.7/site-packages (from matplotlib) (0.10.0)\n",
            "Requirement already satisfied: python-dateutil>=2.7 in ./env/lib/python3.7/site-packages (from matplotlib) (2.8.2)\n",
            "Requirement already satisfied: kiwisolver>=1.0.1 in ./env/lib/python3.7/site-packages (from matplotlib) (1.3.2)\n",
            "Requirement already satisfied: pyparsing>=2.2.1 in ./env/lib/python3.7/site-packages (from matplotlib) (2.4.7)\n",
            "Requirement already satisfied: pillow>=6.2.0 in ./env/lib/python3.7/site-packages (from matplotlib) (8.3.2)\n",
            "Requirement already satisfied: six in ./env/lib/python3.7/site-packages (from cycler>=0.10->matplotlib) (1.15.0)\n",
            "\u001b[33mWARNING: You are using pip version 21.2.4; however, version 22.1.2 is available.\n",
            "You should consider upgrading via the '/home/dmitryneuro/colab/env/bin/python3.7 -m pip install --upgrade pip' command.\u001b[0m\n"
          ]
        }
      ]
    },
    {
      "cell_type": "code",
      "source": [
        "raws_for_hstack=[{}]*4\n",
        "raws_for_hstack[0] = raw_picks[0][:][0]\n",
        "raws_for_hstack[1] = raw_picks[1][:][0]\n",
        "raws_for_hstack[2] = raw_picks[2][:][0]\n",
        "raws_for_hstack[3] = raw_picks[3][:][0]\n",
        "\n",
        "raws_vstack = np.vstack(raws_for_hstack)\n"
      ],
      "metadata": {
        "id": "ry52ahRqxOtd"
      },
      "execution_count": 15,
      "outputs": []
    },
    {
      "cell_type": "code",
      "source": [
        "len(raws[0][:][0])"
      ],
      "metadata": {
        "colab": {
          "base_uri": "https://localhost:8080/"
        },
        "id": "75brfCDpyv8Z",
        "outputId": "8bb098ec-43b4-4ccf-fd30-3731c1fc8684"
      },
      "execution_count": 16,
      "outputs": [
        {
          "output_type": "execute_result",
          "data": {
            "text/plain": [
              "18"
            ]
          },
          "metadata": {},
          "execution_count": 16
        }
      ]
    },
    {
      "cell_type": "code",
      "source": [
        "len(raws_vstack)"
      ],
      "metadata": {
        "colab": {
          "base_uri": "https://localhost:8080/"
        },
        "id": "CxYPCvuxxYNP",
        "outputId": "e4070b90-919a-4eaa-fb72-43c9720a2c7a"
      },
      "execution_count": 17,
      "outputs": [
        {
          "output_type": "execute_result",
          "data": {
            "text/plain": [
              "72"
            ]
          },
          "metadata": {},
          "execution_count": 17
        }
      ]
    },
    {
      "cell_type": "code",
      "source": [
        "raws_vstack"
      ],
      "metadata": {
        "colab": {
          "base_uri": "https://localhost:8080/"
        },
        "id": "ogj5ZhHg1pZ-",
        "outputId": "130dbcaf-abba-45f9-fc37-40049525c349"
      },
      "execution_count": 18,
      "outputs": [
        {
          "output_type": "execute_result",
          "data": {
            "text/plain": [
              "array([[-3.27718844e-01, -3.27722718e-01, -3.27682008e-01, ...,\n",
              "         2.98023242e-08,  2.98023242e-08,  2.98023242e-08],\n",
              "       [-3.69788401e-01, -3.69862847e-01, -3.69910709e-01, ...,\n",
              "         2.98023242e-08,  2.98023242e-08,  2.98023242e-08],\n",
              "       [-4.27928503e-01, -4.27981194e-01, -4.28003664e-01, ...,\n",
              "         2.98023242e-08,  2.98023242e-08,  2.98023242e-08],\n",
              "       ...,\n",
              "       [-2.89553749e-01, -2.89524900e-01, -2.89482998e-01, ...,\n",
              "         2.98023242e-08,  2.98023242e-08,  2.98023242e-08],\n",
              "       [-3.04018724e-01, -3.04014671e-01, -3.03991246e-01, ...,\n",
              "         2.98023242e-08,  2.98023242e-08,  2.98023242e-08],\n",
              "       [-4.18650324e-01, -4.18624217e-01, -4.18582196e-01, ...,\n",
              "         2.98023242e-08,  2.98023242e-08,  2.98023242e-08]])"
            ]
          },
          "metadata": {},
          "execution_count": 18
        }
      ]
    },
    {
      "cell_type": "code",
      "source": [
        "ch_names_syncs=[{}]*4\n",
        "syncs=[{}]*4\n",
        "syncs[0]=['sync1']*len(ch_names)\n",
        "syncs[1]=['sync2']*len(ch_names)\n",
        "syncs[2]=['sync3']*len(ch_names)\n",
        "syncs[3]=['sync4']*len(ch_names)\n",
        "\n",
        "ch_names_syncs[0] = [syncs[0][i] + '_' + ch_names[i] for i in range(len(ch_names))]\n",
        "ch_names_syncs[1] = [syncs[1][i] + '_' + ch_names[i] for i in range(len(ch_names))]\n",
        "ch_names_syncs[2] = [syncs[2][i] + '_' + ch_names[i] for i in range(len(ch_names))]\n",
        "ch_names_syncs[3] = [syncs[3][i] + '_' + ch_names[i] for i in range(len(ch_names))]\n"
      ],
      "metadata": {
        "id": "nBGSUi4ezQC_"
      },
      "execution_count": 19,
      "outputs": []
    },
    {
      "cell_type": "code",
      "source": [
        "ch_names_sync=ch_names_syncs[0]+ch_names_syncs[1]+ch_names_syncs[2]+ch_names_syncs[3]"
      ],
      "metadata": {
        "id": "Jp6GENPyzYpd"
      },
      "execution_count": 20,
      "outputs": []
    },
    {
      "cell_type": "code",
      "source": [
        "ch_names_sync"
      ],
      "metadata": {
        "colab": {
          "base_uri": "https://localhost:8080/"
        },
        "id": "GLAsgleA1ANJ",
        "outputId": "b0360be9-560d-4a1c-b342-94cf8364e939"
      },
      "execution_count": 21,
      "outputs": [
        {
          "output_type": "execute_result",
          "data": {
            "text/plain": [
              "['sync1_Fz',\n",
              " 'sync1_Fp1',\n",
              " 'sync1_F7',\n",
              " 'sync1_F3',\n",
              " 'sync1_T3',\n",
              " 'sync1_C3',\n",
              " 'sync1_T5',\n",
              " 'sync1_P3',\n",
              " 'sync1_O1',\n",
              " 'sync1_Pz',\n",
              " 'sync1_O2',\n",
              " 'sync1_P4',\n",
              " 'sync1_T6',\n",
              " 'sync1_C4',\n",
              " 'sync1_T4',\n",
              " 'sync1_F4',\n",
              " 'sync1_F8',\n",
              " 'sync1_Fp2',\n",
              " 'sync2_Fz',\n",
              " 'sync2_Fp1',\n",
              " 'sync2_F7',\n",
              " 'sync2_F3',\n",
              " 'sync2_T3',\n",
              " 'sync2_C3',\n",
              " 'sync2_T5',\n",
              " 'sync2_P3',\n",
              " 'sync2_O1',\n",
              " 'sync2_Pz',\n",
              " 'sync2_O2',\n",
              " 'sync2_P4',\n",
              " 'sync2_T6',\n",
              " 'sync2_C4',\n",
              " 'sync2_T4',\n",
              " 'sync2_F4',\n",
              " 'sync2_F8',\n",
              " 'sync2_Fp2',\n",
              " 'sync3_Fz',\n",
              " 'sync3_Fp1',\n",
              " 'sync3_F7',\n",
              " 'sync3_F3',\n",
              " 'sync3_T3',\n",
              " 'sync3_C3',\n",
              " 'sync3_T5',\n",
              " 'sync3_P3',\n",
              " 'sync3_O1',\n",
              " 'sync3_Pz',\n",
              " 'sync3_O2',\n",
              " 'sync3_P4',\n",
              " 'sync3_T6',\n",
              " 'sync3_C4',\n",
              " 'sync3_T4',\n",
              " 'sync3_F4',\n",
              " 'sync3_F8',\n",
              " 'sync3_Fp2',\n",
              " 'sync4_Fz',\n",
              " 'sync4_Fp1',\n",
              " 'sync4_F7',\n",
              " 'sync4_F3',\n",
              " 'sync4_T3',\n",
              " 'sync4_C3',\n",
              " 'sync4_T5',\n",
              " 'sync4_P3',\n",
              " 'sync4_O1',\n",
              " 'sync4_Pz',\n",
              " 'sync4_O2',\n",
              " 'sync4_P4',\n",
              " 'sync4_T6',\n",
              " 'sync4_C4',\n",
              " 'sync4_T4',\n",
              " 'sync4_F4',\n",
              " 'sync4_F8',\n",
              " 'sync4_Fp2']"
            ]
          },
          "metadata": {},
          "execution_count": 21
        }
      ]
    },
    {
      "cell_type": "code",
      "source": [
        "ch_names = ch_names_sync"
      ],
      "metadata": {
        "id": "8Ik9XMVn3VUi"
      },
      "execution_count": 22,
      "outputs": []
    },
    {
      "cell_type": "code",
      "source": [
        "    sfreq = 512 \n",
        "    ch_types=['eeg']*len(ch_names_sync)\n",
        "    info = mne.create_info(ch_names = ch_names_sync, sfreq = sfreq, ch_types=ch_types)\n",
        "    #info = mne.create_info(sfreq = sfreq)\n",
        "    raw_sync = mne.io.RawArray(raws_vstack, info)"
      ],
      "metadata": {
        "colab": {
          "base_uri": "https://localhost:8080/"
        },
        "id": "W09_G91YzGOD",
        "outputId": "74c9398f-86b8-4549-ca0d-6c5cba36e297"
      },
      "execution_count": 23,
      "outputs": [
        {
          "output_type": "stream",
          "name": "stdout",
          "text": [
            "Creating RawArray with float64 data, n_channels=72, n_times=1213440\n",
            "    Range : 0 ... 1213439 =      0.000 ...  2369.998 secs\n",
            "Ready.\n"
          ]
        }
      ]
    },
    {
      "cell_type": "code",
      "source": [
        "raw.get_data"
      ],
      "metadata": {
        "colab": {
          "base_uri": "https://localhost:8080/"
        },
        "id": "ZW9gTH6VdR7t",
        "outputId": "ca44dcc7-e6c5-4054-e949-80b68c120ce3"
      },
      "execution_count": 24,
      "outputs": [
        {
          "output_type": "execute_result",
          "data": {
            "text/plain": [
              "<bound method get_data of <RawEDF | 20211130-162023-sync1.bdf, 22 x 1213440 (2370.0 s), ~26 kB, data not loaded>>"
            ]
          },
          "metadata": {},
          "execution_count": 24
        }
      ]
    },
    {
      "cell_type": "code",
      "source": [
        "raw = raw_sync"
      ],
      "metadata": {
        "id": "dGZAasoI6Z_f"
      },
      "execution_count": 25,
      "outputs": []
    },
    {
      "cell_type": "code",
      "source": [
        "raw.info"
      ],
      "metadata": {
        "colab": {
          "base_uri": "https://localhost:8080/",
          "height": 254
        },
        "id": "fK2JhDafr1rb",
        "outputId": "f380a679-118e-4086-8400-9192f3df5876"
      },
      "execution_count": 26,
      "outputs": [
        {
          "output_type": "execute_result",
          "data": {
            "text/plain": [
              "<Info | 7 non-empty values\n",
              " bads: []\n",
              " ch_names: sync1_Fz, sync1_Fp1, sync1_F7, sync1_F3, sync1_T3, sync1_C3, ...\n",
              " chs: 72 EEG\n",
              " custom_ref_applied: False\n",
              " highpass: 0.0 Hz\n",
              " lowpass: 256.0 Hz\n",
              " meas_date: unspecified\n",
              " nchan: 72\n",
              " projs: []\n",
              " sfreq: 512.0 Hz\n",
              ">"
            ],
            "text/html": [
              "\n",
              "<table class=\"table table-hover\">\n",
              "    <tr>\n",
              "        <th>Measurement date</th>\n",
              "<td>Unknown</td>\n",
              "    </tr>\n",
              "    <tr>\n",
              "        <th>Experimenter</th>\n",
              "<td>Unknown</td>\n",
              "    </tr>\n",
              "        <th>Participant</th>\n",
              "<td>Unknown</td>\n",
              "    </tr>\n",
              "    <tr>\n",
              "        <th>Digitized points</th>\n",
              "        <td>Not available</td>\n",
              "    </tr>\n",
              "    <tr>\n",
              "        <th>Good channels</th>\n",
              "        <td>0 magnetometer, 0 gradiometer,\n",
              "            and 72 EEG channels</td>\n",
              "    </tr>\n",
              "    <tr>\n",
              "        <th>Bad channels</th>\n",
              "        <td></td>\n",
              "        \n",
              "    </tr>\n",
              "    <tr>\n",
              "        <th>EOG channels</th>\n",
              "        <td>Not available</td>\n",
              "    </tr>\n",
              "    <tr>\n",
              "        <th>ECG channels</th>\n",
              "        <td>Not available</td>\n",
              "    <tr>\n",
              "        <th>Sampling frequency</th>\n",
              "        <td>512.00 Hz</td>\n",
              "    </tr>\n",
              "    <tr>\n",
              "        <th>Highpass</th>\n",
              "        <td>0.00 Hz</td>\n",
              "    </tr>\n",
              "     <tr>\n",
              "        <th>Lowpass</th>\n",
              "        <td>256.00 Hz</td>\n",
              "    </tr>\n",
              "</table>\n"
            ]
          },
          "metadata": {},
          "execution_count": 26
        }
      ]
    },
    {
      "cell_type": "code",
      "source": [
        "  !pip install Pillow\n",
        "  import PIL.Image \n",
        "  !pip install tqdm\n",
        "  from tqdm import tqdm\n",
        "  !pip install imageio==2.4.1\n",
        "  !pip install imageio-ffmpeg==0.4.3 pyspng==0.1.0\n"
      ],
      "metadata": {
        "colab": {
          "base_uri": "https://localhost:8080/"
        },
        "id": "MWg6MXegKmy4",
        "outputId": "baa526d7-050e-4984-a757-dc62b74bb3f5"
      },
      "execution_count": 27,
      "outputs": [
        {
          "output_type": "stream",
          "name": "stdout",
          "text": [
            "Requirement already satisfied: Pillow in ./env/lib/python3.7/site-packages (8.3.2)\n",
            "\u001b[33mWARNING: You are using pip version 21.2.4; however, version 22.1.2 is available.\n",
            "You should consider upgrading via the '/home/dmitryneuro/colab/env/bin/python3.7 -m pip install --upgrade pip' command.\u001b[0m\n",
            "Requirement already satisfied: tqdm in ./env/lib/python3.7/site-packages (4.62.2)\n",
            "\u001b[33mWARNING: You are using pip version 21.2.4; however, version 22.1.2 is available.\n",
            "You should consider upgrading via the '/home/dmitryneuro/colab/env/bin/python3.7 -m pip install --upgrade pip' command.\u001b[0m\n",
            "Requirement already satisfied: imageio==2.4.1 in ./env/lib/python3.7/site-packages (2.4.1)\n",
            "Requirement already satisfied: numpy in ./env/lib/python3.7/site-packages (from imageio==2.4.1) (1.19.5)\n",
            "Requirement already satisfied: pillow in ./env/lib/python3.7/site-packages (from imageio==2.4.1) (8.3.2)\n",
            "\u001b[33mWARNING: You are using pip version 21.2.4; however, version 22.1.2 is available.\n",
            "You should consider upgrading via the '/home/dmitryneuro/colab/env/bin/python3.7 -m pip install --upgrade pip' command.\u001b[0m\n",
            "Requirement already satisfied: imageio-ffmpeg==0.4.3 in ./env/lib/python3.7/site-packages (0.4.3)\n",
            "Requirement already satisfied: pyspng==0.1.0 in ./env/lib/python3.7/site-packages (0.1.0)\n",
            "Requirement already satisfied: numpy in ./env/lib/python3.7/site-packages (from pyspng==0.1.0) (1.19.5)\n",
            "\u001b[33mWARNING: You are using pip version 21.2.4; however, version 22.1.2 is available.\n",
            "You should consider upgrading via the '/home/dmitryneuro/colab/env/bin/python3.7 -m pip install --upgrade pip' command.\u001b[0m\n"
          ]
        }
      ]
    },
    {
      "cell_type": "code",
      "source": [
        "!mkdir '/content/out'\n"
      ],
      "metadata": {
        "colab": {
          "base_uri": "https://localhost:8080/"
        },
        "id": "tQZGTTYGKuao",
        "outputId": "92b9a807-f813-4b71-a61f-24aac8d1d001"
      },
      "execution_count": 28,
      "outputs": [
        {
          "output_type": "stream",
          "name": "stdout",
          "text": [
            "mkdir: cannot create directory ‘/content/out’: File exists\r\n"
          ]
        }
      ]
    },
    {
      "cell_type": "code",
      "source": [
        "if False:\n",
        "    key = 0\n",
        "    idx = 0\n",
        "\n",
        "    data_path = '/content/eeg'\n",
        "    #raw_fname = data_path + '/record-[2019.11.13-22.23.59].gdf'\n",
        "    #raw = mne.io.read_raw_gdf(raw_fname, preload=True)\n",
        "\n",
        "    path = data_path\n",
        "\n",
        "    ch_names = ['FP1','AF3','F7','F3','FC1','FC5','T7','C3','CP1','CP5','P7','P3','Pz','PO3','O1','Oz','O2','PO4','P4','P8','CP6','CP2','C4','T8','FC6','FC2','F4','F8','AF4','FP2','Fz','Cz']\n",
        "    data = pd.read_csv(path + '/record-[2019.11.13-22.23.59].csv', skiprows=0, usecols=ch_names, header=0, delimiter=';') \n",
        "    \n",
        "    #ch_names = ['FP1','F3','P3','O1','O2','P4','F4','FP2']\n",
        "    #data = pd.read_csv(path + '/record-[2020.06.28-14.26.09].csv', skiprows=0, usecols=ch_names, header=0, delimiter=';') \n",
        "    \n",
        "    #data = pd.read_csv(path + '/record-[2020.06.28-00.36.11].csv', skiprows=0, usecols=ch_names, header=0, delimiter=';') \n",
        "    #data = pd.read_csv(path + '/record-[2020.06.29-19.49.23].csv', skiprows=0, usecols=ch_names, header=0, delimiter=';') \n",
        "    \n",
        "    #print(data)\n",
        "    data_transpose=np.transpose(data)\n",
        "\n",
        "    sfreq = 512 \n",
        "    ch_types=['eeg']*len(ch_names)\n",
        "    info = mne.create_info(ch_names = ch_names, sfreq = sfreq, ch_types=ch_types)\n",
        "    #info = mne.create_info(sfreq = sfreq)\n",
        "    raw = mne.io.RawArray(data_transpose, info)\n",
        "    #raw.plot()\n",
        "    \n",
        "    input_fname=files_path[0][1]\n",
        "    mne.io.read_raw_bdf(input_fname, eog=None, misc=None, stim_channel='auto', exclude=(), infer_types=False, include=None, preload=False, verbose=None)\n",
        "\n",
        "    # Setup for reading the raw data\n",
        "    #raw = io.read_raw_fif(raw_fname, verbose=False)\n",
        "    #events = mne.find_events(raw, stim_channel='STI 014')\n",
        "    #inverse_operator = read_inverse_operator(fname_inv)\n",
        "    #raw.info['bads'] = ['MEG 2443', 'EEG 053']\n",
        "\n",
        "    # picks MEG gradiometers\n",
        "    #picks = mne.pick_types(raw.info, meg=False, eeg=True, eog=False, stim=False)\n",
        "    picks = ch_names"
      ],
      "metadata": {
        "id": "9nNDkdqvbtpx"
      },
      "execution_count": 29,
      "outputs": []
    },
    {
      "cell_type": "code",
      "source": [
        "raw[:][0]"
      ],
      "metadata": {
        "colab": {
          "base_uri": "https://localhost:8080/"
        },
        "id": "UzunPuONwhFp",
        "outputId": "4994ad03-605b-4126-96e2-ce56094a262d"
      },
      "execution_count": 30,
      "outputs": [
        {
          "output_type": "execute_result",
          "data": {
            "text/plain": [
              "array([[-3.27718844e-01, -3.27722718e-01, -3.27682008e-01, ...,\n",
              "         2.98023242e-08,  2.98023242e-08,  2.98023242e-08],\n",
              "       [-3.69788401e-01, -3.69862847e-01, -3.69910709e-01, ...,\n",
              "         2.98023242e-08,  2.98023242e-08,  2.98023242e-08],\n",
              "       [-4.27928503e-01, -4.27981194e-01, -4.28003664e-01, ...,\n",
              "         2.98023242e-08,  2.98023242e-08,  2.98023242e-08],\n",
              "       ...,\n",
              "       [-2.89553749e-01, -2.89524900e-01, -2.89482998e-01, ...,\n",
              "         2.98023242e-08,  2.98023242e-08,  2.98023242e-08],\n",
              "       [-3.04018724e-01, -3.04014671e-01, -3.03991246e-01, ...,\n",
              "         2.98023242e-08,  2.98023242e-08,  2.98023242e-08],\n",
              "       [-4.18650324e-01, -4.18624217e-01, -4.18582196e-01, ...,\n",
              "         2.98023242e-08,  2.98023242e-08,  2.98023242e-08]])"
            ]
          },
          "metadata": {},
          "execution_count": 30
        }
      ]
    },
    {
      "cell_type": "code",
      "source": [
        "raw1 = mne.io.RawArray(raw[:][0], info)"
      ],
      "metadata": {
        "colab": {
          "base_uri": "https://localhost:8080/"
        },
        "id": "Zf17OUtMwi95",
        "outputId": "8a7827dd-035f-41ed-e58b-1f979f0df0f1"
      },
      "execution_count": 31,
      "outputs": [
        {
          "output_type": "stream",
          "name": "stdout",
          "text": [
            "Creating RawArray with float64 data, n_channels=72, n_times=1213440\n",
            "    Range : 0 ... 1213439 =      0.000 ...  2369.998 secs\n",
            "Ready.\n"
          ]
        }
      ]
    },
    {
      "cell_type": "code",
      "source": [
        "raw1.info"
      ],
      "metadata": {
        "colab": {
          "base_uri": "https://localhost:8080/",
          "height": 254
        },
        "id": "DMZrbslVwloM",
        "outputId": "f1ecbee3-8f68-46ef-a103-dada37489035"
      },
      "execution_count": 32,
      "outputs": [
        {
          "output_type": "execute_result",
          "data": {
            "text/plain": [
              "<Info | 7 non-empty values\n",
              " bads: []\n",
              " ch_names: sync1_Fz, sync1_Fp1, sync1_F7, sync1_F3, sync1_T3, sync1_C3, ...\n",
              " chs: 72 EEG\n",
              " custom_ref_applied: False\n",
              " highpass: 0.0 Hz\n",
              " lowpass: 256.0 Hz\n",
              " meas_date: unspecified\n",
              " nchan: 72\n",
              " projs: []\n",
              " sfreq: 512.0 Hz\n",
              ">"
            ],
            "text/html": [
              "\n",
              "<table class=\"table table-hover\">\n",
              "    <tr>\n",
              "        <th>Measurement date</th>\n",
              "<td>Unknown</td>\n",
              "    </tr>\n",
              "    <tr>\n",
              "        <th>Experimenter</th>\n",
              "<td>Unknown</td>\n",
              "    </tr>\n",
              "        <th>Participant</th>\n",
              "<td>Unknown</td>\n",
              "    </tr>\n",
              "    <tr>\n",
              "        <th>Digitized points</th>\n",
              "        <td>Not available</td>\n",
              "    </tr>\n",
              "    <tr>\n",
              "        <th>Good channels</th>\n",
              "        <td>0 magnetometer, 0 gradiometer,\n",
              "            and 72 EEG channels</td>\n",
              "    </tr>\n",
              "    <tr>\n",
              "        <th>Bad channels</th>\n",
              "        <td></td>\n",
              "        \n",
              "    </tr>\n",
              "    <tr>\n",
              "        <th>EOG channels</th>\n",
              "        <td>Not available</td>\n",
              "    </tr>\n",
              "    <tr>\n",
              "        <th>ECG channels</th>\n",
              "        <td>Not available</td>\n",
              "    <tr>\n",
              "        <th>Sampling frequency</th>\n",
              "        <td>512.00 Hz</td>\n",
              "    </tr>\n",
              "    <tr>\n",
              "        <th>Highpass</th>\n",
              "        <td>0.00 Hz</td>\n",
              "    </tr>\n",
              "     <tr>\n",
              "        <th>Lowpass</th>\n",
              "        <td>256.00 Hz</td>\n",
              "    </tr>\n",
              "</table>\n"
            ]
          },
          "metadata": {},
          "execution_count": 32
        }
      ]
    },
    {
      "cell_type": "code",
      "source": [
        "#raw#"
      ],
      "metadata": {
        "colab": {
          "base_uri": "https://localhost:8080/",
          "height": 617
        },
        "id": "Njw3NxUEwr3p",
        "outputId": "7a4ead3a-c1b7-48ea-c713-07f3fa7b3873"
      },
      "execution_count": 33,
      "outputs": [
        {
          "output_type": "error",
          "ename": "TypeError",
          "evalue": "ignored",
          "traceback": [
            "\u001b[0;31m---------------------------------------------------------------------------\u001b[0m",
            "\u001b[0;31mTypeError\u001b[0m                                 Traceback (most recent call last)",
            "\u001b[0;32m~/colab/env/lib/python3.7/site-packages/IPython/core/formatters.py\u001b[0m in \u001b[0;36m__call__\u001b[0;34m(self, obj)\u001b[0m\n\u001b[1;32m    343\u001b[0m             \u001b[0mmethod\u001b[0m \u001b[0;34m=\u001b[0m \u001b[0mget_real_method\u001b[0m\u001b[0;34m(\u001b[0m\u001b[0mobj\u001b[0m\u001b[0;34m,\u001b[0m \u001b[0mself\u001b[0m\u001b[0;34m.\u001b[0m\u001b[0mprint_method\u001b[0m\u001b[0;34m)\u001b[0m\u001b[0;34m\u001b[0m\u001b[0;34m\u001b[0m\u001b[0m\n\u001b[1;32m    344\u001b[0m             \u001b[0;32mif\u001b[0m \u001b[0mmethod\u001b[0m \u001b[0;32mis\u001b[0m \u001b[0;32mnot\u001b[0m \u001b[0;32mNone\u001b[0m\u001b[0;34m:\u001b[0m\u001b[0;34m\u001b[0m\u001b[0;34m\u001b[0m\u001b[0m\n\u001b[0;32m--> 345\u001b[0;31m                 \u001b[0;32mreturn\u001b[0m \u001b[0mmethod\u001b[0m\u001b[0;34m(\u001b[0m\u001b[0;34m)\u001b[0m\u001b[0;34m\u001b[0m\u001b[0;34m\u001b[0m\u001b[0m\n\u001b[0m\u001b[1;32m    346\u001b[0m             \u001b[0;32mreturn\u001b[0m \u001b[0;32mNone\u001b[0m\u001b[0;34m\u001b[0m\u001b[0;34m\u001b[0m\u001b[0m\n\u001b[1;32m    347\u001b[0m         \u001b[0;32melse\u001b[0m\u001b[0;34m:\u001b[0m\u001b[0;34m\u001b[0m\u001b[0;34m\u001b[0m\u001b[0m\n",
            "\u001b[0;32m~/colab/env/lib/python3.7/site-packages/mne/io/base.py\u001b[0m in \u001b[0;36m_repr_html_\u001b[0;34m(self, caption)\u001b[0m\n\u001b[1;32m   1761\u001b[0m \u001b[0;34m\u001b[0m\u001b[0m\n\u001b[1;32m   1762\u001b[0m     \u001b[0;32mdef\u001b[0m \u001b[0m_repr_html_\u001b[0m\u001b[0;34m(\u001b[0m\u001b[0mself\u001b[0m\u001b[0;34m,\u001b[0m \u001b[0mcaption\u001b[0m\u001b[0;34m=\u001b[0m\u001b[0;32mNone\u001b[0m\u001b[0;34m)\u001b[0m\u001b[0;34m:\u001b[0m\u001b[0;34m\u001b[0m\u001b[0;34m\u001b[0m\u001b[0m\n\u001b[0;32m-> 1763\u001b[0;31m         \u001b[0mbasenames\u001b[0m \u001b[0;34m=\u001b[0m \u001b[0;34m[\u001b[0m\u001b[0mos\u001b[0m\u001b[0;34m.\u001b[0m\u001b[0mpath\u001b[0m\u001b[0;34m.\u001b[0m\u001b[0mbasename\u001b[0m\u001b[0;34m(\u001b[0m\u001b[0mf\u001b[0m\u001b[0;34m)\u001b[0m \u001b[0;32mfor\u001b[0m \u001b[0mf\u001b[0m \u001b[0;32min\u001b[0m \u001b[0mself\u001b[0m\u001b[0;34m.\u001b[0m\u001b[0m_filenames\u001b[0m\u001b[0;34m]\u001b[0m\u001b[0;34m\u001b[0m\u001b[0;34m\u001b[0m\u001b[0m\n\u001b[0m\u001b[1;32m   1764\u001b[0m         \u001b[0mm\u001b[0m\u001b[0;34m,\u001b[0m \u001b[0ms\u001b[0m \u001b[0;34m=\u001b[0m \u001b[0mdivmod\u001b[0m\u001b[0;34m(\u001b[0m\u001b[0mself\u001b[0m\u001b[0;34m.\u001b[0m\u001b[0m_last_time\u001b[0m \u001b[0;34m-\u001b[0m \u001b[0mself\u001b[0m\u001b[0;34m.\u001b[0m\u001b[0mfirst_time\u001b[0m\u001b[0;34m,\u001b[0m \u001b[0;36m60\u001b[0m\u001b[0;34m)\u001b[0m\u001b[0;34m\u001b[0m\u001b[0;34m\u001b[0m\u001b[0m\n\u001b[1;32m   1765\u001b[0m         \u001b[0mh\u001b[0m\u001b[0;34m,\u001b[0m \u001b[0mm\u001b[0m \u001b[0;34m=\u001b[0m \u001b[0mdivmod\u001b[0m\u001b[0;34m(\u001b[0m\u001b[0mm\u001b[0m\u001b[0;34m,\u001b[0m \u001b[0;36m60\u001b[0m\u001b[0;34m)\u001b[0m\u001b[0;34m\u001b[0m\u001b[0;34m\u001b[0m\u001b[0m\n",
            "\u001b[0;32m~/colab/env/lib/python3.7/site-packages/mne/io/base.py\u001b[0m in \u001b[0;36m<listcomp>\u001b[0;34m(.0)\u001b[0m\n\u001b[1;32m   1761\u001b[0m \u001b[0;34m\u001b[0m\u001b[0m\n\u001b[1;32m   1762\u001b[0m     \u001b[0;32mdef\u001b[0m \u001b[0m_repr_html_\u001b[0m\u001b[0;34m(\u001b[0m\u001b[0mself\u001b[0m\u001b[0;34m,\u001b[0m \u001b[0mcaption\u001b[0m\u001b[0;34m=\u001b[0m\u001b[0;32mNone\u001b[0m\u001b[0;34m)\u001b[0m\u001b[0;34m:\u001b[0m\u001b[0;34m\u001b[0m\u001b[0;34m\u001b[0m\u001b[0m\n\u001b[0;32m-> 1763\u001b[0;31m         \u001b[0mbasenames\u001b[0m \u001b[0;34m=\u001b[0m \u001b[0;34m[\u001b[0m\u001b[0mos\u001b[0m\u001b[0;34m.\u001b[0m\u001b[0mpath\u001b[0m\u001b[0;34m.\u001b[0m\u001b[0mbasename\u001b[0m\u001b[0;34m(\u001b[0m\u001b[0mf\u001b[0m\u001b[0;34m)\u001b[0m \u001b[0;32mfor\u001b[0m \u001b[0mf\u001b[0m \u001b[0;32min\u001b[0m \u001b[0mself\u001b[0m\u001b[0;34m.\u001b[0m\u001b[0m_filenames\u001b[0m\u001b[0;34m]\u001b[0m\u001b[0;34m\u001b[0m\u001b[0;34m\u001b[0m\u001b[0m\n\u001b[0m\u001b[1;32m   1764\u001b[0m         \u001b[0mm\u001b[0m\u001b[0;34m,\u001b[0m \u001b[0ms\u001b[0m \u001b[0;34m=\u001b[0m \u001b[0mdivmod\u001b[0m\u001b[0;34m(\u001b[0m\u001b[0mself\u001b[0m\u001b[0;34m.\u001b[0m\u001b[0m_last_time\u001b[0m \u001b[0;34m-\u001b[0m \u001b[0mself\u001b[0m\u001b[0;34m.\u001b[0m\u001b[0mfirst_time\u001b[0m\u001b[0;34m,\u001b[0m \u001b[0;36m60\u001b[0m\u001b[0;34m)\u001b[0m\u001b[0;34m\u001b[0m\u001b[0;34m\u001b[0m\u001b[0m\n\u001b[1;32m   1765\u001b[0m         \u001b[0mh\u001b[0m\u001b[0;34m,\u001b[0m \u001b[0mm\u001b[0m \u001b[0;34m=\u001b[0m \u001b[0mdivmod\u001b[0m\u001b[0;34m(\u001b[0m\u001b[0mm\u001b[0m\u001b[0;34m,\u001b[0m \u001b[0;36m60\u001b[0m\u001b[0;34m)\u001b[0m\u001b[0;34m\u001b[0m\u001b[0;34m\u001b[0m\u001b[0m\n",
            "\u001b[0;32m/usr/lib/python3.7/posixpath.py\u001b[0m in \u001b[0;36mbasename\u001b[0;34m(p)\u001b[0m\n\u001b[1;32m    144\u001b[0m \u001b[0;32mdef\u001b[0m \u001b[0mbasename\u001b[0m\u001b[0;34m(\u001b[0m\u001b[0mp\u001b[0m\u001b[0;34m)\u001b[0m\u001b[0;34m:\u001b[0m\u001b[0;34m\u001b[0m\u001b[0;34m\u001b[0m\u001b[0m\n\u001b[1;32m    145\u001b[0m     \u001b[0;34m\"\"\"Returns the final component of a pathname\"\"\"\u001b[0m\u001b[0;34m\u001b[0m\u001b[0;34m\u001b[0m\u001b[0m\n\u001b[0;32m--> 146\u001b[0;31m     \u001b[0mp\u001b[0m \u001b[0;34m=\u001b[0m \u001b[0mos\u001b[0m\u001b[0;34m.\u001b[0m\u001b[0mfspath\u001b[0m\u001b[0;34m(\u001b[0m\u001b[0mp\u001b[0m\u001b[0;34m)\u001b[0m\u001b[0;34m\u001b[0m\u001b[0;34m\u001b[0m\u001b[0m\n\u001b[0m\u001b[1;32m    147\u001b[0m     \u001b[0msep\u001b[0m \u001b[0;34m=\u001b[0m \u001b[0m_get_sep\u001b[0m\u001b[0;34m(\u001b[0m\u001b[0mp\u001b[0m\u001b[0;34m)\u001b[0m\u001b[0;34m\u001b[0m\u001b[0;34m\u001b[0m\u001b[0m\n\u001b[1;32m    148\u001b[0m     \u001b[0mi\u001b[0m \u001b[0;34m=\u001b[0m \u001b[0mp\u001b[0m\u001b[0;34m.\u001b[0m\u001b[0mrfind\u001b[0m\u001b[0;34m(\u001b[0m\u001b[0msep\u001b[0m\u001b[0;34m)\u001b[0m \u001b[0;34m+\u001b[0m \u001b[0;36m1\u001b[0m\u001b[0;34m\u001b[0m\u001b[0;34m\u001b[0m\u001b[0m\n",
            "\u001b[0;31mTypeError\u001b[0m: expected str, bytes or os.PathLike object, not NoneType"
          ]
        },
        {
          "output_type": "execute_result",
          "data": {
            "text/plain": [
              "<RawArray | 72 x 1213440 (2370.0 s), ~666.6 MB, data loaded>"
            ]
          },
          "metadata": {},
          "execution_count": 33
        }
      ]
    },
    {
      "cell_type": "code",
      "source": [
        "raw.ch_names\n"
      ],
      "metadata": {
        "colab": {
          "base_uri": "https://localhost:8080/"
        },
        "id": "YZKgw3HwBEko",
        "outputId": "0928dc61-8dc4-4510-dccc-98ede901dce0"
      },
      "execution_count": 34,
      "outputs": [
        {
          "output_type": "execute_result",
          "data": {
            "text/plain": [
              "['sync1_Fz',\n",
              " 'sync1_Fp1',\n",
              " 'sync1_F7',\n",
              " 'sync1_F3',\n",
              " 'sync1_T3',\n",
              " 'sync1_C3',\n",
              " 'sync1_T5',\n",
              " 'sync1_P3',\n",
              " 'sync1_O1',\n",
              " 'sync1_Pz',\n",
              " 'sync1_O2',\n",
              " 'sync1_P4',\n",
              " 'sync1_T6',\n",
              " 'sync1_C4',\n",
              " 'sync1_T4',\n",
              " 'sync1_F4',\n",
              " 'sync1_F8',\n",
              " 'sync1_Fp2',\n",
              " 'sync2_Fz',\n",
              " 'sync2_Fp1',\n",
              " 'sync2_F7',\n",
              " 'sync2_F3',\n",
              " 'sync2_T3',\n",
              " 'sync2_C3',\n",
              " 'sync2_T5',\n",
              " 'sync2_P3',\n",
              " 'sync2_O1',\n",
              " 'sync2_Pz',\n",
              " 'sync2_O2',\n",
              " 'sync2_P4',\n",
              " 'sync2_T6',\n",
              " 'sync2_C4',\n",
              " 'sync2_T4',\n",
              " 'sync2_F4',\n",
              " 'sync2_F8',\n",
              " 'sync2_Fp2',\n",
              " 'sync3_Fz',\n",
              " 'sync3_Fp1',\n",
              " 'sync3_F7',\n",
              " 'sync3_F3',\n",
              " 'sync3_T3',\n",
              " 'sync3_C3',\n",
              " 'sync3_T5',\n",
              " 'sync3_P3',\n",
              " 'sync3_O1',\n",
              " 'sync3_Pz',\n",
              " 'sync3_O2',\n",
              " 'sync3_P4',\n",
              " 'sync3_T6',\n",
              " 'sync3_C4',\n",
              " 'sync3_T4',\n",
              " 'sync3_F4',\n",
              " 'sync3_F8',\n",
              " 'sync3_Fp2',\n",
              " 'sync4_Fz',\n",
              " 'sync4_Fp1',\n",
              " 'sync4_F7',\n",
              " 'sync4_F3',\n",
              " 'sync4_T3',\n",
              " 'sync4_C3',\n",
              " 'sync4_T5',\n",
              " 'sync4_P3',\n",
              " 'sync4_O1',\n",
              " 'sync4_Pz',\n",
              " 'sync4_O2',\n",
              " 'sync4_P4',\n",
              " 'sync4_T6',\n",
              " 'sync4_C4',\n",
              " 'sync4_T4',\n",
              " 'sync4_F4',\n",
              " 'sync4_F8',\n",
              " 'sync4_Fp2']"
            ]
          },
          "metadata": {},
          "execution_count": 34
        }
      ]
    },
    {
      "cell_type": "code",
      "source": [
        "print(raw)\n",
        "raw.pick(ch_names)"
      ],
      "metadata": {
        "colab": {
          "base_uri": "https://localhost:8080/",
          "height": 634
        },
        "id": "ILJiXMCZoyk9",
        "outputId": "4b4068a2-a3e7-47e3-cd0b-18605d026cd9"
      },
      "execution_count": 35,
      "outputs": [
        {
          "output_type": "stream",
          "name": "stdout",
          "text": [
            "<RawArray | 72 x 1213440 (2370.0 s), ~666.6 MB, data loaded>\n"
          ]
        },
        {
          "output_type": "error",
          "ename": "TypeError",
          "evalue": "ignored",
          "traceback": [
            "\u001b[0;31m---------------------------------------------------------------------------\u001b[0m",
            "\u001b[0;31mTypeError\u001b[0m                                 Traceback (most recent call last)",
            "\u001b[0;32m~/colab/env/lib/python3.7/site-packages/IPython/core/formatters.py\u001b[0m in \u001b[0;36m__call__\u001b[0;34m(self, obj)\u001b[0m\n\u001b[1;32m    343\u001b[0m             \u001b[0mmethod\u001b[0m \u001b[0;34m=\u001b[0m \u001b[0mget_real_method\u001b[0m\u001b[0;34m(\u001b[0m\u001b[0mobj\u001b[0m\u001b[0;34m,\u001b[0m \u001b[0mself\u001b[0m\u001b[0;34m.\u001b[0m\u001b[0mprint_method\u001b[0m\u001b[0;34m)\u001b[0m\u001b[0;34m\u001b[0m\u001b[0;34m\u001b[0m\u001b[0m\n\u001b[1;32m    344\u001b[0m             \u001b[0;32mif\u001b[0m \u001b[0mmethod\u001b[0m \u001b[0;32mis\u001b[0m \u001b[0;32mnot\u001b[0m \u001b[0;32mNone\u001b[0m\u001b[0;34m:\u001b[0m\u001b[0;34m\u001b[0m\u001b[0;34m\u001b[0m\u001b[0m\n\u001b[0;32m--> 345\u001b[0;31m                 \u001b[0;32mreturn\u001b[0m \u001b[0mmethod\u001b[0m\u001b[0;34m(\u001b[0m\u001b[0;34m)\u001b[0m\u001b[0;34m\u001b[0m\u001b[0;34m\u001b[0m\u001b[0m\n\u001b[0m\u001b[1;32m    346\u001b[0m             \u001b[0;32mreturn\u001b[0m \u001b[0;32mNone\u001b[0m\u001b[0;34m\u001b[0m\u001b[0;34m\u001b[0m\u001b[0m\n\u001b[1;32m    347\u001b[0m         \u001b[0;32melse\u001b[0m\u001b[0;34m:\u001b[0m\u001b[0;34m\u001b[0m\u001b[0;34m\u001b[0m\u001b[0m\n",
            "\u001b[0;32m~/colab/env/lib/python3.7/site-packages/mne/io/base.py\u001b[0m in \u001b[0;36m_repr_html_\u001b[0;34m(self, caption)\u001b[0m\n\u001b[1;32m   1761\u001b[0m \u001b[0;34m\u001b[0m\u001b[0m\n\u001b[1;32m   1762\u001b[0m     \u001b[0;32mdef\u001b[0m \u001b[0m_repr_html_\u001b[0m\u001b[0;34m(\u001b[0m\u001b[0mself\u001b[0m\u001b[0;34m,\u001b[0m \u001b[0mcaption\u001b[0m\u001b[0;34m=\u001b[0m\u001b[0;32mNone\u001b[0m\u001b[0;34m)\u001b[0m\u001b[0;34m:\u001b[0m\u001b[0;34m\u001b[0m\u001b[0;34m\u001b[0m\u001b[0m\n\u001b[0;32m-> 1763\u001b[0;31m         \u001b[0mbasenames\u001b[0m \u001b[0;34m=\u001b[0m \u001b[0;34m[\u001b[0m\u001b[0mos\u001b[0m\u001b[0;34m.\u001b[0m\u001b[0mpath\u001b[0m\u001b[0;34m.\u001b[0m\u001b[0mbasename\u001b[0m\u001b[0;34m(\u001b[0m\u001b[0mf\u001b[0m\u001b[0;34m)\u001b[0m \u001b[0;32mfor\u001b[0m \u001b[0mf\u001b[0m \u001b[0;32min\u001b[0m \u001b[0mself\u001b[0m\u001b[0;34m.\u001b[0m\u001b[0m_filenames\u001b[0m\u001b[0;34m]\u001b[0m\u001b[0;34m\u001b[0m\u001b[0;34m\u001b[0m\u001b[0m\n\u001b[0m\u001b[1;32m   1764\u001b[0m         \u001b[0mm\u001b[0m\u001b[0;34m,\u001b[0m \u001b[0ms\u001b[0m \u001b[0;34m=\u001b[0m \u001b[0mdivmod\u001b[0m\u001b[0;34m(\u001b[0m\u001b[0mself\u001b[0m\u001b[0;34m.\u001b[0m\u001b[0m_last_time\u001b[0m \u001b[0;34m-\u001b[0m \u001b[0mself\u001b[0m\u001b[0;34m.\u001b[0m\u001b[0mfirst_time\u001b[0m\u001b[0;34m,\u001b[0m \u001b[0;36m60\u001b[0m\u001b[0;34m)\u001b[0m\u001b[0;34m\u001b[0m\u001b[0;34m\u001b[0m\u001b[0m\n\u001b[1;32m   1765\u001b[0m         \u001b[0mh\u001b[0m\u001b[0;34m,\u001b[0m \u001b[0mm\u001b[0m \u001b[0;34m=\u001b[0m \u001b[0mdivmod\u001b[0m\u001b[0;34m(\u001b[0m\u001b[0mm\u001b[0m\u001b[0;34m,\u001b[0m \u001b[0;36m60\u001b[0m\u001b[0;34m)\u001b[0m\u001b[0;34m\u001b[0m\u001b[0;34m\u001b[0m\u001b[0m\n",
            "\u001b[0;32m~/colab/env/lib/python3.7/site-packages/mne/io/base.py\u001b[0m in \u001b[0;36m<listcomp>\u001b[0;34m(.0)\u001b[0m\n\u001b[1;32m   1761\u001b[0m \u001b[0;34m\u001b[0m\u001b[0m\n\u001b[1;32m   1762\u001b[0m     \u001b[0;32mdef\u001b[0m \u001b[0m_repr_html_\u001b[0m\u001b[0;34m(\u001b[0m\u001b[0mself\u001b[0m\u001b[0;34m,\u001b[0m \u001b[0mcaption\u001b[0m\u001b[0;34m=\u001b[0m\u001b[0;32mNone\u001b[0m\u001b[0;34m)\u001b[0m\u001b[0;34m:\u001b[0m\u001b[0;34m\u001b[0m\u001b[0;34m\u001b[0m\u001b[0m\n\u001b[0;32m-> 1763\u001b[0;31m         \u001b[0mbasenames\u001b[0m \u001b[0;34m=\u001b[0m \u001b[0;34m[\u001b[0m\u001b[0mos\u001b[0m\u001b[0;34m.\u001b[0m\u001b[0mpath\u001b[0m\u001b[0;34m.\u001b[0m\u001b[0mbasename\u001b[0m\u001b[0;34m(\u001b[0m\u001b[0mf\u001b[0m\u001b[0;34m)\u001b[0m \u001b[0;32mfor\u001b[0m \u001b[0mf\u001b[0m \u001b[0;32min\u001b[0m \u001b[0mself\u001b[0m\u001b[0;34m.\u001b[0m\u001b[0m_filenames\u001b[0m\u001b[0;34m]\u001b[0m\u001b[0;34m\u001b[0m\u001b[0;34m\u001b[0m\u001b[0m\n\u001b[0m\u001b[1;32m   1764\u001b[0m         \u001b[0mm\u001b[0m\u001b[0;34m,\u001b[0m \u001b[0ms\u001b[0m \u001b[0;34m=\u001b[0m \u001b[0mdivmod\u001b[0m\u001b[0;34m(\u001b[0m\u001b[0mself\u001b[0m\u001b[0;34m.\u001b[0m\u001b[0m_last_time\u001b[0m \u001b[0;34m-\u001b[0m \u001b[0mself\u001b[0m\u001b[0;34m.\u001b[0m\u001b[0mfirst_time\u001b[0m\u001b[0;34m,\u001b[0m \u001b[0;36m60\u001b[0m\u001b[0;34m)\u001b[0m\u001b[0;34m\u001b[0m\u001b[0;34m\u001b[0m\u001b[0m\n\u001b[1;32m   1765\u001b[0m         \u001b[0mh\u001b[0m\u001b[0;34m,\u001b[0m \u001b[0mm\u001b[0m \u001b[0;34m=\u001b[0m \u001b[0mdivmod\u001b[0m\u001b[0;34m(\u001b[0m\u001b[0mm\u001b[0m\u001b[0;34m,\u001b[0m \u001b[0;36m60\u001b[0m\u001b[0;34m)\u001b[0m\u001b[0;34m\u001b[0m\u001b[0;34m\u001b[0m\u001b[0m\n",
            "\u001b[0;32m/usr/lib/python3.7/posixpath.py\u001b[0m in \u001b[0;36mbasename\u001b[0;34m(p)\u001b[0m\n\u001b[1;32m    144\u001b[0m \u001b[0;32mdef\u001b[0m \u001b[0mbasename\u001b[0m\u001b[0;34m(\u001b[0m\u001b[0mp\u001b[0m\u001b[0;34m)\u001b[0m\u001b[0;34m:\u001b[0m\u001b[0;34m\u001b[0m\u001b[0;34m\u001b[0m\u001b[0m\n\u001b[1;32m    145\u001b[0m     \u001b[0;34m\"\"\"Returns the final component of a pathname\"\"\"\u001b[0m\u001b[0;34m\u001b[0m\u001b[0;34m\u001b[0m\u001b[0m\n\u001b[0;32m--> 146\u001b[0;31m     \u001b[0mp\u001b[0m \u001b[0;34m=\u001b[0m \u001b[0mos\u001b[0m\u001b[0;34m.\u001b[0m\u001b[0mfspath\u001b[0m\u001b[0;34m(\u001b[0m\u001b[0mp\u001b[0m\u001b[0;34m)\u001b[0m\u001b[0;34m\u001b[0m\u001b[0;34m\u001b[0m\u001b[0m\n\u001b[0m\u001b[1;32m    147\u001b[0m     \u001b[0msep\u001b[0m \u001b[0;34m=\u001b[0m \u001b[0m_get_sep\u001b[0m\u001b[0;34m(\u001b[0m\u001b[0mp\u001b[0m\u001b[0;34m)\u001b[0m\u001b[0;34m\u001b[0m\u001b[0;34m\u001b[0m\u001b[0m\n\u001b[1;32m    148\u001b[0m     \u001b[0mi\u001b[0m \u001b[0;34m=\u001b[0m \u001b[0mp\u001b[0m\u001b[0;34m.\u001b[0m\u001b[0mrfind\u001b[0m\u001b[0;34m(\u001b[0m\u001b[0msep\u001b[0m\u001b[0;34m)\u001b[0m \u001b[0;34m+\u001b[0m \u001b[0;36m1\u001b[0m\u001b[0;34m\u001b[0m\u001b[0;34m\u001b[0m\u001b[0m\n",
            "\u001b[0;31mTypeError\u001b[0m: expected str, bytes or os.PathLike object, not NoneType"
          ]
        },
        {
          "output_type": "execute_result",
          "data": {
            "text/plain": [
              "<RawArray | 72 x 1213440 (2370.0 s), ~666.6 MB, data loaded>"
            ]
          },
          "metadata": {},
          "execution_count": 35
        }
      ]
    },
    {
      "cell_type": "code",
      "source": [
        "#!pip install imageio==2.9\n",
        "!pip install imageio==2.4.1\n",
        "!pip install imageio-ffmpeg==0.4.3 pyspng==0.1.0"
      ],
      "metadata": {
        "colab": {
          "base_uri": "https://localhost:8080/"
        },
        "id": "paxEG_lhd8s1",
        "outputId": "fb2febd5-d940-45cf-8287-b7fb6267d8e7"
      },
      "execution_count": 36,
      "outputs": [
        {
          "output_type": "stream",
          "name": "stdout",
          "text": [
            "Requirement already satisfied: imageio==2.4.1 in ./env/lib/python3.7/site-packages (2.4.1)\r\n",
            "Requirement already satisfied: numpy in ./env/lib/python3.7/site-packages (from imageio==2.4.1) (1.19.5)\r\n",
            "Requirement already satisfied: pillow in ./env/lib/python3.7/site-packages (from imageio==2.4.1) (8.3.2)\n",
            "\u001b[33mWARNING: You are using pip version 21.2.4; however, version 22.1.2 is available.\n",
            "You should consider upgrading via the '/home/dmitryneuro/colab/env/bin/python3.7 -m pip install --upgrade pip' command.\u001b[0m\n",
            "Requirement already satisfied: imageio-ffmpeg==0.4.3 in ./env/lib/python3.7/site-packages (0.4.3)\n",
            "Requirement already satisfied: pyspng==0.1.0 in ./env/lib/python3.7/site-packages (0.1.0)\n",
            "Requirement already satisfied: numpy in ./env/lib/python3.7/site-packages (from pyspng==0.1.0) (1.19.5)\n",
            "\u001b[33mWARNING: You are using pip version 21.2.4; however, version 22.1.2 is available.\n",
            "You should consider upgrading via the '/home/dmitryneuro/colab/env/bin/python3.7 -m pip install --upgrade pip' command.\u001b[0m\n"
          ]
        }
      ]
    },
    {
      "cell_type": "code",
      "source": [
        "raw = raw_sync"
      ],
      "metadata": {
        "id": "74PhTMRS3NNl"
      },
      "execution_count": 37,
      "outputs": []
    },
    {
      "cell_type": "code",
      "source": [
        "#import imageio\n",
        "#fps=10\n",
        "#out = imageio.get_writer('/content/out/output.mp4', mode='I', fps=fps, codec='libx264', bitrate='16M')\n",
        "\n",
        "#for img in imgs:\n",
        "#  out.append_data(np.asarray(img))\n",
        "#out.close()\n",
        " "
      ],
      "metadata": {
        "id": "7Gx1IDMid8nq"
      },
      "execution_count": 38,
      "outputs": []
    },
    {
      "cell_type": "code",
      "source": [
        "bands = [[8.,12.]]\n",
        "#bands = [[4.,7.],[8.,12.],[13.,29.]]\n",
        "#bands = [[8.,12.],[8.,12.],[8.,12.]]\n",
        "#bands_name = ['theta','alpha','beta']\n",
        "datas=[]\n",
        "for band in range(len(bands)):\n",
        "# datas.append(raw)\n",
        " datas.append(raw.pick(ch_names))\n",
        " \n",
        "# datas.append(raw.filter(l_freq=bands[band][0], h_freq=bands[band][1],method='iir'))\n",
        "#theta_data = raw.filter(l_freq=4, h_freq=7,method='iir')\n",
        "#alpha_data = raw.filter(l_freq=8, h_freq=12,method='iir')\n",
        "#beta_data = raw.filter(l_freq=13, h_freq=29,method='iir')"
      ],
      "metadata": {
        "id": "8eqMOf-veKSR"
      },
      "execution_count": 39,
      "outputs": []
    },
    {
      "cell_type": "code",
      "source": [
        "methods = ['coh']\n",
        "#methods = ['wpli']\n",
        "#methods = ['coh', 'plv', 'ciplv', 'ppc', 'pli', 'wpli']\n",
        "epochs = []\n",
        "for band in range(len(bands)):\n",
        "# epochs.append(mne.make_fixed_length_epochs(datas[band], \n",
        "#                                            duration=0.1, preload=False))\n",
        " epochs.append(mne.make_fixed_length_epochs(datas[band], \n",
        "                                            duration=5*1/8, preload=False, overlap=5*1/8-0.1))\n",
        "# epochs.append(mne.make_fixed_length_epochs(datas[band], duration=1.25, preload=False, overlap=1.15))\n",
        "#epochs = [mne.make_fixed_length_epochs(theta_data, duration=0.1, preload=False),\n",
        "#          mne.make_fixed_length_epochs(alpha_data, duration=0.1, preload=False),\n",
        "#          mne.make_fixed_length_epochs(beta_data, duration=0.1, preload=False)]\n",
        "#epochs = mne.make_fixed_length_epochs(alpha_data, duration=0.1, preload=False)\n",
        "#epochs = mne.make_fixed_length_epochs(raw, duration=2, preload=True)\n",
        "#epochs = mne.make_fixed_length_epochs(raw, duration=10, preload=True)\n",
        "#epochs = mne.make_fixed_length_epochs(raw, duration=1, preload=False)\n",
        "#event_related_plot = epochs.plot_image(picks=['FP1'])"
      ],
      "metadata": {
        "id": "-sHGeqZseKPp",
        "colab": {
          "base_uri": "https://localhost:8080/"
        },
        "outputId": "0c0535ed-6ea3-431d-9750-948e0789ccbf"
      },
      "execution_count": 40,
      "outputs": [
        {
          "output_type": "stream",
          "name": "stdout",
          "text": [
            "Not setting metadata\n",
            "Not setting metadata\n",
            "23694 matching events found\n",
            "No baseline correction applied\n",
            "0 projection items activated\n"
          ]
        }
      ]
    },
    {
      "cell_type": "code",
      "source": [
        "len(epochs[0].events)"
      ],
      "metadata": {
        "id": "KRq4VDiGLAel",
        "colab": {
          "base_uri": "https://localhost:8080/"
        },
        "outputId": "3f07f605-d099-4bfb-9e8f-a49bf7802850"
      },
      "execution_count": 41,
      "outputs": [
        {
          "output_type": "execute_result",
          "data": {
            "text/plain": [
              "23694"
            ]
          },
          "metadata": {},
          "execution_count": 41
        }
      ]
    },
    {
      "cell_type": "code",
      "source": [
        "raw[:][0]"
      ],
      "metadata": {
        "colab": {
          "base_uri": "https://localhost:8080/"
        },
        "id": "eiquVKD9wbcr",
        "outputId": "cc91c301-7229-4670-ebd3-40c56d811810"
      },
      "execution_count": 42,
      "outputs": [
        {
          "output_type": "execute_result",
          "data": {
            "text/plain": [
              "array([[-3.27718844e-01, -3.27722718e-01, -3.27682008e-01, ...,\n",
              "         2.98023242e-08,  2.98023242e-08,  2.98023242e-08],\n",
              "       [-3.69788401e-01, -3.69862847e-01, -3.69910709e-01, ...,\n",
              "         2.98023242e-08,  2.98023242e-08,  2.98023242e-08],\n",
              "       [-4.27928503e-01, -4.27981194e-01, -4.28003664e-01, ...,\n",
              "         2.98023242e-08,  2.98023242e-08,  2.98023242e-08],\n",
              "       ...,\n",
              "       [-2.89553749e-01, -2.89524900e-01, -2.89482998e-01, ...,\n",
              "         2.98023242e-08,  2.98023242e-08,  2.98023242e-08],\n",
              "       [-3.04018724e-01, -3.04014671e-01, -3.03991246e-01, ...,\n",
              "         2.98023242e-08,  2.98023242e-08,  2.98023242e-08],\n",
              "       [-4.18650324e-01, -4.18624217e-01, -4.18582196e-01, ...,\n",
              "         2.98023242e-08,  2.98023242e-08,  2.98023242e-08]])"
            ]
          },
          "metadata": {},
          "execution_count": 42
        }
      ]
    },
    {
      "cell_type": "code",
      "source": [
        "#fmin=8.\n",
        "#fmax=13.\n",
        "fmin=bands[0][0]\n",
        "fmax=bands[0][1]+1.\n",
        "          \n",
        "sfreq = raw.info['sfreq']  # the sampling frequency\n",
        "#con_methods = ['coh', 'pli', 'ciplv']\n",
        "con_methods = ['coh', 'plv', 'ciplv', 'ppc', 'pli', 'wpli']\n",
        "#con_methods = ['coh', 'plv', 'ciplv', 'ppc', 'pli', 'pli2_unbiased', 'wpli', 'wpli2_debiased']\n",
        "#con, freqs, times, n_epochs, n_tapers = spectral_connectivity(\n",
        "#    epochs, method=con_methods, mode='multitaper', sfreq=sfreq, fmin=fmin,\n",
        "#    fmax=fmax, faverage=True, mt_adaptive=True, n_jobs=10)\n",
        "#con, freqs, times, n_epochs, n_tapers = spectral_connectivity(\n",
        "#    epochs[1][2000:2010], method=con_methods, mode='multitaper', sfreq=sfreq, \n",
        "#    faverage=True, mt_adaptive=True, n_jobs=1)\n",
        "#con, freqs, times, n_epochs, n_tapers = spectral_connectivity(\n",
        "#    epochs[0][2000,2001], method=con_methods, mode='multitaper', sfreq=sfreq, fmin=fmin,\n",
        "#    fmax=fmax, faverage=True, mt_adaptive=True, n_jobs=1)\n",
        "\n",
        "con, freqs, times, n_epochs, n_tapers = spectral_connectivity(\n",
        "    epochs[0][2000:2010], method=con_methods, mode='multitaper', sfreq=sfreq, fmin=fmin,\n",
        "    fmax=fmax, faverage=True, mt_adaptive=True, n_jobs=1)\n",
        "\n"
      ],
      "metadata": {
        "id": "WVT5t6vweKNI",
        "colab": {
          "base_uri": "https://localhost:8080/"
        },
        "outputId": "9f67be8e-4922-46fb-e763-5f63ab5ea71d"
      },
      "execution_count": 43,
      "outputs": [
        {
          "output_type": "stream",
          "name": "stdout",
          "text": [
            "Connectivity computation...\n",
            "only using indices for lower-triangular matrix\n",
            "    computing connectivity for 2556 connections\n",
            "    using t=0.000s..0.623s for estimation (320 points)\n",
            "    frequencies: 8.0Hz..12.8Hz (4 points)\n",
            "    connectivity scores will be averaged for each band\n",
            "    Using multitaper spectrum estimation with 7 DPSS windows\n",
            "    the following metrics will be computed: Coherence, PLV, ciPLV, PPC, PLI, WPLI\n",
            "    computing connectivity for epoch 1\n",
            "    computing connectivity for epoch 2\n",
            "    computing connectivity for epoch 3\n",
            "    computing connectivity for epoch 4\n",
            "    computing connectivity for epoch 5\n",
            "    computing connectivity for epoch 6\n",
            "    computing connectivity for epoch 7\n",
            "    computing connectivity for epoch 8\n",
            "    computing connectivity for epoch 9\n",
            "    computing connectivity for epoch 10\n",
            "    assembling connectivity matrix\n",
            "[Connectivity computation done]\n"
          ]
        }
      ]
    },
    {
      "cell_type": "code",
      "source": [
        "epochs[0][2000:2010]"
      ],
      "metadata": {
        "colab": {
          "base_uri": "https://localhost:8080/",
          "height": 104
        },
        "id": "ezrjypwhhSe9",
        "outputId": "9455ed36-0302-4ea6-d49e-4b4103bc4340"
      },
      "execution_count": 44,
      "outputs": [
        {
          "output_type": "execute_result",
          "data": {
            "text/plain": [
              "<Epochs |  10 events (good & bad), 0 - 0.623047 sec, baseline off, ~72 kB, data not loaded,\n",
              " '1': 10>"
            ],
            "text/html": [
              "\n",
              "<table class=\"table table-hover\">\n",
              "    <tr>\n",
              "        <th>Number of events</th>\n",
              "        <td>10</td>\n",
              "    </tr>\n",
              "    <tr>\n",
              "        <th>Events</th>\n",
              "        <td>1: 10<br></td>\n",
              "    </tr>\n",
              "    <tr>\n",
              "        <th>Time range</th>\n",
              "        <td>0.000 – 0.623 sec</td>\n",
              "    </tr>\n",
              "    <tr>\n",
              "        <th>Baseline</th>\n",
              "        <td>off</td>\n",
              "    </tr>\n",
              "</table>\n"
            ]
          },
          "metadata": {},
          "execution_count": 44
        }
      ]
    },
    {
      "cell_type": "code",
      "source": [
        "print(epochs[0][2000:2010])"
      ],
      "metadata": {
        "colab": {
          "base_uri": "https://localhost:8080/"
        },
        "id": "HjIwTCLVuD1x",
        "outputId": "027b4925-1eca-498d-fd50-3ee7b5278587"
      },
      "execution_count": 45,
      "outputs": [
        {
          "output_type": "stream",
          "name": "stdout",
          "text": [
            "<Epochs |  10 events (good & bad), 0 - 0.623047 sec, baseline off, ~72 kB, data not loaded,\n",
            " '1': 10>\n"
          ]
        }
      ]
    },
    {
      "cell_type": "code",
      "source": [
        "con_res = dict()\n",
        "for method, c in zip(con_methods, con):\n",
        "    con_res[method] = c[:, :, 0]"
      ],
      "metadata": {
        "id": "iakYgOupeKKh"
      },
      "execution_count": 46,
      "outputs": []
    },
    {
      "cell_type": "code",
      "source": [
        "sfreq"
      ],
      "metadata": {
        "id": "sCmMi-FQp6uJ",
        "colab": {
          "base_uri": "https://localhost:8080/"
        },
        "outputId": "fffb7834-390f-4fd5-b12f-119748f7fed9"
      },
      "execution_count": 47,
      "outputs": [
        {
          "output_type": "execute_result",
          "data": {
            "text/plain": [
              "512.0"
            ]
          },
          "metadata": {},
          "execution_count": 47
        }
      ]
    },
    {
      "cell_type": "code",
      "source": [
        "con_res\n"
      ],
      "metadata": {
        "id": "x8OWncfapvaa",
        "colab": {
          "base_uri": "https://localhost:8080/"
        },
        "outputId": "c42f74f9-66b5-4676-e616-b9faa7b32794"
      },
      "execution_count": 48,
      "outputs": [
        {
          "output_type": "execute_result",
          "data": {
            "text/plain": [
              "{'coh': array([[0.        , 0.        , 0.        , ..., 0.        , 0.        ,\n",
              "         0.        ],\n",
              "        [0.74693684, 0.        , 0.        , ..., 0.        , 0.        ,\n",
              "         0.        ],\n",
              "        [0.72652589, 0.86127411, 0.        , ..., 0.        , 0.        ,\n",
              "         0.        ],\n",
              "        ...,\n",
              "        [0.14243427, 0.18869834, 0.09977806, ..., 0.        , 0.        ,\n",
              "         0.        ],\n",
              "        [0.13188709, 0.23828281, 0.13397052, ..., 0.59418992, 0.        ,\n",
              "         0.        ],\n",
              "        [0.21578611, 0.16644428, 0.14109136, ..., 0.76701821, 0.50685297,\n",
              "         0.        ]]),\n",
              " 'plv': array([[0.        , 0.        , 0.        , ..., 0.        , 0.        ,\n",
              "         0.        ],\n",
              "        [0.98072141, 0.        , 0.        , ..., 0.        , 0.        ,\n",
              "         0.        ],\n",
              "        [0.97311457, 0.99042114, 0.        , ..., 0.        , 0.        ,\n",
              "         0.        ],\n",
              "        ...,\n",
              "        [0.33139399, 0.35011802, 0.33341346, ..., 0.        , 0.        ,\n",
              "         0.        ],\n",
              "        [0.41919677, 0.56966389, 0.41009175, ..., 0.83490671, 0.        ,\n",
              "         0.        ],\n",
              "        [0.53167651, 0.41574488, 0.48908323, ..., 0.98499962, 0.66294285,\n",
              "         0.        ]]),\n",
              " 'ciplv': array([[0.        , 0.        , 0.        , ..., 0.        , 0.        ,\n",
              "         0.        ],\n",
              "        [0.34503314, 0.        , 0.        , ..., 0.        , 0.        ,\n",
              "         0.        ],\n",
              "        [0.51622904, 0.29670285, 0.        , ..., 0.        , 0.        ,\n",
              "         0.        ],\n",
              "        ...,\n",
              "        [0.21105574, 0.27306609, 0.23528599, ..., 0.        , 0.        ,\n",
              "         0.        ],\n",
              "        [0.171915  , 0.40817693, 0.33497658, ..., 0.30861478, 0.        ,\n",
              "         0.        ],\n",
              "        [0.36060375, 0.21856239, 0.43617394, ..., 0.4665641 , 0.14958427,\n",
              "         0.        ]]),\n",
              " 'ppc': array([[0.        , 0.        , 0.        , ..., 0.        , 0.        ,\n",
              "         0.        ],\n",
              "        [0.95766499, 0.        , 0.        , ..., 0.        , 0.        ,\n",
              "         0.        ],\n",
              "        [0.94111501, 0.97884424, 0.        , ..., 0.        , 0.        ,\n",
              "         0.        ],\n",
              "        ...,\n",
              "        [0.01129904, 0.04764073, 0.05250833, ..., 0.        , 0.        ,\n",
              "         0.        ],\n",
              "        [0.12793857, 0.27122764, 0.09184125, ..., 0.67365491, 0.        ,\n",
              "         0.        ],\n",
              "        [0.2133373 , 0.11076676, 0.15894995, ..., 0.96693199, 0.40476904,\n",
              "         0.        ]]),\n",
              " 'pli': array([[0.  , 0.  , 0.  , ..., 0.  , 0.  , 0.  ],\n",
              "        [0.35, 0.  , 0.  , ..., 0.  , 0.  , 0.  ],\n",
              "        [0.5 , 0.25, 0.  , ..., 0.  , 0.  , 0.  ],\n",
              "        ...,\n",
              "        [0.2 , 0.5 , 0.35, ..., 0.  , 0.  , 0.  ],\n",
              "        [0.25, 0.4 , 0.4 , ..., 0.35, 0.  , 0.  ],\n",
              "        [0.45, 0.25, 0.55, ..., 0.5 , 0.2 , 0.  ]]),\n",
              " 'wpli': array([[0.        , 0.        , 0.        , ..., 0.        , 0.        ,\n",
              "         0.        ],\n",
              "        [0.58795886, 0.        , 0.        , ..., 0.        , 0.        ,\n",
              "         0.        ],\n",
              "        [0.61255574, 0.46438605, 0.        , ..., 0.        , 0.        ,\n",
              "         0.        ],\n",
              "        ...,\n",
              "        [0.34309852, 0.63438739, 0.37800609, ..., 0.        , 0.        ,\n",
              "         0.        ],\n",
              "        [0.1861071 , 0.69291568, 0.40228973, ..., 0.6251568 , 0.        ,\n",
              "         0.        ],\n",
              "        [0.54122361, 0.42863257, 0.588302  , ..., 0.66833173, 0.49015677,\n",
              "         0.        ]])}"
            ]
          },
          "metadata": {},
          "execution_count": 48
        }
      ]
    },
    {
      "cell_type": "code",
      "source": [
        "from mne.viz import circular_layout, plot_connectivity_circle\n",
        "#import matplotlib.pyplot as plt\n",
        "\n",
        "label_names = ch_names\n",
        "\n",
        "#plot_connectivity_circle(con_res['pli'], label_names, \n",
        "#                                                  title='All-to-All Connectivity (PLI)')\n",
        "#fig = plt.figure(num=None, figsize=(8, 4), facecolor='black')\n",
        "no_names = [''] * len(label_names)\n",
        "for ii, method in enumerate(con_methods):\n",
        "    plot_connectivity_circle(con_res[method], label_names, n_lines=300,\n",
        "                             title=method)\n",
        "    #plot_connectivity_circle(con_res[method], label_names, n_lines=300,\n",
        "    #                         title=method, padding=0, fontsize_colorbar=6,\n",
        "    #                         fig=fig, subplot=(1, 8, ii + 1))\n",
        "\n",
        "    #plot_connectivity_circle(con_res[method], no_names, n_lines=300,\n",
        "    #                         title=method, padding=0, fontsize_colorbar=6,\n",
        "    #                         fig=fig, subplot=(1, 6, ii + 1))\n",
        "plt.show()"
      ],
      "metadata": {
        "id": "v4D8oWlEeKII",
        "colab": {
          "base_uri": "https://localhost:8080/"
        },
        "outputId": "32587744-5f0a-479b-a3aa-d17fed042d12"
      },
      "execution_count": 49,
      "outputs": [
        {
          "output_type": "stream",
          "name": "stderr",
          "text": [
            "/home/dmitryneuro/colab/env/lib/python3.7/site-packages/ipykernel_launcher.py:20: UserWarning: Matplotlib is currently using agg, which is a non-GUI backend, so cannot show the figure.\n"
          ]
        }
      ]
    },
    {
      "cell_type": "code",
      "source": [
        "con_res['coh']"
      ],
      "metadata": {
        "id": "zM78B6WjeKFo",
        "colab": {
          "base_uri": "https://localhost:8080/"
        },
        "outputId": "baff2fb2-a93d-4a74-8613-8b015e7ce8f5"
      },
      "execution_count": 50,
      "outputs": [
        {
          "output_type": "execute_result",
          "data": {
            "text/plain": [
              "array([[0.        , 0.        , 0.        , ..., 0.        , 0.        ,\n",
              "        0.        ],\n",
              "       [0.74693684, 0.        , 0.        , ..., 0.        , 0.        ,\n",
              "        0.        ],\n",
              "       [0.72652589, 0.86127411, 0.        , ..., 0.        , 0.        ,\n",
              "        0.        ],\n",
              "       ...,\n",
              "       [0.14243427, 0.18869834, 0.09977806, ..., 0.        , 0.        ,\n",
              "        0.        ],\n",
              "       [0.13188709, 0.23828281, 0.13397052, ..., 0.59418992, 0.        ,\n",
              "        0.        ],\n",
              "       [0.21578611, 0.16644428, 0.14109136, ..., 0.76701821, 0.50685297,\n",
              "        0.        ]])"
            ]
          },
          "metadata": {},
          "execution_count": 50
        }
      ]
    },
    {
      "cell_type": "code",
      "source": [
        "import io\n",
        "from PIL import Image\n",
        "\n",
        "#%matplotlib inline\n",
        "#import matplotlib.pyplot as plt"
      ],
      "metadata": {
        "id": "CXuffiBli2n1"
      },
      "execution_count": 51,
      "outputs": []
    },
    {
      "cell_type": "code",
      "source": [
        "#import matplotlib\n",
        "#matplotlib.use('agg')\n"
      ],
      "metadata": {
        "id": "i1WqVlrBNyig"
      },
      "execution_count": 52,
      "outputs": []
    },
    {
      "cell_type": "code",
      "source": [
        "#matplotlib.interactive(False)"
      ],
      "metadata": {
        "id": "EOU8vnSRYH3-"
      },
      "execution_count": 53,
      "outputs": []
    },
    {
      "cell_type": "code",
      "source": [
        "#import gc\n",
        "\n",
        "import imageio\n",
        "\n",
        "!pip install mne-connectivity\n",
        "\n",
        "from mne_connectivity.viz import plot_sensors_connectivity\n"
      ],
      "metadata": {
        "id": "ZYjjcaHKX_mc",
        "colab": {
          "base_uri": "https://localhost:8080/"
        },
        "outputId": "cac08120-7442-46d9-c020-aa2e7b7eef81"
      },
      "execution_count": 54,
      "outputs": [
        {
          "output_type": "stream",
          "name": "stdout",
          "text": [
            "Requirement already satisfied: mne-connectivity in ./env/lib/python3.7/site-packages (0.3)\r\n",
            "Requirement already satisfied: netCDF4 in ./env/lib/python3.7/site-packages (from mne-connectivity) (1.6.0)\r\n",
            "Requirement already satisfied: scipy in ./env/lib/python3.7/site-packages (from mne-connectivity) (1.7.1)\r\n",
            "Requirement already satisfied: numpy in ./env/lib/python3.7/site-packages (from mne-connectivity) (1.19.5)\r\n",
            "Requirement already satisfied: pandas in ./env/lib/python3.7/site-packages (from mne-connectivity) (1.3.5)\r\n",
            "Requirement already satisfied: tqdm in ./env/lib/python3.7/site-packages (from mne-connectivity) (4.62.2)\r\n",
            "Requirement already satisfied: xarray in ./env/lib/python3.7/site-packages (from mne-connectivity) (0.20.2)\r\n",
            "Requirement already satisfied: mne in ./env/lib/python3.7/site-packages (from mne-connectivity) (0.23.3)\n",
            "Requirement already satisfied: cftime in ./env/lib/python3.7/site-packages (from netCDF4->mne-connectivity) (1.6.1)\n",
            "Requirement already satisfied: python-dateutil>=2.7.3 in ./env/lib/python3.7/site-packages (from pandas->mne-connectivity) (2.8.2)\n",
            "Requirement already satisfied: pytz>=2017.3 in ./env/lib/python3.7/site-packages (from pandas->mne-connectivity) (2021.1)\n",
            "Requirement already satisfied: six>=1.5 in ./env/lib/python3.7/site-packages (from python-dateutil>=2.7.3->pandas->mne-connectivity) (1.15.0)\n",
            "Requirement already satisfied: typing-extensions>=3.7 in ./env/lib/python3.7/site-packages (from xarray->mne-connectivity) (3.7.4.3)\n",
            "Requirement already satisfied: importlib-metadata in ./env/lib/python3.7/site-packages (from xarray->mne-connectivity) (4.8.1)\n",
            "Requirement already satisfied: zipp>=0.5 in ./env/lib/python3.7/site-packages (from importlib-metadata->xarray->mne-connectivity) (3.5.0)\n",
            "\u001b[33mWARNING: You are using pip version 21.2.4; however, version 22.1.2 is available.\n",
            "You should consider upgrading via the '/home/dmitryneuro/colab/env/bin/python3.7 -m pip install --upgrade pip' command.\u001b[0m\n"
          ]
        }
      ]
    },
    {
      "cell_type": "code",
      "source": [
        "n_parts_one_time = 3\n",
        "#matplotlib.use('agg')\n",
        "#fig = plt.figure()\n",
        "\n",
        "fps=10\n",
        "#out = imageio.get_writer('/content/out/output.mp4', fps=fps)\n",
        "#out = imageio.get_writer('/content/out/'+input_fname_name+'_circle_'+methods[0]+'_'+\n",
        "#                         str(int(bands[0][0]))+'-'+str(int(bands[0][1]))+'hz_'+str(len(epochs[0].events)-2)+'.mp4', fps=fps)\n",
        "#out = imageio.get_writer('/content/out/output.mp4', mode='I', fps=fps, codec='libx264', bitrate='16M')\n",
        "\n",
        "# Generate random breaks and display audio\n",
        "\n",
        "# CHANGE THIS to change number of examples generated\n",
        "#n_generate = 30\n",
        "#n_generate = 150\n",
        "#n_generate = 300\n",
        "#n_generate = 305\n",
        "#n_generate = 390\n",
        "\n",
        "# Sample latent vectors\n",
        "#seed = 666 # change this seed to generate different set of breaks\n",
        "#np.random.seed(seed)\n",
        "#_z = (np.random.rand(n_generate, dim) * 2.) - 1.\n",
        "\n",
        "\n",
        "hz=44100\n",
        "#hz=39936\n",
        "#hz=int(32768*2*(600/240))\n",
        "#hz=int(32768*2*(480/240))\n",
        "#hz=int(32768*2*(360/240))\n",
        "#hz=int(32768*2*(300/240))\n",
        "#hz=int(32768*2*(265/240))\n",
        "#hz=int(32768*2*(250/240))\n",
        "#hz=int(32768*2*(240/240)*1.6666666)\n",
        "#hz=int(32768*2*(240/240))\n",
        "#hz=int(32768*2*(120/240))\n",
        "#fps=hz/(32768*2)\n",
        "#fps=10\n",
        "#fps=0.5\n",
        "#fps=44100/(32768*2)\n",
        "#fps=1\n",
        "#fps=1/3\n",
        "#fps=1.5\n",
        "\n",
        "#n_generate=int((307-2)*fps)\n",
        "#n_generate=int((160-2)*fps)\n",
        "#n_generate=int((1598-2)*fps)\n",
        "#n_generate=int((1648-2)*fps)\n",
        "n_generate=len(epochs[0].events)-2\n",
        "\n",
        "#n_generate=int((10-2)*fps)\n",
        "#n_generate=int((1607-2)*fps)\n",
        "#n_generate=150\n",
        "part_len = 1000\n",
        "#part_len = 275\n",
        "dim = 512\n",
        "\n",
        "\n",
        "n_parts = n_generate//part_len\n",
        "if n_generate%part_len>0:\n",
        "    n_parts=n_parts+1\n",
        "\n",
        "vol=0.1\n",
        "\n",
        "#psd_array=np.random.rand(part_len, dim) \n",
        "\n",
        "#out = imageio.get_writer('./output.mp4', mode='I', fps=fps, codec='libx264', bitrate='16M')\n",
        "\n",
        "#Gs_kwargs = dnnlib.EasyDict()\n",
        "#Gs_kwargs.output_transform = dict(func=tflib.convert_images_to_uint8, nchw_to_nhwc=True)\n",
        "#Gs_kwargs.randomize_noise = False\n",
        "\n",
        "imgs = []\n",
        "imgs1 = []\n",
        "\n",
        "def plot_func(con,methods,label_names,out):\n",
        "        #plt.ioff()\n",
        "        if True:\n",
        "#          con_res = dict()\n",
        "#          for method, c in zip(methods, con):\n",
        "#            con_res[method] = c[:, :, 0]\n",
        "#            con_res[method] = c[:, :]\n",
        "          #for ii, method in enumerate(methods):\n",
        "#          if False:\n",
        "          if True:\n",
        "#            fig,_ = plot_connectivity_circle(con_res[method], label_names, n_lines=300, \n",
        "\n",
        "#            plot_connectivity_circle(con[:, :, 0], label_names, n_lines=300, \n",
        "#                                             title=method, show = False)\n",
        "            #fig = plt.figure()\n",
        "            #fig,_ = \n",
        "#            fig,ax = plot_connectivity_circle(con[:, :, 0], label_names, n_lines=300, \n",
        "#                                             title=method, show = False, vmin=0, vmax=1)#, fig=fig)\n",
        "            #fig, ax = plt.subplots(figsize=(37.33, 21)) \n",
        "#            fig,ax = plot_connectivity_circle(con[:, :, 0], label_names, n_lines=300, \n",
        "#                                             title=methods[0], show = False, vmin=0, vmax=1, fontsize_names=16)#, fig=fig)\n",
        "            fig,ax = plot_connectivity_circle(con[:, :, 0], label_names, n_lines=300, \n",
        "                                             title=input_fname_name+'_circle_'+methods[0]+'_'+str(int(bands[0][0]))+'-'+str(int(bands[0][1]))+'hz_'+str(len(epochs[0].events)-2), \n",
        "                                             show = False, vmin=0, vmax=1, fontsize_names=16)#, fig=fig)\n",
        "            #ax.set_theta_zero_location(\"W\")\n",
        "            \n",
        "            #ax.get_th\n",
        "            #ax.set_rotation()\n",
        "            #print(ax.get_xticks())\n",
        "#            ax.set_theta_zero_location((90+360/len(label_names)))\n",
        "            #print(ax.get_xticklabels())\n",
        "            #print(ax.get_xticks())\n",
        "            #xticks=ax.get_xticks()\n",
        "            #xticks.\n",
        "            #ax.set_rotation(0)\n",
        "\n",
        "            #rtick_locs = range(len(label_names))\n",
        "            #ax.set_rgrids(rtick_locs)\n",
        "            #ax.set_rticks(rtick_locs)\n",
        "            \n",
        "            #set_rgrids(self, radii, labels=None, angle=None, fmt=None, **kwargs)\n",
        "\n",
        "            #thetatick_locs = range(len(label_names))\n",
        "#            thetatick_locs = np.linspace(0.,45.,4)\n",
        "            #thetatick_labels = [u'%i\\u00b0'%np.round(x) for x in thetatick_locs]\n",
        "            #ax.set_thetagrids(thetatick_locs, thetatick_labels, fontsize=16)\n",
        "\n",
        "            #set_thetagrids(self, angles, labels=None, fmt=None, **kwargs)[source]\n",
        "            \n",
        "            #ax.set_xticks(np.linspace(0, 2*np.pi, len(label_names), endpoint=False))\n",
        "            #ax.set_xticklabels(range(len(label_names)))  \n",
        "\n",
        "#            ax.set_theta_offset(np.deg2rad(90+360/len(label_names)))\n",
        "            ax.set_theta_offset(np.deg2rad(360/len(label_names)))\n",
        "#            ax.set_thetagrids(range(len(label_names)), \n",
        "#                  labels=range(len(label_names)), fontsize=12)\n",
        "\n",
        "            #ax.set_rgrids(range(len(label_names)), labels=range(len(label_names)), fontsize=12, angle=180)\n",
        "\n",
        "            \n",
        "            #ax.set_xticklabels(ax.get_xticks(), rotation = np.deg2rad(90+360/len(label_names)))\n",
        "            #for tick in ax.get_xticklabels():\n",
        "            #  tick.set_rotation(45)\n",
        "#            for label, angle in zip(ax.get_xticklabels(), angles):\n",
        "            #labels = []\n",
        "            #for label in zip(ax.get_xticklabels()):\n",
        "            #  x,y = label.get_position()\n",
        "            #  lab = ax.text(x,y, label.get_text(), transform=label.get_transform(),\n",
        "            #                ha=label.get_ha(), va=label.get_va())\n",
        "            #  #lab.set_rotation(angle)\n",
        "            #  lab.set_rotation(10)\n",
        "            #  labels.append(lab)\n",
        "            ##ax.set_xticklabels([])\n",
        "            #ax.set_xticklabels(labels)\n",
        "            #plt.show()  \n",
        "\n",
        "#            fig = plot_sensors_connectivity(raw.info, con[:, :, 0], picks=label_names, cbar_label=method)\n",
        "          #plot_conmat_file = os.path.abspath('circle_' + fname + '.eps')\n",
        "          #fig.savefig(plot_conmat_file, facecolor='black')\n",
        "\n",
        "          #plt.close()\n",
        "          #plt.close(fig)\n",
        "          #fig.clf()\n",
        "          \n",
        "          #del fig\n",
        "\n",
        "          #if ji%100==0 :\n",
        "          #  gc.collect()\n",
        "\n",
        "        #if False:\n",
        "\n",
        "          #plt.close(fig)\n",
        "          ##fig1.close()\n",
        "          #del fig\n",
        "\n",
        "          #plt.rcParams[\"figure.figsize\"] = [7.50, 3.50]\n",
        "          #plt.rcParams[\"figure.autolayout\"] = True\n",
        "\n",
        "          #plt.figure()\n",
        "          #plt.plot([1, 2])\n",
        "\n",
        "          img_buf = io.BytesIO()\n",
        "          #plt.savefig(img_buf, format='png')\n",
        "\n",
        "          fig.savefig(img_buf, facecolor='black', format='png')\n",
        "          fig.savefig('/content/out/img_buf.png', facecolor='black', format='png')\n",
        "\n",
        "          #fig.clear()\n",
        "          #fig.clf()\n",
        "          #plt.close()\n",
        "          #ax.cla()\n",
        "\n",
        "          #plt.savefig(img_buf, facecolor='black', format='png')\n",
        "          #plt.savefig('/content/out/img_buf.png', facecolor='black', format='png')\n",
        "\n",
        "          #plt.close()\n",
        "          #plt.close(fig)\n",
        "          #fig.clf()\n",
        "\n",
        "          # Clear the current axes.\n",
        "          #plt.cla() \n",
        "          # Clear the current figure.\n",
        "          #plt.clf() \n",
        "          # Closes all the figure windows.\n",
        "          #plt.close('all')   \n",
        "          #plt.close(fig)\n",
        "          #gc.collect()\n",
        "          #del fig\n",
        "\n",
        "          #if ji%100==0 :\n",
        "          #  gc.collect()\n",
        "\n",
        "          img_buf.seek(0)\n",
        "\n",
        "          im1 = Image.open(img_buf)\n",
        "          im1.crop(0,0,576,576)\n",
        "          img_buf1 = io.BytesIO()\n",
        "          im1.write(img_buf1)\n",
        "          img_buf1.seek(0)\n",
        "\n",
        "          im = imageio.imread(img_buf1)\n",
        "          out.append_data(im)\n",
        "          img_buf.close()\n",
        "          img_buf1.close()\n",
        "\n",
        "          plt.close('all')   \n",
        "\n",
        "n_parts_now = 0\n",
        "\n",
        "#z_avg_samples=n_generate\n",
        "#for i in range(n_generate): # display separate audio for each break\n",
        "for j in range(n_parts): # display separate audio for each break\n",
        "  out_file = '/content/out/'+input_fname_name+'_circle_'+methods[0]+'_'+str(int(bands[0][0]))+'-'+str(int(bands[0][1]))+'hz_'+str(len(epochs[0].events)-2)+'_'+str(j)+'.mp4'\n",
        "  out_file_parts = '/content/out/parts/'+input_fname_name+'_circle_'+methods[0]+'_'+str(int(bands[0][0]))+'-'+str(int(bands[0][1]))+'hz_'+str(len(epochs[0].events)-2)+'_'+str(j)+'.mp4'\n",
        "\n",
        "  import os.path\n",
        "  if not os.path.isfile(out_file_parts):  \n",
        "    n_parts_now = n_parts_now + 1\n",
        "    if n_parts_now > n_parts_one_time:\n",
        "      break\n",
        "\n",
        "    if os.path.isfile(out_file):  \n",
        "      !rm {out_file}\n",
        "    out = imageio.get_writer(out_file, fps=fps)\n",
        "\n",
        "    for i in range(part_len): # display separate audio for each break\n",
        "        ji = j * part_len + i\n",
        "        \n",
        "#        if (i==0) and (n_generate-ji<part_len):\n",
        "#            psd_array=np.random.rand((n_generate-ji), dim) \n",
        "\n",
        "\n",
        "        eeg_step=ji\n",
        "        #print (f'EEG step: {(eeg_step/3):.1f} s')\n",
        "        tmin, tmax = 0+(eeg_step/fps), 2+(eeg_step/fps)  # use the first 120s of data\n",
        "        #tmin, tmax = 0+(10*eeg_step/512), 2+(10*eeg_step/512)  # use the first 120s of data\n",
        "        #fmin, fmax = 0.5, 256  # look at frequencies between 4 and 100Hz\n",
        "        #fmin, fmax = 0.5, 50  # look at frequencies between 4 and 100Hz\n",
        "        #fmin, fmax = 8, 12  # look at frequencies between 4 and 100Hz\n",
        "        #n_fft = 512  # the FFT size (n_fft). Ideally a power of 2\n",
        "        #n_fft = 1024  # the FFT size (n_fft). Ideally a power of 2\n",
        "        #n_fft = 2048  # the FFT size (n_fft). Ideally a power of 2\n",
        "        #label = mne.read_label(fname_label)\n",
        "        \n",
        "        print(str(ji) + '/' + str(n_generate))\n",
        "        #logger = logging.getLogger()\n",
        "        #logger.disabled = True\n",
        "\n",
        "        sfreq = raw.info['sfreq']  # the sampling frequency\n",
        "        \n",
        "#        psds=np.zeros(dim)\n",
        "        \n",
        "        for method in range(len(methods)):\n",
        "         for band in range(len(bands)):\n",
        "          #fmin=8.\n",
        "          #fmax=13.\n",
        "          fmin=bands[band][0]\n",
        "          fmax=bands[band][1]\n",
        "          if band == 0:\n",
        "           con, freqs, times, n_epochs, n_tapers = spectral_connectivity(\n",
        "            epochs[band][ji:ji+1], method=methods[method], mode='multitaper', sfreq=sfreq, fmin=fmin,\n",
        "#            epochs[band][ji:ji+10], method=methods[method], mode='multitaper', sfreq=sfreq, fmin=fmin,\n",
        "            fmax=fmax, faverage=True, mt_adaptive=True, n_jobs=1, verbose=50)\n",
        "          #con, freqs, times, n_epochs, n_tapers = spectral_connectivity(\n",
        "          #  epochs[band][ji,ji+1], method=methods[method], mode='multitaper', sfreq=sfreq, fmin=fmin,\n",
        "          #  fmax=fmax, faverage=True, mt_adaptive=True, n_jobs=1)\n",
        "#          psds_shift1=int(round(method*len(bands)+band)*(len(ch_names)*(len(ch_names)-1)/2))\n",
        "#          ji1=0\n",
        "#          for j1 in range(0,len(ch_names)): # display separate audio for each break\n",
        "#            for i1 in range(0,j1): # display separate audio for each break\n",
        "#              psds[ji1+psds_shift1]=(con[j1][i1][0]-0.5)*1\n",
        "#              ji1 = ji1+1\n",
        "        #psds, freqs = mne.time_frequency.psd_welch(raw, picks=picks,\n",
        "        #                 tmin=tmin, tmax=tmax, fmin=fmin, fmax=fmax,\n",
        "        #                 n_fft=n_fft)\n",
        "        #logger.disabled = False\n",
        "\n",
        "        #print(freqs)\n",
        "        #print(psds)\n",
        "        \n",
        "#        psd_array[i]=psds\n",
        "        ##z_samples = psds\n",
        "\n",
        "        #w_samples = G.mapping(torch.from_numpy(z_samples).to(device), None)  # [N, L, C]\n",
        "        #w_samples = w_samples[:, :1, :].cpu().numpy().astype(np.float32)       # [N, 1, C]\n",
        "        ##z_avg = np.mean(z_samples, axis=0)      # [1, 1, C]\n",
        "        #z_avg = np.mean(z_samples, axis=0, keepdims=True)      # [1, 1, C]\n",
        "        ##psd_array[i]=z_avg\n",
        "        #psd_array[i]=z_avg\n",
        "        #print(z_avg)\n",
        "        #z_std = (np.sum((z_samples - z_avg) ** 2) / z_avg_samples) ** 0.5\n",
        "\n",
        "        #psd_array[i]=psds\n",
        "        #psds_transpose=np.transpose(psds)\n",
        "        #plt.plot(freqs,psds_transpose)\n",
        "        #plt.xlabel('Frequency (Hz)')\n",
        "        #plt.ylabel('PSD (dB)')\n",
        "        #plt.title('Power Spectrum (PSD)')\n",
        "        #plt.show()\n",
        "#        if (i==part_len-1) or (ji==n_generate-1) :\n",
        "        if True:\n",
        "#        if False:\n",
        "#          con_res = dict()\n",
        "#          for method, c in zip(methods, con):\n",
        "#            con_res[method] = c[:, :, 0]\n",
        "#            con_res[method] = c[:, :]\n",
        "          for ii, method in enumerate(methods):\n",
        "#            fig,_ = plot_connectivity_circle(con_res[method], label_names, n_lines=300, \n",
        "\n",
        "#            plot_connectivity_circle(con[:, :, 0], label_names, n_lines=300, \n",
        "#                                             title=method, show = False)\n",
        "            #px = 1/plt.rcParams['figure.dpi']  # pixel in inches\n",
        "            #fig = plt.figure(figsize=(576*px, 576*px))\n",
        "#            fig,_ = \n",
        "\n",
        "#            fig,ax = plot_connectivity_circle(con[:, :, 0], label_names, n_lines=300, \n",
        "#                                             title=method, show = False, vmin=0, vmax=1)#, fig=fig)\n",
        "            fig,ax = plot_connectivity_circle(con[:, :, 0], label_names, n_lines=300, \n",
        "#                                             title=input_fname_name+'_circle_'+methods[0]+'_'+str(int(bands[0][0]))+'-'+str(int(bands[0][1]))+'hz_'+str(len(epochs[0].events)-2), \n",
        "                                             title=input_fname_name+'_circle_'+methods[0]+'_'+str(int(bands[0][0]))+'-'+str(int(bands[0][1]))+'hz_'+str(len(epochs[0].events)-2)+'\\n'+str(ji), \n",
        "#                                             title=input_fname_name+'_circle_'+methods[0]+'_'+str(int(bands[0][0]))+'-'+str(int(bands[0][1]))+'hz_'+str(len(epochs[0].events)-2)+'_'+str(ji), \n",
        "                                             show = False, vmin=0, vmax=1, fontsize_names=8)#16)#, fig=fig)\n",
        "            #ax.set_theta_offset(np.deg2rad(360/len(label_names)))\n",
        "#            fig = plot_sensors_connectivity(raw.info, con[:, :, 0], picks=label_names, cbar_label=method)\n",
        "          #plot_conmat_file = os.path.abspath('circle_' + fname + '.eps')\n",
        "          #fig.savefig(plot_conmat_file, facecolor='black')\n",
        "\n",
        "          #plt.close()\n",
        "          #plt.close(fig)\n",
        "          #fig.clf()\n",
        "          \n",
        "          #del fig\n",
        "\n",
        "          #if ji%100==0 :\n",
        "          #  gc.collect()\n",
        "\n",
        "#        if False:\n",
        "        if True:\n",
        "\n",
        "          #plt.close(fig)\n",
        "          ##fig1.close()\n",
        "          #del fig\n",
        "\n",
        "          #plt.rcParams[\"figure.figsize\"] = [7.50, 3.50]\n",
        "          #plt.rcParams[\"figure.autolayout\"] = True\n",
        "\n",
        "          #plt.figure()\n",
        "          #plt.plot([1, 2])\n",
        "\n",
        "          img_buf = io.BytesIO()\n",
        "          #plt.savefig(img_buf, format='png')\n",
        "\n",
        "          #fig.savefig(img_buf, facecolor='black', format='png')\n",
        "          #fig.savefig('/content/out/img_buf.png', facecolor='black', format='png')\n",
        "\n",
        "          #fig.clf()\n",
        "          #plt.close()\n",
        "          #ax.cla()\n",
        "\n",
        "          #import matplotlib.transforms\n",
        "          #plt.savefig(img_buf, facecolor='black', format='png', \n",
        "          #            bbox_inches=matplotlib.transforms.Bbox([[100, 100], [100, 100]]))\n",
        "          #fig.set_size_inches(8.2, 8.11)\n",
        "\n",
        "#          plt.savefig(img_buf, facecolor='black', format='png', bbox_inches='tight')\n",
        "          plt.savefig(img_buf, facecolor='black', format='png')#, bbox_inches='tight')\n",
        "          #plt.savefig('/content/out/img_buf.png', facecolor='black', format='png')\n",
        "\n",
        "          #plt.close()\n",
        "          #plt.close(fig)\n",
        "          #fig.clf()\n",
        "\n",
        "          # Clear the current axes.\n",
        "          #plt.cla() \n",
        "          # Clear the current figure.\n",
        "          #plt.clf() \n",
        "          # Closes all the figure windows.\n",
        "          #plt.close('all')   \n",
        "          #plt.close(fig)\n",
        "          #gc.collect()\n",
        "          #del fig\n",
        "          #del ax\n",
        "\n",
        "          #if ji%100==0 :\n",
        "          #  gc.collect()\n",
        "\n",
        "          img_buf.seek(0)\n",
        "\n",
        "          im1 = Image.open(img_buf)\n",
        "\n",
        "          size = 432\n",
        "          im2 = im1.crop((35, 70, 35+size, 70+size))\n",
        "          img_buf1 = io.BytesIO()\n",
        "          im2.save(img_buf1, format='png')\n",
        "          img_buf1.seek(0)\n",
        "\n",
        "          im = imageio.imread(img_buf1)\n",
        "          #out.append_data(im)\n",
        "          img_buf.close()\n",
        "          img_buf1.close()\n",
        "\n",
        "#          im = imageio.imread(img_buf)\n",
        "#          img_buf.close()\n",
        "\n",
        "          #print(im.shape)\n",
        "          #(412, 399, 4)\n",
        "          im_arr = np.array(im)\n",
        "          #print(im_arr.shape)\n",
        "          #im_arr.reshape(416, 416, 4)\n",
        "          im_arr_rot = np.rot90(im_arr)\n",
        "          #im_arr_rot.resize((400, 416))\n",
        "\n",
        "          out.append_data(im_arr_rot)\n",
        "          imageio.imwrite('/content/out/img_buf.png', im_arr_rot, format='png')\n",
        "#          out.append_data(im)\n",
        "          #del img_buf\n",
        "          #del im\n",
        "\n",
        "          #if ji == 100:\n",
        "          #  out.close()\n",
        "          #  break\n",
        "\n",
        "          #im = img_buf.getvalue()\n",
        "\n",
        "          #im = Image.open(img_buf)\n",
        "#          im.copy()\n",
        "          #im.show(title=\"My Image\")\n",
        "          \n",
        "          #out.append_data(np.asarray(im))\n",
        "\n",
        "          #im.close()\n",
        "\n",
        "          #img_buf.close()\n",
        "\n",
        "          #  _z = psd_array * vol\n",
        "          #  images = Gs.run(_z, None, **Gs_kwargs) # [minibatch, height, width, channel]\n",
        "          #  for image in images:\n",
        "              #imgs1.append(image)\n",
        "#              out.append_data(np.asarray(PIL.Image.fromarray(image, 'RGB')))\n",
        "\n",
        "              #imgs.append(PIL.Image.fromarray(image, 'RGB'))\n",
        "            #out.append(PIL.Image.fromarray(images[0], 'RGB'))\n",
        "            #_G_z = sess.run(G_z, {z: _z})[:,:,0]\n",
        "            #if j==0:\n",
        "            #    _G_z_full=_G_z\n",
        "            #else:\n",
        "            #    _G_z_full=np.append(_G_z_full,_G_z)\n",
        "\n",
        "        #if True:\n",
        "        #  plot_func(con,methods,label_names,out)\n",
        "          #if ji%100==0 :\n",
        "          #  gc.collect()\n",
        "          if (ji==n_generate-1) :\n",
        "                break\n",
        "    out.close()\n",
        "    !mv {out_file} {out_file_parts}\n",
        "\n",
        "\n",
        "#print(psd_array)\n",
        "#print(psd_array.shape)\n",
        "#print(psd_array.ndim)\n",
        "#_z = psd_array / 5.\n",
        "#_z = psd_array / 10.\n",
        "#_z = (psd_array * 2.) - 1.\n",
        "#_G_z = sess.run(G_z, {z: _z})[:,:,0]\n",
        "\n",
        "# display(Audio(_G_z.flatten(), rate=39936)) # display all in one audio\n",
        "\n",
        "#for i in range(n_generate): # display separate audio for each break\n",
        "  #print(i)\n",
        "  #display(Audio(np.tile(_G_z[i][1:_G_z[i].ndim/2], 2), rate=39936)) # change rate for different tempo\n",
        "  #display(Audio(np.tile(_G_z[i][1:32768], 2), rate=32768)) # change rate for different tempo\n",
        "  #display(Audio(np.tile(_G_z[i], 1), rate=32768)) # change rate for different tempo\n",
        "#out.close()"
      ],
      "metadata": {
        "id": "-kCJEYReeKDB",
        "colab": {
          "base_uri": "https://localhost:8080/"
        },
        "outputId": "63f992fc-029a-4f9c-acde-2f876bd61f1c"
      },
      "execution_count": null,
      "outputs": [
        {
          "output_type": "stream",
          "name": "stdout",
          "text": [
            "3000/23692\n",
            "3001/23692\n",
            "3002/23692\n",
            "3003/23692\n",
            "3004/23692\n",
            "3005/23692\n",
            "3006/23692\n",
            "3007/23692\n",
            "3008/23692\n",
            "3009/23692\n",
            "3010/23692\n",
            "3011/23692\n",
            "3012/23692\n",
            "3013/23692\n",
            "3014/23692\n"
          ]
        },
        {
          "output_type": "stream",
          "name": "stderr",
          "text": [
            "/home/dmitryneuro/colab/env/lib/python3.7/site-packages/mne/viz/circle.py:278: RuntimeWarning: More than 20 figures have been opened. Figures created through the pyplot interface (`matplotlib.pyplot.figure`) are retained until explicitly closed and may consume too much memory. (To control this warning, see the rcParam `figure.max_open_warning`).\n",
            "  fig = plt.figure(figsize=(8, 8), facecolor=facecolor)\n"
          ]
        },
        {
          "output_type": "stream",
          "name": "stdout",
          "text": [
            "3015/23692\n",
            "3016/23692\n",
            "3017/23692\n",
            "3018/23692\n",
            "3019/23692\n",
            "3020/23692\n",
            "3021/23692\n",
            "3022/23692\n",
            "3023/23692\n",
            "3024/23692\n",
            "3025/23692\n",
            "3026/23692\n",
            "3027/23692\n",
            "3028/23692\n",
            "3029/23692\n",
            "3030/23692\n",
            "3031/23692\n",
            "3032/23692\n",
            "3033/23692\n",
            "3034/23692\n",
            "3035/23692\n",
            "3036/23692\n",
            "3037/23692\n",
            "3038/23692\n",
            "3039/23692\n",
            "3040/23692\n",
            "3041/23692\n",
            "3042/23692\n",
            "3043/23692\n",
            "3044/23692\n",
            "3045/23692\n",
            "3046/23692\n",
            "3047/23692\n",
            "3048/23692\n",
            "3049/23692\n",
            "3050/23692\n",
            "3051/23692\n",
            "3052/23692\n",
            "3053/23692\n",
            "3054/23692\n",
            "3055/23692\n",
            "3056/23692\n",
            "3057/23692\n",
            "3058/23692\n",
            "3059/23692\n",
            "3060/23692\n",
            "3061/23692\n",
            "3062/23692\n",
            "3063/23692\n",
            "3064/23692\n",
            "3065/23692\n",
            "3066/23692\n",
            "3067/23692\n",
            "3068/23692\n",
            "3069/23692\n",
            "3070/23692\n",
            "3071/23692\n",
            "3072/23692\n",
            "3073/23692\n",
            "3074/23692\n",
            "3075/23692\n",
            "3076/23692\n",
            "3077/23692\n",
            "3078/23692\n",
            "3079/23692\n",
            "3080/23692\n",
            "3081/23692\n",
            "3082/23692\n",
            "3083/23692\n",
            "3084/23692\n",
            "3085/23692\n",
            "3086/23692\n",
            "3087/23692\n",
            "3088/23692\n",
            "3089/23692\n",
            "3090/23692\n",
            "3091/23692\n",
            "3092/23692\n",
            "3093/23692\n",
            "3094/23692\n",
            "3095/23692\n",
            "3096/23692\n",
            "3097/23692\n",
            "3098/23692\n",
            "3099/23692\n",
            "3100/23692\n",
            "3101/23692\n",
            "3102/23692\n",
            "3103/23692\n",
            "3104/23692\n",
            "3105/23692\n",
            "3106/23692\n",
            "3107/23692\n",
            "3108/23692\n",
            "3109/23692\n",
            "3110/23692\n",
            "3111/23692\n",
            "3112/23692\n",
            "3113/23692\n",
            "3114/23692\n",
            "3115/23692\n",
            "3116/23692\n",
            "3117/23692\n",
            "3118/23692\n",
            "3119/23692\n",
            "3120/23692\n",
            "3121/23692\n",
            "3122/23692\n",
            "3123/23692\n",
            "3124/23692\n",
            "3125/23692\n",
            "3126/23692\n",
            "3127/23692\n",
            "3128/23692\n",
            "3129/23692\n",
            "3130/23692\n",
            "3131/23692\n",
            "3132/23692\n",
            "3133/23692\n",
            "3134/23692\n",
            "3135/23692\n",
            "3136/23692\n",
            "3137/23692\n",
            "3138/23692\n",
            "3139/23692\n",
            "3140/23692\n",
            "3141/23692\n",
            "3142/23692\n",
            "3143/23692\n",
            "3144/23692\n",
            "3145/23692\n",
            "3146/23692\n",
            "3147/23692\n",
            "3148/23692\n",
            "3149/23692\n",
            "3150/23692\n",
            "3151/23692\n",
            "3152/23692\n",
            "3153/23692\n",
            "3154/23692\n",
            "3155/23692\n",
            "3156/23692\n",
            "3157/23692\n",
            "3158/23692\n",
            "3159/23692\n",
            "3160/23692\n",
            "3161/23692\n",
            "3162/23692\n",
            "3163/23692\n",
            "3164/23692\n",
            "3165/23692\n",
            "3166/23692\n",
            "3167/23692\n",
            "3168/23692\n",
            "3169/23692\n",
            "3170/23692\n",
            "3171/23692\n",
            "3172/23692\n",
            "3173/23692\n",
            "3174/23692\n",
            "3175/23692\n",
            "3176/23692\n",
            "3177/23692\n",
            "3178/23692\n",
            "3179/23692\n",
            "3180/23692\n",
            "3181/23692\n",
            "3182/23692\n",
            "3183/23692\n",
            "3184/23692\n",
            "3185/23692\n",
            "3186/23692\n",
            "3187/23692\n",
            "3188/23692\n",
            "3189/23692\n",
            "3190/23692\n",
            "3191/23692\n",
            "3192/23692\n",
            "3193/23692\n",
            "3194/23692\n",
            "3195/23692\n",
            "3196/23692\n",
            "3197/23692\n",
            "3198/23692\n",
            "3199/23692\n",
            "3200/23692\n",
            "3201/23692\n",
            "3202/23692\n",
            "3203/23692\n",
            "3204/23692\n",
            "3205/23692\n",
            "3206/23692\n",
            "3207/23692\n",
            "3208/23692\n",
            "3209/23692\n",
            "3210/23692\n",
            "3211/23692\n",
            "3212/23692\n",
            "3213/23692\n",
            "3214/23692\n",
            "3215/23692\n",
            "3216/23692\n",
            "3217/23692\n",
            "3218/23692\n",
            "3219/23692\n",
            "3220/23692\n",
            "3221/23692\n",
            "3222/23692\n",
            "3223/23692\n",
            "3224/23692\n",
            "3225/23692\n",
            "3226/23692\n",
            "3227/23692\n",
            "3228/23692\n",
            "3229/23692\n",
            "3230/23692\n",
            "3231/23692\n",
            "3232/23692\n",
            "3233/23692\n",
            "3234/23692\n",
            "3235/23692\n",
            "3236/23692\n",
            "3237/23692\n",
            "3238/23692\n",
            "3239/23692\n",
            "3240/23692\n",
            "3241/23692\n",
            "3242/23692\n",
            "3243/23692\n",
            "3244/23692\n",
            "3245/23692\n",
            "3246/23692\n",
            "3247/23692\n",
            "3248/23692\n",
            "3249/23692\n",
            "3250/23692\n",
            "3251/23692\n",
            "3252/23692\n",
            "3253/23692\n",
            "3254/23692\n",
            "3255/23692\n",
            "3256/23692\n",
            "3257/23692\n",
            "3258/23692\n",
            "3259/23692\n",
            "3260/23692\n",
            "3261/23692\n",
            "3262/23692\n",
            "3263/23692\n",
            "3264/23692\n",
            "3265/23692\n",
            "3266/23692\n",
            "3267/23692\n",
            "3268/23692\n",
            "3269/23692\n",
            "3270/23692\n",
            "3271/23692\n",
            "3272/23692\n",
            "3273/23692\n",
            "3274/23692\n",
            "3275/23692\n",
            "3276/23692\n",
            "3277/23692\n",
            "3278/23692\n",
            "3279/23692\n",
            "3280/23692\n",
            "3281/23692\n",
            "3282/23692\n",
            "3283/23692\n",
            "3284/23692\n",
            "3285/23692\n",
            "3286/23692\n",
            "3287/23692\n",
            "3288/23692\n",
            "3289/23692\n",
            "3290/23692\n",
            "3291/23692\n",
            "3292/23692\n",
            "3293/23692\n",
            "3294/23692\n",
            "3295/23692\n",
            "3296/23692\n",
            "3297/23692\n",
            "3298/23692\n",
            "3299/23692\n",
            "3300/23692\n",
            "3301/23692\n",
            "3302/23692\n",
            "3303/23692\n",
            "3304/23692\n",
            "3305/23692\n",
            "3306/23692\n",
            "3307/23692\n",
            "3308/23692\n",
            "3309/23692\n",
            "3310/23692\n",
            "3311/23692\n",
            "3312/23692\n",
            "3313/23692\n",
            "3314/23692\n",
            "3315/23692\n",
            "3316/23692\n",
            "3317/23692\n",
            "3318/23692\n",
            "3319/23692\n",
            "3320/23692\n",
            "3321/23692\n",
            "3322/23692\n",
            "3323/23692\n",
            "3324/23692\n",
            "3325/23692\n",
            "3326/23692\n",
            "3327/23692\n",
            "3328/23692\n",
            "3329/23692\n",
            "3330/23692\n",
            "3331/23692\n",
            "3332/23692\n",
            "3333/23692\n",
            "3334/23692\n",
            "3335/23692\n",
            "3336/23692\n",
            "3337/23692\n",
            "3338/23692\n",
            "3339/23692\n",
            "3340/23692\n",
            "3341/23692\n",
            "3342/23692\n",
            "3343/23692\n",
            "3344/23692\n",
            "3345/23692\n",
            "3346/23692\n",
            "3347/23692\n",
            "3348/23692\n",
            "3349/23692\n",
            "3350/23692\n",
            "3351/23692\n",
            "3352/23692\n",
            "3353/23692\n",
            "3354/23692\n",
            "3355/23692\n",
            "3356/23692\n",
            "3357/23692\n",
            "3358/23692\n",
            "3359/23692\n",
            "3360/23692\n",
            "3361/23692\n",
            "3362/23692\n",
            "3363/23692\n",
            "3364/23692\n",
            "3365/23692\n",
            "3366/23692\n",
            "3367/23692\n",
            "3368/23692\n",
            "3369/23692\n",
            "3370/23692\n",
            "3371/23692\n",
            "3372/23692\n",
            "3373/23692\n",
            "3374/23692\n",
            "3375/23692\n",
            "3376/23692\n",
            "3377/23692\n",
            "3378/23692\n",
            "3379/23692\n",
            "3380/23692\n",
            "3381/23692\n",
            "3382/23692\n",
            "3383/23692\n",
            "3384/23692\n",
            "3385/23692\n",
            "3386/23692\n",
            "3387/23692\n",
            "3388/23692\n",
            "3389/23692\n",
            "3390/23692\n",
            "3391/23692\n",
            "3392/23692\n",
            "3393/23692\n",
            "3394/23692\n",
            "3395/23692\n",
            "3396/23692\n",
            "3397/23692\n",
            "3398/23692\n",
            "3399/23692\n",
            "3400/23692\n",
            "3401/23692\n",
            "3402/23692\n",
            "3403/23692\n",
            "3404/23692\n",
            "3405/23692\n",
            "3406/23692\n",
            "3407/23692\n",
            "3408/23692\n",
            "3409/23692\n",
            "3410/23692\n",
            "3411/23692\n",
            "3412/23692\n",
            "3413/23692\n",
            "3414/23692\n",
            "3415/23692\n",
            "3416/23692\n",
            "3417/23692\n",
            "3418/23692\n",
            "3419/23692\n",
            "3420/23692\n",
            "3421/23692\n",
            "3422/23692\n",
            "3423/23692\n",
            "3424/23692\n",
            "3425/23692\n",
            "3426/23692\n",
            "3427/23692\n",
            "3428/23692\n",
            "3429/23692\n",
            "3430/23692\n",
            "3431/23692\n",
            "3432/23692\n",
            "3433/23692\n",
            "3434/23692\n",
            "3435/23692\n",
            "3436/23692\n",
            "3437/23692\n",
            "3438/23692\n",
            "3439/23692\n",
            "3440/23692\n",
            "3441/23692\n",
            "3442/23692\n",
            "3443/23692\n",
            "3444/23692\n",
            "3445/23692\n",
            "3446/23692\n",
            "3447/23692\n",
            "3448/23692\n",
            "3449/23692\n",
            "3450/23692\n",
            "3451/23692\n",
            "3452/23692\n",
            "3453/23692\n",
            "3454/23692\n",
            "3455/23692\n",
            "3456/23692\n",
            "3457/23692\n",
            "3458/23692\n",
            "3459/23692\n",
            "3460/23692\n",
            "3461/23692\n",
            "3462/23692\n",
            "3463/23692\n",
            "3464/23692\n",
            "3465/23692\n",
            "3466/23692\n",
            "3467/23692\n",
            "3468/23692\n",
            "3469/23692\n",
            "3470/23692\n",
            "3471/23692\n",
            "3472/23692\n",
            "3473/23692\n",
            "3474/23692\n",
            "3475/23692\n",
            "3476/23692\n",
            "3477/23692\n",
            "3478/23692\n",
            "3479/23692\n",
            "3480/23692\n",
            "3481/23692\n",
            "3482/23692\n",
            "3483/23692\n",
            "3484/23692\n",
            "3485/23692\n",
            "3486/23692\n",
            "3487/23692\n",
            "3488/23692\n",
            "3489/23692\n",
            "3490/23692\n",
            "3491/23692\n",
            "3492/23692\n",
            "3493/23692\n",
            "3494/23692\n",
            "3495/23692\n",
            "3496/23692\n",
            "3497/23692\n",
            "3498/23692\n",
            "3499/23692\n",
            "3500/23692\n",
            "3501/23692\n",
            "3502/23692\n",
            "3503/23692\n",
            "3504/23692\n",
            "3505/23692\n",
            "3506/23692\n",
            "3507/23692\n",
            "3508/23692\n",
            "3509/23692\n",
            "3510/23692\n",
            "3511/23692\n",
            "3512/23692\n",
            "3513/23692\n",
            "3514/23692\n",
            "3515/23692\n",
            "3516/23692\n",
            "3517/23692\n",
            "3518/23692\n",
            "3519/23692\n",
            "3520/23692\n",
            "3521/23692\n",
            "3522/23692\n",
            "3523/23692\n",
            "3524/23692\n",
            "3525/23692\n",
            "3526/23692\n",
            "3527/23692\n",
            "3528/23692\n",
            "3529/23692\n",
            "3530/23692\n",
            "3531/23692\n",
            "3532/23692\n",
            "3533/23692\n",
            "3534/23692\n",
            "3535/23692\n",
            "3536/23692\n",
            "3537/23692\n",
            "3538/23692\n",
            "3539/23692\n",
            "3540/23692\n",
            "3541/23692\n",
            "3542/23692\n",
            "3543/23692\n",
            "3544/23692\n",
            "3545/23692\n",
            "3546/23692\n",
            "3547/23692\n",
            "3548/23692\n",
            "3549/23692\n",
            "3550/23692\n",
            "3551/23692\n",
            "3552/23692\n",
            "3553/23692\n",
            "3554/23692\n",
            "3555/23692\n",
            "3556/23692\n",
            "3557/23692\n",
            "3558/23692\n",
            "3559/23692\n",
            "3560/23692\n",
            "3561/23692\n",
            "3562/23692\n",
            "3563/23692\n",
            "3564/23692\n",
            "3565/23692\n",
            "3566/23692\n",
            "3567/23692\n",
            "3568/23692\n",
            "3569/23692\n",
            "3570/23692\n",
            "3571/23692\n",
            "3572/23692\n",
            "3573/23692\n",
            "3574/23692\n",
            "3575/23692\n",
            "3576/23692\n",
            "3577/23692\n",
            "3578/23692\n",
            "3579/23692\n",
            "3580/23692\n",
            "3581/23692\n",
            "3582/23692\n",
            "3583/23692\n",
            "3584/23692\n",
            "3585/23692\n",
            "3586/23692\n",
            "3587/23692\n",
            "3588/23692\n",
            "3589/23692\n",
            "3590/23692\n",
            "3591/23692\n",
            "3592/23692\n",
            "3593/23692\n",
            "3594/23692\n",
            "3595/23692\n",
            "3596/23692\n",
            "3597/23692\n",
            "3598/23692\n",
            "3599/23692\n",
            "3600/23692\n",
            "3601/23692\n",
            "3602/23692\n",
            "3603/23692\n",
            "3604/23692\n",
            "3605/23692\n",
            "3606/23692\n",
            "3607/23692\n",
            "3608/23692\n",
            "3609/23692\n",
            "3610/23692\n",
            "3611/23692\n",
            "3612/23692\n",
            "3613/23692\n",
            "3614/23692\n",
            "3615/23692\n",
            "3616/23692\n",
            "3617/23692\n",
            "3618/23692\n",
            "3619/23692\n",
            "3620/23692\n",
            "3621/23692\n",
            "3622/23692\n",
            "3623/23692\n",
            "3624/23692\n",
            "3625/23692\n",
            "3626/23692\n",
            "3627/23692\n",
            "3628/23692\n",
            "3629/23692\n",
            "3630/23692\n",
            "3631/23692\n",
            "3632/23692\n",
            "3633/23692\n",
            "3634/23692\n",
            "3635/23692\n",
            "3636/23692\n",
            "3637/23692\n",
            "3638/23692\n",
            "3639/23692\n",
            "3640/23692\n",
            "3641/23692\n",
            "3642/23692\n",
            "3643/23692\n",
            "3644/23692\n",
            "3645/23692\n",
            "3646/23692\n",
            "3647/23692\n",
            "3648/23692\n",
            "3649/23692\n",
            "3650/23692\n",
            "3651/23692\n",
            "3652/23692\n",
            "3653/23692\n",
            "3654/23692\n",
            "3655/23692\n",
            "3656/23692\n",
            "3657/23692\n",
            "3658/23692\n",
            "3659/23692\n",
            "3660/23692\n",
            "3661/23692\n",
            "3662/23692\n",
            "3663/23692\n",
            "3664/23692\n",
            "3665/23692\n",
            "3666/23692\n",
            "3667/23692\n",
            "3668/23692\n",
            "3669/23692\n",
            "3670/23692\n",
            "3671/23692\n",
            "3672/23692\n",
            "3673/23692\n",
            "3674/23692\n",
            "3675/23692\n",
            "3676/23692\n",
            "3677/23692\n",
            "3678/23692\n",
            "3679/23692\n",
            "3680/23692\n",
            "3681/23692\n",
            "3682/23692\n",
            "3683/23692\n",
            "3684/23692\n",
            "3685/23692\n",
            "3686/23692\n",
            "3687/23692\n",
            "3688/23692\n",
            "3689/23692\n",
            "3690/23692\n",
            "3691/23692\n",
            "3692/23692\n",
            "3693/23692\n",
            "3694/23692\n",
            "3695/23692\n",
            "3696/23692\n",
            "3697/23692\n",
            "3698/23692\n",
            "3699/23692\n",
            "3700/23692\n",
            "3701/23692\n",
            "3702/23692\n",
            "3703/23692\n",
            "3704/23692\n",
            "3705/23692\n",
            "3706/23692\n",
            "3707/23692\n",
            "3708/23692\n",
            "3709/23692\n",
            "3710/23692\n",
            "3711/23692\n",
            "3712/23692\n",
            "3713/23692\n",
            "3714/23692\n",
            "3715/23692\n",
            "3716/23692\n",
            "3717/23692\n",
            "3718/23692\n",
            "3719/23692\n",
            "3720/23692\n",
            "3721/23692\n",
            "3722/23692\n",
            "3723/23692\n",
            "3724/23692\n",
            "3725/23692\n",
            "3726/23692\n",
            "3727/23692\n",
            "3728/23692\n",
            "3729/23692\n",
            "3730/23692\n",
            "3731/23692\n",
            "3732/23692\n",
            "3733/23692\n",
            "3734/23692\n",
            "3735/23692\n",
            "3736/23692\n",
            "3737/23692\n",
            "3738/23692\n",
            "3739/23692\n",
            "3740/23692\n",
            "3741/23692\n",
            "3742/23692\n",
            "3743/23692\n",
            "3744/23692\n",
            "3745/23692\n",
            "3746/23692\n",
            "3747/23692\n",
            "3748/23692\n",
            "3749/23692\n",
            "3750/23692\n",
            "3751/23692\n",
            "3752/23692\n",
            "3753/23692\n",
            "3754/23692\n",
            "3755/23692\n",
            "3756/23692\n",
            "3757/23692\n",
            "3758/23692\n",
            "3759/23692\n",
            "3760/23692\n",
            "3761/23692\n",
            "3762/23692\n",
            "3763/23692\n",
            "3764/23692\n",
            "3765/23692\n",
            "3766/23692\n",
            "3767/23692\n",
            "3768/23692\n",
            "3769/23692\n",
            "3770/23692\n",
            "3771/23692\n",
            "3772/23692\n",
            "3773/23692\n",
            "3774/23692\n",
            "3775/23692\n",
            "3776/23692\n",
            "3777/23692\n",
            "3778/23692\n",
            "3779/23692\n",
            "3780/23692\n",
            "3781/23692\n",
            "3782/23692\n",
            "3783/23692\n",
            "3784/23692\n",
            "3785/23692\n",
            "3786/23692\n",
            "3787/23692\n",
            "3788/23692\n",
            "3789/23692\n",
            "3790/23692\n",
            "3791/23692\n",
            "3792/23692\n",
            "3793/23692\n",
            "3794/23692\n",
            "3795/23692\n",
            "3796/23692\n",
            "3797/23692\n",
            "3798/23692\n",
            "3799/23692\n",
            "3800/23692\n",
            "3801/23692\n",
            "3802/23692\n",
            "3803/23692\n",
            "3804/23692\n",
            "3805/23692\n",
            "3806/23692\n",
            "3807/23692\n",
            "3808/23692\n",
            "3809/23692\n",
            "3810/23692\n",
            "3811/23692\n",
            "3812/23692\n",
            "3813/23692\n",
            "3814/23692\n",
            "3815/23692\n",
            "3816/23692\n",
            "3817/23692\n",
            "3818/23692\n",
            "3819/23692\n",
            "3820/23692\n",
            "3821/23692\n",
            "3822/23692\n",
            "3823/23692\n",
            "3824/23692\n",
            "3825/23692\n",
            "3826/23692\n",
            "3827/23692\n",
            "3828/23692\n",
            "3829/23692\n",
            "3830/23692\n",
            "3831/23692\n",
            "3832/23692\n",
            "3833/23692\n",
            "3834/23692\n",
            "3835/23692\n",
            "3836/23692\n",
            "3837/23692\n",
            "3838/23692\n",
            "3839/23692\n",
            "3840/23692\n",
            "3841/23692\n",
            "3842/23692\n",
            "3843/23692\n",
            "3844/23692\n",
            "3845/23692\n",
            "3846/23692\n",
            "3847/23692\n",
            "3848/23692\n",
            "3849/23692\n",
            "3850/23692\n",
            "3851/23692\n",
            "3852/23692\n",
            "3853/23692\n",
            "3854/23692\n",
            "3855/23692\n",
            "3856/23692\n",
            "3857/23692\n",
            "3858/23692\n",
            "3859/23692\n",
            "3860/23692\n",
            "3861/23692\n",
            "3862/23692\n",
            "3863/23692\n",
            "3864/23692\n",
            "3865/23692\n",
            "3866/23692\n",
            "3867/23692\n",
            "3868/23692\n",
            "3869/23692\n",
            "3870/23692\n",
            "3871/23692\n",
            "3872/23692\n",
            "3873/23692\n",
            "3874/23692\n",
            "3875/23692\n",
            "3876/23692\n",
            "3877/23692\n",
            "3878/23692\n",
            "3879/23692\n",
            "3880/23692\n",
            "3881/23692\n",
            "3882/23692\n",
            "3883/23692\n",
            "3884/23692\n",
            "3885/23692\n",
            "3886/23692\n",
            "3887/23692\n",
            "3888/23692\n",
            "3889/23692\n",
            "3890/23692\n",
            "3891/23692\n",
            "3892/23692\n",
            "3893/23692\n",
            "3894/23692\n",
            "3895/23692\n",
            "3896/23692\n",
            "3897/23692\n",
            "3898/23692\n",
            "3899/23692\n",
            "3900/23692\n",
            "3901/23692\n",
            "3902/23692\n",
            "3903/23692\n",
            "3904/23692\n",
            "3905/23692\n",
            "3906/23692\n",
            "3907/23692\n",
            "3908/23692\n",
            "3909/23692\n",
            "3910/23692\n",
            "3911/23692\n",
            "3912/23692\n",
            "3913/23692\n",
            "3914/23692\n",
            "3915/23692\n",
            "3916/23692\n",
            "3917/23692\n",
            "3918/23692\n",
            "3919/23692\n",
            "3920/23692\n",
            "3921/23692\n",
            "3922/23692\n",
            "3923/23692\n",
            "3924/23692\n",
            "3925/23692\n",
            "3926/23692\n",
            "3927/23692\n",
            "3928/23692\n",
            "3929/23692\n",
            "3930/23692\n",
            "3931/23692\n",
            "3932/23692\n",
            "3933/23692\n",
            "3934/23692\n",
            "3935/23692\n",
            "3936/23692\n",
            "3937/23692\n",
            "3938/23692\n",
            "3939/23692\n",
            "3940/23692\n",
            "3941/23692\n",
            "3942/23692\n",
            "3943/23692\n",
            "3944/23692\n",
            "3945/23692\n",
            "3946/23692\n",
            "3947/23692\n",
            "3948/23692\n",
            "3949/23692\n",
            "3950/23692\n",
            "3951/23692\n",
            "3952/23692\n",
            "3953/23692\n",
            "3954/23692\n",
            "3955/23692\n",
            "3956/23692\n",
            "3957/23692\n",
            "3958/23692\n",
            "3959/23692\n",
            "3960/23692\n",
            "3961/23692\n",
            "3962/23692\n",
            "3963/23692\n",
            "3964/23692\n",
            "3965/23692\n",
            "3966/23692\n",
            "3967/23692\n",
            "3968/23692\n",
            "3969/23692\n",
            "3970/23692\n",
            "3971/23692\n",
            "3972/23692\n",
            "3973/23692\n",
            "3974/23692\n",
            "3975/23692\n",
            "3976/23692\n",
            "3977/23692\n",
            "3978/23692\n",
            "3979/23692\n",
            "3980/23692\n",
            "3981/23692\n",
            "3982/23692\n",
            "3983/23692\n",
            "3984/23692\n",
            "3985/23692\n",
            "3986/23692\n",
            "3987/23692\n",
            "3988/23692\n",
            "3989/23692\n",
            "3990/23692\n",
            "3991/23692\n",
            "3992/23692\n",
            "3993/23692\n",
            "3994/23692\n",
            "3995/23692\n"
          ]
        }
      ]
    },
    {
      "cell_type": "code",
      "source": [
        "!mkdir '/content/out/parts'\n",
        "out_file_parts_txt = '/content/out/parts/'+input_fname_name+'_circle_'+methods[0]+'_'+str(int(bands[0][0]))+'-'+str(int(bands[0][1]))+'hz_'+str(len(epochs[0].events)-2)+'.txt'\n",
        "!rm {out_file_parts_txt}\n",
        "out_file_mp4 = '/content/out/'+input_fname_name+'_circle_'+methods[0]+'_'+str(int(bands[0][0]))+'-'+str(int(bands[0][1]))+'hz_'+str(len(epochs[0].events)-2)+'.mp4'\n",
        "with open(out_file_parts_txt, 'a') as the_file:\n",
        " for j in range(n_parts): # display separate audio for each break\n",
        "  out_file_part = '/content/out/parts/'+input_fname_name+'_circle_'+methods[0]+'_'+str(int(bands[0][0]))+'-'+str(int(bands[0][1]))+'hz_'+str(len(epochs[0].events)-2)+'_'+str(j)+'.mp4'\n",
        "  the_file.write(\"file '\")\n",
        "  the_file.write(out_file_part)\n",
        "  the_file.write(\"'\\n\")\n",
        "#  import os.path\n",
        "#  if not os.path.isfile(out_file):  \n",
        "#    out = imageio.get_writer(out_file, fps=fps)\n",
        "!rm {out_file_mp4}\n",
        "!ffmpeg -f concat -safe 0 -i {out_file_parts_txt} -c copy {out_file_mp4}\n",
        "#!ffmpeg -vfilters \"rotate=90\" -i {out_file_mp4} {out_file_mp4}\n"
      ],
      "metadata": {
        "id": "qlkKcr7c-YeD"
      },
      "execution_count": null,
      "outputs": []
    },
    {
      "cell_type": "code",
      "source": [
        "stop"
      ],
      "metadata": {
        "id": "ClyW01tQg1Os"
      },
      "execution_count": null,
      "outputs": []
    },
    {
      "cell_type": "code",
      "source": [
        "stop"
      ],
      "metadata": {
        "id": "meVp0N8ad8Vu"
      },
      "execution_count": null,
      "outputs": []
    },
    {
      "cell_type": "code",
      "source": [
        "for size in range(20):\n",
        "          img_buf = io.BytesIO()\n",
        "\n",
        "#          fig.set_size_inches(5.0+size/10.0,5.0+size/10.0)\n",
        "#          fig.set_size_inches(5.0+15/10.0,5.0+15/10.0)\n",
        "          #fig.set_size_inches(6.1,6.1)\n",
        "#          fig.set_size_inches(6.5,6.5)\n",
        "          fig.set_dpi(70+size)\n",
        "          print(size)\n",
        "#          fig.set_size_inches(65,65)\n",
        "\n",
        "          plt.savefig(img_buf, facecolor='black', format='png')#, bbox_inches='tight')\n",
        "\n",
        "          img_buf.seek(0)\n",
        "\n",
        "          im = imageio.imread(img_buf)\n",
        "          img_buf.close()\n",
        "\n",
        "          print(im.shape)\n",
        "          print(im.shape[0]/16)\n",
        "          print(im.shape[1]/16)\n",
        "          "
      ],
      "metadata": {
        "id": "KOB2xzT7V_tV"
      },
      "execution_count": null,
      "outputs": []
    },
    {
      "cell_type": "code",
      "source": [
        "out.close()"
      ],
      "metadata": {
        "id": "Y--FRlDieKAQ"
      },
      "execution_count": null,
      "outputs": []
    },
    {
      "cell_type": "code",
      "source": [
        "print(plt.rcParams[\"savefig.bbox\"])"
      ],
      "metadata": {
        "id": "yFSbxv83QaLS"
      },
      "execution_count": null,
      "outputs": []
    },
    {
      "cell_type": "code",
      "source": [
        "input_fname=files_path[3][1]\n",
        "input_fname_name=files_path[3][2]"
      ],
      "metadata": {
        "id": "lh2sSoMoZ-My"
      },
      "execution_count": null,
      "outputs": []
    },
    {
      "cell_type": "code",
      "source": [
        "%cd '/content/out/'\n",
        "\n",
        "input0 = '20211130-162023-sync1_circle_coh_8-12hz_23692.mp4'\n",
        "input1 = '20211130-162023-sync2_circle_coh_8-12hz_23692.mp4'\n",
        "input2 = '20211130-162023-sync3_circle_coh_8-12hz_23692.mp4'\n",
        "input3 = '20211130-162023-sync4_circle_coh_8-12hz_23692.mp4'\n",
        "output = '20211130-162023-sync_circle_coh_8-12hz_23692.mp4'\n",
        "\n",
        "!docker run -v $(pwd):$(pwd) -w $(pwd) jrottenberg/ffmpeg -i {input0} -i {input1} -i {input2} -i {input3} -filter_complex \"[0:v][1:v][2:v][3:v]xstack=inputs=4:layout=0_0|w0_0|0_h0|w0_h0[v]\" -map \"[v]\" {output}"
      ],
      "metadata": {
        "id": "X1sqQNPA3TN8"
      },
      "execution_count": null,
      "outputs": []
    },
    {
      "cell_type": "code",
      "source": [
        "input0 = '/content/out/parts/'+'20211130-162023-sync1_circle_coh_8-12hz_23692_0.mp4'\n",
        "input1 = '/content/out/parts/'+'20211130-162023-sync2_circle_coh_8-12hz_23692_0.mp4'\n",
        "input2 = '/content/out/parts/'+'20211130-162023-sync3_circle_coh_8-12hz_23692_0.mp4'\n",
        "input3 = '/content/out/parts/'+'20211130-162023-sync4_circle_coh_8-12hz_23692_0.mp4'\n",
        "output = '/content/out/parts/'+'20211130-162023-sync_circle_coh_8-12hz_23692_0.mp4'\n",
        "\n",
        "!ffmpeg -i {input0} -i {input1} -i {input2} -i {input3} -filter_complex \"[0:v][1:v][2:v][3:v]xstack=inputs=4:layout=0_0|w0_0|0_h0|w0_h0[v]\" -map \"[v]\" {output}"
      ],
      "metadata": {
        "id": "a6nH9LifmP0n"
      },
      "execution_count": null,
      "outputs": []
    },
    {
      "cell_type": "code",
      "source": [
        "#!pip install pyvista"
      ],
      "metadata": {
        "id": "TmCSQC9mGdgI"
      },
      "execution_count": null,
      "outputs": []
    },
    {
      "cell_type": "code",
      "source": [
        "#import pyvista"
      ],
      "metadata": {
        "id": "vr_jstOaeJ9w"
      },
      "execution_count": null,
      "outputs": []
    },
    {
      "cell_type": "code",
      "source": [
        "!ffmpeg -version"
      ],
      "metadata": {
        "id": "YvMGflcRd8k6"
      },
      "execution_count": null,
      "outputs": []
    }
  ]
}