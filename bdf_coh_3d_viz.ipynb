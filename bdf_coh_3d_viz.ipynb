{
  "nbformat": 4,
  "nbformat_minor": 0,
  "metadata": {
    "colab": {
      "name": "bdf_coh_3d_viz.ipynb",
      "provenance": [],
      "collapsed_sections": [],
      "authorship_tag": "ABX9TyOY+M3GzvXQzDpIDQc4oldH",
      "include_colab_link": true
    },
    "kernelspec": {
      "name": "python3",
      "display_name": "Python 3"
    },
    "language_info": {
      "name": "python"
    }
  },
  "cells": [
    {
      "cell_type": "markdown",
      "metadata": {
        "id": "view-in-github",
        "colab_type": "text"
      },
      "source": [
        "<a href=\"https://colab.research.google.com/github/neuroidss/EEG-GAN-audio-video/blob/main/bdf_coh_3d_viz.ipynb\" target=\"_parent\"><img src=\"https://colab.research.google.com/assets/colab-badge.svg\" alt=\"Open In Colab\"/></a>"
      ]
    },
    {
      "cell_type": "code",
      "execution_count": null,
      "metadata": {
        "id": "T7IwIoD6x4I8"
      },
      "outputs": [],
      "source": [
        "ch_names_sg2 = ['FP1','AF3','F7','F3','FC1','FC5','T7','C3','CP1','CP5','P7','P3','Pz','PO3','O1','Oz','O2','PO4','P4','P8','CP6','CP2','C4','T8','FC6','FC2','F4','F8','AF4','FP2','Fz','Cz']\n",
        "ch_locations_sg2=[0,1,2,3,4,5,6,7,8,9,10,11,12,13,14,15,16,17,18,19,20,21,22,23,24,25,26,27,28,29,30,31]\n",
        "bands = [[8.,12.]]\n",
        "methods = ['coh']\n",
        "duration=5*1/8\n",
        "overlap=0\n",
        "fps_sg2=1\n",
        "#if generate_wavegan:\n",
        "fps_wg=1#hz/(32768*2)\n",
        "fps_sg2=fps_wg*4\n",
        "#fps_sg2=fps_wg\n",
        "fps_hm=fps_wg\n",
        "\n",
        "if 2*1/fps_wg>duration:\n",
        "  duration=2*1/fps_wg\n",
        "  overlap=0\n",
        "\n",
        "#if generate&gen_wavegan:\n",
        "#  dim_wg = 100\n",
        "#if generate&gen_stylegan2:\n",
        "#  dim_sg2 = 512\n",
        "#if generate&gen_sg2_shawwn:\n",
        "#  dim_sg2 = 1024\n",
        "\n",
        "#stepSize = 1/pow(2,24)\n",
        "#vref = 2.50 #2.5V voltage ref +/- 250nV\n",
        "#gain = 8\n",
        "\n",
        "#vscale = (vref/gain)*stepSize #volts per step.\n",
        "#uVperStep = 1000000 * ((vref/gain)*stepSize) #uV per step.\n",
        "#scalar = 1/(1000000 / ((vref/gain)*stepSize)) #steps per uV."
      ]
    },
    {
      "cell_type": "code",
      "source": [
        "def download_file_from_google_drive(file_id,dest_path):\n",
        "  import os.path\n",
        "  if not os.path.isfile(dest_path):  \n",
        "    !mkdir -p $(dirname {dest_path})\n",
        "    !wget --save-cookies cookies.txt 'https://docs.google.com/uc?export=download&id='{file_id} -O- | sed -rn 's/.*confirm=([0-9A-Za-z_]+).*/\\1/p' > confirm.txt\n",
        "    !wget --load-cookies cookies.txt -O {dest_path} 'https://docs.google.com/uc?export=download&id='{file_id}'&confirm='$(<confirm.txt)"
      ],
      "metadata": {
        "id": "QyZ0lgw9KatI"
      },
      "execution_count": null,
      "outputs": []
    },
    {
      "cell_type": "code",
      "source": [
        "!mkdir /content/eeg"
      ],
      "metadata": {
        "id": "1zH66IbjbKQI"
      },
      "execution_count": null,
      "outputs": []
    },
    {
      "cell_type": "code",
      "source": [
        "!pip install --upgrade gdown\n",
        "#!pip install googledrivedownloader\n",
        "#from google_drive_downloader import GoogleDriveDownloader as gdd\n",
        "files_path=[]\n",
        "#if generate&gen_drums:\n",
        "files_path = [['1Nfzi6yT83SBZxtgIYVtYp7C7g_Sq9OdS', '/content/eeg/record-[2019.11.13-22.23.59].csv'],\n",
        "              ['1LtMfr9GduR3semMVgh_6JoUSKbCG8XbH', '/content/eeg/record-[2020.06.28-14.26.09].csv']]\n",
        "for i in range(len(files_path)):\n",
        "#  gdd.download_file_from_google_drive(file_id=files_path[i][0], dest_path=files_path[i][1])\n",
        "  download_file_from_google_drive(file_id=files_path[i][0], dest_path=files_path[i][1])\n",
        "\n",
        "files_path = [['1nIiilGVq8XXU7bb1UC5GDtmGbovuil9C', '/content/eeg/5min_experienced_meditator_unfiltered_signals.bdf', '5min_experienced_meditator_unfiltered_signals']]\n",
        "\n",
        "for i in range(len(files_path)):\n",
        "#  gdd.download_file_from_google_drive(file_id=files_path[i][0], dest_path=files_path[i][1])\n",
        "  download_file_from_google_drive(file_id=files_path[i][0], dest_path=files_path[i][1])\n",
        "\n",
        "files_path = [['1BphDQFJZ0aIMiZbkQ55_MzNxOrdq0Jcb', '/content/eeg/01-07-2022_15-34.bdf', '01-07-2022_15-34'],\n",
        "              ['1HlDuAO8n_hmH1PWlT46T1Waqyy5yz1LV', '/content/eeg/01-07-2022_18-32.bdf', '01-07-2022_18-32'],\n",
        "              ['1u_8ANTzYB9jP7wCnErivF1ClM1rXixSg', '/content/eeg/01-07-2022_16-52.bdf', '01-07-2022_16-52'],\n",
        "              ['1_cgoBcHAf3VRIorYafC-vHLAGpv8Papz', '/content/eeg/01-07-2022_17-39.bdf', '01-07-2022_17-39'],\n",
        "              ['1JMLtO_sQtZtdQHQ2RCZ0RbRj3cvk0G_2', '/content/eeg/01-07-2022_14-05.bdf', '01-07-2022_14-05'],\n",
        "              ['1ag-1yK-HSxNRh_5wnP9h-kOkVyX3YqSs', '/content/eeg/01-07-2022_18-32_signals.csv']]\n",
        "\n",
        "for i in range(len(files_path)):\n",
        "#  gdd.download_file_from_google_drive(file_id=files_path[i][0], dest_path=files_path[i][1])\n",
        "  download_file_from_google_drive(file_id=files_path[i][0], dest_path=files_path[i][1])\n",
        "\n"
      ],
      "metadata": {
        "id": "b2Seg16EKeUn"
      },
      "execution_count": null,
      "outputs": []
    },
    {
      "cell_type": "code",
      "source": [
        "!pip install mne==0.23.3\n",
        "\n",
        "import mne\n",
        "from mne import io"
      ],
      "metadata": {
        "id": "ZRD8C00WnqCN"
      },
      "execution_count": null,
      "outputs": []
    },
    {
      "cell_type": "code",
      "source": [
        "    ch_names = ['FP1','F7','F3','T3','C3','T5','P3','PZ','O1','O2','P4','T6','C4','T4','F4','F8','FP2','FZ']\n",
        "#    ch_names = ['O2','T6','T4','F8','FP2','F4','C4','P4','PZ','FZ','FP1','F3','C3','P3','O1','T5','T3','F7']\n",
        "\n",
        "    sfreq = 512 \n",
        "    ch_types=['eeg']*len(ch_names)\n",
        "    info = mne.create_info(ch_names = ch_names, sfreq = sfreq, ch_types=ch_types)\n",
        "    misc_ch_names = ['','']\n",
        "    \n",
        "\n",
        "\n",
        "\n"
      ],
      "metadata": {
        "id": "fEhuLJnIoPY6"
      },
      "execution_count": null,
      "outputs": []
    },
    {
      "cell_type": "code",
      "source": [
        "    input_fname=files_path[2][1]\n",
        "    input_fname_name=files_path[2][2]\n",
        "#    raw = io.read_raw_bdf(input_fname, eog=None, misc=None, stim_channel='auto', exclude=(), preload=False, verbose=None,include)\n",
        "    raw = io.read_raw_bdf(input_fname, eog=None, misc=None, stim_channel='auto', \n",
        "                          exclude=(), preload=False, verbose=True)\n"
      ],
      "metadata": {
        "id": "CfpCy94znJ2b"
      },
      "execution_count": null,
      "outputs": []
    },
    {
      "cell_type": "code",
      "source": [
        "raw.info"
      ],
      "metadata": {
        "id": "fK2JhDafr1rb"
      },
      "execution_count": null,
      "outputs": []
    },
    {
      "cell_type": "code",
      "source": [
        "  !pip install Pillow\n",
        "  import PIL.Image \n",
        "  !pip install tqdm\n",
        "  from tqdm import tqdm\n",
        "  !pip install imageio==2.4.1\n",
        "  !pip install imageio-ffmpeg==0.4.3 pyspng==0.1.0\n"
      ],
      "metadata": {
        "id": "MWg6MXegKmy4"
      },
      "execution_count": null,
      "outputs": []
    },
    {
      "cell_type": "code",
      "source": [
        "!mkdir '/content/out'\n"
      ],
      "metadata": {
        "id": "tQZGTTYGKuao"
      },
      "execution_count": null,
      "outputs": []
    },
    {
      "cell_type": "code",
      "source": [
        "!pip install mne==0.23.3\n",
        "!pip install pandas\n",
        "!pip install matplotlib\n",
        "\n",
        "import mne\n",
        "from mne import io\n",
        "from mne.datasets import sample\n",
        "from mne.minimum_norm import read_inverse_operator, compute_source_psd\n",
        "\n",
        "from mne.connectivity import spectral_connectivity, seed_target_indices\n",
        "\n",
        "import pandas as pd\n",
        "import numpy as np\n"
      ],
      "metadata": {
        "id": "bx0lLwzRKyhX"
      },
      "execution_count": null,
      "outputs": []
    },
    {
      "cell_type": "code",
      "source": [
        "if False:\n",
        "    key = 0\n",
        "    idx = 0\n",
        "\n",
        "    data_path = '/content/eeg'\n",
        "    #raw_fname = data_path + '/record-[2019.11.13-22.23.59].gdf'\n",
        "    #raw = mne.io.read_raw_gdf(raw_fname, preload=True)\n",
        "\n",
        "    path = data_path\n",
        "\n",
        "    ch_names = ['FP1','AF3','F7','F3','FC1','FC5','T7','C3','CP1','CP5','P7','P3','Pz','PO3','O1','Oz','O2','PO4','P4','P8','CP6','CP2','C4','T8','FC6','FC2','F4','F8','AF4','FP2','Fz','Cz']\n",
        "    data = pd.read_csv(path + '/record-[2019.11.13-22.23.59].csv', skiprows=0, usecols=ch_names, header=0, delimiter=';') \n",
        "    \n",
        "    #ch_names = ['FP1','F3','P3','O1','O2','P4','F4','FP2']\n",
        "    #data = pd.read_csv(path + '/record-[2020.06.28-14.26.09].csv', skiprows=0, usecols=ch_names, header=0, delimiter=';') \n",
        "    \n",
        "    #data = pd.read_csv(path + '/record-[2020.06.28-00.36.11].csv', skiprows=0, usecols=ch_names, header=0, delimiter=';') \n",
        "    #data = pd.read_csv(path + '/record-[2020.06.29-19.49.23].csv', skiprows=0, usecols=ch_names, header=0, delimiter=';') \n",
        "    \n",
        "    #print(data)\n",
        "    data_transpose=np.transpose(data)\n",
        "\n",
        "    sfreq = 512 \n",
        "    ch_types=['eeg']*len(ch_names)\n",
        "    info = mne.create_info(ch_names = ch_names, sfreq = sfreq, ch_types=ch_types)\n",
        "    #info = mne.create_info(sfreq = sfreq)\n",
        "    raw = mne.io.RawArray(data_transpose, info)\n",
        "    #raw.plot()\n",
        "    \n",
        "    input_fname=files_path[0][1]\n",
        "    mne.io.read_raw_bdf(input_fname, eog=None, misc=None, stim_channel='auto', exclude=(), infer_types=False, include=None, preload=False, verbose=None)\n",
        "\n",
        "    # Setup for reading the raw data\n",
        "    #raw = io.read_raw_fif(raw_fname, verbose=False)\n",
        "    #events = mne.find_events(raw, stim_channel='STI 014')\n",
        "    #inverse_operator = read_inverse_operator(fname_inv)\n",
        "    #raw.info['bads'] = ['MEG 2443', 'EEG 053']\n",
        "\n",
        "    # picks MEG gradiometers\n",
        "    #picks = mne.pick_types(raw.info, meg=False, eeg=True, eog=False, stim=False)\n",
        "    picks = ch_names"
      ],
      "metadata": {
        "id": "9nNDkdqvbtpx"
      },
      "execution_count": null,
      "outputs": []
    },
    {
      "cell_type": "code",
      "source": [
        "print(raw)\n",
        "raw.pick(ch_names)"
      ],
      "metadata": {
        "id": "ILJiXMCZoyk9"
      },
      "execution_count": null,
      "outputs": []
    },
    {
      "cell_type": "code",
      "source": [
        "#!pip install imageio==2.9\n",
        "!pip install imageio==2.4.1\n",
        "!pip install imageio-ffmpeg==0.4.3 pyspng==0.1.0"
      ],
      "metadata": {
        "id": "paxEG_lhd8s1"
      },
      "execution_count": null,
      "outputs": []
    },
    {
      "cell_type": "code",
      "source": [
        "#import imageio\n",
        "#fps=10\n",
        "#out = imageio.get_writer('/content/out/output.mp4', mode='I', fps=fps, codec='libx264', bitrate='16M')\n",
        "\n",
        "#for img in imgs:\n",
        "#  out.append_data(np.asarray(img))\n",
        "#out.close()\n",
        " "
      ],
      "metadata": {
        "id": "7Gx1IDMid8nq"
      },
      "execution_count": null,
      "outputs": []
    },
    {
      "cell_type": "code",
      "source": [
        "bands = [[8.,12.]]\n",
        "#bands = [[4.,7.],[8.,12.],[13.,29.]]\n",
        "#bands = [[8.,12.],[8.,12.],[8.,12.]]\n",
        "#bands_name = ['theta','alpha','beta']\n",
        "datas=[]\n",
        "for band in range(len(bands)):\n",
        "# datas.append(raw)\n",
        " datas.append(raw.pick(ch_names))\n",
        " \n",
        "# datas.append(raw.filter(l_freq=bands[band][0], h_freq=bands[band][1],method='iir'))\n",
        "#theta_data = raw.filter(l_freq=4, h_freq=7,method='iir')\n",
        "#alpha_data = raw.filter(l_freq=8, h_freq=12,method='iir')\n",
        "#beta_data = raw.filter(l_freq=13, h_freq=29,method='iir')"
      ],
      "metadata": {
        "id": "8eqMOf-veKSR"
      },
      "execution_count": null,
      "outputs": []
    },
    {
      "cell_type": "code",
      "source": [
        "methods = ['coh']\n",
        "#methods = ['wpli']\n",
        "#methods = ['coh', 'plv', 'ciplv', 'ppc', 'pli', 'wpli']\n",
        "epochs = []\n",
        "for band in range(len(bands)):\n",
        "# epochs.append(mne.make_fixed_length_epochs(datas[band], \n",
        "#                                            duration=0.1, preload=False))\n",
        " epochs.append(mne.make_fixed_length_epochs(datas[band], \n",
        "                                            duration=5*1/8, preload=False, overlap=5*1/8-0.1))\n",
        "# epochs.append(mne.make_fixed_length_epochs(datas[band], duration=1.25, preload=False, overlap=1.15))\n",
        "#epochs = [mne.make_fixed_length_epochs(theta_data, duration=0.1, preload=False),\n",
        "#          mne.make_fixed_length_epochs(alpha_data, duration=0.1, preload=False),\n",
        "#          mne.make_fixed_length_epochs(beta_data, duration=0.1, preload=False)]\n",
        "#epochs = mne.make_fixed_length_epochs(alpha_data, duration=0.1, preload=False)\n",
        "#epochs = mne.make_fixed_length_epochs(raw, duration=2, preload=True)\n",
        "#epochs = mne.make_fixed_length_epochs(raw, duration=10, preload=True)\n",
        "#epochs = mne.make_fixed_length_epochs(raw, duration=1, preload=False)\n",
        "#event_related_plot = epochs.plot_image(picks=['FP1'])"
      ],
      "metadata": {
        "id": "-sHGeqZseKPp"
      },
      "execution_count": null,
      "outputs": []
    },
    {
      "cell_type": "code",
      "source": [
        "len(epochs[0].events)"
      ],
      "metadata": {
        "id": "KRq4VDiGLAel"
      },
      "execution_count": null,
      "outputs": []
    },
    {
      "cell_type": "code",
      "source": [
        "#fmin=8.\n",
        "#fmax=13.\n",
        "fmin=bands[0][0]\n",
        "fmax=bands[0][1]+1.\n",
        "          \n",
        "sfreq = raw.info['sfreq']  # the sampling frequency\n",
        "#con_methods = ['coh', 'pli', 'ciplv']\n",
        "con_methods = ['coh', 'plv', 'ciplv', 'ppc', 'pli', 'wpli']\n",
        "#con_methods = ['coh', 'plv', 'ciplv', 'ppc', 'pli', 'pli2_unbiased', 'wpli', 'wpli2_debiased']\n",
        "#con, freqs, times, n_epochs, n_tapers = spectral_connectivity(\n",
        "#    epochs, method=con_methods, mode='multitaper', sfreq=sfreq, fmin=fmin,\n",
        "#    fmax=fmax, faverage=True, mt_adaptive=True, n_jobs=10)\n",
        "#con, freqs, times, n_epochs, n_tapers = spectral_connectivity(\n",
        "#    epochs[1][2000:2010], method=con_methods, mode='multitaper', sfreq=sfreq, \n",
        "#    faverage=True, mt_adaptive=True, n_jobs=1)\n",
        "#con, freqs, times, n_epochs, n_tapers = spectral_connectivity(\n",
        "#    epochs[0][2000,2001], method=con_methods, mode='multitaper', sfreq=sfreq, fmin=fmin,\n",
        "#    fmax=fmax, faverage=True, mt_adaptive=True, n_jobs=1)\n",
        "con, freqs, times, n_epochs, n_tapers = spectral_connectivity(\n",
        "    epochs[0][2000:2010], method=con_methods, mode='multitaper', sfreq=sfreq, fmin=fmin,\n",
        "    fmax=fmax, faverage=True, mt_adaptive=True, n_jobs=1)"
      ],
      "metadata": {
        "id": "WVT5t6vweKNI"
      },
      "execution_count": null,
      "outputs": []
    },
    {
      "cell_type": "code",
      "source": [
        "con_res = dict()\n",
        "for method, c in zip(con_methods, con):\n",
        "    con_res[method] = c[:, :, 0]"
      ],
      "metadata": {
        "id": "iakYgOupeKKh"
      },
      "execution_count": null,
      "outputs": []
    },
    {
      "cell_type": "code",
      "source": [
        "sfreq"
      ],
      "metadata": {
        "id": "sCmMi-FQp6uJ"
      },
      "execution_count": null,
      "outputs": []
    },
    {
      "cell_type": "code",
      "source": [
        "con_res\n"
      ],
      "metadata": {
        "id": "x8OWncfapvaa"
      },
      "execution_count": null,
      "outputs": []
    },
    {
      "cell_type": "code",
      "source": [
        "from mne.viz import circular_layout, plot_connectivity_circle\n",
        "import matplotlib.pyplot as plt\n",
        "\n",
        "label_names = ch_names\n",
        "\n",
        "#plot_connectivity_circle(con_res['pli'], label_names, \n",
        "#                                                  title='All-to-All Connectivity (PLI)')\n",
        "#fig = plt.figure(num=None, figsize=(8, 4), facecolor='black')\n",
        "no_names = [''] * len(label_names)\n",
        "for ii, method in enumerate(con_methods):\n",
        "    plot_connectivity_circle(con_res[method], label_names, n_lines=300,\n",
        "                             title=method)\n",
        "    #plot_connectivity_circle(con_res[method], label_names, n_lines=300,\n",
        "    #                         title=method, padding=0, fontsize_colorbar=6,\n",
        "    #                         fig=fig, subplot=(1, 8, ii + 1))\n",
        "\n",
        "    #plot_connectivity_circle(con_res[method], no_names, n_lines=300,\n",
        "    #                         title=method, padding=0, fontsize_colorbar=6,\n",
        "    #                         fig=fig, subplot=(1, 6, ii + 1))\n",
        "plt.show()"
      ],
      "metadata": {
        "id": "v4D8oWlEeKII"
      },
      "execution_count": null,
      "outputs": []
    },
    {
      "cell_type": "code",
      "source": [
        "con_res['coh']"
      ],
      "metadata": {
        "id": "zM78B6WjeKFo"
      },
      "execution_count": null,
      "outputs": []
    },
    {
      "cell_type": "code",
      "source": [
        "import io\n",
        "from PIL import Image\n",
        "import matplotlib.pyplot as plt"
      ],
      "metadata": {
        "id": "CXuffiBli2n1"
      },
      "execution_count": null,
      "outputs": []
    },
    {
      "cell_type": "code",
      "source": [
        "import matplotlib"
      ],
      "metadata": {
        "id": "i1WqVlrBNyig"
      },
      "execution_count": null,
      "outputs": []
    },
    {
      "cell_type": "code",
      "source": [
        "import gc\n",
        "\n",
        "import imageio\n",
        "\n",
        "!pip install mne-connectivity\n",
        "\n",
        "from mne_connectivity.viz import plot_sensors_connectivity\n"
      ],
      "metadata": {
        "id": "ZYjjcaHKX_mc"
      },
      "execution_count": null,
      "outputs": []
    },
    {
      "cell_type": "code",
      "source": [
        "matplotlib.use('agg')\n",
        "#fig = plt.figure()\n",
        "\n",
        "fps=10\n",
        "#out = imageio.get_writer('/content/out/output.mp4', fps=fps)\n",
        "out = imageio.get_writer('/content/out/'+input_fname_name+'_circle_'+methods[0]+'_'+\n",
        "                         str(int(bands[0][0]))+'-'+str(int(bands[0][1]))+'hz_'+str(len(epochs[0].events)-2)+'.mp4', fps=fps)\n",
        "#out = imageio.get_writer('/content/out/output.mp4', mode='I', fps=fps, codec='libx264', bitrate='16M')\n",
        "\n",
        "# Generate random breaks and display audio\n",
        "\n",
        "# CHANGE THIS to change number of examples generated\n",
        "#n_generate = 30\n",
        "#n_generate = 150\n",
        "#n_generate = 300\n",
        "#n_generate = 305\n",
        "#n_generate = 390\n",
        "\n",
        "# Sample latent vectors\n",
        "#seed = 666 # change this seed to generate different set of breaks\n",
        "#np.random.seed(seed)\n",
        "#_z = (np.random.rand(n_generate, dim) * 2.) - 1.\n",
        "\n",
        "\n",
        "hz=44100\n",
        "#hz=39936\n",
        "#hz=int(32768*2*(600/240))\n",
        "#hz=int(32768*2*(480/240))\n",
        "#hz=int(32768*2*(360/240))\n",
        "#hz=int(32768*2*(300/240))\n",
        "#hz=int(32768*2*(265/240))\n",
        "#hz=int(32768*2*(250/240))\n",
        "#hz=int(32768*2*(240/240)*1.6666666)\n",
        "#hz=int(32768*2*(240/240))\n",
        "#hz=int(32768*2*(120/240))\n",
        "#fps=hz/(32768*2)\n",
        "#fps=10\n",
        "#fps=0.5\n",
        "#fps=44100/(32768*2)\n",
        "#fps=1\n",
        "#fps=1/3\n",
        "#fps=1.5\n",
        "\n",
        "#n_generate=int((307-2)*fps)\n",
        "#n_generate=int((160-2)*fps)\n",
        "#n_generate=int((1598-2)*fps)\n",
        "#n_generate=int((1648-2)*fps)\n",
        "n_generate=len(epochs[0].events)-2\n",
        "\n",
        "#n_generate=int((10-2)*fps)\n",
        "#n_generate=int((1607-2)*fps)\n",
        "#n_generate=150\n",
        "part_len = 10\n",
        "#part_len = 275\n",
        "dim = 512\n",
        "\n",
        "\n",
        "n_parts = n_generate//part_len\n",
        "if n_generate%part_len>0:\n",
        "    n_parts=n_parts+1\n",
        "\n",
        "vol=0.1\n",
        "\n",
        "#psd_array=np.random.rand(part_len, dim) \n",
        "\n",
        "#out = imageio.get_writer('./output.mp4', mode='I', fps=fps, codec='libx264', bitrate='16M')\n",
        "\n",
        "#Gs_kwargs = dnnlib.EasyDict()\n",
        "#Gs_kwargs.output_transform = dict(func=tflib.convert_images_to_uint8, nchw_to_nhwc=True)\n",
        "#Gs_kwargs.randomize_noise = False\n",
        "\n",
        "imgs = []\n",
        "imgs1 = []\n",
        "\n",
        "def plot_func(con,methods,label_names,out):\n",
        "        plt.ioff()\n",
        "        if True:\n",
        "#          con_res = dict()\n",
        "#          for method, c in zip(methods, con):\n",
        "#            con_res[method] = c[:, :, 0]\n",
        "#            con_res[method] = c[:, :]\n",
        "          #for ii, method in enumerate(methods):\n",
        "          if True:\n",
        "#            fig,_ = plot_connectivity_circle(con_res[method], label_names, n_lines=300, \n",
        "\n",
        "#            plot_connectivity_circle(con[:, :, 0], label_names, n_lines=300, \n",
        "#                                             title=method, show = False)\n",
        "            #fig = plt.figure()\n",
        "            #fig,_ = \n",
        "#            fig,ax = plot_connectivity_circle(con[:, :, 0], label_names, n_lines=300, \n",
        "#                                             title=method, show = False, vmin=0, vmax=1)#, fig=fig)\n",
        "            fig,ax = plot_connectivity_circle(con[:, :, 0], label_names, n_lines=300, \n",
        "                                             title=methods[0], show = False, vmin=0, vmax=1)#, fig=fig)\n",
        "#            fig = plot_sensors_connectivity(raw.info, con[:, :, 0], picks=label_names, cbar_label=method)\n",
        "          #plot_conmat_file = os.path.abspath('circle_' + fname + '.eps')\n",
        "          #fig.savefig(plot_conmat_file, facecolor='black')\n",
        "\n",
        "          #plt.close()\n",
        "          #plt.close(fig)\n",
        "          #fig.clf()\n",
        "          \n",
        "          #del fig\n",
        "\n",
        "          #if ji%100==0 :\n",
        "          #  gc.collect()\n",
        "\n",
        "        #if False:\n",
        "\n",
        "          #plt.close(fig)\n",
        "          ##fig1.close()\n",
        "          #del fig\n",
        "\n",
        "          #plt.rcParams[\"figure.figsize\"] = [7.50, 3.50]\n",
        "          #plt.rcParams[\"figure.autolayout\"] = True\n",
        "\n",
        "          #plt.figure()\n",
        "          #plt.plot([1, 2])\n",
        "\n",
        "          img_buf = io.BytesIO()\n",
        "          #plt.savefig(img_buf, format='png')\n",
        "\n",
        "          fig.savefig(img_buf, facecolor='black', format='png')\n",
        "          fig.savefig('/content/out/img_buf.png', facecolor='black', format='png')\n",
        "\n",
        "          fig.clf()\n",
        "          plt.close()\n",
        "          ax.cla()\n",
        "\n",
        "          #plt.savefig(img_buf, facecolor='black', format='png')\n",
        "          #plt.savefig('/content/out/img_buf.png', facecolor='black', format='png')\n",
        "\n",
        "          #plt.close()\n",
        "          #plt.close(fig)\n",
        "          #fig.clf()\n",
        "\n",
        "          # Clear the current axes.\n",
        "          plt.cla() \n",
        "          # Clear the current figure.\n",
        "          plt.clf() \n",
        "          # Closes all the figure windows.\n",
        "          plt.close('all')   \n",
        "          plt.close(fig)\n",
        "          #gc.collect()\n",
        "          del fig\n",
        "\n",
        "          #if ji%100==0 :\n",
        "          #  gc.collect()\n",
        "\n",
        "          img_buf.seek(0)\n",
        "\n",
        "          im = imageio.imread(img_buf)\n",
        "          out.append_data(im)\n",
        "          img_buf.close()\n",
        "\n",
        "\n",
        "#z_avg_samples=n_generate\n",
        "#for i in range(n_generate): # display separate audio for each break\n",
        "for j in range(n_parts): # display separate audio for each break\n",
        "    for i in range(part_len): # display separate audio for each break\n",
        "        ji = j * part_len + i\n",
        "        \n",
        "#        if (i==0) and (n_generate-ji<part_len):\n",
        "#            psd_array=np.random.rand((n_generate-ji), dim) \n",
        "\n",
        "\n",
        "        eeg_step=ji\n",
        "        #print (f'EEG step: {(eeg_step/3):.1f} s')\n",
        "        tmin, tmax = 0+(eeg_step/fps), 2+(eeg_step/fps)  # use the first 120s of data\n",
        "        #tmin, tmax = 0+(10*eeg_step/512), 2+(10*eeg_step/512)  # use the first 120s of data\n",
        "        #fmin, fmax = 0.5, 256  # look at frequencies between 4 and 100Hz\n",
        "        #fmin, fmax = 0.5, 50  # look at frequencies between 4 and 100Hz\n",
        "        #fmin, fmax = 8, 12  # look at frequencies between 4 and 100Hz\n",
        "        #n_fft = 512  # the FFT size (n_fft). Ideally a power of 2\n",
        "        #n_fft = 1024  # the FFT size (n_fft). Ideally a power of 2\n",
        "        #n_fft = 2048  # the FFT size (n_fft). Ideally a power of 2\n",
        "        #label = mne.read_label(fname_label)\n",
        "        \n",
        "        print(str(ji) + '/' + str(n_generate))\n",
        "        #logger = logging.getLogger()\n",
        "        #logger.disabled = True\n",
        "\n",
        "        sfreq = raw.info['sfreq']  # the sampling frequency\n",
        "        \n",
        "#        psds=np.zeros(dim)\n",
        "        \n",
        "        for method in range(len(methods)):\n",
        "         for band in range(len(bands)):\n",
        "          #fmin=8.\n",
        "          #fmax=13.\n",
        "          fmin=bands[band][0]\n",
        "          fmax=bands[band][1]\n",
        "          if band == 0:\n",
        "           con, freqs, times, n_epochs, n_tapers = spectral_connectivity(\n",
        "            epochs[band][ji:ji+1], method=methods[method], mode='multitaper', sfreq=sfreq, fmin=fmin,\n",
        "#            epochs[band][ji:ji+10], method=methods[method], mode='multitaper', sfreq=sfreq, fmin=fmin,\n",
        "            fmax=fmax, faverage=True, mt_adaptive=True, n_jobs=1, verbose=50)\n",
        "          #con, freqs, times, n_epochs, n_tapers = spectral_connectivity(\n",
        "          #  epochs[band][ji,ji+1], method=methods[method], mode='multitaper', sfreq=sfreq, fmin=fmin,\n",
        "          #  fmax=fmax, faverage=True, mt_adaptive=True, n_jobs=1)\n",
        "#          psds_shift1=int(round(method*len(bands)+band)*(len(ch_names)*(len(ch_names)-1)/2))\n",
        "#          ji1=0\n",
        "#          for j1 in range(0,len(ch_names)): # display separate audio for each break\n",
        "#            for i1 in range(0,j1): # display separate audio for each break\n",
        "#              psds[ji1+psds_shift1]=(con[j1][i1][0]-0.5)*1\n",
        "#              ji1 = ji1+1\n",
        "        #psds, freqs = mne.time_frequency.psd_welch(raw, picks=picks,\n",
        "        #                 tmin=tmin, tmax=tmax, fmin=fmin, fmax=fmax,\n",
        "        #                 n_fft=n_fft)\n",
        "        #logger.disabled = False\n",
        "\n",
        "        #print(freqs)\n",
        "        #print(psds)\n",
        "        \n",
        "#        psd_array[i]=psds\n",
        "        ##z_samples = psds\n",
        "\n",
        "        #w_samples = G.mapping(torch.from_numpy(z_samples).to(device), None)  # [N, L, C]\n",
        "        #w_samples = w_samples[:, :1, :].cpu().numpy().astype(np.float32)       # [N, 1, C]\n",
        "        ##z_avg = np.mean(z_samples, axis=0)      # [1, 1, C]\n",
        "        #z_avg = np.mean(z_samples, axis=0, keepdims=True)      # [1, 1, C]\n",
        "        ##psd_array[i]=z_avg\n",
        "        #psd_array[i]=z_avg\n",
        "        #print(z_avg)\n",
        "        #z_std = (np.sum((z_samples - z_avg) ** 2) / z_avg_samples) ** 0.5\n",
        "\n",
        "        #psd_array[i]=psds\n",
        "        #psds_transpose=np.transpose(psds)\n",
        "        #plt.plot(freqs,psds_transpose)\n",
        "        #plt.xlabel('Frequency (Hz)')\n",
        "        #plt.ylabel('PSD (dB)')\n",
        "        #plt.title('Power Spectrum (PSD)')\n",
        "        #plt.show()\n",
        "#        if (i==part_len-1) or (ji==n_generate-1) :\n",
        "        if True:\n",
        "#        if False:\n",
        "#          con_res = dict()\n",
        "#          for method, c in zip(methods, con):\n",
        "#            con_res[method] = c[:, :, 0]\n",
        "#            con_res[method] = c[:, :]\n",
        "          for ii, method in enumerate(methods):\n",
        "#            fig,_ = plot_connectivity_circle(con_res[method], label_names, n_lines=300, \n",
        "\n",
        "#            plot_connectivity_circle(con[:, :, 0], label_names, n_lines=300, \n",
        "#                                             title=method, show = False)\n",
        "            #fig = plt.figure()\n",
        "#            fig,_ = \n",
        "            fig,ax = plot_connectivity_circle(con[:, :, 0], label_names, n_lines=300, \n",
        "                                             title=method, show = False, vmin=0, vmax=1)#, fig=fig)\n",
        "#            fig = plot_sensors_connectivity(raw.info, con[:, :, 0], picks=label_names, cbar_label=method)\n",
        "          #plot_conmat_file = os.path.abspath('circle_' + fname + '.eps')\n",
        "          #fig.savefig(plot_conmat_file, facecolor='black')\n",
        "\n",
        "          #plt.close()\n",
        "          #plt.close(fig)\n",
        "          #fig.clf()\n",
        "          \n",
        "          #del fig\n",
        "\n",
        "          #if ji%100==0 :\n",
        "          #  gc.collect()\n",
        "\n",
        "        if True:\n",
        "\n",
        "          #plt.close(fig)\n",
        "          ##fig1.close()\n",
        "          #del fig\n",
        "\n",
        "          #plt.rcParams[\"figure.figsize\"] = [7.50, 3.50]\n",
        "          #plt.rcParams[\"figure.autolayout\"] = True\n",
        "\n",
        "          #plt.figure()\n",
        "          #plt.plot([1, 2])\n",
        "\n",
        "          img_buf = io.BytesIO()\n",
        "          #plt.savefig(img_buf, format='png')\n",
        "\n",
        "          #fig.savefig(img_buf, facecolor='black', format='png')\n",
        "          #fig.savefig('/content/out/img_buf.png', facecolor='black', format='png')\n",
        "\n",
        "          #fig.clf()\n",
        "          #plt.close()\n",
        "          #ax.cla()\n",
        "\n",
        "          plt.savefig(img_buf, facecolor='black', format='png')\n",
        "          plt.savefig('/content/out/img_buf.png', facecolor='black', format='png')\n",
        "\n",
        "          #plt.close()\n",
        "          plt.close(fig)\n",
        "          #fig.clf()\n",
        "\n",
        "          # Clear the current axes.\n",
        "          plt.cla() \n",
        "          # Clear the current figure.\n",
        "          plt.clf() \n",
        "          # Closes all the figure windows.\n",
        "          plt.close('all')   \n",
        "          #plt.close(fig)\n",
        "          #gc.collect()\n",
        "          del fig\n",
        "          del ax\n",
        "\n",
        "          #if ji%100==0 :\n",
        "          #  gc.collect()\n",
        "\n",
        "          img_buf.seek(0)\n",
        "\n",
        "          im = imageio.imread(img_buf)\n",
        "          out.append_data(im)\n",
        "          img_buf.close()\n",
        "          #del img_buf\n",
        "          #del im\n",
        "\n",
        "          #if ji == 100:\n",
        "          #  out.close()\n",
        "          #  break\n",
        "\n",
        "          #im = img_buf.getvalue()\n",
        "\n",
        "          #im = Image.open(img_buf)\n",
        "#          im.copy()\n",
        "          #im.show(title=\"My Image\")\n",
        "          \n",
        "          #out.append_data(np.asarray(im))\n",
        "\n",
        "          #im.close()\n",
        "\n",
        "          #img_buf.close()\n",
        "\n",
        "          #  _z = psd_array * vol\n",
        "          #  images = Gs.run(_z, None, **Gs_kwargs) # [minibatch, height, width, channel]\n",
        "          #  for image in images:\n",
        "              #imgs1.append(image)\n",
        "#              out.append_data(np.asarray(PIL.Image.fromarray(image, 'RGB')))\n",
        "\n",
        "              #imgs.append(PIL.Image.fromarray(image, 'RGB'))\n",
        "            #out.append(PIL.Image.fromarray(images[0], 'RGB'))\n",
        "            #_G_z = sess.run(G_z, {z: _z})[:,:,0]\n",
        "            #if j==0:\n",
        "            #    _G_z_full=_G_z\n",
        "            #else:\n",
        "            #    _G_z_full=np.append(_G_z_full,_G_z)\n",
        "\n",
        "        #if True:\n",
        "        #  plot_func(con,methods,label_names,out)\n",
        "          #if ji%100==0 :\n",
        "          #  gc.collect()\n",
        "          \n",
        "          if (ji==n_generate-1) :\n",
        "                break\n",
        "\n",
        "#print(psd_array)\n",
        "#print(psd_array.shape)\n",
        "#print(psd_array.ndim)\n",
        "#_z = psd_array / 5.\n",
        "#_z = psd_array / 10.\n",
        "#_z = (psd_array * 2.) - 1.\n",
        "#_G_z = sess.run(G_z, {z: _z})[:,:,0]\n",
        "\n",
        "# display(Audio(_G_z.flatten(), rate=39936)) # display all in one audio\n",
        "\n",
        "#for i in range(n_generate): # display separate audio for each break\n",
        "  #print(i)\n",
        "  #display(Audio(np.tile(_G_z[i][1:_G_z[i].ndim/2], 2), rate=39936)) # change rate for different tempo\n",
        "  #display(Audio(np.tile(_G_z[i][1:32768], 2), rate=32768)) # change rate for different tempo\n",
        "  #display(Audio(np.tile(_G_z[i], 1), rate=32768)) # change rate for different tempo\n",
        "#out.close()"
      ],
      "metadata": {
        "id": "-kCJEYReeKDB"
      },
      "execution_count": null,
      "outputs": []
    },
    {
      "cell_type": "code",
      "source": [
        "out.close()"
      ],
      "metadata": {
        "id": "Y--FRlDieKAQ"
      },
      "execution_count": null,
      "outputs": []
    },
    {
      "cell_type": "code",
      "source": [
        "#!pip install pyvista"
      ],
      "metadata": {
        "id": "TmCSQC9mGdgI"
      },
      "execution_count": null,
      "outputs": []
    },
    {
      "cell_type": "code",
      "source": [
        "#import pyvista"
      ],
      "metadata": {
        "id": "vr_jstOaeJ9w"
      },
      "execution_count": null,
      "outputs": []
    },
    {
      "cell_type": "code",
      "source": [
        ""
      ],
      "metadata": {
        "id": "7IeP-iRveJ7J"
      },
      "execution_count": null,
      "outputs": []
    },
    {
      "cell_type": "code",
      "source": [
        ""
      ],
      "metadata": {
        "id": "EaQo5SVReJ4p"
      },
      "execution_count": null,
      "outputs": []
    },
    {
      "cell_type": "code",
      "source": [
        ""
      ],
      "metadata": {
        "id": "pINAT3CIeJ2Y"
      },
      "execution_count": null,
      "outputs": []
    },
    {
      "cell_type": "code",
      "source": [
        ""
      ],
      "metadata": {
        "id": "XiA6uNmJeJz4"
      },
      "execution_count": null,
      "outputs": []
    },
    {
      "cell_type": "code",
      "source": [
        ""
      ],
      "metadata": {
        "id": "OHN1b0KDeJxQ"
      },
      "execution_count": null,
      "outputs": []
    },
    {
      "cell_type": "code",
      "source": [
        ""
      ],
      "metadata": {
        "id": "a7_T9pzPeJu0"
      },
      "execution_count": null,
      "outputs": []
    },
    {
      "cell_type": "code",
      "source": [
        ""
      ],
      "metadata": {
        "id": "YvMGflcRd8k6"
      },
      "execution_count": null,
      "outputs": []
    },
    {
      "cell_type": "code",
      "source": [
        "stop"
      ],
      "metadata": {
        "id": "meVp0N8ad8Vu"
      },
      "execution_count": null,
      "outputs": []
    },
    {
      "cell_type": "code",
      "source": [
        "sfreq = 512 \n",
        "#ch_types=['eeg']*len(ch_names)\n",
        "#info = mne.create_info(ch_names = ch_names, sfreq = sfreq, ch_types=ch_types)\n",
        "#ch_types_wg=['eeg']*len(ch_names_wg)\n",
        "#info_wg = mne.create_info(ch_names = ch_names_wg, sfreq = sfreq, ch_types=ch_types_wg)\n",
        "#ch_types_wg_l=['eeg']*len(ch_names_wg_l)\n",
        "#info_wg_l = mne.create_info(ch_names = ch_names_wg_l, sfreq = sfreq, ch_types=ch_types_wg_l)\n",
        "#ch_types_wg_r=['eeg']*len(ch_names_wg_r)\n",
        "#info_wg_r = mne.create_info(ch_names = ch_names_wg_r, sfreq = sfreq, ch_types=ch_types_wg_r)\n",
        "ch_types_sg2=['eeg']*len(ch_names_sg2)\n",
        "info_sg2 = mne.create_info(ch_names = ch_names_sg2, sfreq = sfreq, ch_types=ch_types_sg2)\n",
        " "
      ],
      "metadata": {
        "id": "fh1-ZChbK1G3"
      },
      "execution_count": null,
      "outputs": []
    },
    {
      "cell_type": "code",
      "source": [
        "    parts=1\n",
        "    if (generate&gen_wg_stereo):\n",
        "      if (send_wg):\n",
        "        parts=2\n",
        "    for part in range(parts):\n",
        "      #print(parts)\n",
        "      time111=perf_counter()\n",
        "      if send_wg:\n",
        "        ch_names=ch_names_wg\n",
        "        ch_locations=ch_locations_wg\n",
        "        info=info_wg\n",
        "        if generate&gen_wg_stereo:\n",
        "          #print(part)\n",
        "          if part==0:\n",
        "            ch_names=ch_names_wg_l\n",
        "            ch_locations=ch_locations_wg_l\n",
        "            info=info_wg_l\n",
        "            #print('l')\n",
        "          if part==1:\n",
        "            ch_names=ch_names_wg_r\n",
        "            ch_locations=ch_locations_wg_r\n",
        "            info=info_wg_r\n",
        "            #print('r')\n",
        "      elif send_sg2:\n",
        "        ch_names=ch_names_sg2\n",
        "        ch_locations=ch_locations_sg2\n",
        "        info=info_sg2\n",
        "      data_uv = [0]*len(ch_names)\n",
        "      for j in range(len(ch_names)):\n",
        "        data_uv[j]=[0]*len(data_analyse[ch_locations[j]])\n",
        "        for i in range(len(data_analyse[ch_locations[j]])):\n",
        "          data_uv[j][i] = data_analyse[ch_locations[j]][i] * uVperStep * 2\n",
        "      if (part==parts-1):\n",
        "        data_analyse=None\n",
        "  \n",
        "      time002=perf_counter()\n",
        "      #print (f'002: {(time002-time000):.1f}s')\n",
        "\n",
        "      raw = mne.io.RawArray(data_uv, info, verbose=50)\n",
        "      time003=perf_counter()\n",
        "      #print (f'003: {(time003-time000):.1f}s')\n",
        "      datas=[]\n",
        "      for band in range(len(bands)):\n",
        "        datas.append(raw)\n",
        "      time004=perf_counter()\n",
        "      epochs = []\n",
        "      #print (f'004: {(time004-time000):.1f}s')\n",
        "      for band in range(len(bands)):\n",
        "        epochs.append(mne.make_fixed_length_epochs(datas[band], duration=duration/2, preload=True, overlap=overlap, verbose=50))\n",
        "      time005=perf_counter()\n",
        "      #print (f'005: {(time005-time000):.1f}s')\n",
        "      n_generate=int((float(len(data_uv[0]))/float(sfreq))/duration)\n",
        "      n_generate=1\n",
        "      part_len = 10\n",
        "      #dim = 512\n",
        "      part_len = 1\n",
        " \n",
        "      n_parts = n_generate//part_len\n",
        "      if n_generate%part_len>0:\n",
        "        n_parts=n_parts+1\n",
        "      n_parts=1\n",
        "      global vol\n",
        "    \n",
        "      if generate&gen_wavegan:\n",
        "        psd_array_wg=np.random.rand(part_len, dim_wg) \n",
        "      if generate&gen_stylegan2:\n",
        "        psd_array_sg2=np.random.rand(part_len, dim_sg2) \n",
        "      time006=perf_counter()\n",
        "      #print (f'006: {(time006-time000):.1f}s')\n",
        "    \n",
        "      for j in range(n_parts): # display separate audio for each break\n",
        "        for i in range(part_len): # display separate audio for each break\n",
        "            ji = j * part_len + i\n",
        "            \n",
        "            if (i==0) and (n_generate-ji<part_len):\n",
        "              if generate&gen_wavegan:\n",
        "                psd_array_wg=np.random.rand((n_generate-ji), dim_wg) \n",
        "              if generate&gen_stylegan2:\n",
        "                psd_array_sg2=np.random.rand((n_generate-ji), dim_sg2) \n",
        "        \n",
        "            sfreq = raw.info['sfreq']  # the sampling frequency\n",
        "            time0061=perf_counter()\n",
        "            #print (f'0061: {(time0061-time000):.1f}s')\n",
        "            \n",
        "            if generate&gen_wavegan:# and send_wg:\n",
        "              psds_wg=np.zeros(dim_wg)\n",
        "            if generate&gen_stylegan2:\n",
        "              psds_sg2=np.zeros(dim_sg2)\n",
        "            \n",
        "            for method in range(len(methods)):\n",
        "             for band in range(len(bands)):\n",
        "              fmin=bands[band][0]\n",
        "              fmax=bands[band][1]\n",
        "              time0071=perf_counter()\n",
        "              #print (f'0071: {(time0071-time000):.1f}s')\n",
        "              #if band == 0:\n",
        "              #print(epochs[band])\n",
        "              con, freqs, times, n_epochs, n_tapers = spectral_connectivity(\n",
        "                #epochs[band], method=methods[method], mode='fourier', sfreq=sfreq, fmin=fmin,\n",
        "                epochs[band], method=methods[method], mode='multitaper', sfreq=sfreq, fmin=fmin,\n",
        "                #epochs[band][ji:ji+1], method=methods[method], mode='multitaper', sfreq=sfreq, fmin=fmin,\n",
        "                #fmax=fmax, faverage=True, mt_adaptive=False, n_jobs=1, verbose=50)\n",
        "                fmax=fmax, faverage=True, mt_adaptive=True, n_jobs=1, verbose=50)\n",
        "              time007=perf_counter()\n",
        "              #print (f'007: {(time007-time000):.1f}s')\n",
        "              coh_len=int(len(ch_names)*(len(ch_names)-1)/2)\n",
        "              psds_shift1=int(round(method*len(bands)+band)*coh_len)\n",
        "              ji1=0\n",
        "              for j1 in range(0,len(ch_names)): # display separate audio for each break\n",
        "                for i1 in range(0,j1): # display separate audio for each break\n",
        "                  #print(ji1)\n",
        "                  if generate&gen_wavegan:\n",
        "                   if ji1+psds_shift1<dim_wg:\n",
        "                    psds_wg[ji1+psds_shift1]=(con[j1][i1][0]-0.5)*1\n",
        "                  if generate&gen_stylegan2:\n",
        "                   for i01 in range(0,int(dim_sg2/coh_len)):\n",
        "                     if ji1+psds_shift1+coh_len*i01<dim_sg2:\n",
        "                      #print(ji1+psds_shift1+coh_len*i01)\n",
        "                      psds_sg2[ji1+psds_shift1+coh_len*i01]=(con[j1][i1][0]-0.5)*1\n",
        "                  ji1 = ji1+1\n",
        "            if generate&gen_wavegan:\n",
        "              psd_array_wg[i]=psds_wg\n",
        "            if generate&gen_stylegan2:\n",
        "              psd_array_sg2[i]=psds_sg2\n",
        "            if (i==part_len-1) or (ji==n_generate-1) :\n",
        "             encodeds=[]\n"
      ],
      "metadata": {
        "id": "j23a0p_3LKdw"
      },
      "execution_count": null,
      "outputs": []
    }
  ]
}